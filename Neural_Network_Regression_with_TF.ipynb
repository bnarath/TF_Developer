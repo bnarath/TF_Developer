{
  "nbformat": 4,
  "nbformat_minor": 0,
  "metadata": {
    "colab": {
      "provenance": [],
      "mount_file_id": "11J3Z5YHhnmHK9_86yAOHMeRleKKo6i_e",
      "authorship_tag": "ABX9TyNRA1UL6dmARsj80xR2/ono",
      "include_colab_link": true
    },
    "kernelspec": {
      "name": "python3",
      "display_name": "Python 3"
    },
    "language_info": {
      "name": "python"
    }
  },
  "cells": [
    {
      "cell_type": "markdown",
      "metadata": {
        "id": "view-in-github",
        "colab_type": "text"
      },
      "source": [
        "<a href=\"https://colab.research.google.com/github/bnarath/TF_Developer/blob/main/Neural_Network_Regression_with_TF.ipynb\" target=\"_parent\"><img src=\"https://colab.research.google.com/assets/colab-badge.svg\" alt=\"Open In Colab\"/></a>"
      ]
    },
    {
      "cell_type": "markdown",
      "source": [
        "# Notes\n",
        "\n",
        "## Regression Problems Examples\n",
        "\n",
        "- Selling price/number prediction\n",
        "- Coordinates of bounding boxes in object detection\n",
        "\n",
        "## Definition\n",
        "- Independent variables/features/covariates/predictors\n",
        "- Dependent variables/Prediction variable\n",
        "\n",
        "## Inputs and Outputs\n",
        "- INPUTS - **Numerical encoded** meaningful features\n",
        "  - shape = (#samples, #features)\n",
        "- OUTPUTS - A numerical number\n",
        "  - shape = (#samples, desired prediction shape)\n",
        "\n",
        "## Neural Network Architecture Hyperparameters\n",
        "- Input layer shape = # of features\n",
        "- No. of hidden layers : Problem specific. 1+\n",
        "- Neurons per hidden layer : Problem specific. In general 10 to 100\n",
        "- Output layer shape = desired prediction shape\n",
        "- Hidden activation : Usually ReLu\n",
        "- Output activation : None\n",
        "- Loss function : MSE, MAE, Huber Loss function\n",
        "- Optimizer: SGD, Adam\n",
        "\n",
        "## Steps in modelling with TensorFlow\n",
        "- **Building a model** - define the input and output layers, as well as the hidden layers of a deep learning model.\n",
        "- **Compiling a model** - define the **loss funtion** (in other words, the function which tells our model how wrong it is) and the **optimizer** (tells our model how to improve the patterns its learning) and **evaluation metrics** (what we can use to interpret the performance of our model).\n",
        "- **Fitting a model** - letting the model try to find patterns between X & y (features and labels).\n",
        "\n",
        "```python\n",
        "#Set random seed\n",
        "tf.random.set_seed(10)\n",
        "\n",
        "#Create a model\n",
        "model = tf.keras.Sequential([\n",
        "    tf.keras.layers.Dense(1)\n",
        "])\n",
        "\n",
        "\n",
        "#complie\n",
        "model.compile(loss=tf.keras.losses.mae,\n",
        "              optimizer=tf.keras.optimizers.SGD(),\n",
        "              metrics=[tf.keras.metrics.mae])\n",
        "\n",
        "#fit\n",
        "model.fit(X, y, epochs=5)\n",
        "\n",
        "```\n",
        "\n",
        "## Model evauation\n",
        "- model.evaluate\n",
        "\n",
        "\n",
        "## Metrics\n",
        "- tf.keras.metrics\n",
        "    - mae, mse, huber etc\n",
        "\n",
        "## Saving model\n",
        "  - Two formats\n",
        "    - hdf5 (if we go outside tensorflow)\n",
        "    - saved model format (best within tensorflow)\n",
        "\n",
        "## Download the model from colab\n",
        "```\n",
        "from google.colab import files\n",
        "files.download(\"best_model.h5\")\n",
        "\n",
        "# Save a file from Google Colab to Google Drive (requires mounting Google Drive)\n",
        "!cp -r best_model drive/MyDrive/Tensorflow_Developer_Certificate_Jan15_2023/Test_models\n",
        "```\n",
        "\n",
        "## Larger example using Kaggle Data\n",
        "- Source: https://www.kaggle.com/datasets/mirichoi0218/insurance\n",
        "- Github data: https://raw.githubusercontent.com/stedy/Machine-Learning-with-R-datasets/master/insurance.csv\n",
        "\n",
        "- Preprocessing:\n",
        "  - pandas: pd.get_dummies(df) : All object dtypes will be one hot encoded\n",
        "  - sklearn.compose import make_column_transformer (To do many transformations together with fit/transform)\n",
        "  - sklearn.preprocessing -> OneHotEncoder, StandardScaler, MinMaxScaler\n",
        "\n",
        "```\n",
        "# Preprocessing\n",
        "\n",
        "# Create a column transformer\n",
        "ct = make_column_transformer(\n",
        "    (MinMaxScaler(), ['age', 'bmi', 'children']),\n",
        "    (OneHotEncoder(), ['sex', 'smoker', 'region'])\n",
        ")\n",
        "\n",
        "# Create X & y\n",
        "X = insurance.drop('charges', axis=1)\n",
        "y = insurance[\"charges\"]\n",
        "\n",
        "# Split to train and test\n",
        "X_train, X_test, y_train, y_test = train_test_split(X, y, test_size=0.2, random_state=10)\n",
        "\n",
        "ct.fit(X_train)\n",
        "\n",
        "X_train_processed = ct.transform(X_train)\n",
        "X_test_processed = ct.transform(X_test)\n",
        "\n",
        "```\n",
        "\n",
        "- Train Test Split\n",
        "```\n",
        "  from sklearn.model_selection import train_test_split\n",
        "  X_train, X_test, y_train, y_test = train_test_split(X, y, test_size=0.2, random_state=10)\n",
        "```\n",
        "\n",
        "- Model Train\n",
        "\n",
        "```\n",
        "#Build tensorflow regression model\n",
        "\n",
        "tf.random.set_seed(10)\n",
        "\n",
        "model = tf.keras.Sequential(\n",
        "    [\n",
        "        tf.keras.layers.Dense(50),\n",
        "        tf.keras.layers.Dense(1)\n",
        "    ]\n",
        ")\n",
        "\n",
        "model.compile(loss=tf.keras.losses.mae,\n",
        "              optimizer=tf.keras.optimizers.Adam(learning_rate=0.1, beta_1=0.8, beta_2=0.9, epsilon=1e-7),\n",
        "              metrics=[tf.keras.metrics.mae])\n",
        "\n",
        "callback = tf.keras.callbacks.EarlyStopping(monitor='val_loss', patience=10)\n",
        "\n",
        "history = model.fit(X_train_processed, y_train, epochs=100, verbose=1, callbacks=[callback], validation_data=(X_test_processed, y_test),)\n",
        "```\n",
        "- Early Stopping as tf.keras.callback.EarlyStopping\n",
        "\n",
        "- History\n",
        "```\n",
        "records losses and metrics ['loss', 'mean_absolute_error', 'val_loss', 'val_mean_absolute_error']\n",
        "```"
      ],
      "metadata": {
        "id": "ds1GfIigdNxt"
      }
    },
    {
      "cell_type": "code",
      "source": [
        "import tensorflow as tf\n",
        "print(tf.__version__)"
      ],
      "metadata": {
        "id": "9PiQdvqQdOZD",
        "colab": {
          "base_uri": "https://localhost:8080/"
        },
        "outputId": "0b13aeea-1d87-435f-da91-173d4fbf4f4e"
      },
      "execution_count": 99,
      "outputs": [
        {
          "output_type": "stream",
          "name": "stdout",
          "text": [
            "2.9.2\n"
          ]
        }
      ]
    },
    {
      "cell_type": "markdown",
      "source": [
        "# Creating data"
      ],
      "metadata": {
        "id": "uLHnzy1PDm4F"
      }
    },
    {
      "cell_type": "code",
      "source": [
        "import numpy as np\n",
        "import matplotlib.pyplot as plt\n",
        "\n",
        "X = np.array([-7.0, -4.0, -1.0, 2.0, 5.0, 8.0, 11.0, 14.0])\n",
        "\n",
        "y = np.array([3.0, 6.0, 9.0, 12.0, 15.0, 18.0, 21.0, 24.0])\n",
        "\n",
        "plt.scatter(X, y)"
      ],
      "metadata": {
        "colab": {
          "base_uri": "https://localhost:8080/",
          "height": 287
        },
        "id": "P9TiHcjcDz3x",
        "outputId": "1806a857-f918-4809-bcf7-78c130e7928f"
      },
      "execution_count": 100,
      "outputs": [
        {
          "output_type": "execute_result",
          "data": {
            "text/plain": [
              "<matplotlib.collections.PathCollection at 0x7f641bfe0c10>"
            ]
          },
          "metadata": {},
          "execution_count": 100
        },
        {
          "output_type": "display_data",
          "data": {
            "text/plain": [
              "<Figure size 432x288 with 1 Axes>"
            ],
            "image/png": "[encoded data removed]"
          },
          "metadata": {
            "needs_background": "light"
          }
        }
      ]
    },
    {
      "cell_type": "code",
      "source": [
        "y == X+10"
      ],
      "metadata": {
        "colab": {
          "base_uri": "https://localhost:8080/"
        },
        "id": "W2OTLr2xEqVy",
        "outputId": "2d658503-9faa-4e67-d506-f019d7d243af"
      },
      "execution_count": 101,
      "outputs": [
        {
          "output_type": "execute_result",
          "data": {
            "text/plain": [
              "array([ True,  True,  True,  True,  True,  True,  True,  True])"
            ]
          },
          "metadata": {},
          "execution_count": 101
        }
      ]
    },
    {
      "cell_type": "code",
      "source": [
        "input_shape = X[0].shape\n",
        "output_shape = y[0].shape\n",
        "input_shape, output_shape, X[0].ndim, y[0].ndim"
      ],
      "metadata": {
        "colab": {
          "base_uri": "https://localhost:8080/"
        },
        "id": "clJKlG4KE7rc",
        "outputId": "a17872a2-bcd3-4bc3-b482-30550630d4d0"
      },
      "execution_count": 102,
      "outputs": [
        {
          "output_type": "execute_result",
          "data": {
            "text/plain": [
              "((), (), 0, 0)"
            ]
          },
          "metadata": {},
          "execution_count": 102
        }
      ]
    },
    {
      "cell_type": "markdown",
      "source": [
        "# Turn numpy arrays to tensors"
      ],
      "metadata": {
        "id": "mLpYMf_xGlxY"
      }
    },
    {
      "cell_type": "code",
      "source": [
        "X = tf.constant(X, dtype=tf.float32)\n",
        "y = tf.constant(y, dtype=tf.float32)\n",
        "\n",
        "X, y"
      ],
      "metadata": {
        "colab": {
          "base_uri": "https://localhost:8080/"
        },
        "id": "5Q-szIDOGq6-",
        "outputId": "b1398663-07da-4ae3-dce8-e85bbc2ce783"
      },
      "execution_count": 103,
      "outputs": [
        {
          "output_type": "execute_result",
          "data": {
            "text/plain": [
              "(<tf.Tensor: shape=(8,), dtype=float32, numpy=array([-7., -4., -1.,  2.,  5.,  8., 11., 14.], dtype=float32)>,\n",
              " <tf.Tensor: shape=(8,), dtype=float32, numpy=array([ 3.,  6.,  9., 12., 15., 18., 21., 24.], dtype=float32)>)"
            ]
          },
          "metadata": {},
          "execution_count": 103
        }
      ]
    },
    {
      "cell_type": "code",
      "source": [
        "plt.scatter(X, y)"
      ],
      "metadata": {
        "colab": {
          "base_uri": "https://localhost:8080/",
          "height": 287
        },
        "id": "ydXFA4s1HhIv",
        "outputId": "127b76f5-52fa-4abe-b1be-b594dd36c346"
      },
      "execution_count": 104,
      "outputs": [
        {
          "output_type": "execute_result",
          "data": {
            "text/plain": [
              "<matplotlib.collections.PathCollection at 0x7f641bfa2f70>"
            ]
          },
          "metadata": {},
          "execution_count": 104
        },
        {
          "output_type": "display_data",
          "data": {
            "text/plain": [
              "<Figure size 432x288 with 1 Axes>"
            ],
            "image/png": "[encoded data removed]"
          },
          "metadata": {
            "needs_background": "light"
          }
        }
      ]
    },
    {
      "cell_type": "code",
      "source": [
        "X.ndim, X.shape\n",
        "X = tf.expand_dims(X, axis=-1)\n",
        "X.ndim, X.shape"
      ],
      "metadata": {
        "colab": {
          "base_uri": "https://localhost:8080/"
        },
        "id": "BEfpuoy4dRRZ",
        "outputId": "3d0057ea-95f6-4384-9082-9602d65eb29f"
      },
      "execution_count": 105,
      "outputs": [
        {
          "output_type": "execute_result",
          "data": {
            "text/plain": [
              "(2, TensorShape([8, 1]))"
            ]
          },
          "metadata": {},
          "execution_count": 105
        }
      ]
    },
    {
      "cell_type": "code",
      "source": [
        "#Set random seed\n",
        "tf.random.set_seed(10)\n",
        "\n",
        "#Create a model\n",
        "model = tf.keras.Sequential([\n",
        "    tf.keras.layers.Dense(1)\n",
        "])\n",
        "\n",
        "\n",
        "#complie\n",
        "model.compile(loss=tf.keras.losses.mae,\n",
        "              optimizer=tf.keras.optimizers.SGD(),\n",
        "              metrics=[tf.keras.metrics.mae])\n",
        "\n",
        "#fit\n",
        "model.fit(X, y, epochs=5)\n",
        "\n",
        "\n"
      ],
      "metadata": {
        "id": "Ivd_C0ISdPJk",
        "colab": {
          "base_uri": "https://localhost:8080/"
        },
        "outputId": "aa9ac202-40b2-4476-d861-735c36728c89"
      },
      "execution_count": 106,
      "outputs": [
        {
          "output_type": "stream",
          "name": "stdout",
          "text": [
            "Epoch 1/5\n",
            "1/1 [==============================] - 0s 314ms/step - loss: 11.7523 - mean_absolute_error: 11.7523\n",
            "Epoch 2/5\n",
            "1/1 [==============================] - 0s 9ms/step - loss: 11.6198 - mean_absolute_error: 11.6198\n",
            "Epoch 3/5\n",
            "1/1 [==============================] - 0s 9ms/step - loss: 11.4873 - mean_absolute_error: 11.4873\n",
            "Epoch 4/5\n",
            "1/1 [==============================] - 0s 6ms/step - loss: 11.3548 - mean_absolute_error: 11.3548\n",
            "Epoch 5/5\n",
            "1/1 [==============================] - 0s 5ms/step - loss: 11.2223 - mean_absolute_error: 11.2223\n"
          ]
        },
        {
          "output_type": "execute_result",
          "data": {
            "text/plain": [
              "<keras.callbacks.History at 0x7f641bf49fd0>"
            ]
          },
          "metadata": {},
          "execution_count": 106
        }
      ]
    },
    {
      "cell_type": "code",
      "source": [
        "model.summary()"
      ],
      "metadata": {
        "colab": {
          "base_uri": "https://localhost:8080/"
        },
        "id": "3b318LacEpF9",
        "outputId": "beb02e04-6377-444a-817f-655601ccbdf1"
      },
      "execution_count": 107,
      "outputs": [
        {
          "output_type": "stream",
          "name": "stdout",
          "text": [
            "Model: \"sequential_24\"\n",
            "_________________________________________________________________\n",
            " Layer (type)                Output Shape              Param #   \n",
            "=================================================================\n",
            " dense_47 (Dense)            (None, 1)                 2         \n",
            "                                                                 \n",
            "=================================================================\n",
            "Total params: 2\n",
            "Trainable params: 2\n",
            "Non-trainable params: 0\n",
            "_________________________________________________________________\n"
          ]
        }
      ]
    },
    {
      "cell_type": "code",
      "source": [
        "# tf.random.set_seed(10)\n",
        "\n",
        "# model = tf.keras.Sequential()\n",
        "# model.add(tf.keras.layers.Dense(1))\n",
        "\n",
        "# model.compile(loss=tf.keras.losses.mae,\n",
        "#               optimizer=tf.keras.optimizers.SGD(learning_rate=0.01),\n",
        "#               metrics=[tf.keras.metrics.mae])\n",
        "\n",
        "\n",
        "# model.fit(X, y, epochs=10, batch_size=5)"
      ],
      "metadata": {
        "id": "tdUmyaP4dnoY"
      },
      "execution_count": 108,
      "outputs": []
    },
    {
      "cell_type": "code",
      "source": [
        "model.evaluate(X, y)"
      ],
      "metadata": {
        "colab": {
          "base_uri": "https://localhost:8080/"
        },
        "id": "1xPQ92-Dem6I",
        "outputId": "9a7b364d-c1d4-4cbb-81d5-2e0f0a3fec25"
      },
      "execution_count": 109,
      "outputs": [
        {
          "output_type": "stream",
          "name": "stdout",
          "text": [
            "1/1 [==============================] - 0s 107ms/step - loss: 11.0898 - mean_absolute_error: 11.0898\n"
          ]
        },
        {
          "output_type": "execute_result",
          "data": {
            "text/plain": [
              "[11.089761734008789, 11.089761734008789]"
            ]
          },
          "metadata": {},
          "execution_count": 109
        }
      ]
    },
    {
      "cell_type": "code",
      "source": [
        "X[2], model.predict(X[2])"
      ],
      "metadata": {
        "colab": {
          "base_uri": "https://localhost:8080/"
        },
        "id": "ajAD5gPBfrKl",
        "outputId": "66d08633-cd6a-4027-8588-d9979b467fa0"
      },
      "execution_count": 110,
      "outputs": [
        {
          "output_type": "stream",
          "name": "stdout",
          "text": [
            "1/1 [==============================] - 0s 89ms/step\n"
          ]
        },
        {
          "output_type": "execute_result",
          "data": {
            "text/plain": [
              "(<tf.Tensor: shape=(1,), dtype=float32, numpy=array([-1.], dtype=float32)>,\n",
              " array([[-0.62435365]], dtype=float32))"
            ]
          },
          "metadata": {},
          "execution_count": 110
        }
      ]
    },
    {
      "cell_type": "markdown",
      "source": [
        "## Improving the model\n",
        "\n",
        "\n",
        "1. Change the mode - Increase #hidden units, #hidden layers, activation function\n",
        "1. Change learning rate, optimizer function\n",
        "1. Increase epoch, more data"
      ],
      "metadata": {
        "id": "yHtpQ21Pf0OG"
      }
    },
    {
      "cell_type": "code",
      "source": [
        "tf.random.set_seed(10)\n",
        "\n",
        "model = tf.keras.Sequential([\n",
        "    tf.keras.layers.Dense(50, activation=None),\n",
        "    tf.keras.layers.Dense(1)\n",
        "])\n",
        "\n",
        "model.compile(\n",
        "    loss = tf.keras.losses.mae,\n",
        "    optimizer = tf.keras.optimizers.Adam(learning_rate=0.01),\n",
        "    metrics = [tf.keras.metrics.mae]\n",
        ")\n",
        "\n",
        "model.fit(X, y, epochs=100)"
      ],
      "metadata": {
        "colab": {
          "base_uri": "https://localhost:8080/"
        },
        "id": "TteavklzhYc0",
        "outputId": "ec9e1c22-d5ec-4f10-95c2-881ce5bfae3b"
      },
      "execution_count": 111,
      "outputs": [
        {
          "output_type": "stream",
          "name": "stdout",
          "text": [
            "Epoch 1/100\n",
            "1/1 [==============================] - 0s 424ms/step - loss: 14.4922 - mean_absolute_error: 14.4922\n",
            "Epoch 2/100\n",
            "1/1 [==============================] - 0s 7ms/step - loss: 13.7897 - mean_absolute_error: 13.7897\n",
            "Epoch 3/100\n",
            "1/1 [==============================] - 0s 8ms/step - loss: 13.0897 - mean_absolute_error: 13.0897\n",
            "Epoch 4/100\n",
            "1/1 [==============================] - 0s 9ms/step - loss: 12.3919 - mean_absolute_error: 12.3919\n",
            "Epoch 5/100\n",
            "1/1 [==============================] - 0s 11ms/step - loss: 11.6957 - mean_absolute_error: 11.6957\n",
            "Epoch 6/100\n",
            "1/1 [==============================] - 0s 9ms/step - loss: 10.9992 - mean_absolute_error: 10.9992\n",
            "Epoch 7/100\n",
            "1/1 [==============================] - 0s 8ms/step - loss: 10.3000 - mean_absolute_error: 10.3000\n",
            "Epoch 8/100\n",
            "1/1 [==============================] - 0s 20ms/step - loss: 9.5947 - mean_absolute_error: 9.5947\n",
            "Epoch 9/100\n",
            "1/1 [==============================] - 0s 9ms/step - loss: 8.8795 - mean_absolute_error: 8.8795\n",
            "Epoch 10/100\n",
            "1/1 [==============================] - 0s 8ms/step - loss: 8.1509 - mean_absolute_error: 8.1509\n",
            "Epoch 11/100\n",
            "1/1 [==============================] - 0s 10ms/step - loss: 7.4056 - mean_absolute_error: 7.4056\n",
            "Epoch 12/100\n",
            "1/1 [==============================] - 0s 10ms/step - loss: 6.7115 - mean_absolute_error: 6.7115\n",
            "Epoch 13/100\n",
            "1/1 [==============================] - 0s 7ms/step - loss: 6.7045 - mean_absolute_error: 6.7045\n",
            "Epoch 14/100\n",
            "1/1 [==============================] - 0s 8ms/step - loss: 6.9989 - mean_absolute_error: 6.9989\n",
            "Epoch 15/100\n",
            "1/1 [==============================] - 0s 10ms/step - loss: 7.1852 - mean_absolute_error: 7.1852\n",
            "Epoch 16/100\n",
            "1/1 [==============================] - 0s 9ms/step - loss: 7.3409 - mean_absolute_error: 7.3409\n",
            "Epoch 17/100\n",
            "1/1 [==============================] - 0s 14ms/step - loss: 7.3365 - mean_absolute_error: 7.3365\n",
            "Epoch 18/100\n",
            "1/1 [==============================] - 0s 8ms/step - loss: 7.1623 - mean_absolute_error: 7.1623\n",
            "Epoch 19/100\n",
            "1/1 [==============================] - 0s 23ms/step - loss: 6.9165 - mean_absolute_error: 6.9165\n",
            "Epoch 20/100\n",
            "1/1 [==============================] - 0s 12ms/step - loss: 6.6901 - mean_absolute_error: 6.6901\n",
            "Epoch 21/100\n",
            "1/1 [==============================] - 0s 11ms/step - loss: 6.4420 - mean_absolute_error: 6.4420\n",
            "Epoch 22/100\n",
            "1/1 [==============================] - 0s 8ms/step - loss: 6.1771 - mean_absolute_error: 6.1771\n",
            "Epoch 23/100\n",
            "1/1 [==============================] - 0s 11ms/step - loss: 6.0381 - mean_absolute_error: 6.0381\n",
            "Epoch 24/100\n",
            "1/1 [==============================] - 0s 6ms/step - loss: 5.9924 - mean_absolute_error: 5.9924\n",
            "Epoch 25/100\n",
            "1/1 [==============================] - 0s 11ms/step - loss: 6.0630 - mean_absolute_error: 6.0630\n",
            "Epoch 26/100\n",
            "1/1 [==============================] - 0s 9ms/step - loss: 6.1232 - mean_absolute_error: 6.1232\n",
            "Epoch 27/100\n",
            "1/1 [==============================] - 0s 10ms/step - loss: 6.0825 - mean_absolute_error: 6.0825\n",
            "Epoch 28/100\n",
            "1/1 [==============================] - 0s 8ms/step - loss: 5.9538 - mean_absolute_error: 5.9538\n",
            "Epoch 29/100\n",
            "1/1 [==============================] - 0s 7ms/step - loss: 5.7463 - mean_absolute_error: 5.7463\n",
            "Epoch 30/100\n",
            "1/1 [==============================] - 0s 12ms/step - loss: 5.5430 - mean_absolute_error: 5.5430\n",
            "Epoch 31/100\n",
            "1/1 [==============================] - 0s 8ms/step - loss: 5.4422 - mean_absolute_error: 5.4422\n",
            "Epoch 32/100\n",
            "1/1 [==============================] - 0s 8ms/step - loss: 5.3387 - mean_absolute_error: 5.3387\n",
            "Epoch 33/100\n",
            "1/1 [==============================] - 0s 8ms/step - loss: 5.3174 - mean_absolute_error: 5.3174\n",
            "Epoch 34/100\n",
            "1/1 [==============================] - 0s 16ms/step - loss: 5.3007 - mean_absolute_error: 5.3007\n",
            "Epoch 35/100\n",
            "1/1 [==============================] - 0s 7ms/step - loss: 5.2405 - mean_absolute_error: 5.2405\n",
            "Epoch 36/100\n",
            "1/1 [==============================] - 0s 7ms/step - loss: 5.1406 - mean_absolute_error: 5.1406\n",
            "Epoch 37/100\n",
            "1/1 [==============================] - 0s 8ms/step - loss: 5.0045 - mean_absolute_error: 5.0045\n",
            "Epoch 38/100\n",
            "1/1 [==============================] - 0s 7ms/step - loss: 4.8355 - mean_absolute_error: 4.8355\n",
            "Epoch 39/100\n",
            "1/1 [==============================] - 0s 12ms/step - loss: 4.6819 - mean_absolute_error: 4.6819\n",
            "Epoch 40/100\n",
            "1/1 [==============================] - 0s 8ms/step - loss: 4.5923 - mean_absolute_error: 4.5923\n",
            "Epoch 41/100\n",
            "1/1 [==============================] - 0s 11ms/step - loss: 4.4958 - mean_absolute_error: 4.4958\n",
            "Epoch 42/100\n",
            "1/1 [==============================] - 0s 9ms/step - loss: 4.3924 - mean_absolute_error: 4.3924\n",
            "Epoch 43/100\n",
            "1/1 [==============================] - 0s 8ms/step - loss: 4.3187 - mean_absolute_error: 4.3187\n",
            "Epoch 44/100\n",
            "1/1 [==============================] - 0s 12ms/step - loss: 4.1633 - mean_absolute_error: 4.1633\n",
            "Epoch 45/100\n",
            "1/1 [==============================] - 0s 7ms/step - loss: 4.0110 - mean_absolute_error: 4.0110\n",
            "Epoch 46/100\n",
            "1/1 [==============================] - 0s 7ms/step - loss: 3.8613 - mean_absolute_error: 3.8613\n",
            "Epoch 47/100\n",
            "1/1 [==============================] - 0s 8ms/step - loss: 3.7218 - mean_absolute_error: 3.7218\n",
            "Epoch 48/100\n",
            "1/1 [==============================] - 0s 7ms/step - loss: 3.6222 - mean_absolute_error: 3.6222\n",
            "Epoch 49/100\n",
            "1/1 [==============================] - 0s 11ms/step - loss: 3.4727 - mean_absolute_error: 3.4727\n",
            "Epoch 50/100\n",
            "1/1 [==============================] - 0s 7ms/step - loss: 3.2762 - mean_absolute_error: 3.2762\n",
            "Epoch 51/100\n",
            "1/1 [==============================] - 0s 7ms/step - loss: 3.1153 - mean_absolute_error: 3.1153\n",
            "Epoch 52/100\n",
            "1/1 [==============================] - 0s 9ms/step - loss: 2.9612 - mean_absolute_error: 2.9612\n",
            "Epoch 53/100\n",
            "1/1 [==============================] - 0s 8ms/step - loss: 2.8256 - mean_absolute_error: 2.8256\n",
            "Epoch 54/100\n",
            "1/1 [==============================] - 0s 7ms/step - loss: 2.6102 - mean_absolute_error: 2.6102\n",
            "Epoch 55/100\n",
            "1/1 [==============================] - 0s 11ms/step - loss: 2.4139 - mean_absolute_error: 2.4139\n",
            "Epoch 56/100\n",
            "1/1 [==============================] - 0s 7ms/step - loss: 2.2077 - mean_absolute_error: 2.2077\n",
            "Epoch 57/100\n",
            "1/1 [==============================] - 0s 7ms/step - loss: 1.9913 - mean_absolute_error: 1.9913\n",
            "Epoch 58/100\n",
            "1/1 [==============================] - 0s 7ms/step - loss: 1.8117 - mean_absolute_error: 1.8117\n",
            "Epoch 59/100\n",
            "1/1 [==============================] - 0s 7ms/step - loss: 1.5849 - mean_absolute_error: 1.5849\n",
            "Epoch 60/100\n",
            "1/1 [==============================] - 0s 14ms/step - loss: 1.3173 - mean_absolute_error: 1.3173\n",
            "Epoch 61/100\n",
            "1/1 [==============================] - 0s 7ms/step - loss: 1.0832 - mean_absolute_error: 1.0832\n",
            "Epoch 62/100\n",
            "1/1 [==============================] - 0s 6ms/step - loss: 0.8201 - mean_absolute_error: 0.8201\n",
            "Epoch 63/100\n",
            "1/1 [==============================] - 0s 6ms/step - loss: 0.6249 - mean_absolute_error: 0.6249\n",
            "Epoch 64/100\n",
            "1/1 [==============================] - 0s 11ms/step - loss: 0.3003 - mean_absolute_error: 0.3003\n",
            "Epoch 65/100\n",
            "1/1 [==============================] - 0s 11ms/step - loss: 0.2712 - mean_absolute_error: 0.2712\n",
            "Epoch 66/100\n",
            "1/1 [==============================] - 0s 10ms/step - loss: 0.2767 - mean_absolute_error: 0.2767\n",
            "Epoch 67/100\n",
            "1/1 [==============================] - 0s 8ms/step - loss: 0.6479 - mean_absolute_error: 0.6479\n",
            "Epoch 68/100\n",
            "1/1 [==============================] - 0s 10ms/step - loss: 0.8677 - mean_absolute_error: 0.8677\n",
            "Epoch 69/100\n",
            "1/1 [==============================] - 0s 7ms/step - loss: 0.8556 - mean_absolute_error: 0.8556\n",
            "Epoch 70/100\n",
            "1/1 [==============================] - 0s 7ms/step - loss: 0.7147 - mean_absolute_error: 0.7147\n",
            "Epoch 71/100\n",
            "1/1 [==============================] - 0s 7ms/step - loss: 0.7978 - mean_absolute_error: 0.7978\n",
            "Epoch 72/100\n",
            "1/1 [==============================] - 0s 20ms/step - loss: 0.7246 - mean_absolute_error: 0.7246\n",
            "Epoch 73/100\n",
            "1/1 [==============================] - 0s 11ms/step - loss: 0.6371 - mean_absolute_error: 0.6371\n",
            "Epoch 74/100\n",
            "1/1 [==============================] - 0s 8ms/step - loss: 0.5347 - mean_absolute_error: 0.5347\n",
            "Epoch 75/100\n",
            "1/1 [==============================] - 0s 8ms/step - loss: 0.4177 - mean_absolute_error: 0.4177\n",
            "Epoch 76/100\n",
            "1/1 [==============================] - 0s 8ms/step - loss: 0.2909 - mean_absolute_error: 0.2909\n",
            "Epoch 77/100\n",
            "1/1 [==============================] - 0s 8ms/step - loss: 0.2059 - mean_absolute_error: 0.2059\n",
            "Epoch 78/100\n",
            "1/1 [==============================] - 0s 9ms/step - loss: 0.0503 - mean_absolute_error: 0.0503\n",
            "Epoch 79/100\n",
            "1/1 [==============================] - 0s 8ms/step - loss: 0.2184 - mean_absolute_error: 0.2184\n",
            "Epoch 80/100\n",
            "1/1 [==============================] - 0s 11ms/step - loss: 0.2452 - mean_absolute_error: 0.2452\n",
            "Epoch 81/100\n",
            "1/1 [==============================] - 0s 8ms/step - loss: 0.3634 - mean_absolute_error: 0.3634\n",
            "Epoch 82/100\n",
            "1/1 [==============================] - 0s 12ms/step - loss: 0.3833 - mean_absolute_error: 0.3833\n",
            "Epoch 83/100\n",
            "1/1 [==============================] - 0s 8ms/step - loss: 0.2481 - mean_absolute_error: 0.2481\n",
            "Epoch 84/100\n",
            "1/1 [==============================] - 0s 8ms/step - loss: 0.3657 - mean_absolute_error: 0.3657\n",
            "Epoch 85/100\n",
            "1/1 [==============================] - 0s 8ms/step - loss: 0.3472 - mean_absolute_error: 0.3472\n",
            "Epoch 86/100\n",
            "1/1 [==============================] - 0s 12ms/step - loss: 0.1251 - mean_absolute_error: 0.1251\n",
            "Epoch 87/100\n",
            "1/1 [==============================] - 0s 9ms/step - loss: 0.3019 - mean_absolute_error: 0.3019\n",
            "Epoch 88/100\n",
            "1/1 [==============================] - 0s 10ms/step - loss: 0.3587 - mean_absolute_error: 0.3587\n",
            "Epoch 89/100\n",
            "1/1 [==============================] - 0s 9ms/step - loss: 0.2493 - mean_absolute_error: 0.2493\n",
            "Epoch 90/100\n",
            "1/1 [==============================] - 0s 11ms/step - loss: 0.4114 - mean_absolute_error: 0.4114\n",
            "Epoch 91/100\n",
            "1/1 [==============================] - 0s 8ms/step - loss: 0.4941 - mean_absolute_error: 0.4941\n",
            "Epoch 92/100\n",
            "1/1 [==============================] - 0s 7ms/step - loss: 0.3081 - mean_absolute_error: 0.3081\n",
            "Epoch 93/100\n",
            "1/1 [==============================] - 0s 7ms/step - loss: 0.3161 - mean_absolute_error: 0.3161\n",
            "Epoch 94/100\n",
            "1/1 [==============================] - 0s 10ms/step - loss: 0.4424 - mean_absolute_error: 0.4424\n",
            "Epoch 95/100\n",
            "1/1 [==============================] - 0s 7ms/step - loss: 0.3282 - mean_absolute_error: 0.3282\n",
            "Epoch 96/100\n",
            "1/1 [==============================] - 0s 9ms/step - loss: 0.0566 - mean_absolute_error: 0.0566\n",
            "Epoch 97/100\n",
            "1/1 [==============================] - 0s 9ms/step - loss: 0.1292 - mean_absolute_error: 0.1292\n",
            "Epoch 98/100\n",
            "1/1 [==============================] - 0s 12ms/step - loss: 0.0758 - mean_absolute_error: 0.0758\n",
            "Epoch 99/100\n",
            "1/1 [==============================] - 0s 7ms/step - loss: 0.1724 - mean_absolute_error: 0.1724\n",
            "Epoch 100/100\n",
            "1/1 [==============================] - 0s 7ms/step - loss: 0.0481 - mean_absolute_error: 0.0481\n"
          ]
        },
        {
          "output_type": "execute_result",
          "data": {
            "text/plain": [
              "<keras.callbacks.History at 0x7f641be396a0>"
            ]
          },
          "metadata": {},
          "execution_count": 111
        }
      ]
    },
    {
      "cell_type": "code",
      "source": [
        "X, y"
      ],
      "metadata": {
        "colab": {
          "base_uri": "https://localhost:8080/"
        },
        "id": "fcvHSRgZm59n",
        "outputId": "c1b9359f-e9ff-4911-cd85-9bb46be957dc"
      },
      "execution_count": 112,
      "outputs": [
        {
          "output_type": "execute_result",
          "data": {
            "text/plain": [
              "(<tf.Tensor: shape=(8, 1), dtype=float32, numpy=\n",
              " array([[-7.],\n",
              "        [-4.],\n",
              "        [-1.],\n",
              "        [ 2.],\n",
              "        [ 5.],\n",
              "        [ 8.],\n",
              "        [11.],\n",
              "        [14.]], dtype=float32)>,\n",
              " <tf.Tensor: shape=(8,), dtype=float32, numpy=array([ 3.,  6.,  9., 12., 15., 18., 21., 24.], dtype=float32)>)"
            ]
          },
          "metadata": {},
          "execution_count": 112
        }
      ]
    },
    {
      "cell_type": "code",
      "source": [
        "model.predict([10])"
      ],
      "metadata": {
        "colab": {
          "base_uri": "https://localhost:8080/"
        },
        "id": "QH0cxoCem7of",
        "outputId": "0bdadede-b334-4e1b-e08d-ea231a5b74ac"
      },
      "execution_count": 113,
      "outputs": [
        {
          "output_type": "stream",
          "name": "stdout",
          "text": [
            "1/1 [==============================] - 0s 183ms/step\n"
          ]
        },
        {
          "output_type": "execute_result",
          "data": {
            "text/plain": [
              "array([[19.55871]], dtype=float32)"
            ]
          },
          "metadata": {},
          "execution_count": 113
        }
      ]
    },
    {
      "cell_type": "markdown",
      "source": [
        "# Evaluate the model"
      ],
      "metadata": {
        "id": "u4rvJn-Ym_XQ"
      }
    },
    {
      "cell_type": "code",
      "source": [
        "X = tf.range(-100, 100, 4, dtype=tf.float32)\n",
        "y = X + 10\n",
        "\n",
        "X = tf.expand_dims(X, axis=-1)"
      ],
      "metadata": {
        "id": "qOYp9trbnSZH"
      },
      "execution_count": 114,
      "outputs": []
    },
    {
      "cell_type": "code",
      "source": [
        "# Visualize the data\n",
        "import matplotlib.pyplot as plt\n",
        "\n",
        "plt.scatter(X, y)"
      ],
      "metadata": {
        "colab": {
          "base_uri": "https://localhost:8080/",
          "height": 283
        },
        "id": "LsFjro17npV9",
        "outputId": "c3d88dc1-47ab-48d5-d43b-74bdc8e4cfcc"
      },
      "execution_count": 115,
      "outputs": [
        {
          "output_type": "execute_result",
          "data": {
            "text/plain": [
              "<matplotlib.collections.PathCollection at 0x7f641bd47340>"
            ]
          },
          "metadata": {},
          "execution_count": 115
        },
        {
          "output_type": "display_data",
          "data": {
            "text/plain": [
              "<Figure size 432x288 with 1 Axes>"
            ],
            "image/png": "[encoded data removed]"
          },
          "metadata": {
            "needs_background": "light"
          }
        }
      ]
    },
    {
      "cell_type": "code",
      "source": [
        "n = int(X.shape[0]*0.8)\n",
        "X_train = X[:n]\n",
        "y_train = y[:n]\n",
        "\n",
        "X_test = X[n:]\n",
        "y_test = y[n:]\n",
        "\n",
        "len(X_train), len(X_test), len(y_train), len(y_test)"
      ],
      "metadata": {
        "colab": {
          "base_uri": "https://localhost:8080/"
        },
        "id": "6K9F9Gt9nqCq",
        "outputId": "6ceb8049-3af5-4c90-bd66-fe13fff47bab"
      },
      "execution_count": 116,
      "outputs": [
        {
          "output_type": "execute_result",
          "data": {
            "text/plain": [
              "(40, 10, 40, 10)"
            ]
          },
          "metadata": {},
          "execution_count": 116
        }
      ]
    },
    {
      "cell_type": "code",
      "source": [
        "plt.figure(figsize=(10, 7))\n",
        "# Plot training data in blue\n",
        "plt.scatter(X_train, y_train, c=\"b\", label=\"Training data\") # our model will learn on this\n",
        "# Plot test data in green\n",
        "plt.scatter(X_test, y_test, c=\"g\", label=\"Testing data\") # want our model to be able to predict this (given X, what's y?)\n",
        "# Show a legend\n",
        "plt.legend();"
      ],
      "metadata": {
        "colab": {
          "base_uri": "https://localhost:8080/",
          "height": 428
        },
        "id": "y8XgRLZhoGSN",
        "outputId": "2bc1e55b-ef93-48a8-8c8f-f272e34b31b8"
      },
      "execution_count": 117,
      "outputs": [
        {
          "output_type": "display_data",
          "data": {
            "text/plain": [
              "<Figure size 720x504 with 1 Axes>"
            ],
            "image/png": "[encoded data removed]"
          },
          "metadata": {
            "needs_background": "light"
          }
        }
      ]
    },
    {
      "cell_type": "code",
      "source": [
        "tf.random.set_seed(10)\n",
        "\n",
        "model = tf.keras.Sequential(\n",
        "    [\n",
        "     tf.keras.layers.Dense(50, activation=None),\n",
        "     tf.keras.layers.Dense(1)\n",
        "    ]\n",
        ")\n",
        "\n",
        "model.compile(\n",
        "    loss = tf.keras.losses.mae,\n",
        "    optimizer = tf.keras.optimizers.Adam(learning_rate=0.008),\n",
        "    metrics = [tf.keras.metrics.mae]\n",
        ")\n",
        "\n",
        "model.fit(\n",
        "    X, y, epochs=100\n",
        ")"
      ],
      "metadata": {
        "colab": {
          "base_uri": "https://localhost:8080/"
        },
        "id": "gpzzTFdVo_tF",
        "outputId": "a8c07a86-ef11-4097-e724-ef07e7710da5"
      },
      "execution_count": 118,
      "outputs": [
        {
          "output_type": "stream",
          "name": "stdout",
          "text": [
            "Epoch 1/100\n",
            "2/2 [==============================] - 0s 6ms/step - loss: 62.0873 - mean_absolute_error: 62.0873\n",
            "Epoch 2/100\n",
            "2/2 [==============================] - 0s 6ms/step - loss: 48.3673 - mean_absolute_error: 48.3673\n",
            "Epoch 3/100\n",
            "2/2 [==============================] - 0s 6ms/step - loss: 34.2126 - mean_absolute_error: 34.2126\n",
            "Epoch 4/100\n",
            "2/2 [==============================] - 0s 6ms/step - loss: 20.8509 - mean_absolute_error: 20.8509\n",
            "Epoch 5/100\n",
            "2/2 [==============================] - 0s 7ms/step - loss: 10.3223 - mean_absolute_error: 10.3223\n",
            "Epoch 6/100\n",
            "2/2 [==============================] - 0s 7ms/step - loss: 11.0266 - mean_absolute_error: 11.0266\n",
            "Epoch 7/100\n",
            "2/2 [==============================] - 0s 6ms/step - loss: 16.5959 - mean_absolute_error: 16.5959\n",
            "Epoch 8/100\n",
            "2/2 [==============================] - 0s 5ms/step - loss: 18.5671 - mean_absolute_error: 18.5671\n",
            "Epoch 9/100\n",
            "2/2 [==============================] - 0s 6ms/step - loss: 16.5465 - mean_absolute_error: 16.5465\n",
            "Epoch 10/100\n",
            "2/2 [==============================] - 0s 5ms/step - loss: 12.2663 - mean_absolute_error: 12.2663\n",
            "Epoch 11/100\n",
            "2/2 [==============================] - 0s 6ms/step - loss: 9.1808 - mean_absolute_error: 9.1808\n",
            "Epoch 12/100\n",
            "2/2 [==============================] - 0s 4ms/step - loss: 8.4343 - mean_absolute_error: 8.4343\n",
            "Epoch 13/100\n",
            "2/2 [==============================] - 0s 4ms/step - loss: 8.9916 - mean_absolute_error: 8.9916\n",
            "Epoch 14/100\n",
            "2/2 [==============================] - 0s 5ms/step - loss: 10.3501 - mean_absolute_error: 10.3501\n",
            "Epoch 15/100\n",
            "2/2 [==============================] - 0s 5ms/step - loss: 10.0208 - mean_absolute_error: 10.0208\n",
            "Epoch 16/100\n",
            "2/2 [==============================] - 0s 7ms/step - loss: 8.4005 - mean_absolute_error: 8.4005\n",
            "Epoch 17/100\n",
            "2/2 [==============================] - 0s 5ms/step - loss: 7.9287 - mean_absolute_error: 7.9287\n",
            "Epoch 18/100\n",
            "2/2 [==============================] - 0s 7ms/step - loss: 7.9281 - mean_absolute_error: 7.9281\n",
            "Epoch 19/100\n",
            "2/2 [==============================] - 0s 6ms/step - loss: 7.8561 - mean_absolute_error: 7.8561\n",
            "Epoch 20/100\n",
            "2/2 [==============================] - 0s 7ms/step - loss: 7.9899 - mean_absolute_error: 7.9899\n",
            "Epoch 21/100\n",
            "2/2 [==============================] - 0s 11ms/step - loss: 8.0991 - mean_absolute_error: 8.0991\n",
            "Epoch 22/100\n",
            "2/2 [==============================] - 0s 5ms/step - loss: 7.6263 - mean_absolute_error: 7.6263\n",
            "Epoch 23/100\n",
            "2/2 [==============================] - 0s 7ms/step - loss: 7.1848 - mean_absolute_error: 7.1848\n",
            "Epoch 24/100\n",
            "2/2 [==============================] - 0s 7ms/step - loss: 7.0278 - mean_absolute_error: 7.0278\n",
            "Epoch 25/100\n",
            "2/2 [==============================] - 0s 6ms/step - loss: 6.7134 - mean_absolute_error: 6.7134\n",
            "Epoch 26/100\n",
            "2/2 [==============================] - 0s 7ms/step - loss: 6.5345 - mean_absolute_error: 6.5345\n",
            "Epoch 27/100\n",
            "2/2 [==============================] - 0s 6ms/step - loss: 6.6160 - mean_absolute_error: 6.6160\n",
            "Epoch 28/100\n",
            "2/2 [==============================] - 0s 6ms/step - loss: 6.2805 - mean_absolute_error: 6.2805\n",
            "Epoch 29/100\n",
            "2/2 [==============================] - 0s 7ms/step - loss: 6.0885 - mean_absolute_error: 6.0885\n",
            "Epoch 30/100\n",
            "2/2 [==============================] - 0s 5ms/step - loss: 5.8749 - mean_absolute_error: 5.8749\n",
            "Epoch 31/100\n",
            "2/2 [==============================] - 0s 5ms/step - loss: 5.6927 - mean_absolute_error: 5.6927\n",
            "Epoch 32/100\n",
            "2/2 [==============================] - 0s 5ms/step - loss: 5.5775 - mean_absolute_error: 5.5775\n",
            "Epoch 33/100\n",
            "2/2 [==============================] - 0s 5ms/step - loss: 5.3535 - mean_absolute_error: 5.3535\n",
            "Epoch 34/100\n",
            "2/2 [==============================] - 0s 9ms/step - loss: 5.1096 - mean_absolute_error: 5.1096\n",
            "Epoch 35/100\n",
            "2/2 [==============================] - 0s 6ms/step - loss: 4.8719 - mean_absolute_error: 4.8719\n",
            "Epoch 36/100\n",
            "2/2 [==============================] - 0s 5ms/step - loss: 4.6292 - mean_absolute_error: 4.6292\n",
            "Epoch 37/100\n",
            "2/2 [==============================] - 0s 6ms/step - loss: 4.3680 - mean_absolute_error: 4.3680\n",
            "Epoch 38/100\n",
            "2/2 [==============================] - 0s 7ms/step - loss: 4.1174 - mean_absolute_error: 4.1174\n",
            "Epoch 39/100\n",
            "2/2 [==============================] - 0s 6ms/step - loss: 3.8356 - mean_absolute_error: 3.8356\n",
            "Epoch 40/100\n",
            "2/2 [==============================] - 0s 6ms/step - loss: 3.7159 - mean_absolute_error: 3.7159\n",
            "Epoch 41/100\n",
            "2/2 [==============================] - 0s 6ms/step - loss: 3.2934 - mean_absolute_error: 3.2934\n",
            "Epoch 42/100\n",
            "2/2 [==============================] - 0s 7ms/step - loss: 3.0503 - mean_absolute_error: 3.0503\n",
            "Epoch 43/100\n",
            "2/2 [==============================] - 0s 7ms/step - loss: 2.7658 - mean_absolute_error: 2.7658\n",
            "Epoch 44/100\n",
            "2/2 [==============================] - 0s 6ms/step - loss: 2.4861 - mean_absolute_error: 2.4861\n",
            "Epoch 45/100\n",
            "2/2 [==============================] - 0s 6ms/step - loss: 2.2363 - mean_absolute_error: 2.2363\n",
            "Epoch 46/100\n",
            "2/2 [==============================] - 0s 5ms/step - loss: 1.7969 - mean_absolute_error: 1.7969\n",
            "Epoch 47/100\n",
            "2/2 [==============================] - 0s 6ms/step - loss: 1.6961 - mean_absolute_error: 1.6961\n",
            "Epoch 48/100\n",
            "2/2 [==============================] - 0s 9ms/step - loss: 1.3142 - mean_absolute_error: 1.3142\n",
            "Epoch 49/100\n",
            "2/2 [==============================] - 0s 7ms/step - loss: 1.6589 - mean_absolute_error: 1.6589\n",
            "Epoch 50/100\n",
            "2/2 [==============================] - 0s 8ms/step - loss: 2.1158 - mean_absolute_error: 2.1158\n",
            "Epoch 51/100\n",
            "2/2 [==============================] - 0s 7ms/step - loss: 1.2767 - mean_absolute_error: 1.2767\n",
            "Epoch 52/100\n",
            "2/2 [==============================] - 0s 6ms/step - loss: 0.6220 - mean_absolute_error: 0.6220\n",
            "Epoch 53/100\n",
            "2/2 [==============================] - 0s 5ms/step - loss: 2.3224 - mean_absolute_error: 2.3224\n",
            "Epoch 54/100\n",
            "2/2 [==============================] - 0s 7ms/step - loss: 1.1119 - mean_absolute_error: 1.1119\n",
            "Epoch 55/100\n",
            "2/2 [==============================] - 0s 6ms/step - loss: 0.7747 - mean_absolute_error: 0.7747\n",
            "Epoch 56/100\n",
            "2/2 [==============================] - 0s 4ms/step - loss: 0.7337 - mean_absolute_error: 0.7337\n",
            "Epoch 57/100\n",
            "2/2 [==============================] - 0s 5ms/step - loss: 1.6394 - mean_absolute_error: 1.6394\n",
            "Epoch 58/100\n",
            "2/2 [==============================] - 0s 4ms/step - loss: 0.9547 - mean_absolute_error: 0.9547\n",
            "Epoch 59/100\n",
            "2/2 [==============================] - 0s 5ms/step - loss: 1.8862 - mean_absolute_error: 1.8862\n",
            "Epoch 60/100\n",
            "2/2 [==============================] - 0s 4ms/step - loss: 0.8893 - mean_absolute_error: 0.8893\n",
            "Epoch 61/100\n",
            "2/2 [==============================] - 0s 9ms/step - loss: 0.9515 - mean_absolute_error: 0.9515\n",
            "Epoch 62/100\n",
            "2/2 [==============================] - 0s 5ms/step - loss: 0.7989 - mean_absolute_error: 0.7989\n",
            "Epoch 63/100\n",
            "2/2 [==============================] - 0s 8ms/step - loss: 0.9363 - mean_absolute_error: 0.9363\n",
            "Epoch 64/100\n",
            "2/2 [==============================] - 0s 6ms/step - loss: 0.1322 - mean_absolute_error: 0.1322\n",
            "Epoch 65/100\n",
            "2/2 [==============================] - 0s 5ms/step - loss: 0.9796 - mean_absolute_error: 0.9796\n",
            "Epoch 66/100\n",
            "2/2 [==============================] - 0s 5ms/step - loss: 0.4888 - mean_absolute_error: 0.4888\n",
            "Epoch 67/100\n",
            "2/2 [==============================] - 0s 5ms/step - loss: 0.3763 - mean_absolute_error: 0.3763\n",
            "Epoch 68/100\n",
            "2/2 [==============================] - 0s 5ms/step - loss: 0.8899 - mean_absolute_error: 0.8899\n",
            "Epoch 69/100\n",
            "2/2 [==============================] - 0s 5ms/step - loss: 0.4006 - mean_absolute_error: 0.4006\n",
            "Epoch 70/100\n",
            "2/2 [==============================] - 0s 4ms/step - loss: 0.5588 - mean_absolute_error: 0.5588\n",
            "Epoch 71/100\n",
            "2/2 [==============================] - 0s 4ms/step - loss: 0.6996 - mean_absolute_error: 0.6996\n",
            "Epoch 72/100\n",
            "2/2 [==============================] - 0s 4ms/step - loss: 0.4489 - mean_absolute_error: 0.4489\n",
            "Epoch 73/100\n",
            "2/2 [==============================] - 0s 4ms/step - loss: 0.5812 - mean_absolute_error: 0.5812\n",
            "Epoch 74/100\n",
            "2/2 [==============================] - 0s 4ms/step - loss: 0.5924 - mean_absolute_error: 0.5924\n",
            "Epoch 75/100\n",
            "2/2 [==============================] - 0s 4ms/step - loss: 0.4255 - mean_absolute_error: 0.4255\n",
            "Epoch 76/100\n",
            "2/2 [==============================] - 0s 4ms/step - loss: 0.9623 - mean_absolute_error: 0.9623\n",
            "Epoch 77/100\n",
            "2/2 [==============================] - 0s 6ms/step - loss: 0.3553 - mean_absolute_error: 0.3553\n",
            "Epoch 78/100\n",
            "2/2 [==============================] - 0s 4ms/step - loss: 0.6664 - mean_absolute_error: 0.6664\n",
            "Epoch 79/100\n",
            "2/2 [==============================] - 0s 4ms/step - loss: 0.5361 - mean_absolute_error: 0.5361\n",
            "Epoch 80/100\n",
            "2/2 [==============================] - 0s 4ms/step - loss: 0.6761 - mean_absolute_error: 0.6761\n",
            "Epoch 81/100\n",
            "2/2 [==============================] - 0s 4ms/step - loss: 0.7868 - mean_absolute_error: 0.7868\n",
            "Epoch 82/100\n",
            "2/2 [==============================] - 0s 4ms/step - loss: 0.0772 - mean_absolute_error: 0.0772\n",
            "Epoch 83/100\n",
            "2/2 [==============================] - 0s 9ms/step - loss: 0.4022 - mean_absolute_error: 0.4022\n",
            "Epoch 84/100\n",
            "2/2 [==============================] - 0s 5ms/step - loss: 1.3677 - mean_absolute_error: 1.3677\n",
            "Epoch 85/100\n",
            "2/2 [==============================] - 0s 4ms/step - loss: 0.8416 - mean_absolute_error: 0.8416\n",
            "Epoch 86/100\n",
            "2/2 [==============================] - 0s 6ms/step - loss: 1.9194 - mean_absolute_error: 1.9194\n",
            "Epoch 87/100\n",
            "2/2 [==============================] - 0s 5ms/step - loss: 0.9014 - mean_absolute_error: 0.9014\n",
            "Epoch 88/100\n",
            "2/2 [==============================] - 0s 7ms/step - loss: 1.8692 - mean_absolute_error: 1.8692\n",
            "Epoch 89/100\n",
            "2/2 [==============================] - 0s 5ms/step - loss: 0.8439 - mean_absolute_error: 0.8439\n",
            "Epoch 90/100\n",
            "2/2 [==============================] - 0s 7ms/step - loss: 3.0300 - mean_absolute_error: 3.0300\n",
            "Epoch 91/100\n",
            "2/2 [==============================] - 0s 7ms/step - loss: 1.6303 - mean_absolute_error: 1.6303\n",
            "Epoch 92/100\n",
            "2/2 [==============================] - 0s 8ms/step - loss: 2.4770 - mean_absolute_error: 2.4770\n",
            "Epoch 93/100\n",
            "2/2 [==============================] - 0s 4ms/step - loss: 3.2559 - mean_absolute_error: 3.2559\n",
            "Epoch 94/100\n",
            "2/2 [==============================] - 0s 4ms/step - loss: 1.1556 - mean_absolute_error: 1.1556\n",
            "Epoch 95/100\n",
            "2/2 [==============================] - 0s 4ms/step - loss: 2.1933 - mean_absolute_error: 2.1933\n",
            "Epoch 96/100\n",
            "2/2 [==============================] - 0s 4ms/step - loss: 0.8668 - mean_absolute_error: 0.8668\n",
            "Epoch 97/100\n",
            "2/2 [==============================] - 0s 4ms/step - loss: 0.3883 - mean_absolute_error: 0.3883\n",
            "Epoch 98/100\n",
            "2/2 [==============================] - 0s 6ms/step - loss: 0.6734 - mean_absolute_error: 0.6734\n",
            "Epoch 99/100\n",
            "2/2 [==============================] - 0s 4ms/step - loss: 0.6271 - mean_absolute_error: 0.6271\n",
            "Epoch 100/100\n",
            "2/2 [==============================] - 0s 4ms/step - loss: 0.1282 - mean_absolute_error: 0.1282\n"
          ]
        },
        {
          "output_type": "execute_result",
          "data": {
            "text/plain": [
              "<keras.callbacks.History at 0x7f641bce2c40>"
            ]
          },
          "metadata": {},
          "execution_count": 118
        }
      ]
    },
    {
      "cell_type": "code",
      "source": [
        "model.summary()"
      ],
      "metadata": {
        "colab": {
          "base_uri": "https://localhost:8080/"
        },
        "id": "AAXoRykDqOqX",
        "outputId": "b8ec3ea3-2b9b-49a2-a8e4-a34452d370ad"
      },
      "execution_count": 119,
      "outputs": [
        {
          "output_type": "stream",
          "name": "stdout",
          "text": [
            "Model: \"sequential_26\"\n",
            "_________________________________________________________________\n",
            " Layer (type)                Output Shape              Param #   \n",
            "=================================================================\n",
            " dense_50 (Dense)            (None, 50)                100       \n",
            "                                                                 \n",
            " dense_51 (Dense)            (None, 1)                 51        \n",
            "                                                                 \n",
            "=================================================================\n",
            "Total params: 151\n",
            "Trainable params: 151\n",
            "Non-trainable params: 0\n",
            "_________________________________________________________________\n"
          ]
        }
      ]
    },
    {
      "cell_type": "code",
      "source": [
        "tf.keras.utils.plot_model(model, show_shapes=True, show_dtype=True)"
      ],
      "metadata": {
        "colab": {
          "base_uri": "https://localhost:8080/",
          "height": 404
        },
        "id": "GcYq0njcq3VI",
        "outputId": "24eca1e8-3c1d-401e-cca6-dfd60f089729"
      },
      "execution_count": 120,
      "outputs": [
        {
          "output_type": "execute_result",
          "data": {
            "image/png": "[encoded data removed]",
            "text/plain": [
              "<IPython.core.display.Image object>"
            ]
          },
          "metadata": {},
          "execution_count": 120
        }
      ]
    },
    {
      "cell_type": "code",
      "source": [
        "y_pred = model.predict(X_test)"
      ],
      "metadata": {
        "colab": {
          "base_uri": "https://localhost:8080/"
        },
        "id": "X6uFtWehvcIq",
        "outputId": "5f4fbf2b-a443-4654-a1a3-41d6019faf20"
      },
      "execution_count": 121,
      "outputs": [
        {
          "output_type": "stream",
          "name": "stdout",
          "text": [
            "1/1 [==============================] - 0s 50ms/step\n"
          ]
        }
      ]
    },
    {
      "cell_type": "code",
      "source": [
        "y_pred, y_test"
      ],
      "metadata": {
        "colab": {
          "base_uri": "https://localhost:8080/"
        },
        "id": "OgZOp1ODwGrw",
        "outputId": "e1e7a880-82f1-469f-c3ff-ef9ac3dafb35"
      },
      "execution_count": 122,
      "outputs": [
        {
          "output_type": "execute_result",
          "data": {
            "text/plain": [
              "(array([[ 69.70237 ],\n",
              "        [ 73.679794],\n",
              "        [ 77.65723 ],\n",
              "        [ 81.63464 ],\n",
              "        [ 85.61207 ],\n",
              "        [ 89.5895  ],\n",
              "        [ 93.56692 ],\n",
              "        [ 97.54435 ],\n",
              "        [101.521774],\n",
              "        [105.4992  ]], dtype=float32),\n",
              " <tf.Tensor: shape=(10,), dtype=float32, numpy=\n",
              " array([ 70.,  74.,  78.,  82.,  86.,  90.,  94.,  98., 102., 106.],\n",
              "       dtype=float32)>)"
            ]
          },
          "metadata": {},
          "execution_count": 122
        }
      ]
    },
    {
      "cell_type": "code",
      "source": [
        "\n",
        "# Let's create a plotting function\n",
        "def plot_predictions(train_data=X_train,\n",
        "                     train_labels=y_train,\n",
        "                     test_data=X_test,\n",
        "                     test_labels=y_test,\n",
        "                     predictions=y_pred):\n",
        "  \"\"\"\n",
        "  Plots training data, test data and compares predictions to ground truth labels.\n",
        "  \"\"\"\n",
        "  plt.figure(figsize=(10, 7))\n",
        "  # Plot training data in blue\n",
        "  plt.scatter(train_data, train_labels, c=\"b\", label=\"Training data\")\n",
        "  # Plot testing data in green\n",
        "  plt.scatter(test_data, test_labels, c=\"g\", label=\"Testing data\")\n",
        "  # Plot model's predictions in red\n",
        "  plt.scatter(test_data, predictions, c=\"r\", label=\"Predictions\")\n",
        "  # Show the legend\n",
        "  plt.legend();\n",
        "     "
      ],
      "metadata": {
        "id": "uKujOj0EwLCg"
      },
      "execution_count": 123,
      "outputs": []
    },
    {
      "cell_type": "code",
      "source": [
        "\n",
        "plot_predictions(train_data=X_train,\n",
        "                 train_labels=y_train,\n",
        "                 test_data=X_test,\n",
        "                 test_labels=y_test,\n",
        "                 predictions=y_pred)"
      ],
      "metadata": {
        "colab": {
          "base_uri": "https://localhost:8080/",
          "height": 428
        },
        "id": "dZePKi9IwXDX",
        "outputId": "c22ae31e-4fc7-4bf7-820a-e3bb6d4a194b"
      },
      "execution_count": 124,
      "outputs": [
        {
          "output_type": "display_data",
          "data": {
            "text/plain": [
              "<Figure size 720x504 with 1 Axes>"
            ],
            "image/png": "[encoded data removed]"
          },
          "metadata": {
            "needs_background": "light"
          }
        }
      ]
    },
    {
      "cell_type": "code",
      "source": [
        "model.evaluate(X_test, y_test)"
      ],
      "metadata": {
        "colab": {
          "base_uri": "https://localhost:8080/"
        },
        "id": "k1xIeWRDwYwC",
        "outputId": "1bf0f020-755a-42f4-a0bc-739f237f30a9"
      },
      "execution_count": 125,
      "outputs": [
        {
          "output_type": "stream",
          "name": "stdout",
          "text": [
            "1/1 [==============================] - 0s 116ms/step - loss: 0.3992 - mean_absolute_error: 0.3992\n"
          ]
        },
        {
          "output_type": "execute_result",
          "data": {
            "text/plain": [
              "[0.3992149233818054, 0.3992149233818054]"
            ]
          },
          "metadata": {},
          "execution_count": 125
        }
      ]
    },
    {
      "cell_type": "code",
      "source": [
        "mae = tf.keras.metrics.mae(y_test, tf.squeeze(y_pred)) # or tf.metrics.mean_absolute_error(y_test, y_pred)"
      ],
      "metadata": {
        "id": "Wyb--0q8wlhy"
      },
      "execution_count": 126,
      "outputs": []
    },
    {
      "cell_type": "code",
      "source": [
        "tf.keras.metrics.mse(y_test, tf.squeeze(y_pred)) #tf.metrics.mean_squared_error"
      ],
      "metadata": {
        "colab": {
          "base_uri": "https://localhost:8080/"
        },
        "id": "p9opRBxZwzid",
        "outputId": "e1ac97a6-7d7a-42ea-ef07-8ed47a8a5f08"
      },
      "execution_count": 127,
      "outputs": [
        {
          "output_type": "execute_result",
          "data": {
            "text/plain": [
              "<tf.Tensor: shape=(), dtype=float32, numpy=0.16357747>"
            ]
          },
          "metadata": {},
          "execution_count": 127
        }
      ]
    },
    {
      "cell_type": "markdown",
      "source": [
        "# Running experiments to improve our model\n",
        "- Build a model -> fit it -> evaluate it -> tweak it -> fit it -> evaluate it -> tweak it -> fit it -> evaluate it ...\n",
        "- Get more data - get more examples for your model to train on (more opportunities to learn patterns or relationships between features and labels).\n",
        "- Make your model larger (using a more complex model) - this might come in the form of more layers or more hidden units in each layer.\n",
        "- Train for longer - give your model more of a chance to find patterns in the data.\n",
        "\n",
        "1. model_1 - 2 layer (hidden unit -> 50 to 100), trained for 100 epochs\n",
        "1. model_2 - 3 layers, trained for 100 epochs\n",
        "1. model_3 - 3 layers, trained for 500 epochs\n"
      ],
      "metadata": {
        "id": "Fp5LSzrQz-sW"
      }
    },
    {
      "cell_type": "markdown",
      "source": [
        "## Build model_1\n",
        "\n",
        "\n",
        "1. model_1 - 2 layer (hidden unit -> 50 to 100), trained for 100 epochs"
      ],
      "metadata": {
        "id": "ResDwAGo336B"
      }
    },
    {
      "cell_type": "code",
      "source": [
        "tf.random.set_seed(10)\n",
        "\n",
        "model = tf.keras.Sequential(\n",
        "    [\n",
        "     tf.keras.layers.Dense(100, activation=None),\n",
        "     tf.keras.layers.Dense(1)\n",
        "    ]\n",
        ")\n",
        "\n",
        "model.compile(\n",
        "    loss = tf.keras.losses.mae,\n",
        "    optimizer = tf.keras.optimizers.Adam(learning_rate=0.008),\n",
        "    metrics = [tf.keras.metrics.mae]\n",
        ")\n",
        "\n",
        "model.fit(\n",
        "    X, y, epochs=100\n",
        ")"
      ],
      "metadata": {
        "colab": {
          "base_uri": "https://localhost:8080/"
        },
        "id": "40Lx5Q38388k",
        "outputId": "21bc8ab2-3c9c-40ca-e770-935a1a9a42b4"
      },
      "execution_count": 128,
      "outputs": [
        {
          "output_type": "stream",
          "name": "stdout",
          "text": [
            "Epoch 1/100\n",
            "2/2 [==============================] - 0s 8ms/step - loss: 50.3187 - mean_absolute_error: 50.3187\n",
            "Epoch 2/100\n",
            "2/2 [==============================] - 0s 6ms/step - loss: 31.7213 - mean_absolute_error: 31.7213\n",
            "Epoch 3/100\n",
            "2/2 [==============================] - 0s 6ms/step - loss: 13.4650 - mean_absolute_error: 13.4650\n",
            "Epoch 4/100\n",
            "2/2 [==============================] - 0s 10ms/step - loss: 11.5210 - mean_absolute_error: 11.5210\n",
            "Epoch 5/100\n",
            "2/2 [==============================] - 0s 6ms/step - loss: 16.9423 - mean_absolute_error: 16.9423\n",
            "Epoch 6/100\n",
            "2/2 [==============================] - 0s 7ms/step - loss: 15.7237 - mean_absolute_error: 15.7237\n",
            "Epoch 7/100\n",
            "2/2 [==============================] - 0s 8ms/step - loss: 10.5373 - mean_absolute_error: 10.5373\n",
            "Epoch 8/100\n",
            "2/2 [==============================] - 0s 6ms/step - loss: 8.4720 - mean_absolute_error: 8.4720\n",
            "Epoch 9/100\n",
            "2/2 [==============================] - 0s 7ms/step - loss: 9.5910 - mean_absolute_error: 9.5910\n",
            "Epoch 10/100\n",
            "2/2 [==============================] - 0s 6ms/step - loss: 11.3482 - mean_absolute_error: 11.3482\n",
            "Epoch 11/100\n",
            "2/2 [==============================] - 0s 6ms/step - loss: 9.8761 - mean_absolute_error: 9.8761\n",
            "Epoch 12/100\n",
            "2/2 [==============================] - 0s 6ms/step - loss: 8.2465 - mean_absolute_error: 8.2465\n",
            "Epoch 13/100\n",
            "2/2 [==============================] - 0s 6ms/step - loss: 8.0287 - mean_absolute_error: 8.0287\n",
            "Epoch 14/100\n",
            "2/2 [==============================] - 0s 6ms/step - loss: 7.9878 - mean_absolute_error: 7.9878\n",
            "Epoch 15/100\n",
            "2/2 [==============================] - 0s 6ms/step - loss: 7.9726 - mean_absolute_error: 7.9726\n",
            "Epoch 16/100\n",
            "2/2 [==============================] - 0s 6ms/step - loss: 7.4622 - mean_absolute_error: 7.4622\n",
            "Epoch 17/100\n",
            "2/2 [==============================] - 0s 6ms/step - loss: 7.1858 - mean_absolute_error: 7.1858\n",
            "Epoch 18/100\n",
            "2/2 [==============================] - 0s 7ms/step - loss: 6.8936 - mean_absolute_error: 6.8936\n",
            "Epoch 19/100\n",
            "2/2 [==============================] - 0s 8ms/step - loss: 6.6298 - mean_absolute_error: 6.6298\n",
            "Epoch 20/100\n",
            "2/2 [==============================] - 0s 6ms/step - loss: 6.3715 - mean_absolute_error: 6.3715\n",
            "Epoch 21/100\n",
            "2/2 [==============================] - 0s 5ms/step - loss: 6.1029 - mean_absolute_error: 6.1029\n",
            "Epoch 22/100\n",
            "2/2 [==============================] - 0s 6ms/step - loss: 5.8110 - mean_absolute_error: 5.8110\n",
            "Epoch 23/100\n",
            "2/2 [==============================] - 0s 7ms/step - loss: 5.5500 - mean_absolute_error: 5.5500\n",
            "Epoch 24/100\n",
            "2/2 [==============================] - 0s 7ms/step - loss: 5.2147 - mean_absolute_error: 5.2147\n",
            "Epoch 25/100\n",
            "2/2 [==============================] - 0s 6ms/step - loss: 5.0071 - mean_absolute_error: 5.0071\n",
            "Epoch 26/100\n",
            "2/2 [==============================] - 0s 6ms/step - loss: 4.6859 - mean_absolute_error: 4.6859\n",
            "Epoch 27/100\n",
            "2/2 [==============================] - 0s 11ms/step - loss: 4.3584 - mean_absolute_error: 4.3584\n",
            "Epoch 28/100\n",
            "2/2 [==============================] - 0s 10ms/step - loss: 4.0148 - mean_absolute_error: 4.0148\n",
            "Epoch 29/100\n",
            "2/2 [==============================] - 0s 6ms/step - loss: 3.6489 - mean_absolute_error: 3.6489\n",
            "Epoch 30/100\n",
            "2/2 [==============================] - 0s 8ms/step - loss: 3.2862 - mean_absolute_error: 3.2862\n",
            "Epoch 31/100\n",
            "2/2 [==============================] - 0s 8ms/step - loss: 2.8898 - mean_absolute_error: 2.8898\n",
            "Epoch 32/100\n",
            "2/2 [==============================] - 0s 6ms/step - loss: 2.6204 - mean_absolute_error: 2.6204\n",
            "Epoch 33/100\n",
            "2/2 [==============================] - 0s 5ms/step - loss: 2.1869 - mean_absolute_error: 2.1869\n",
            "Epoch 34/100\n",
            "2/2 [==============================] - 0s 5ms/step - loss: 1.6305 - mean_absolute_error: 1.6305\n",
            "Epoch 35/100\n",
            "2/2 [==============================] - 0s 5ms/step - loss: 1.2865 - mean_absolute_error: 1.2865\n",
            "Epoch 36/100\n",
            "2/2 [==============================] - 0s 7ms/step - loss: 1.5041 - mean_absolute_error: 1.5041\n",
            "Epoch 37/100\n",
            "2/2 [==============================] - 0s 6ms/step - loss: 0.8490 - mean_absolute_error: 0.8490\n",
            "Epoch 38/100\n",
            "2/2 [==============================] - 0s 5ms/step - loss: 1.3949 - mean_absolute_error: 1.3949\n",
            "Epoch 39/100\n",
            "2/2 [==============================] - 0s 6ms/step - loss: 0.7673 - mean_absolute_error: 0.7673\n",
            "Epoch 40/100\n",
            "2/2 [==============================] - 0s 6ms/step - loss: 0.9560 - mean_absolute_error: 0.9560\n",
            "Epoch 41/100\n",
            "2/2 [==============================] - 0s 4ms/step - loss: 1.3047 - mean_absolute_error: 1.3047\n",
            "Epoch 42/100\n",
            "2/2 [==============================] - 0s 5ms/step - loss: 0.9338 - mean_absolute_error: 0.9338\n",
            "Epoch 43/100\n",
            "2/2 [==============================] - 0s 6ms/step - loss: 0.7843 - mean_absolute_error: 0.7843\n",
            "Epoch 44/100\n",
            "2/2 [==============================] - 0s 6ms/step - loss: 0.5776 - mean_absolute_error: 0.5776\n",
            "Epoch 45/100\n",
            "2/2 [==============================] - 0s 5ms/step - loss: 0.5210 - mean_absolute_error: 0.5210\n",
            "Epoch 46/100\n",
            "2/2 [==============================] - 0s 7ms/step - loss: 0.6194 - mean_absolute_error: 0.6194\n",
            "Epoch 47/100\n",
            "2/2 [==============================] - 0s 5ms/step - loss: 0.4622 - mean_absolute_error: 0.4622\n",
            "Epoch 48/100\n",
            "2/2 [==============================] - 0s 6ms/step - loss: 0.3488 - mean_absolute_error: 0.3488\n",
            "Epoch 49/100\n",
            "2/2 [==============================] - 0s 5ms/step - loss: 0.4990 - mean_absolute_error: 0.4990\n",
            "Epoch 50/100\n",
            "2/2 [==============================] - 0s 8ms/step - loss: 0.2769 - mean_absolute_error: 0.2769\n",
            "Epoch 51/100\n",
            "2/2 [==============================] - 0s 7ms/step - loss: 1.1300 - mean_absolute_error: 1.1300\n",
            "Epoch 52/100\n",
            "2/2 [==============================] - 0s 5ms/step - loss: 0.9709 - mean_absolute_error: 0.9709\n",
            "Epoch 53/100\n",
            "2/2 [==============================] - 0s 7ms/step - loss: 0.4174 - mean_absolute_error: 0.4174\n",
            "Epoch 54/100\n",
            "2/2 [==============================] - 0s 7ms/step - loss: 1.4507 - mean_absolute_error: 1.4507\n",
            "Epoch 55/100\n",
            "2/2 [==============================] - 0s 7ms/step - loss: 0.2550 - mean_absolute_error: 0.2550\n",
            "Epoch 56/100\n",
            "2/2 [==============================] - 0s 7ms/step - loss: 0.9073 - mean_absolute_error: 0.9073\n",
            "Epoch 57/100\n",
            "2/2 [==============================] - 0s 6ms/step - loss: 1.2709 - mean_absolute_error: 1.2709\n",
            "Epoch 58/100\n",
            "2/2 [==============================] - 0s 7ms/step - loss: 0.8868 - mean_absolute_error: 0.8868\n",
            "Epoch 59/100\n",
            "2/2 [==============================] - 0s 7ms/step - loss: 3.3137 - mean_absolute_error: 3.3137\n",
            "Epoch 60/100\n",
            "2/2 [==============================] - 0s 7ms/step - loss: 1.4516 - mean_absolute_error: 1.4516\n",
            "Epoch 61/100\n",
            "2/2 [==============================] - 0s 7ms/step - loss: 2.8520 - mean_absolute_error: 2.8520\n",
            "Epoch 62/100\n",
            "2/2 [==============================] - 0s 6ms/step - loss: 1.3169 - mean_absolute_error: 1.3169\n",
            "Epoch 63/100\n",
            "2/2 [==============================] - 0s 7ms/step - loss: 3.7285 - mean_absolute_error: 3.7285\n",
            "Epoch 64/100\n",
            "2/2 [==============================] - 0s 6ms/step - loss: 1.5537 - mean_absolute_error: 1.5537\n",
            "Epoch 65/100\n",
            "2/2 [==============================] - 0s 6ms/step - loss: 0.9848 - mean_absolute_error: 0.9848\n",
            "Epoch 66/100\n",
            "2/2 [==============================] - 0s 6ms/step - loss: 1.2576 - mean_absolute_error: 1.2576\n",
            "Epoch 67/100\n",
            "2/2 [==============================] - 0s 6ms/step - loss: 0.9235 - mean_absolute_error: 0.9235\n",
            "Epoch 68/100\n",
            "2/2 [==============================] - 0s 8ms/step - loss: 2.0235 - mean_absolute_error: 2.0235\n",
            "Epoch 69/100\n",
            "2/2 [==============================] - 0s 7ms/step - loss: 0.5039 - mean_absolute_error: 0.5039\n",
            "Epoch 70/100\n",
            "2/2 [==============================] - 0s 6ms/step - loss: 0.1822 - mean_absolute_error: 0.1822\n",
            "Epoch 71/100\n",
            "2/2 [==============================] - 0s 6ms/step - loss: 0.2706 - mean_absolute_error: 0.2706\n",
            "Epoch 72/100\n",
            "2/2 [==============================] - 0s 6ms/step - loss: 0.4061 - mean_absolute_error: 0.4061\n",
            "Epoch 73/100\n",
            "2/2 [==============================] - 0s 6ms/step - loss: 1.5835 - mean_absolute_error: 1.5835\n",
            "Epoch 74/100\n",
            "2/2 [==============================] - 0s 7ms/step - loss: 0.9351 - mean_absolute_error: 0.9351\n",
            "Epoch 75/100\n",
            "2/2 [==============================] - 0s 8ms/step - loss: 2.7417 - mean_absolute_error: 2.7417\n",
            "Epoch 76/100\n",
            "2/2 [==============================] - 0s 5ms/step - loss: 1.2002 - mean_absolute_error: 1.2002\n",
            "Epoch 77/100\n",
            "2/2 [==============================] - 0s 5ms/step - loss: 1.6118 - mean_absolute_error: 1.6118\n",
            "Epoch 78/100\n",
            "2/2 [==============================] - 0s 6ms/step - loss: 0.4289 - mean_absolute_error: 0.4289\n",
            "Epoch 79/100\n",
            "2/2 [==============================] - 0s 7ms/step - loss: 0.2278 - mean_absolute_error: 0.2278\n",
            "Epoch 80/100\n",
            "2/2 [==============================] - 0s 7ms/step - loss: 0.3932 - mean_absolute_error: 0.3932\n",
            "Epoch 81/100\n",
            "2/2 [==============================] - 0s 7ms/step - loss: 0.4114 - mean_absolute_error: 0.4114\n",
            "Epoch 82/100\n",
            "2/2 [==============================] - 0s 7ms/step - loss: 0.3804 - mean_absolute_error: 0.3804\n",
            "Epoch 83/100\n",
            "2/2 [==============================] - 0s 7ms/step - loss: 0.2715 - mean_absolute_error: 0.2715\n",
            "Epoch 84/100\n",
            "2/2 [==============================] - 0s 7ms/step - loss: 0.3683 - mean_absolute_error: 0.3683\n",
            "Epoch 85/100\n",
            "2/2 [==============================] - 0s 7ms/step - loss: 0.7149 - mean_absolute_error: 0.7149\n",
            "Epoch 86/100\n",
            "2/2 [==============================] - 0s 7ms/step - loss: 1.2824 - mean_absolute_error: 1.2824\n",
            "Epoch 87/100\n",
            "2/2 [==============================] - 0s 7ms/step - loss: 0.9924 - mean_absolute_error: 0.9924\n",
            "Epoch 88/100\n",
            "2/2 [==============================] - 0s 7ms/step - loss: 0.7989 - mean_absolute_error: 0.7989\n",
            "Epoch 89/100\n",
            "2/2 [==============================] - 0s 7ms/step - loss: 1.1848 - mean_absolute_error: 1.1848\n",
            "Epoch 90/100\n",
            "2/2 [==============================] - 0s 7ms/step - loss: 1.7199 - mean_absolute_error: 1.7199\n",
            "Epoch 91/100\n",
            "2/2 [==============================] - 0s 7ms/step - loss: 1.0248 - mean_absolute_error: 1.0248\n",
            "Epoch 92/100\n",
            "2/2 [==============================] - 0s 7ms/step - loss: 0.4775 - mean_absolute_error: 0.4775\n",
            "Epoch 93/100\n",
            "2/2 [==============================] - 0s 7ms/step - loss: 1.7200 - mean_absolute_error: 1.7200\n",
            "Epoch 94/100\n",
            "2/2 [==============================] - 0s 9ms/step - loss: 0.9395 - mean_absolute_error: 0.9395\n",
            "Epoch 95/100\n",
            "2/2 [==============================] - 0s 7ms/step - loss: 0.6873 - mean_absolute_error: 0.6873\n",
            "Epoch 96/100\n",
            "2/2 [==============================] - 0s 10ms/step - loss: 1.7833 - mean_absolute_error: 1.7833\n",
            "Epoch 97/100\n",
            "2/2 [==============================] - 0s 9ms/step - loss: 1.0419 - mean_absolute_error: 1.0419\n",
            "Epoch 98/100\n",
            "2/2 [==============================] - 0s 7ms/step - loss: 0.9328 - mean_absolute_error: 0.9328\n",
            "Epoch 99/100\n",
            "2/2 [==============================] - 0s 7ms/step - loss: 1.0783 - mean_absolute_error: 1.0783\n",
            "Epoch 100/100\n",
            "2/2 [==============================] - 0s 7ms/step - loss: 0.7593 - mean_absolute_error: 0.7593\n"
          ]
        },
        {
          "output_type": "execute_result",
          "data": {
            "text/plain": [
              "<keras.callbacks.History at 0x7f642ab5e130>"
            ]
          },
          "metadata": {},
          "execution_count": 128
        }
      ]
    },
    {
      "cell_type": "code",
      "source": [
        "y_pred_m1 = model.predict(X_test)"
      ],
      "metadata": {
        "colab": {
          "base_uri": "https://localhost:8080/"
        },
        "id": "s6Pb_D2P4Jwd",
        "outputId": "164b5159-9490-4fc1-8477-3bae8a9a9caf"
      },
      "execution_count": 129,
      "outputs": [
        {
          "output_type": "stream",
          "name": "stdout",
          "text": [
            "1/1 [==============================] - 0s 57ms/step\n"
          ]
        }
      ]
    },
    {
      "cell_type": "code",
      "source": [
        "plot_predictions(X_train, y_train, X_test, y_test, tf.squeeze(y_pred_m1))"
      ],
      "metadata": {
        "colab": {
          "base_uri": "https://localhost:8080/",
          "height": 428
        },
        "id": "id6QpTvU4TLA",
        "outputId": "2922631e-3dff-41a6-f702-ea94d7c2f567"
      },
      "execution_count": 130,
      "outputs": [
        {
          "output_type": "display_data",
          "data": {
            "text/plain": [
              "<Figure size 720x504 with 1 Axes>"
            ],
            "image/png": "[encoded data removed]"
          },
          "metadata": {
            "needs_background": "light"
          }
        }
      ]
    },
    {
      "cell_type": "code",
      "source": [
        "mae_m1 = tf.keras.metrics.mae(y_test, tf.squeeze(y_pred_m1))\n",
        "mse_m1 = tf.keras.metrics.mse(y_test, tf.squeeze(y_pred_m1))\n",
        "mae_m1 < mae, mae, mae_m1, mse_m1"
      ],
      "metadata": {
        "colab": {
          "base_uri": "https://localhost:8080/"
        },
        "id": "7CMqPPCe4jVj",
        "outputId": "c211453a-c8bb-4e5d-ec85-9398c28a9c21"
      },
      "execution_count": 131,
      "outputs": [
        {
          "output_type": "execute_result",
          "data": {
            "text/plain": [
              "(<tf.Tensor: shape=(), dtype=bool, numpy=False>,\n",
              " <tf.Tensor: shape=(), dtype=float32, numpy=0.3992157>,\n",
              " <tf.Tensor: shape=(), dtype=float32, numpy=3.2919335>,\n",
              " <tf.Tensor: shape=(), dtype=float32, numpy=11.072354>)"
            ]
          },
          "metadata": {},
          "execution_count": 131
        }
      ]
    },
    {
      "cell_type": "markdown",
      "source": [
        "# Build model_2\n",
        "\n",
        "1. model_2 - 3 layers, trained for 100 epochs"
      ],
      "metadata": {
        "id": "Bi2cb5U46nju"
      }
    },
    {
      "cell_type": "code",
      "source": [
        "tf.random.set_seed(10)\n",
        "\n",
        "model = tf.keras.Sequential(\n",
        "    [\n",
        "     tf.keras.layers.Dense(50, activation=None),\n",
        "     tf.keras.layers.Dense(50, activation=None),\n",
        "     tf.keras.layers.Dense(1)\n",
        "    ]\n",
        ")\n",
        "\n",
        "model.compile(\n",
        "    loss = tf.keras.losses.mae,\n",
        "    optimizer = tf.keras.optimizers.Adam(learning_rate=0.01),\n",
        "    metrics = [tf.keras.metrics.mae]\n",
        ")\n",
        "\n",
        "model.fit(\n",
        "    X, y, epochs=100\n",
        ")\n",
        "\n",
        "\n"
      ],
      "metadata": {
        "colab": {
          "base_uri": "https://localhost:8080/"
        },
        "id": "56oi_Uip7Vaq",
        "outputId": "053c48a8-94b2-4aa6-903d-eb90f5dece60"
      },
      "execution_count": 132,
      "outputs": [
        {
          "output_type": "stream",
          "name": "stdout",
          "text": [
            "Epoch 1/100\n",
            "2/2 [==============================] - 0s 6ms/step - loss: 47.4293 - mean_absolute_error: 47.4293\n",
            "Epoch 2/100\n",
            "2/2 [==============================] - 0s 6ms/step - loss: 30.9995 - mean_absolute_error: 30.9995\n",
            "Epoch 3/100\n",
            "2/2 [==============================] - 0s 6ms/step - loss: 21.7171 - mean_absolute_error: 21.7171\n",
            "Epoch 4/100\n",
            "2/2 [==============================] - 0s 7ms/step - loss: 13.2951 - mean_absolute_error: 13.2951\n",
            "Epoch 5/100\n",
            "2/2 [==============================] - 0s 6ms/step - loss: 19.0963 - mean_absolute_error: 19.0963\n",
            "Epoch 6/100\n",
            "2/2 [==============================] - 0s 6ms/step - loss: 11.1500 - mean_absolute_error: 11.1500\n",
            "Epoch 7/100\n",
            "2/2 [==============================] - 0s 6ms/step - loss: 11.1413 - mean_absolute_error: 11.1413\n",
            "Epoch 8/100\n",
            "2/2 [==============================] - 0s 6ms/step - loss: 11.6321 - mean_absolute_error: 11.6321\n",
            "Epoch 9/100\n",
            "2/2 [==============================] - 0s 8ms/step - loss: 7.5484 - mean_absolute_error: 7.5484\n",
            "Epoch 10/100\n",
            "2/2 [==============================] - 0s 10ms/step - loss: 10.0195 - mean_absolute_error: 10.0195\n",
            "Epoch 11/100\n",
            "2/2 [==============================] - 0s 8ms/step - loss: 9.2707 - mean_absolute_error: 9.2707\n",
            "Epoch 12/100\n",
            "2/2 [==============================] - 0s 9ms/step - loss: 7.8692 - mean_absolute_error: 7.8692\n",
            "Epoch 13/100\n",
            "2/2 [==============================] - 0s 12ms/step - loss: 8.8501 - mean_absolute_error: 8.8501\n",
            "Epoch 14/100\n",
            "2/2 [==============================] - 0s 7ms/step - loss: 6.9724 - mean_absolute_error: 6.9724\n",
            "Epoch 15/100\n",
            "2/2 [==============================] - 0s 8ms/step - loss: 6.1927 - mean_absolute_error: 6.1927\n",
            "Epoch 16/100\n",
            "2/2 [==============================] - 0s 9ms/step - loss: 7.5421 - mean_absolute_error: 7.5421\n",
            "Epoch 17/100\n",
            "2/2 [==============================] - 0s 8ms/step - loss: 5.9355 - mean_absolute_error: 5.9355\n",
            "Epoch 18/100\n",
            "2/2 [==============================] - 0s 6ms/step - loss: 5.7094 - mean_absolute_error: 5.7094\n",
            "Epoch 19/100\n",
            "2/2 [==============================] - 0s 8ms/step - loss: 6.8640 - mean_absolute_error: 6.8640\n",
            "Epoch 20/100\n",
            "2/2 [==============================] - 0s 9ms/step - loss: 5.1477 - mean_absolute_error: 5.1477\n",
            "Epoch 21/100\n",
            "2/2 [==============================] - 0s 8ms/step - loss: 4.9147 - mean_absolute_error: 4.9147\n",
            "Epoch 22/100\n",
            "2/2 [==============================] - 0s 7ms/step - loss: 4.2181 - mean_absolute_error: 4.2181\n",
            "Epoch 23/100\n",
            "2/2 [==============================] - 0s 6ms/step - loss: 3.8283 - mean_absolute_error: 3.8283\n",
            "Epoch 24/100\n",
            "2/2 [==============================] - 0s 5ms/step - loss: 3.4592 - mean_absolute_error: 3.4592\n",
            "Epoch 25/100\n",
            "2/2 [==============================] - 0s 8ms/step - loss: 2.7342 - mean_absolute_error: 2.7342\n",
            "Epoch 26/100\n",
            "2/2 [==============================] - 0s 6ms/step - loss: 2.0973 - mean_absolute_error: 2.0973\n",
            "Epoch 27/100\n",
            "2/2 [==============================] - 0s 7ms/step - loss: 1.6464 - mean_absolute_error: 1.6464\n",
            "Epoch 28/100\n",
            "2/2 [==============================] - 0s 4ms/step - loss: 1.3379 - mean_absolute_error: 1.3379\n",
            "Epoch 29/100\n",
            "2/2 [==============================] - 0s 6ms/step - loss: 1.0272 - mean_absolute_error: 1.0272\n",
            "Epoch 30/100\n",
            "2/2 [==============================] - 0s 7ms/step - loss: 0.9031 - mean_absolute_error: 0.9031\n",
            "Epoch 31/100\n",
            "2/2 [==============================] - 0s 6ms/step - loss: 1.4443 - mean_absolute_error: 1.4443\n",
            "Epoch 32/100\n",
            "2/2 [==============================] - 0s 6ms/step - loss: 1.2169 - mean_absolute_error: 1.2169\n",
            "Epoch 33/100\n",
            "2/2 [==============================] - 0s 6ms/step - loss: 0.8998 - mean_absolute_error: 0.8998\n",
            "Epoch 34/100\n",
            "2/2 [==============================] - 0s 6ms/step - loss: 0.3779 - mean_absolute_error: 0.3779\n",
            "Epoch 35/100\n",
            "2/2 [==============================] - 0s 6ms/step - loss: 1.2002 - mean_absolute_error: 1.2002\n",
            "Epoch 36/100\n",
            "2/2 [==============================] - 0s 6ms/step - loss: 0.7126 - mean_absolute_error: 0.7126\n",
            "Epoch 37/100\n",
            "2/2 [==============================] - 0s 6ms/step - loss: 1.0622 - mean_absolute_error: 1.0622\n",
            "Epoch 38/100\n",
            "2/2 [==============================] - 0s 6ms/step - loss: 1.1423 - mean_absolute_error: 1.1423\n",
            "Epoch 39/100\n",
            "2/2 [==============================] - 0s 6ms/step - loss: 1.0441 - mean_absolute_error: 1.0441\n",
            "Epoch 40/100\n",
            "2/2 [==============================] - 0s 6ms/step - loss: 1.5871 - mean_absolute_error: 1.5871\n",
            "Epoch 41/100\n",
            "2/2 [==============================] - 0s 6ms/step - loss: 1.7561 - mean_absolute_error: 1.7561\n",
            "Epoch 42/100\n",
            "2/2 [==============================] - 0s 6ms/step - loss: 3.1618 - mean_absolute_error: 3.1618\n",
            "Epoch 43/100\n",
            "2/2 [==============================] - 0s 6ms/step - loss: 0.7621 - mean_absolute_error: 0.7621\n",
            "Epoch 44/100\n",
            "2/2 [==============================] - 0s 6ms/step - loss: 1.5288 - mean_absolute_error: 1.5288\n",
            "Epoch 45/100\n",
            "2/2 [==============================] - 0s 6ms/step - loss: 2.9561 - mean_absolute_error: 2.9561\n",
            "Epoch 46/100\n",
            "2/2 [==============================] - 0s 6ms/step - loss: 2.1028 - mean_absolute_error: 2.1028\n",
            "Epoch 47/100\n",
            "2/2 [==============================] - 0s 6ms/step - loss: 6.1560 - mean_absolute_error: 6.1560\n",
            "Epoch 48/100\n",
            "2/2 [==============================] - 0s 8ms/step - loss: 2.1741 - mean_absolute_error: 2.1741\n",
            "Epoch 49/100\n",
            "2/2 [==============================] - 0s 10ms/step - loss: 11.2686 - mean_absolute_error: 11.2686\n",
            "Epoch 50/100\n",
            "2/2 [==============================] - 0s 8ms/step - loss: 9.4787 - mean_absolute_error: 9.4787\n",
            "Epoch 51/100\n",
            "2/2 [==============================] - 0s 6ms/step - loss: 3.2784 - mean_absolute_error: 3.2784\n",
            "Epoch 52/100\n",
            "2/2 [==============================] - 0s 11ms/step - loss: 11.0559 - mean_absolute_error: 11.0559\n",
            "Epoch 53/100\n",
            "2/2 [==============================] - 0s 7ms/step - loss: 8.0935 - mean_absolute_error: 8.0935\n",
            "Epoch 54/100\n",
            "2/2 [==============================] - 0s 7ms/step - loss: 2.9874 - mean_absolute_error: 2.9874\n",
            "Epoch 55/100\n",
            "2/2 [==============================] - 0s 9ms/step - loss: 5.0400 - mean_absolute_error: 5.0400\n",
            "Epoch 56/100\n",
            "2/2 [==============================] - 0s 7ms/step - loss: 1.5618 - mean_absolute_error: 1.5618\n",
            "Epoch 57/100\n",
            "2/2 [==============================] - 0s 7ms/step - loss: 2.6810 - mean_absolute_error: 2.6810\n",
            "Epoch 58/100\n",
            "2/2 [==============================] - 0s 6ms/step - loss: 2.3052 - mean_absolute_error: 2.3052\n",
            "Epoch 59/100\n",
            "2/2 [==============================] - 0s 7ms/step - loss: 1.2919 - mean_absolute_error: 1.2919\n",
            "Epoch 60/100\n",
            "2/2 [==============================] - 0s 7ms/step - loss: 1.0305 - mean_absolute_error: 1.0305\n",
            "Epoch 61/100\n",
            "2/2 [==============================] - 0s 6ms/step - loss: 0.9187 - mean_absolute_error: 0.9187\n",
            "Epoch 62/100\n",
            "2/2 [==============================] - 0s 6ms/step - loss: 2.3368 - mean_absolute_error: 2.3368\n",
            "Epoch 63/100\n",
            "2/2 [==============================] - 0s 6ms/step - loss: 1.5057 - mean_absolute_error: 1.5057\n",
            "Epoch 64/100\n",
            "2/2 [==============================] - 0s 8ms/step - loss: 3.2004 - mean_absolute_error: 3.2004\n",
            "Epoch 65/100\n",
            "2/2 [==============================] - 0s 6ms/step - loss: 0.8231 - mean_absolute_error: 0.8231\n",
            "Epoch 66/100\n",
            "2/2 [==============================] - 0s 6ms/step - loss: 0.2307 - mean_absolute_error: 0.2307\n",
            "Epoch 67/100\n",
            "2/2 [==============================] - 0s 7ms/step - loss: 0.6757 - mean_absolute_error: 0.6757\n",
            "Epoch 68/100\n",
            "2/2 [==============================] - 0s 9ms/step - loss: 1.0576 - mean_absolute_error: 1.0576\n",
            "Epoch 69/100\n",
            "2/2 [==============================] - 0s 8ms/step - loss: 1.2113 - mean_absolute_error: 1.2113\n",
            "Epoch 70/100\n",
            "2/2 [==============================] - 0s 8ms/step - loss: 2.9814 - mean_absolute_error: 2.9814\n",
            "Epoch 71/100\n",
            "2/2 [==============================] - 0s 7ms/step - loss: 1.6130 - mean_absolute_error: 1.6130\n",
            "Epoch 72/100\n",
            "2/2 [==============================] - 0s 6ms/step - loss: 1.3472 - mean_absolute_error: 1.3472\n",
            "Epoch 73/100\n",
            "2/2 [==============================] - 0s 7ms/step - loss: 2.3711 - mean_absolute_error: 2.3711\n",
            "Epoch 74/100\n",
            "2/2 [==============================] - 0s 7ms/step - loss: 1.5104 - mean_absolute_error: 1.5104\n",
            "Epoch 75/100\n",
            "2/2 [==============================] - 0s 7ms/step - loss: 3.9389 - mean_absolute_error: 3.9389\n",
            "Epoch 76/100\n",
            "2/2 [==============================] - 0s 7ms/step - loss: 1.7686 - mean_absolute_error: 1.7686\n",
            "Epoch 77/100\n",
            "2/2 [==============================] - 0s 7ms/step - loss: 2.3078 - mean_absolute_error: 2.3078\n",
            "Epoch 78/100\n",
            "2/2 [==============================] - 0s 7ms/step - loss: 1.2252 - mean_absolute_error: 1.2252\n",
            "Epoch 79/100\n",
            "2/2 [==============================] - 0s 10ms/step - loss: 1.1532 - mean_absolute_error: 1.1532\n",
            "Epoch 80/100\n",
            "2/2 [==============================] - 0s 9ms/step - loss: 2.5972 - mean_absolute_error: 2.5972\n",
            "Epoch 81/100\n",
            "2/2 [==============================] - 0s 7ms/step - loss: 1.4983 - mean_absolute_error: 1.4983\n",
            "Epoch 82/100\n",
            "2/2 [==============================] - 0s 7ms/step - loss: 1.2541 - mean_absolute_error: 1.2541\n",
            "Epoch 83/100\n",
            "2/2 [==============================] - 0s 6ms/step - loss: 2.1032 - mean_absolute_error: 2.1032\n",
            "Epoch 84/100\n",
            "2/2 [==============================] - 0s 7ms/step - loss: 1.7893 - mean_absolute_error: 1.7893\n",
            "Epoch 85/100\n",
            "2/2 [==============================] - 0s 6ms/step - loss: 1.3754 - mean_absolute_error: 1.3754\n",
            "Epoch 86/100\n",
            "2/2 [==============================] - 0s 5ms/step - loss: 2.8197 - mean_absolute_error: 2.8197\n",
            "Epoch 87/100\n",
            "2/2 [==============================] - 0s 7ms/step - loss: 0.9886 - mean_absolute_error: 0.9886\n",
            "Epoch 88/100\n",
            "2/2 [==============================] - 0s 7ms/step - loss: 2.5122 - mean_absolute_error: 2.5122\n",
            "Epoch 89/100\n",
            "2/2 [==============================] - 0s 7ms/step - loss: 1.1842 - mean_absolute_error: 1.1842\n",
            "Epoch 90/100\n",
            "2/2 [==============================] - 0s 5ms/step - loss: 1.1018 - mean_absolute_error: 1.1018\n",
            "Epoch 91/100\n",
            "2/2 [==============================] - 0s 6ms/step - loss: 1.1581 - mean_absolute_error: 1.1581\n",
            "Epoch 92/100\n",
            "2/2 [==============================] - 0s 6ms/step - loss: 1.1712 - mean_absolute_error: 1.1712\n",
            "Epoch 93/100\n",
            "2/2 [==============================] - 0s 6ms/step - loss: 1.2910 - mean_absolute_error: 1.2910\n",
            "Epoch 94/100\n",
            "2/2 [==============================] - 0s 6ms/step - loss: 0.6706 - mean_absolute_error: 0.6706\n",
            "Epoch 95/100\n",
            "2/2 [==============================] - 0s 7ms/step - loss: 1.0821 - mean_absolute_error: 1.0821\n",
            "Epoch 96/100\n",
            "2/2 [==============================] - 0s 7ms/step - loss: 1.0053 - mean_absolute_error: 1.0053\n",
            "Epoch 97/100\n",
            "2/2 [==============================] - 0s 9ms/step - loss: 2.6556 - mean_absolute_error: 2.6556\n",
            "Epoch 98/100\n",
            "2/2 [==============================] - 0s 6ms/step - loss: 1.4956 - mean_absolute_error: 1.4956\n",
            "Epoch 99/100\n",
            "2/2 [==============================] - 0s 6ms/step - loss: 1.2667 - mean_absolute_error: 1.2667\n",
            "Epoch 100/100\n",
            "2/2 [==============================] - 0s 5ms/step - loss: 1.6978 - mean_absolute_error: 1.6978\n"
          ]
        },
        {
          "output_type": "execute_result",
          "data": {
            "text/plain": [
              "<keras.callbacks.History at 0x7f642aa4e940>"
            ]
          },
          "metadata": {},
          "execution_count": 132
        }
      ]
    },
    {
      "cell_type": "code",
      "source": [
        "y_pred_m2 = model.predict(X_test)\n",
        "\n",
        "plot_predictions(X_train, y_train, X_test, y_test, tf.squeeze(y_pred_m2))\n",
        "\n",
        "mae_m2 = tf.keras.metrics.mae(y_test, tf.squeeze(y_pred_m2))\n",
        "mse_m2 = tf.keras.metrics.mse(y_test, tf.squeeze(y_pred_m2))\n",
        "mae_m2 < mae, mae, mae_m2, mse_m2"
      ],
      "metadata": {
        "colab": {
          "base_uri": "https://localhost:8080/",
          "height": 555
        },
        "id": "gjBJagE67Nuz",
        "outputId": "372fdc26-e4b4-4c4d-c3a5-163757cafccb"
      },
      "execution_count": 133,
      "outputs": [
        {
          "output_type": "stream",
          "name": "stderr",
          "text": [
            "WARNING:tensorflow:5 out of the last 5 calls to <function Model.make_predict_function.<locals>.predict_function at 0x7f642aa16670> triggered tf.function retracing. Tracing is expensive and the excessive number of tracings could be due to (1) creating @tf.function repeatedly in a loop, (2) passing tensors with different shapes, (3) passing Python objects instead of tensors. For (1), please define your @tf.function outside of the loop. For (2), @tf.function has reduce_retracing=True option that can avoid unnecessary retracing. For (3), please refer to https://www.tensorflow.org/guide/function#controlling_retracing and https://www.tensorflow.org/api_docs/python/tf/function for  more details.\n"
          ]
        },
        {
          "output_type": "stream",
          "name": "stdout",
          "text": [
            "1/1 [==============================] - 0s 52ms/step\n"
          ]
        },
        {
          "output_type": "execute_result",
          "data": {
            "text/plain": [
              "(<tf.Tensor: shape=(), dtype=bool, numpy=False>,\n",
              " <tf.Tensor: shape=(), dtype=float32, numpy=0.3992157>,\n",
              " <tf.Tensor: shape=(), dtype=float32, numpy=1.1459099>,\n",
              " <tf.Tensor: shape=(), dtype=float32, numpy=1.3309793>)"
            ]
          },
          "metadata": {},
          "execution_count": 133
        },
        {
          "output_type": "display_data",
          "data": {
            "text/plain": [
              "<Figure size 720x504 with 1 Axes>"
            ],
            "image/png": "[encoded data removed]"
          },
          "metadata": {
            "needs_background": "light"
          }
        }
      ]
    },
    {
      "cell_type": "markdown",
      "source": [
        "# Build model_3\n",
        "\n",
        "1. model_3 - 3 layers, trained for 200 epochs\n"
      ],
      "metadata": {
        "id": "JBbbLz6q8Ig6"
      }
    },
    {
      "cell_type": "code",
      "source": [
        "tf.random.set_seed(10)\n",
        "\n",
        "model = tf.keras.Sequential(\n",
        "    [\n",
        "     tf.keras.layers.Dense(50, activation=None),\n",
        "     tf.keras.layers.Dense(50, activation=None),\n",
        "     tf.keras.layers.Dense(1)\n",
        "    ]\n",
        ")\n",
        "\n",
        "model.compile(\n",
        "    loss = tf.keras.losses.mae,\n",
        "    optimizer = tf.keras.optimizers.Adam(learning_rate=0.01),\n",
        "    metrics = [tf.keras.metrics.mae]\n",
        ")\n",
        "\n",
        "model.fit(\n",
        "    X, y, epochs=200\n",
        ")\n",
        "\n",
        "\n"
      ],
      "metadata": {
        "colab": {
          "base_uri": "https://localhost:8080/"
        },
        "id": "7NbWhtDP8d8N",
        "outputId": "ee6ae861-ec93-44de-af2d-b06f99943173"
      },
      "execution_count": 134,
      "outputs": [
        {
          "output_type": "stream",
          "name": "stdout",
          "text": [
            "Epoch 1/200\n",
            "2/2 [==============================] - 0s 9ms/step - loss: 47.4293 - mean_absolute_error: 47.4293\n",
            "Epoch 2/200\n",
            "2/2 [==============================] - 0s 8ms/step - loss: 30.9995 - mean_absolute_error: 30.9995\n",
            "Epoch 3/200\n",
            "2/2 [==============================] - 0s 9ms/step - loss: 21.7171 - mean_absolute_error: 21.7171\n",
            "Epoch 4/200\n",
            "2/2 [==============================] - 0s 6ms/step - loss: 13.2951 - mean_absolute_error: 13.2951\n",
            "Epoch 5/200\n",
            "2/2 [==============================] - 0s 6ms/step - loss: 19.0963 - mean_absolute_error: 19.0963\n",
            "Epoch 6/200\n",
            "2/2 [==============================] - 0s 6ms/step - loss: 11.1500 - mean_absolute_error: 11.1500\n",
            "Epoch 7/200\n",
            "2/2 [==============================] - 0s 7ms/step - loss: 11.1413 - mean_absolute_error: 11.1413\n",
            "Epoch 8/200\n",
            "2/2 [==============================] - 0s 6ms/step - loss: 11.6321 - mean_absolute_error: 11.6321\n",
            "Epoch 9/200\n",
            "2/2 [==============================] - 0s 6ms/step - loss: 7.5484 - mean_absolute_error: 7.5484\n",
            "Epoch 10/200\n",
            "2/2 [==============================] - 0s 7ms/step - loss: 10.0195 - mean_absolute_error: 10.0195\n",
            "Epoch 11/200\n",
            "2/2 [==============================] - 0s 5ms/step - loss: 9.2707 - mean_absolute_error: 9.2707\n",
            "Epoch 12/200\n",
            "2/2 [==============================] - 0s 6ms/step - loss: 7.8692 - mean_absolute_error: 7.8692\n",
            "Epoch 13/200\n",
            "2/2 [==============================] - 0s 7ms/step - loss: 8.8501 - mean_absolute_error: 8.8501\n",
            "Epoch 14/200\n",
            "2/2 [==============================] - 0s 7ms/step - loss: 6.9724 - mean_absolute_error: 6.9724\n",
            "Epoch 15/200\n",
            "2/2 [==============================] - 0s 6ms/step - loss: 6.1927 - mean_absolute_error: 6.1927\n",
            "Epoch 16/200\n",
            "2/2 [==============================] - 0s 6ms/step - loss: 7.5421 - mean_absolute_error: 7.5421\n",
            "Epoch 17/200\n",
            "2/2 [==============================] - 0s 6ms/step - loss: 5.9355 - mean_absolute_error: 5.9355\n",
            "Epoch 18/200\n",
            "2/2 [==============================] - 0s 6ms/step - loss: 5.7094 - mean_absolute_error: 5.7094\n",
            "Epoch 19/200\n",
            "2/2 [==============================] - 0s 6ms/step - loss: 6.8640 - mean_absolute_error: 6.8640\n",
            "Epoch 20/200\n",
            "2/2 [==============================] - 0s 6ms/step - loss: 5.1477 - mean_absolute_error: 5.1477\n",
            "Epoch 21/200\n",
            "2/2 [==============================] - 0s 6ms/step - loss: 4.9147 - mean_absolute_error: 4.9147\n",
            "Epoch 22/200\n",
            "2/2 [==============================] - 0s 6ms/step - loss: 4.2181 - mean_absolute_error: 4.2181\n",
            "Epoch 23/200\n",
            "2/2 [==============================] - 0s 6ms/step - loss: 3.8283 - mean_absolute_error: 3.8283\n",
            "Epoch 24/200\n",
            "2/2 [==============================] - 0s 6ms/step - loss: 3.4592 - mean_absolute_error: 3.4592\n",
            "Epoch 25/200\n",
            "2/2 [==============================] - 0s 6ms/step - loss: 2.7342 - mean_absolute_error: 2.7342\n",
            "Epoch 26/200\n",
            "2/2 [==============================] - 0s 6ms/step - loss: 2.0973 - mean_absolute_error: 2.0973\n",
            "Epoch 27/200\n",
            "2/2 [==============================] - 0s 6ms/step - loss: 1.6464 - mean_absolute_error: 1.6464\n",
            "Epoch 28/200\n",
            "2/2 [==============================] - 0s 6ms/step - loss: 1.3379 - mean_absolute_error: 1.3379\n",
            "Epoch 29/200\n",
            "2/2 [==============================] - 0s 6ms/step - loss: 1.0272 - mean_absolute_error: 1.0272\n",
            "Epoch 30/200\n",
            "2/2 [==============================] - 0s 6ms/step - loss: 0.9031 - mean_absolute_error: 0.9031\n",
            "Epoch 31/200\n",
            "2/2 [==============================] - 0s 6ms/step - loss: 1.4443 - mean_absolute_error: 1.4443\n",
            "Epoch 32/200\n",
            "2/2 [==============================] - 0s 7ms/step - loss: 1.2169 - mean_absolute_error: 1.2169\n",
            "Epoch 33/200\n",
            "2/2 [==============================] - 0s 6ms/step - loss: 0.8998 - mean_absolute_error: 0.8998\n",
            "Epoch 34/200\n",
            "2/2 [==============================] - 0s 6ms/step - loss: 0.3779 - mean_absolute_error: 0.3779\n",
            "Epoch 35/200\n",
            "2/2 [==============================] - 0s 6ms/step - loss: 1.2002 - mean_absolute_error: 1.2002\n",
            "Epoch 36/200\n",
            "2/2 [==============================] - 0s 7ms/step - loss: 0.7126 - mean_absolute_error: 0.7126\n",
            "Epoch 37/200\n",
            "2/2 [==============================] - 0s 10ms/step - loss: 1.0622 - mean_absolute_error: 1.0622\n",
            "Epoch 38/200\n",
            "2/2 [==============================] - 0s 6ms/step - loss: 1.1423 - mean_absolute_error: 1.1423\n",
            "Epoch 39/200\n",
            "2/2 [==============================] - 0s 6ms/step - loss: 1.0441 - mean_absolute_error: 1.0441\n",
            "Epoch 40/200\n",
            "2/2 [==============================] - 0s 6ms/step - loss: 1.5871 - mean_absolute_error: 1.5871\n",
            "Epoch 41/200\n",
            "2/2 [==============================] - 0s 8ms/step - loss: 1.7561 - mean_absolute_error: 1.7561\n",
            "Epoch 42/200\n",
            "2/2 [==============================] - 0s 7ms/step - loss: 3.1618 - mean_absolute_error: 3.1618\n",
            "Epoch 43/200\n",
            "2/2 [==============================] - 0s 7ms/step - loss: 0.7621 - mean_absolute_error: 0.7621\n",
            "Epoch 44/200\n",
            "2/2 [==============================] - 0s 12ms/step - loss: 1.5288 - mean_absolute_error: 1.5288\n",
            "Epoch 45/200\n",
            "2/2 [==============================] - 0s 8ms/step - loss: 2.9561 - mean_absolute_error: 2.9561\n",
            "Epoch 46/200\n",
            "2/2 [==============================] - 0s 7ms/step - loss: 2.1028 - mean_absolute_error: 2.1028\n",
            "Epoch 47/200\n",
            "2/2 [==============================] - 0s 7ms/step - loss: 6.1560 - mean_absolute_error: 6.1560\n",
            "Epoch 48/200\n",
            "2/2 [==============================] - 0s 10ms/step - loss: 2.1741 - mean_absolute_error: 2.1741\n",
            "Epoch 49/200\n",
            "2/2 [==============================] - 0s 8ms/step - loss: 11.2686 - mean_absolute_error: 11.2686\n",
            "Epoch 50/200\n",
            "2/2 [==============================] - 0s 9ms/step - loss: 9.4787 - mean_absolute_error: 9.4787\n",
            "Epoch 51/200\n",
            "2/2 [==============================] - 0s 9ms/step - loss: 3.2784 - mean_absolute_error: 3.2784\n",
            "Epoch 52/200\n",
            "2/2 [==============================] - 0s 7ms/step - loss: 11.0559 - mean_absolute_error: 11.0559\n",
            "Epoch 53/200\n",
            "2/2 [==============================] - 0s 7ms/step - loss: 8.0935 - mean_absolute_error: 8.0935\n",
            "Epoch 54/200\n",
            "2/2 [==============================] - 0s 7ms/step - loss: 2.9874 - mean_absolute_error: 2.9874\n",
            "Epoch 55/200\n",
            "2/2 [==============================] - 0s 6ms/step - loss: 5.0400 - mean_absolute_error: 5.0400\n",
            "Epoch 56/200\n",
            "2/2 [==============================] - 0s 7ms/step - loss: 1.5618 - mean_absolute_error: 1.5618\n",
            "Epoch 57/200\n",
            "2/2 [==============================] - 0s 5ms/step - loss: 2.6810 - mean_absolute_error: 2.6810\n",
            "Epoch 58/200\n",
            "2/2 [==============================] - 0s 6ms/step - loss: 2.3052 - mean_absolute_error: 2.3052\n",
            "Epoch 59/200\n",
            "2/2 [==============================] - 0s 6ms/step - loss: 1.2919 - mean_absolute_error: 1.2919\n",
            "Epoch 60/200\n",
            "2/2 [==============================] - 0s 6ms/step - loss: 1.0305 - mean_absolute_error: 1.0305\n",
            "Epoch 61/200\n",
            "2/2 [==============================] - 0s 6ms/step - loss: 0.9187 - mean_absolute_error: 0.9187\n",
            "Epoch 62/200\n",
            "2/2 [==============================] - 0s 7ms/step - loss: 2.3368 - mean_absolute_error: 2.3368\n",
            "Epoch 63/200\n",
            "2/2 [==============================] - 0s 7ms/step - loss: 1.5057 - mean_absolute_error: 1.5057\n",
            "Epoch 64/200\n",
            "2/2 [==============================] - 0s 6ms/step - loss: 3.2004 - mean_absolute_error: 3.2004\n",
            "Epoch 65/200\n",
            "2/2 [==============================] - 0s 6ms/step - loss: 0.8231 - mean_absolute_error: 0.8231\n",
            "Epoch 66/200\n",
            "2/2 [==============================] - 0s 7ms/step - loss: 0.2307 - mean_absolute_error: 0.2307\n",
            "Epoch 67/200\n",
            "2/2 [==============================] - 0s 6ms/step - loss: 0.6757 - mean_absolute_error: 0.6757\n",
            "Epoch 68/200\n",
            "2/2 [==============================] - 0s 9ms/step - loss: 1.0576 - mean_absolute_error: 1.0576\n",
            "Epoch 69/200\n",
            "2/2 [==============================] - 0s 6ms/step - loss: 1.2113 - mean_absolute_error: 1.2113\n",
            "Epoch 70/200\n",
            "2/2 [==============================] - 0s 7ms/step - loss: 2.9814 - mean_absolute_error: 2.9814\n",
            "Epoch 71/200\n",
            "2/2 [==============================] - 0s 5ms/step - loss: 1.6130 - mean_absolute_error: 1.6130\n",
            "Epoch 72/200\n",
            "2/2 [==============================] - 0s 5ms/step - loss: 1.3472 - mean_absolute_error: 1.3472\n",
            "Epoch 73/200\n",
            "2/2 [==============================] - 0s 6ms/step - loss: 2.3711 - mean_absolute_error: 2.3711\n",
            "Epoch 74/200\n",
            "2/2 [==============================] - 0s 5ms/step - loss: 1.5104 - mean_absolute_error: 1.5104\n",
            "Epoch 75/200\n",
            "2/2 [==============================] - 0s 6ms/step - loss: 3.9389 - mean_absolute_error: 3.9389\n",
            "Epoch 76/200\n",
            "2/2 [==============================] - 0s 7ms/step - loss: 1.7686 - mean_absolute_error: 1.7686\n",
            "Epoch 77/200\n",
            "2/2 [==============================] - 0s 7ms/step - loss: 2.3078 - mean_absolute_error: 2.3078\n",
            "Epoch 78/200\n",
            "2/2 [==============================] - 0s 6ms/step - loss: 1.2252 - mean_absolute_error: 1.2252\n",
            "Epoch 79/200\n",
            "2/2 [==============================] - 0s 6ms/step - loss: 1.1532 - mean_absolute_error: 1.1532\n",
            "Epoch 80/200\n",
            "2/2 [==============================] - 0s 6ms/step - loss: 2.5972 - mean_absolute_error: 2.5972\n",
            "Epoch 81/200\n",
            "2/2 [==============================] - 0s 6ms/step - loss: 1.4983 - mean_absolute_error: 1.4983\n",
            "Epoch 82/200\n",
            "2/2 [==============================] - 0s 6ms/step - loss: 1.2541 - mean_absolute_error: 1.2541\n",
            "Epoch 83/200\n",
            "2/2 [==============================] - 0s 7ms/step - loss: 2.1032 - mean_absolute_error: 2.1032\n",
            "Epoch 84/200\n",
            "2/2 [==============================] - 0s 9ms/step - loss: 1.7893 - mean_absolute_error: 1.7893\n",
            "Epoch 85/200\n",
            "2/2 [==============================] - 0s 6ms/step - loss: 1.3754 - mean_absolute_error: 1.3754\n",
            "Epoch 86/200\n",
            "2/2 [==============================] - 0s 7ms/step - loss: 2.8197 - mean_absolute_error: 2.8197\n",
            "Epoch 87/200\n",
            "2/2 [==============================] - 0s 7ms/step - loss: 0.9886 - mean_absolute_error: 0.9886\n",
            "Epoch 88/200\n",
            "2/2 [==============================] - 0s 6ms/step - loss: 2.5122 - mean_absolute_error: 2.5122\n",
            "Epoch 89/200\n",
            "2/2 [==============================] - 0s 7ms/step - loss: 1.1842 - mean_absolute_error: 1.1842\n",
            "Epoch 90/200\n",
            "2/2 [==============================] - 0s 7ms/step - loss: 1.1018 - mean_absolute_error: 1.1018\n",
            "Epoch 91/200\n",
            "2/2 [==============================] - 0s 5ms/step - loss: 1.1581 - mean_absolute_error: 1.1581\n",
            "Epoch 92/200\n",
            "2/2 [==============================] - 0s 5ms/step - loss: 1.1712 - mean_absolute_error: 1.1712\n",
            "Epoch 93/200\n",
            "2/2 [==============================] - 0s 8ms/step - loss: 1.2910 - mean_absolute_error: 1.2910\n",
            "Epoch 94/200\n",
            "2/2 [==============================] - 0s 7ms/step - loss: 0.6706 - mean_absolute_error: 0.6706\n",
            "Epoch 95/200\n",
            "2/2 [==============================] - 0s 6ms/step - loss: 1.0821 - mean_absolute_error: 1.0821\n",
            "Epoch 96/200\n",
            "2/2 [==============================] - 0s 5ms/step - loss: 1.0053 - mean_absolute_error: 1.0053\n",
            "Epoch 97/200\n",
            "2/2 [==============================] - 0s 5ms/step - loss: 2.6556 - mean_absolute_error: 2.6556\n",
            "Epoch 98/200\n",
            "2/2 [==============================] - 0s 6ms/step - loss: 1.4956 - mean_absolute_error: 1.4956\n",
            "Epoch 99/200\n",
            "2/2 [==============================] - 0s 6ms/step - loss: 1.2667 - mean_absolute_error: 1.2667\n",
            "Epoch 100/200\n",
            "2/2 [==============================] - 0s 6ms/step - loss: 1.6978 - mean_absolute_error: 1.6978\n",
            "Epoch 101/200\n",
            "2/2 [==============================] - 0s 6ms/step - loss: 1.1340 - mean_absolute_error: 1.1340\n",
            "Epoch 102/200\n",
            "2/2 [==============================] - 0s 6ms/step - loss: 1.7973 - mean_absolute_error: 1.7973\n",
            "Epoch 103/200\n",
            "2/2 [==============================] - 0s 6ms/step - loss: 2.0981 - mean_absolute_error: 2.0981\n",
            "Epoch 104/200\n",
            "2/2 [==============================] - 0s 5ms/step - loss: 1.4877 - mean_absolute_error: 1.4877\n",
            "Epoch 105/200\n",
            "2/2 [==============================] - 0s 5ms/step - loss: 1.7761 - mean_absolute_error: 1.7761\n",
            "Epoch 106/200\n",
            "2/2 [==============================] - 0s 7ms/step - loss: 1.0156 - mean_absolute_error: 1.0156\n",
            "Epoch 107/200\n",
            "2/2 [==============================] - 0s 7ms/step - loss: 0.1080 - mean_absolute_error: 0.1080\n",
            "Epoch 108/200\n",
            "2/2 [==============================] - 0s 7ms/step - loss: 0.5653 - mean_absolute_error: 0.5653\n",
            "Epoch 109/200\n",
            "2/2 [==============================] - 0s 7ms/step - loss: 0.9417 - mean_absolute_error: 0.9417\n",
            "Epoch 110/200\n",
            "2/2 [==============================] - 0s 7ms/step - loss: 0.6577 - mean_absolute_error: 0.6577\n",
            "Epoch 111/200\n",
            "2/2 [==============================] - 0s 10ms/step - loss: 0.3894 - mean_absolute_error: 0.3894\n",
            "Epoch 112/200\n",
            "2/2 [==============================] - 0s 6ms/step - loss: 0.5791 - mean_absolute_error: 0.5791\n",
            "Epoch 113/200\n",
            "2/2 [==============================] - 0s 8ms/step - loss: 0.4538 - mean_absolute_error: 0.4538\n",
            "Epoch 114/200\n",
            "2/2 [==============================] - 0s 6ms/step - loss: 0.5221 - mean_absolute_error: 0.5221\n",
            "Epoch 115/200\n",
            "2/2 [==============================] - 0s 5ms/step - loss: 0.4744 - mean_absolute_error: 0.4744\n",
            "Epoch 116/200\n",
            "2/2 [==============================] - 0s 9ms/step - loss: 0.7133 - mean_absolute_error: 0.7133\n",
            "Epoch 117/200\n",
            "2/2 [==============================] - 0s 8ms/step - loss: 0.8645 - mean_absolute_error: 0.8645\n",
            "Epoch 118/200\n",
            "2/2 [==============================] - 0s 7ms/step - loss: 1.0430 - mean_absolute_error: 1.0430\n",
            "Epoch 119/200\n",
            "2/2 [==============================] - 0s 6ms/step - loss: 0.5577 - mean_absolute_error: 0.5577\n",
            "Epoch 120/200\n",
            "2/2 [==============================] - 0s 6ms/step - loss: 0.9330 - mean_absolute_error: 0.9330\n",
            "Epoch 121/200\n",
            "2/2 [==============================] - 0s 6ms/step - loss: 0.8684 - mean_absolute_error: 0.8684\n",
            "Epoch 122/200\n",
            "2/2 [==============================] - 0s 8ms/step - loss: 0.8465 - mean_absolute_error: 0.8465\n",
            "Epoch 123/200\n",
            "2/2 [==============================] - 0s 8ms/step - loss: 1.8455 - mean_absolute_error: 1.8455\n",
            "Epoch 124/200\n",
            "2/2 [==============================] - 0s 6ms/step - loss: 1.1900 - mean_absolute_error: 1.1900\n",
            "Epoch 125/200\n",
            "2/2 [==============================] - 0s 6ms/step - loss: 2.2689 - mean_absolute_error: 2.2689\n",
            "Epoch 126/200\n",
            "2/2 [==============================] - 0s 7ms/step - loss: 0.7987 - mean_absolute_error: 0.7987\n",
            "Epoch 127/200\n",
            "2/2 [==============================] - 0s 6ms/step - loss: 0.9262 - mean_absolute_error: 0.9262\n",
            "Epoch 128/200\n",
            "2/2 [==============================] - 0s 6ms/step - loss: 2.6084 - mean_absolute_error: 2.6084\n",
            "Epoch 129/200\n",
            "2/2 [==============================] - 0s 6ms/step - loss: 1.0200 - mean_absolute_error: 1.0200\n",
            "Epoch 130/200\n",
            "2/2 [==============================] - 0s 5ms/step - loss: 1.0131 - mean_absolute_error: 1.0131\n",
            "Epoch 131/200\n",
            "2/2 [==============================] - 0s 5ms/step - loss: 1.1174 - mean_absolute_error: 1.1174\n",
            "Epoch 132/200\n",
            "2/2 [==============================] - 0s 6ms/step - loss: 2.7762 - mean_absolute_error: 2.7762\n",
            "Epoch 133/200\n",
            "2/2 [==============================] - 0s 6ms/step - loss: 2.0945 - mean_absolute_error: 2.0945\n",
            "Epoch 134/200\n",
            "2/2 [==============================] - 0s 6ms/step - loss: 3.0319 - mean_absolute_error: 3.0319\n",
            "Epoch 135/200\n",
            "2/2 [==============================] - 0s 6ms/step - loss: 3.0213 - mean_absolute_error: 3.0213\n",
            "Epoch 136/200\n",
            "2/2 [==============================] - 0s 6ms/step - loss: 1.9198 - mean_absolute_error: 1.9198\n",
            "Epoch 137/200\n",
            "2/2 [==============================] - 0s 6ms/step - loss: 1.9610 - mean_absolute_error: 1.9610\n",
            "Epoch 138/200\n",
            "2/2 [==============================] - 0s 6ms/step - loss: 2.4497 - mean_absolute_error: 2.4497\n",
            "Epoch 139/200\n",
            "2/2 [==============================] - 0s 6ms/step - loss: 1.8033 - mean_absolute_error: 1.8033\n",
            "Epoch 140/200\n",
            "2/2 [==============================] - 0s 6ms/step - loss: 3.1874 - mean_absolute_error: 3.1874\n",
            "Epoch 141/200\n",
            "2/2 [==============================] - 0s 5ms/step - loss: 3.6645 - mean_absolute_error: 3.6645\n",
            "Epoch 142/200\n",
            "2/2 [==============================] - 0s 6ms/step - loss: 1.3740 - mean_absolute_error: 1.3740\n",
            "Epoch 143/200\n",
            "2/2 [==============================] - 0s 6ms/step - loss: 5.9016 - mean_absolute_error: 5.9016\n",
            "Epoch 144/200\n",
            "2/2 [==============================] - 0s 6ms/step - loss: 3.8414 - mean_absolute_error: 3.8414\n",
            "Epoch 145/200\n",
            "2/2 [==============================] - 0s 6ms/step - loss: 2.4885 - mean_absolute_error: 2.4885\n",
            "Epoch 146/200\n",
            "2/2 [==============================] - 0s 6ms/step - loss: 3.7182 - mean_absolute_error: 3.7182\n",
            "Epoch 147/200\n",
            "2/2 [==============================] - 0s 6ms/step - loss: 1.4833 - mean_absolute_error: 1.4833\n",
            "Epoch 148/200\n",
            "2/2 [==============================] - 0s 7ms/step - loss: 4.5283 - mean_absolute_error: 4.5283\n",
            "Epoch 149/200\n",
            "2/2 [==============================] - 0s 5ms/step - loss: 2.2066 - mean_absolute_error: 2.2066\n",
            "Epoch 150/200\n",
            "2/2 [==============================] - 0s 6ms/step - loss: 3.9502 - mean_absolute_error: 3.9502\n",
            "Epoch 151/200\n",
            "2/2 [==============================] - 0s 6ms/step - loss: 5.4030 - mean_absolute_error: 5.4030\n",
            "Epoch 152/200\n",
            "2/2 [==============================] - 0s 6ms/step - loss: 1.9639 - mean_absolute_error: 1.9639\n",
            "Epoch 153/200\n",
            "2/2 [==============================] - 0s 6ms/step - loss: 2.9096 - mean_absolute_error: 2.9096\n",
            "Epoch 154/200\n",
            "2/2 [==============================] - 0s 10ms/step - loss: 1.6921 - mean_absolute_error: 1.6921\n",
            "Epoch 155/200\n",
            "2/2 [==============================] - 0s 7ms/step - loss: 3.5489 - mean_absolute_error: 3.5489\n",
            "Epoch 156/200\n",
            "2/2 [==============================] - 0s 7ms/step - loss: 4.2558 - mean_absolute_error: 4.2558\n",
            "Epoch 157/200\n",
            "2/2 [==============================] - 0s 7ms/step - loss: 1.6470 - mean_absolute_error: 1.6470\n",
            "Epoch 158/200\n",
            "2/2 [==============================] - 0s 7ms/step - loss: 5.1268 - mean_absolute_error: 5.1268\n",
            "Epoch 159/200\n",
            "2/2 [==============================] - 0s 7ms/step - loss: 2.5362 - mean_absolute_error: 2.5362\n",
            "Epoch 160/200\n",
            "2/2 [==============================] - 0s 9ms/step - loss: 3.6572 - mean_absolute_error: 3.6572\n",
            "Epoch 161/200\n",
            "2/2 [==============================] - 0s 7ms/step - loss: 4.7833 - mean_absolute_error: 4.7833\n",
            "Epoch 162/200\n",
            "2/2 [==============================] - 0s 6ms/step - loss: 1.8998 - mean_absolute_error: 1.8998\n",
            "Epoch 163/200\n",
            "2/2 [==============================] - 0s 7ms/step - loss: 4.8999 - mean_absolute_error: 4.8999\n",
            "Epoch 164/200\n",
            "2/2 [==============================] - 0s 6ms/step - loss: 2.0768 - mean_absolute_error: 2.0768\n",
            "Epoch 165/200\n",
            "2/2 [==============================] - 0s 8ms/step - loss: 2.0070 - mean_absolute_error: 2.0070\n",
            "Epoch 166/200\n",
            "2/2 [==============================] - 0s 7ms/step - loss: 1.1408 - mean_absolute_error: 1.1408\n",
            "Epoch 167/200\n",
            "2/2 [==============================] - 0s 5ms/step - loss: 3.4530 - mean_absolute_error: 3.4530\n",
            "Epoch 168/200\n",
            "2/2 [==============================] - 0s 10ms/step - loss: 1.4122 - mean_absolute_error: 1.4122\n",
            "Epoch 169/200\n",
            "2/2 [==============================] - 0s 8ms/step - loss: 3.0330 - mean_absolute_error: 3.0330\n",
            "Epoch 170/200\n",
            "2/2 [==============================] - 0s 8ms/step - loss: 1.3034 - mean_absolute_error: 1.3034\n",
            "Epoch 171/200\n",
            "2/2 [==============================] - 0s 10ms/step - loss: 1.6512 - mean_absolute_error: 1.6512\n",
            "Epoch 172/200\n",
            "2/2 [==============================] - 0s 8ms/step - loss: 0.7210 - mean_absolute_error: 0.7210\n",
            "Epoch 173/200\n",
            "2/2 [==============================] - 0s 7ms/step - loss: 0.5124 - mean_absolute_error: 0.5124\n",
            "Epoch 174/200\n",
            "2/2 [==============================] - 0s 8ms/step - loss: 0.7525 - mean_absolute_error: 0.7525\n",
            "Epoch 175/200\n",
            "2/2 [==============================] - 0s 7ms/step - loss: 0.7622 - mean_absolute_error: 0.7622\n",
            "Epoch 176/200\n",
            "2/2 [==============================] - 0s 6ms/step - loss: 0.5367 - mean_absolute_error: 0.5367\n",
            "Epoch 177/200\n",
            "2/2 [==============================] - 0s 7ms/step - loss: 0.5837 - mean_absolute_error: 0.5837\n",
            "Epoch 178/200\n",
            "2/2 [==============================] - 0s 7ms/step - loss: 0.7999 - mean_absolute_error: 0.7999\n",
            "Epoch 179/200\n",
            "2/2 [==============================] - 0s 6ms/step - loss: 0.6067 - mean_absolute_error: 0.6067\n",
            "Epoch 180/200\n",
            "2/2 [==============================] - 0s 7ms/step - loss: 0.8576 - mean_absolute_error: 0.8576\n",
            "Epoch 181/200\n",
            "2/2 [==============================] - 0s 6ms/step - loss: 1.0406 - mean_absolute_error: 1.0406\n",
            "Epoch 182/200\n",
            "2/2 [==============================] - 0s 6ms/step - loss: 0.8748 - mean_absolute_error: 0.8748\n",
            "Epoch 183/200\n",
            "2/2 [==============================] - 0s 5ms/step - loss: 1.9873 - mean_absolute_error: 1.9873\n",
            "Epoch 184/200\n",
            "2/2 [==============================] - 0s 5ms/step - loss: 0.9677 - mean_absolute_error: 0.9677\n",
            "Epoch 185/200\n",
            "2/2 [==============================] - 0s 5ms/step - loss: 0.9482 - mean_absolute_error: 0.9482\n",
            "Epoch 186/200\n",
            "2/2 [==============================] - 0s 5ms/step - loss: 0.7122 - mean_absolute_error: 0.7122\n",
            "Epoch 187/200\n",
            "2/2 [==============================] - 0s 8ms/step - loss: 2.1808 - mean_absolute_error: 2.1808\n",
            "Epoch 188/200\n",
            "2/2 [==============================] - 0s 7ms/step - loss: 1.2087 - mean_absolute_error: 1.2087\n",
            "Epoch 189/200\n",
            "2/2 [==============================] - 0s 5ms/step - loss: 0.4399 - mean_absolute_error: 0.4399\n",
            "Epoch 190/200\n",
            "2/2 [==============================] - 0s 5ms/step - loss: 0.4306 - mean_absolute_error: 0.4306\n",
            "Epoch 191/200\n",
            "2/2 [==============================] - 0s 5ms/step - loss: 0.4444 - mean_absolute_error: 0.4444\n",
            "Epoch 192/200\n",
            "2/2 [==============================] - 0s 6ms/step - loss: 1.8871 - mean_absolute_error: 1.8871\n",
            "Epoch 193/200\n",
            "2/2 [==============================] - 0s 6ms/step - loss: 1.1127 - mean_absolute_error: 1.1127\n",
            "Epoch 194/200\n",
            "2/2 [==============================] - 0s 6ms/step - loss: 1.8808 - mean_absolute_error: 1.8808\n",
            "Epoch 195/200\n",
            "2/2 [==============================] - 0s 6ms/step - loss: 1.0846 - mean_absolute_error: 1.0846\n",
            "Epoch 196/200\n",
            "2/2 [==============================] - 0s 5ms/step - loss: 3.4150 - mean_absolute_error: 3.4150\n",
            "Epoch 197/200\n",
            "2/2 [==============================] - 0s 5ms/step - loss: 1.4447 - mean_absolute_error: 1.4447\n",
            "Epoch 198/200\n",
            "2/2 [==============================] - 0s 6ms/step - loss: 3.2386 - mean_absolute_error: 3.2386\n",
            "Epoch 199/200\n",
            "2/2 [==============================] - 0s 6ms/step - loss: 1.8354 - mean_absolute_error: 1.8354\n",
            "Epoch 200/200\n",
            "2/2 [==============================] - 0s 7ms/step - loss: 2.9280 - mean_absolute_error: 2.9280\n"
          ]
        },
        {
          "output_type": "execute_result",
          "data": {
            "text/plain": [
              "<keras.callbacks.History at 0x7f642a8d6250>"
            ]
          },
          "metadata": {},
          "execution_count": 134
        }
      ]
    },
    {
      "cell_type": "code",
      "source": [
        "y_pred_m3 = model.predict(X_test)\n",
        "\n",
        "plot_predictions(X_train, y_train, X_test, y_test, tf.squeeze(y_pred_m3))\n",
        "\n",
        "mae_m3 = tf.keras.metrics.mae(y_test, tf.squeeze(y_pred_m3))\n",
        "mse_m3 = tf.keras.metrics.mse(y_test, tf.squeeze(y_pred_m3))\n",
        "mae_m3 < mae, mae, mae_m3, mse_m3"
      ],
      "metadata": {
        "colab": {
          "base_uri": "https://localhost:8080/",
          "height": 555
        },
        "id": "bKKZRQg38ghh",
        "outputId": "89a4f2fc-c8d9-457c-96ef-7abd83c9f53b"
      },
      "execution_count": 135,
      "outputs": [
        {
          "output_type": "stream",
          "name": "stderr",
          "text": [
            "WARNING:tensorflow:6 out of the last 6 calls to <function Model.make_predict_function.<locals>.predict_function at 0x7f642a8a5550> triggered tf.function retracing. Tracing is expensive and the excessive number of tracings could be due to (1) creating @tf.function repeatedly in a loop, (2) passing tensors with different shapes, (3) passing Python objects instead of tensors. For (1), please define your @tf.function outside of the loop. For (2), @tf.function has reduce_retracing=True option that can avoid unnecessary retracing. For (3), please refer to https://www.tensorflow.org/guide/function#controlling_retracing and https://www.tensorflow.org/api_docs/python/tf/function for  more details.\n"
          ]
        },
        {
          "output_type": "stream",
          "name": "stdout",
          "text": [
            "1/1 [==============================] - 0s 55ms/step\n"
          ]
        },
        {
          "output_type": "execute_result",
          "data": {
            "text/plain": [
              "(<tf.Tensor: shape=(), dtype=bool, numpy=False>,\n",
              " <tf.Tensor: shape=(), dtype=float32, numpy=0.3992157>,\n",
              " <tf.Tensor: shape=(), dtype=float32, numpy=6.262082>,\n",
              " <tf.Tensor: shape=(), dtype=float32, numpy=39.998737>)"
            ]
          },
          "metadata": {},
          "execution_count": 135
        },
        {
          "output_type": "display_data",
          "data": {
            "text/plain": [
              "<Figure size 720x504 with 1 Axes>"
            ],
            "image/png": "[encoded data removed]"
          },
          "metadata": {
            "needs_background": "light"
          }
        }
      ]
    },
    {
      "cell_type": "markdown",
      "source": [
        "## Comparing the results of our experiments"
      ],
      "metadata": {
        "id": "NAkBdVyZ8m1F"
      }
    },
    {
      "cell_type": "code",
      "source": [
        "mae.numpy()"
      ],
      "metadata": {
        "colab": {
          "base_uri": "https://localhost:8080/"
        },
        "id": "TlegHpe_9A6v",
        "outputId": "d129c9f1-7d17-43cd-d421-d0c7a15198da"
      },
      "execution_count": 136,
      "outputs": [
        {
          "output_type": "execute_result",
          "data": {
            "text/plain": [
              "0.3992157"
            ]
          },
          "metadata": {},
          "execution_count": 136
        }
      ]
    },
    {
      "cell_type": "code",
      "source": [
        "import pandas as pd\n",
        "\n",
        "model_results = [[\"model_1\", mae_m1.numpy(), mse_m1.numpy()], [\"model_2\", mae_m2.numpy(), mse_m2.numpy()], [\"model_3\", mae_m3.numpy(), mse_m3.numpy()]]\n",
        "\n",
        "all_results = pd.DataFrame(model_results, columns=[\"model\", \"mae\", \"mse\"])\n",
        "\n",
        "all_results"
      ],
      "metadata": {
        "colab": {
          "base_uri": "https://localhost:8080/",
          "height": 143
        },
        "id": "D_ZTNr1v8z_9",
        "outputId": "3d225630-3eaa-4d7b-a56f-96254ea637c3"
      },
      "execution_count": 137,
      "outputs": [
        {
          "output_type": "execute_result",
          "data": {
            "text/plain": [
              "     model       mae        mse\n",
              "0  model_1  3.291934  11.072354\n",
              "1  model_2  1.145910   1.330979\n",
              "2  model_3  6.262082  39.998737"
            ],
            "text/html": [
              "\n",
              "  <div id=\"df-3b504557-03ae-4353-8051-264e38a7df7a\">\n",
              "    <div class=\"colab-df-container\">\n",
              "      <div>\n",
              "<style scoped>\n",
              "    .dataframe tbody tr th:only-of-type {\n",
              "        vertical-align: middle;\n",
              "    }\n",
              "\n",
              "    .dataframe tbody tr th {\n",
              "        vertical-align: top;\n",
              "    }\n",
              "\n",
              "    .dataframe thead th {\n",
              "        text-align: right;\n",
              "    }\n",
              "</style>\n",
              "<table border=\"1\" class=\"dataframe\">\n",
              "  <thead>\n",
              "    <tr style=\"text-align: right;\">\n",
              "      <th></th>\n",
              "      <th>model</th>\n",
              "      <th>mae</th>\n",
              "      <th>mse</th>\n",
              "    </tr>\n",
              "  </thead>\n",
              "  <tbody>\n",
              "    <tr>\n",
              "      <th>0</th>\n",
              "      <td>model_1</td>\n",
              "      <td>3.291934</td>\n",
              "      <td>11.072354</td>\n",
              "    </tr>\n",
              "    <tr>\n",
              "      <th>1</th>\n",
              "      <td>model_2</td>\n",
              "      <td>1.145910</td>\n",
              "      <td>1.330979</td>\n",
              "    </tr>\n",
              "    <tr>\n",
              "      <th>2</th>\n",
              "      <td>model_3</td>\n",
              "      <td>6.262082</td>\n",
              "      <td>39.998737</td>\n",
              "    </tr>\n",
              "  </tbody>\n",
              "</table>\n",
              "</div>\n",
              "      <button class=\"colab-df-convert\" onclick=\"convertToInteractive('df-3b504557-03ae-4353-8051-264e38a7df7a')\"\n",
              "              title=\"Convert this dataframe to an interactive table.\"\n",
              "              style=\"display:none;\">\n",
              "        \n",
              "  <svg xmlns=\"http://www.w3.org/2000/svg\" height=\"24px\"viewBox=\"0 0 24 24\"\n",
              "       width=\"24px\">\n",
              "    <path d=\"M0 0h24v24H0V0z\" fill=\"none\"/>\n",
              "    <path d=\"M18.56 5.44l.94 2.06.94-2.06 2.06-.94-2.06-.94-.94-2.06-.94 2.06-2.06.94zm-11 1L8.5 8.5l.94-2.06 2.06-.94-2.06-.94L8.5 2.5l-.94 2.06-2.06.94zm10 10l.94 2.06.94-2.06 2.06-.94-2.06-.94-.94-2.06-.94 2.06-2.06.94z\"/><path d=\"M17.41 7.96l-1.37-1.37c-.4-.4-.92-.59-1.43-.59-.52 0-1.04.2-1.43.59L10.3 9.45l-7.72 7.72c-.78.78-.78 2.05 0 2.83L4 21.41c.39.39.9.59 1.41.59.51 0 1.02-.2 1.41-.59l7.78-7.78 2.81-2.81c.8-.78.8-2.07 0-2.86zM5.41 20L4 18.59l7.72-7.72 1.47 1.35L5.41 20z\"/>\n",
              "  </svg>\n",
              "      </button>\n",
              "      \n",
              "  <style>\n",
              "    .colab-df-container {\n",
              "      display:flex;\n",
              "      flex-wrap:wrap;\n",
              "      gap: 12px;\n",
              "    }\n",
              "\n",
              "    .colab-df-convert {\n",
              "      background-color: #E8F0FE;\n",
              "      border: none;\n",
              "      border-radius: 50%;\n",
              "      cursor: pointer;\n",
              "      display: none;\n",
              "      fill: #1967D2;\n",
              "      height: 32px;\n",
              "      padding: 0 0 0 0;\n",
              "      width: 32px;\n",
              "    }\n",
              "\n",
              "    .colab-df-convert:hover {\n",
              "      background-color: #E2EBFA;\n",
              "      box-shadow: 0px 1px 2px rgba(60, 64, 67, 0.3), 0px 1px 3px 1px rgba(60, 64, 67, 0.15);\n",
              "      fill: #174EA6;\n",
              "    }\n",
              "\n",
              "    [theme=dark] .colab-df-convert {\n",
              "      background-color: #3B4455;\n",
              "      fill: #D2E3FC;\n",
              "    }\n",
              "\n",
              "    [theme=dark] .colab-df-convert:hover {\n",
              "      background-color: #434B5C;\n",
              "      box-shadow: 0px 1px 3px 1px rgba(0, 0, 0, 0.15);\n",
              "      filter: drop-shadow(0px 1px 2px rgba(0, 0, 0, 0.3));\n",
              "      fill: #FFFFFF;\n",
              "    }\n",
              "  </style>\n",
              "\n",
              "      <script>\n",
              "        const buttonEl =\n",
              "          document.querySelector('#df-3b504557-03ae-4353-8051-264e38a7df7a button.colab-df-convert');\n",
              "        buttonEl.style.display =\n",
              "          google.colab.kernel.accessAllowed ? 'block' : 'none';\n",
              "\n",
              "        async function convertToInteractive(key) {\n",
              "          const element = document.querySelector('#df-3b504557-03ae-4353-8051-264e38a7df7a');\n",
              "          const dataTable =\n",
              "            await google.colab.kernel.invokeFunction('convertToInteractive',\n",
              "                                                     [key], {});\n",
              "          if (!dataTable) return;\n",
              "\n",
              "          const docLinkHtml = 'Like what you see? Visit the ' +\n",
              "            '<a target=\"_blank\" href=https://colab.research.google.com/notebooks/data_table.ipynb>data table notebook</a>'\n",
              "            + ' to learn more about interactive tables.';\n",
              "          element.innerHTML = '';\n",
              "          dataTable['output_type'] = 'display_data';\n",
              "          await google.colab.output.renderOutput(dataTable, element);\n",
              "          const docLink = document.createElement('div');\n",
              "          docLink.innerHTML = docLinkHtml;\n",
              "          element.appendChild(docLink);\n",
              "        }\n",
              "      </script>\n",
              "    </div>\n",
              "  </div>\n",
              "  "
            ]
          },
          "metadata": {},
          "execution_count": 137
        }
      ]
    },
    {
      "cell_type": "markdown",
      "source": [
        "## Tracking experiments"
      ],
      "metadata": {
        "id": "ScPWSj9LDvVG"
      }
    },
    {
      "cell_type": "markdown",
      "source": [
        "## Saving our models"
      ],
      "metadata": {
        "id": "Wf0Ovu8-D_94"
      }
    },
    {
      "cell_type": "code",
      "source": [
        "tf.random.set_seed(10)\n",
        "\n",
        "model2 = tf.keras.Sequential(\n",
        "    [\n",
        "     tf.keras.layers.Dense(50, activation=None),\n",
        "     tf.keras.layers.Dense(50, activation=None),\n",
        "     tf.keras.layers.Dense(1)\n",
        "    ]\n",
        ")\n",
        "\n",
        "model2.compile(\n",
        "    loss = tf.keras.losses.mae,\n",
        "    optimizer = tf.keras.optimizers.Adam(learning_rate=0.01),\n",
        "    metrics = [tf.keras.metrics.mae]\n",
        ")\n",
        "\n",
        "model2.fit(\n",
        "    X, y, epochs=100\n",
        ")\n"
      ],
      "metadata": {
        "colab": {
          "base_uri": "https://localhost:8080/"
        },
        "id": "fSJY4dliENhe",
        "outputId": "a89cad69-c115-4513-cfd0-03e7c3522161"
      },
      "execution_count": 138,
      "outputs": [
        {
          "output_type": "stream",
          "name": "stdout",
          "text": [
            "Epoch 1/100\n",
            "2/2 [==============================] - 0s 8ms/step - loss: 47.4293 - mean_absolute_error: 47.4293\n",
            "Epoch 2/100\n",
            "2/2 [==============================] - 0s 7ms/step - loss: 30.9995 - mean_absolute_error: 30.9995\n",
            "Epoch 3/100\n",
            "2/2 [==============================] - 0s 8ms/step - loss: 21.7171 - mean_absolute_error: 21.7171\n",
            "Epoch 4/100\n",
            "2/2 [==============================] - 0s 6ms/step - loss: 13.2951 - mean_absolute_error: 13.2951\n",
            "Epoch 5/100\n",
            "2/2 [==============================] - 0s 6ms/step - loss: 19.0963 - mean_absolute_error: 19.0963\n",
            "Epoch 6/100\n",
            "2/2 [==============================] - 0s 6ms/step - loss: 11.1500 - mean_absolute_error: 11.1500\n",
            "Epoch 7/100\n",
            "2/2 [==============================] - 0s 7ms/step - loss: 11.1413 - mean_absolute_error: 11.1413\n",
            "Epoch 8/100\n",
            "2/2 [==============================] - 0s 7ms/step - loss: 11.6321 - mean_absolute_error: 11.6321\n",
            "Epoch 9/100\n",
            "2/2 [==============================] - 0s 6ms/step - loss: 7.5484 - mean_absolute_error: 7.5484\n",
            "Epoch 10/100\n",
            "2/2 [==============================] - 0s 7ms/step - loss: 10.0195 - mean_absolute_error: 10.0195\n",
            "Epoch 11/100\n",
            "2/2 [==============================] - 0s 5ms/step - loss: 9.2707 - mean_absolute_error: 9.2707\n",
            "Epoch 12/100\n",
            "2/2 [==============================] - 0s 6ms/step - loss: 7.8692 - mean_absolute_error: 7.8692\n",
            "Epoch 13/100\n",
            "2/2 [==============================] - 0s 5ms/step - loss: 8.8501 - mean_absolute_error: 8.8501\n",
            "Epoch 14/100\n",
            "2/2 [==============================] - 0s 5ms/step - loss: 6.9724 - mean_absolute_error: 6.9724\n",
            "Epoch 15/100\n",
            "2/2 [==============================] - 0s 6ms/step - loss: 6.1927 - mean_absolute_error: 6.1927\n",
            "Epoch 16/100\n",
            "2/2 [==============================] - 0s 5ms/step - loss: 7.5421 - mean_absolute_error: 7.5421\n",
            "Epoch 17/100\n",
            "2/2 [==============================] - 0s 5ms/step - loss: 5.9355 - mean_absolute_error: 5.9355\n",
            "Epoch 18/100\n",
            "2/2 [==============================] - 0s 7ms/step - loss: 5.7094 - mean_absolute_error: 5.7094\n",
            "Epoch 19/100\n",
            "2/2 [==============================] - 0s 6ms/step - loss: 6.8640 - mean_absolute_error: 6.8640\n",
            "Epoch 20/100\n",
            "2/2 [==============================] - 0s 7ms/step - loss: 5.1477 - mean_absolute_error: 5.1477\n",
            "Epoch 21/100\n",
            "2/2 [==============================] - 0s 7ms/step - loss: 4.9147 - mean_absolute_error: 4.9147\n",
            "Epoch 22/100\n",
            "2/2 [==============================] - 0s 6ms/step - loss: 4.2181 - mean_absolute_error: 4.2181\n",
            "Epoch 23/100\n",
            "2/2 [==============================] - 0s 7ms/step - loss: 3.8283 - mean_absolute_error: 3.8283\n",
            "Epoch 24/100\n",
            "2/2 [==============================] - 0s 6ms/step - loss: 3.4592 - mean_absolute_error: 3.4592\n",
            "Epoch 25/100\n",
            "2/2 [==============================] - 0s 7ms/step - loss: 2.7342 - mean_absolute_error: 2.7342\n",
            "Epoch 26/100\n",
            "2/2 [==============================] - 0s 6ms/step - loss: 2.0973 - mean_absolute_error: 2.0973\n",
            "Epoch 27/100\n",
            "2/2 [==============================] - 0s 6ms/step - loss: 1.6464 - mean_absolute_error: 1.6464\n",
            "Epoch 28/100\n",
            "2/2 [==============================] - 0s 6ms/step - loss: 1.3379 - mean_absolute_error: 1.3379\n",
            "Epoch 29/100\n",
            "2/2 [==============================] - 0s 6ms/step - loss: 1.0272 - mean_absolute_error: 1.0272\n",
            "Epoch 30/100\n",
            "2/2 [==============================] - 0s 6ms/step - loss: 0.9031 - mean_absolute_error: 0.9031\n",
            "Epoch 31/100\n",
            "2/2 [==============================] - 0s 6ms/step - loss: 1.4443 - mean_absolute_error: 1.4443\n",
            "Epoch 32/100\n",
            "2/2 [==============================] - 0s 6ms/step - loss: 1.2169 - mean_absolute_error: 1.2169\n",
            "Epoch 33/100\n",
            "2/2 [==============================] - 0s 6ms/step - loss: 0.8998 - mean_absolute_error: 0.8998\n",
            "Epoch 34/100\n",
            "2/2 [==============================] - 0s 7ms/step - loss: 0.3779 - mean_absolute_error: 0.3779\n",
            "Epoch 35/100\n",
            "2/2 [==============================] - 0s 6ms/step - loss: 1.2002 - mean_absolute_error: 1.2002\n",
            "Epoch 36/100\n",
            "2/2 [==============================] - 0s 5ms/step - loss: 0.7126 - mean_absolute_error: 0.7126\n",
            "Epoch 37/100\n",
            "2/2 [==============================] - 0s 6ms/step - loss: 1.0622 - mean_absolute_error: 1.0622\n",
            "Epoch 38/100\n",
            "2/2 [==============================] - 0s 6ms/step - loss: 1.1423 - mean_absolute_error: 1.1423\n",
            "Epoch 39/100\n",
            "2/2 [==============================] - 0s 7ms/step - loss: 1.0441 - mean_absolute_error: 1.0441\n",
            "Epoch 40/100\n",
            "2/2 [==============================] - 0s 6ms/step - loss: 1.5871 - mean_absolute_error: 1.5871\n",
            "Epoch 41/100\n",
            "2/2 [==============================] - 0s 11ms/step - loss: 1.7561 - mean_absolute_error: 1.7561\n",
            "Epoch 42/100\n",
            "2/2 [==============================] - 0s 9ms/step - loss: 3.1618 - mean_absolute_error: 3.1618\n",
            "Epoch 43/100\n",
            "2/2 [==============================] - 0s 6ms/step - loss: 0.7621 - mean_absolute_error: 0.7621\n",
            "Epoch 44/100\n",
            "2/2 [==============================] - 0s 9ms/step - loss: 1.5288 - mean_absolute_error: 1.5288\n",
            "Epoch 45/100\n",
            "2/2 [==============================] - 0s 7ms/step - loss: 2.9561 - mean_absolute_error: 2.9561\n",
            "Epoch 46/100\n",
            "2/2 [==============================] - 0s 7ms/step - loss: 2.1028 - mean_absolute_error: 2.1028\n",
            "Epoch 47/100\n",
            "2/2 [==============================] - 0s 6ms/step - loss: 6.1560 - mean_absolute_error: 6.1560\n",
            "Epoch 48/100\n",
            "2/2 [==============================] - 0s 6ms/step - loss: 2.1741 - mean_absolute_error: 2.1741\n",
            "Epoch 49/100\n",
            "2/2 [==============================] - 0s 5ms/step - loss: 11.2686 - mean_absolute_error: 11.2686\n",
            "Epoch 50/100\n",
            "2/2 [==============================] - 0s 5ms/step - loss: 9.4787 - mean_absolute_error: 9.4787\n",
            "Epoch 51/100\n",
            "2/2 [==============================] - 0s 5ms/step - loss: 3.2784 - mean_absolute_error: 3.2784\n",
            "Epoch 52/100\n",
            "2/2 [==============================] - 0s 5ms/step - loss: 11.0559 - mean_absolute_error: 11.0559\n",
            "Epoch 53/100\n",
            "2/2 [==============================] - 0s 5ms/step - loss: 8.0935 - mean_absolute_error: 8.0935\n",
            "Epoch 54/100\n",
            "2/2 [==============================] - 0s 6ms/step - loss: 2.9874 - mean_absolute_error: 2.9874\n",
            "Epoch 55/100\n",
            "2/2 [==============================] - 0s 6ms/step - loss: 5.0400 - mean_absolute_error: 5.0400\n",
            "Epoch 56/100\n",
            "2/2 [==============================] - 0s 6ms/step - loss: 1.5618 - mean_absolute_error: 1.5618\n",
            "Epoch 57/100\n",
            "2/2 [==============================] - 0s 6ms/step - loss: 2.6810 - mean_absolute_error: 2.6810\n",
            "Epoch 58/100\n",
            "2/2 [==============================] - 0s 7ms/step - loss: 2.3052 - mean_absolute_error: 2.3052\n",
            "Epoch 59/100\n",
            "2/2 [==============================] - 0s 6ms/step - loss: 1.2919 - mean_absolute_error: 1.2919\n",
            "Epoch 60/100\n",
            "2/2 [==============================] - 0s 6ms/step - loss: 1.0305 - mean_absolute_error: 1.0305\n",
            "Epoch 61/100\n",
            "2/2 [==============================] - 0s 6ms/step - loss: 0.9187 - mean_absolute_error: 0.9187\n",
            "Epoch 62/100\n",
            "2/2 [==============================] - 0s 6ms/step - loss: 2.3368 - mean_absolute_error: 2.3368\n",
            "Epoch 63/100\n",
            "2/2 [==============================] - 0s 6ms/step - loss: 1.5057 - mean_absolute_error: 1.5057\n",
            "Epoch 64/100\n",
            "2/2 [==============================] - 0s 6ms/step - loss: 3.2004 - mean_absolute_error: 3.2004\n",
            "Epoch 65/100\n",
            "2/2 [==============================] - 0s 6ms/step - loss: 0.8231 - mean_absolute_error: 0.8231\n",
            "Epoch 66/100\n",
            "2/2 [==============================] - 0s 5ms/step - loss: 0.2307 - mean_absolute_error: 0.2307\n",
            "Epoch 67/100\n",
            "2/2 [==============================] - 0s 6ms/step - loss: 0.6757 - mean_absolute_error: 0.6757\n",
            "Epoch 68/100\n",
            "2/2 [==============================] - 0s 6ms/step - loss: 1.0576 - mean_absolute_error: 1.0576\n",
            "Epoch 69/100\n",
            "2/2 [==============================] - 0s 6ms/step - loss: 1.2113 - mean_absolute_error: 1.2113\n",
            "Epoch 70/100\n",
            "2/2 [==============================] - 0s 6ms/step - loss: 2.9814 - mean_absolute_error: 2.9814\n",
            "Epoch 71/100\n",
            "2/2 [==============================] - 0s 6ms/step - loss: 1.6130 - mean_absolute_error: 1.6130\n",
            "Epoch 72/100\n",
            "2/2 [==============================] - 0s 6ms/step - loss: 1.3472 - mean_absolute_error: 1.3472\n",
            "Epoch 73/100\n",
            "2/2 [==============================] - 0s 6ms/step - loss: 2.3711 - mean_absolute_error: 2.3711\n",
            "Epoch 74/100\n",
            "2/2 [==============================] - 0s 6ms/step - loss: 1.5104 - mean_absolute_error: 1.5104\n",
            "Epoch 75/100\n",
            "2/2 [==============================] - 0s 6ms/step - loss: 3.9389 - mean_absolute_error: 3.9389\n",
            "Epoch 76/100\n",
            "2/2 [==============================] - 0s 7ms/step - loss: 1.7686 - mean_absolute_error: 1.7686\n",
            "Epoch 77/100\n",
            "2/2 [==============================] - 0s 6ms/step - loss: 2.3078 - mean_absolute_error: 2.3078\n",
            "Epoch 78/100\n",
            "2/2 [==============================] - 0s 6ms/step - loss: 1.2252 - mean_absolute_error: 1.2252\n",
            "Epoch 79/100\n",
            "2/2 [==============================] - 0s 6ms/step - loss: 1.1532 - mean_absolute_error: 1.1532\n",
            "Epoch 80/100\n",
            "2/2 [==============================] - 0s 6ms/step - loss: 2.5972 - mean_absolute_error: 2.5972\n",
            "Epoch 81/100\n",
            "2/2 [==============================] - 0s 6ms/step - loss: 1.4983 - mean_absolute_error: 1.4983\n",
            "Epoch 82/100\n",
            "2/2 [==============================] - 0s 6ms/step - loss: 1.2541 - mean_absolute_error: 1.2541\n",
            "Epoch 83/100\n",
            "2/2 [==============================] - 0s 10ms/step - loss: 2.1032 - mean_absolute_error: 2.1032\n",
            "Epoch 84/100\n",
            "2/2 [==============================] - 0s 7ms/step - loss: 1.7893 - mean_absolute_error: 1.7893\n",
            "Epoch 85/100\n",
            "2/2 [==============================] - 0s 7ms/step - loss: 1.3754 - mean_absolute_error: 1.3754\n",
            "Epoch 86/100\n",
            "2/2 [==============================] - 0s 8ms/step - loss: 2.8197 - mean_absolute_error: 2.8197\n",
            "Epoch 87/100\n",
            "2/2 [==============================] - 0s 7ms/step - loss: 0.9886 - mean_absolute_error: 0.9886\n",
            "Epoch 88/100\n",
            "2/2 [==============================] - 0s 7ms/step - loss: 2.5122 - mean_absolute_error: 2.5122\n",
            "Epoch 89/100\n",
            "2/2 [==============================] - 0s 8ms/step - loss: 1.1842 - mean_absolute_error: 1.1842\n",
            "Epoch 90/100\n",
            "2/2 [==============================] - 0s 5ms/step - loss: 1.1018 - mean_absolute_error: 1.1018\n",
            "Epoch 91/100\n",
            "2/2 [==============================] - 0s 7ms/step - loss: 1.1581 - mean_absolute_error: 1.1581\n",
            "Epoch 92/100\n",
            "2/2 [==============================] - 0s 7ms/step - loss: 1.1712 - mean_absolute_error: 1.1712\n",
            "Epoch 93/100\n",
            "2/2 [==============================] - 0s 8ms/step - loss: 1.2910 - mean_absolute_error: 1.2910\n",
            "Epoch 94/100\n",
            "2/2 [==============================] - 0s 8ms/step - loss: 0.6706 - mean_absolute_error: 0.6706\n",
            "Epoch 95/100\n",
            "2/2 [==============================] - 0s 6ms/step - loss: 1.0821 - mean_absolute_error: 1.0821\n",
            "Epoch 96/100\n",
            "2/2 [==============================] - 0s 7ms/step - loss: 1.0053 - mean_absolute_error: 1.0053\n",
            "Epoch 97/100\n",
            "2/2 [==============================] - 0s 6ms/step - loss: 2.6556 - mean_absolute_error: 2.6556\n",
            "Epoch 98/100\n",
            "2/2 [==============================] - 0s 6ms/step - loss: 1.4956 - mean_absolute_error: 1.4956\n",
            "Epoch 99/100\n",
            "2/2 [==============================] - 0s 6ms/step - loss: 1.2667 - mean_absolute_error: 1.2667\n",
            "Epoch 100/100\n",
            "2/2 [==============================] - 0s 6ms/step - loss: 1.6978 - mean_absolute_error: 1.6978\n"
          ]
        },
        {
          "output_type": "execute_result",
          "data": {
            "text/plain": [
              "<keras.callbacks.History at 0x7f642a726d90>"
            ]
          },
          "metadata": {},
          "execution_count": 138
        }
      ]
    },
    {
      "cell_type": "code",
      "source": [
        "y_pred_m2 = model2.predict(X_test)\n",
        "\n",
        "plot_predictions(X_train, y_train, X_test, y_test, tf.squeeze(y_pred_m2))\n",
        "\n",
        "mae_m2 = tf.keras.metrics.mae(y_test, tf.squeeze(y_pred_m2))\n",
        "mse_m2 = tf.keras.metrics.mse(y_test, tf.squeeze(y_pred_m2))\n",
        "mae_m2 < mae, mae, mae_m2, mse_m2"
      ],
      "metadata": {
        "colab": {
          "base_uri": "https://localhost:8080/",
          "height": 517
        },
        "id": "enQi2oQOGEcQ",
        "outputId": "70b546b3-0203-4582-ff35-61e94a78aa7b"
      },
      "execution_count": 139,
      "outputs": [
        {
          "output_type": "stream",
          "name": "stdout",
          "text": [
            "1/1 [==============================] - 0s 48ms/step\n"
          ]
        },
        {
          "output_type": "execute_result",
          "data": {
            "text/plain": [
              "(<tf.Tensor: shape=(), dtype=bool, numpy=False>,\n",
              " <tf.Tensor: shape=(), dtype=float32, numpy=0.3992157>,\n",
              " <tf.Tensor: shape=(), dtype=float32, numpy=1.1459099>,\n",
              " <tf.Tensor: shape=(), dtype=float32, numpy=1.3309793>)"
            ]
          },
          "metadata": {},
          "execution_count": 139
        },
        {
          "output_type": "display_data",
          "data": {
            "text/plain": [
              "<Figure size 720x504 with 1 Axes>"
            ],
            "image/png": "[encoded data removed]"
          },
          "metadata": {
            "needs_background": "light"
          }
        }
      ]
    },
    {
      "cell_type": "code",
      "source": [
        "model2.save(\"best_model\")"
      ],
      "metadata": {
        "id": "RHkMDl5wGbtJ"
      },
      "execution_count": 140,
      "outputs": []
    },
    {
      "cell_type": "code",
      "source": [
        "model2.save(\"best_model.h5\")"
      ],
      "metadata": {
        "id": "MoJazmPJH4sF"
      },
      "execution_count": 141,
      "outputs": []
    },
    {
      "cell_type": "code",
      "source": [
        "tf.keras.models.save_model(model2, \"best_model\")"
      ],
      "metadata": {
        "id": "ipYmwI4MH9A9"
      },
      "execution_count": 142,
      "outputs": []
    },
    {
      "cell_type": "code",
      "source": [
        "tf.keras.models.save_model(model2, \"best_model.h5\")"
      ],
      "metadata": {
        "id": "Xbxa6Lr7JoqZ"
      },
      "execution_count": 143,
      "outputs": []
    },
    {
      "cell_type": "markdown",
      "source": [
        "## Loading Model"
      ],
      "metadata": {
        "id": "Fwinx4HoJtAn"
      }
    },
    {
      "cell_type": "code",
      "source": [
        "loaded_model_1 = tf.keras.models.load_model(\"best_model\")\n",
        "loaded_model_1.summary()"
      ],
      "metadata": {
        "colab": {
          "base_uri": "https://localhost:8080/"
        },
        "id": "t2w_hB-RLKT5",
        "outputId": "278cd36d-df99-4d8d-9dd6-7522f9262688"
      },
      "execution_count": 144,
      "outputs": [
        {
          "output_type": "stream",
          "name": "stdout",
          "text": [
            "Model: \"sequential_30\"\n",
            "_________________________________________________________________\n",
            " Layer (type)                Output Shape              Param #   \n",
            "=================================================================\n",
            " dense_60 (Dense)            (None, 50)                100       \n",
            "                                                                 \n",
            " dense_61 (Dense)            (None, 50)                2550      \n",
            "                                                                 \n",
            " dense_62 (Dense)            (None, 1)                 51        \n",
            "                                                                 \n",
            "=================================================================\n",
            "Total params: 2,701\n",
            "Trainable params: 2,701\n",
            "Non-trainable params: 0\n",
            "_________________________________________________________________\n"
          ]
        }
      ]
    },
    {
      "cell_type": "code",
      "source": [
        "loaded_model_2 = tf.keras.models.load_model(\"best_model.h5\")\n",
        "loaded_model_2.summary()"
      ],
      "metadata": {
        "colab": {
          "base_uri": "https://localhost:8080/"
        },
        "id": "AttFAVVFLT0s",
        "outputId": "42c63689-c0f7-4cad-fa43-32d023d15c0d"
      },
      "execution_count": 145,
      "outputs": [
        {
          "output_type": "stream",
          "name": "stdout",
          "text": [
            "Model: \"sequential_30\"\n",
            "_________________________________________________________________\n",
            " Layer (type)                Output Shape              Param #   \n",
            "=================================================================\n",
            " dense_60 (Dense)            (None, 50)                100       \n",
            "                                                                 \n",
            " dense_61 (Dense)            (None, 50)                2550      \n",
            "                                                                 \n",
            " dense_62 (Dense)            (None, 1)                 51        \n",
            "                                                                 \n",
            "=================================================================\n",
            "Total params: 2,701\n",
            "Trainable params: 2,701\n",
            "Non-trainable params: 0\n",
            "_________________________________________________________________\n"
          ]
        }
      ]
    },
    {
      "cell_type": "code",
      "source": [
        "y_pred_loaded_m1 = loaded_model_1.predict(X_test)\n",
        "y_pred_loaded_m2 = loaded_model_2.predict(X_test)"
      ],
      "metadata": {
        "colab": {
          "base_uri": "https://localhost:8080/"
        },
        "id": "karGXz2dLaq3",
        "outputId": "1de0e9f2-da87-437f-fc8c-b8a2c908e756"
      },
      "execution_count": 146,
      "outputs": [
        {
          "output_type": "stream",
          "name": "stdout",
          "text": [
            "1/1 [==============================] - 0s 54ms/step\n",
            "1/1 [==============================] - 0s 60ms/step\n"
          ]
        }
      ]
    },
    {
      "cell_type": "code",
      "source": [
        "np.count_nonzero(np.squeeze((y_pred_loaded_m2 == y_pred_m2) & (y_pred_loaded_m2 == y_pred_m2)))"
      ],
      "metadata": {
        "colab": {
          "base_uri": "https://localhost:8080/"
        },
        "id": "phrYAHBhLmOe",
        "outputId": "b5681e82-0c32-476a-ecf0-3b545714180c"
      },
      "execution_count": 147,
      "outputs": [
        {
          "output_type": "execute_result",
          "data": {
            "text/plain": [
              "10"
            ]
          },
          "metadata": {},
          "execution_count": 147
        }
      ]
    },
    {
      "cell_type": "markdown",
      "source": [
        "# Download a model (or any other file) from Google Colab"
      ],
      "metadata": {
        "id": "POuwlBndLuqh"
      }
    },
    {
      "cell_type": "code",
      "source": [
        "# from google.colab import files\n",
        "# files.download(\"best_model.h5\")\n",
        "\n",
        "# Save a file from Google Colab to Google Drive (requires mounting Google Drive)\n",
        "# !cp -r best_model drive/MyDrive/Tensorflow_Developer_Certificate_Jan15_2023/Test_models"
      ],
      "metadata": {
        "id": "ZCJS4uJTOE3r"
      },
      "execution_count": 148,
      "outputs": []
    },
    {
      "cell_type": "markdown",
      "source": [
        "# A larger Example\n",
        "\n",
        "https://www.kaggle.com/datasets/mirichoi0218/insurance\n",
        "\n",
        "https://raw.githubusercontent.com/stedy/Machine-Learning-with-R-datasets/master/insurance.csv\n",
        "\n"
      ],
      "metadata": {
        "id": "16r2y9sGOmUS"
      }
    },
    {
      "cell_type": "code",
      "source": [
        "import tensorflow as tf\n",
        "import pandas as pd\n",
        "import matplotlib.pyplot as plt"
      ],
      "metadata": {
        "id": "-tc1cnuV4J1-"
      },
      "execution_count": 149,
      "outputs": []
    },
    {
      "cell_type": "code",
      "source": [
        "\n",
        "# Read in the insurance dataset\n",
        "insurance = pd.read_csv('https://raw.githubusercontent.com/stedy/Machine-Learning-with-R-datasets/master/insurance.csv')\n",
        "insurance"
      ],
      "metadata": {
        "colab": {
          "base_uri": "https://localhost:8080/",
          "height": 424
        },
        "id": "BEtec4-q4QYr",
        "outputId": "51eca182-458a-41af-9235-692080bf6777"
      },
      "execution_count": 150,
      "outputs": [
        {
          "output_type": "execute_result",
          "data": {
            "text/plain": [
              "      age     sex     bmi  children smoker     region      charges\n",
              "0      19  female  27.900         0    yes  southwest  16884.92400\n",
              "1      18    male  33.770         1     no  southeast   1725.55230\n",
              "2      28    male  33.000         3     no  southeast   4449.46200\n",
              "3      33    male  22.705         0     no  northwest  21984.47061\n",
              "4      32    male  28.880         0     no  northwest   3866.85520\n",
              "...   ...     ...     ...       ...    ...        ...          ...\n",
              "1333   50    male  30.970         3     no  northwest  10600.54830\n",
              "1334   18  female  31.920         0     no  northeast   2205.98080\n",
              "1335   18  female  36.850         0     no  southeast   1629.83350\n",
              "1336   21  female  25.800         0     no  southwest   2007.94500\n",
              "1337   61  female  29.070         0    yes  northwest  29141.36030\n",
              "\n",
              "[1338 rows x 7 columns]"
            ],
            "text/html": [
              "\n",
              "  <div id=\"df-b2164ecc-3a2f-4e7e-b0fe-da4d1156e5ca\">\n",
              "    <div class=\"colab-df-container\">\n",
              "      <div>\n",
              "<style scoped>\n",
              "    .dataframe tbody tr th:only-of-type {\n",
              "        vertical-align: middle;\n",
              "    }\n",
              "\n",
              "    .dataframe tbody tr th {\n",
              "        vertical-align: top;\n",
              "    }\n",
              "\n",
              "    .dataframe thead th {\n",
              "        text-align: right;\n",
              "    }\n",
              "</style>\n",
              "<table border=\"1\" class=\"dataframe\">\n",
              "  <thead>\n",
              "    <tr style=\"text-align: right;\">\n",
              "      <th></th>\n",
              "      <th>age</th>\n",
              "      <th>sex</th>\n",
              "      <th>bmi</th>\n",
              "      <th>children</th>\n",
              "      <th>smoker</th>\n",
              "      <th>region</th>\n",
              "      <th>charges</th>\n",
              "    </tr>\n",
              "  </thead>\n",
              "  <tbody>\n",
              "    <tr>\n",
              "      <th>0</th>\n",
              "      <td>19</td>\n",
              "      <td>female</td>\n",
              "      <td>27.900</td>\n",
              "      <td>0</td>\n",
              "      <td>yes</td>\n",
              "      <td>southwest</td>\n",
              "      <td>16884.92400</td>\n",
              "    </tr>\n",
              "    <tr>\n",
              "      <th>1</th>\n",
              "      <td>18</td>\n",
              "      <td>male</td>\n",
              "      <td>33.770</td>\n",
              "      <td>1</td>\n",
              "      <td>no</td>\n",
              "      <td>southeast</td>\n",
              "      <td>1725.55230</td>\n",
              "    </tr>\n",
              "    <tr>\n",
              "      <th>2</th>\n",
              "      <td>28</td>\n",
              "      <td>male</td>\n",
              "      <td>33.000</td>\n",
              "      <td>3</td>\n",
              "      <td>no</td>\n",
              "      <td>southeast</td>\n",
              "      <td>4449.46200</td>\n",
              "    </tr>\n",
              "    <tr>\n",
              "      <th>3</th>\n",
              "      <td>33</td>\n",
              "      <td>male</td>\n",
              "      <td>22.705</td>\n",
              "      <td>0</td>\n",
              "      <td>no</td>\n",
              "      <td>northwest</td>\n",
              "      <td>21984.47061</td>\n",
              "    </tr>\n",
              "    <tr>\n",
              "      <th>4</th>\n",
              "      <td>32</td>\n",
              "      <td>male</td>\n",
              "      <td>28.880</td>\n",
              "      <td>0</td>\n",
              "      <td>no</td>\n",
              "      <td>northwest</td>\n",
              "      <td>3866.85520</td>\n",
              "    </tr>\n",
              "    <tr>\n",
              "      <th>...</th>\n",
              "      <td>...</td>\n",
              "      <td>...</td>\n",
              "      <td>...</td>\n",
              "      <td>...</td>\n",
              "      <td>...</td>\n",
              "      <td>...</td>\n",
              "      <td>...</td>\n",
              "    </tr>\n",
              "    <tr>\n",
              "      <th>1333</th>\n",
              "      <td>50</td>\n",
              "      <td>male</td>\n",
              "      <td>30.970</td>\n",
              "      <td>3</td>\n",
              "      <td>no</td>\n",
              "      <td>northwest</td>\n",
              "      <td>10600.54830</td>\n",
              "    </tr>\n",
              "    <tr>\n",
              "      <th>1334</th>\n",
              "      <td>18</td>\n",
              "      <td>female</td>\n",
              "      <td>31.920</td>\n",
              "      <td>0</td>\n",
              "      <td>no</td>\n",
              "      <td>northeast</td>\n",
              "      <td>2205.98080</td>\n",
              "    </tr>\n",
              "    <tr>\n",
              "      <th>1335</th>\n",
              "      <td>18</td>\n",
              "      <td>female</td>\n",
              "      <td>36.850</td>\n",
              "      <td>0</td>\n",
              "      <td>no</td>\n",
              "      <td>southeast</td>\n",
              "      <td>1629.83350</td>\n",
              "    </tr>\n",
              "    <tr>\n",
              "      <th>1336</th>\n",
              "      <td>21</td>\n",
              "      <td>female</td>\n",
              "      <td>25.800</td>\n",
              "      <td>0</td>\n",
              "      <td>no</td>\n",
              "      <td>southwest</td>\n",
              "      <td>2007.94500</td>\n",
              "    </tr>\n",
              "    <tr>\n",
              "      <th>1337</th>\n",
              "      <td>61</td>\n",
              "      <td>female</td>\n",
              "      <td>29.070</td>\n",
              "      <td>0</td>\n",
              "      <td>yes</td>\n",
              "      <td>northwest</td>\n",
              "      <td>29141.36030</td>\n",
              "    </tr>\n",
              "  </tbody>\n",
              "</table>\n",
              "<p>1338 rows × 7 columns</p>\n",
              "</div>\n",
              "      <button class=\"colab-df-convert\" onclick=\"convertToInteractive('df-b2164ecc-3a2f-4e7e-b0fe-da4d1156e5ca')\"\n",
              "              title=\"Convert this dataframe to an interactive table.\"\n",
              "              style=\"display:none;\">\n",
              "        \n",
              "  <svg xmlns=\"http://www.w3.org/2000/svg\" height=\"24px\"viewBox=\"0 0 24 24\"\n",
              "       width=\"24px\">\n",
              "    <path d=\"M0 0h24v24H0V0z\" fill=\"none\"/>\n",
              "    <path d=\"M18.56 5.44l.94 2.06.94-2.06 2.06-.94-2.06-.94-.94-2.06-.94 2.06-2.06.94zm-11 1L8.5 8.5l.94-2.06 2.06-.94-2.06-.94L8.5 2.5l-.94 2.06-2.06.94zm10 10l.94 2.06.94-2.06 2.06-.94-2.06-.94-.94-2.06-.94 2.06-2.06.94z\"/><path d=\"M17.41 7.96l-1.37-1.37c-.4-.4-.92-.59-1.43-.59-.52 0-1.04.2-1.43.59L10.3 9.45l-7.72 7.72c-.78.78-.78 2.05 0 2.83L4 21.41c.39.39.9.59 1.41.59.51 0 1.02-.2 1.41-.59l7.78-7.78 2.81-2.81c.8-.78.8-2.07 0-2.86zM5.41 20L4 18.59l7.72-7.72 1.47 1.35L5.41 20z\"/>\n",
              "  </svg>\n",
              "      </button>\n",
              "      \n",
              "  <style>\n",
              "    .colab-df-container {\n",
              "      display:flex;\n",
              "      flex-wrap:wrap;\n",
              "      gap: 12px;\n",
              "    }\n",
              "\n",
              "    .colab-df-convert {\n",
              "      background-color: #E8F0FE;\n",
              "      border: none;\n",
              "      border-radius: 50%;\n",
              "      cursor: pointer;\n",
              "      display: none;\n",
              "      fill: #1967D2;\n",
              "      height: 32px;\n",
              "      padding: 0 0 0 0;\n",
              "      width: 32px;\n",
              "    }\n",
              "\n",
              "    .colab-df-convert:hover {\n",
              "      background-color: #E2EBFA;\n",
              "      box-shadow: 0px 1px 2px rgba(60, 64, 67, 0.3), 0px 1px 3px 1px rgba(60, 64, 67, 0.15);\n",
              "      fill: #174EA6;\n",
              "    }\n",
              "\n",
              "    [theme=dark] .colab-df-convert {\n",
              "      background-color: #3B4455;\n",
              "      fill: #D2E3FC;\n",
              "    }\n",
              "\n",
              "    [theme=dark] .colab-df-convert:hover {\n",
              "      background-color: #434B5C;\n",
              "      box-shadow: 0px 1px 3px 1px rgba(0, 0, 0, 0.15);\n",
              "      filter: drop-shadow(0px 1px 2px rgba(0, 0, 0, 0.3));\n",
              "      fill: #FFFFFF;\n",
              "    }\n",
              "  </style>\n",
              "\n",
              "      <script>\n",
              "        const buttonEl =\n",
              "          document.querySelector('#df-b2164ecc-3a2f-4e7e-b0fe-da4d1156e5ca button.colab-df-convert');\n",
              "        buttonEl.style.display =\n",
              "          google.colab.kernel.accessAllowed ? 'block' : 'none';\n",
              "\n",
              "        async function convertToInteractive(key) {\n",
              "          const element = document.querySelector('#df-b2164ecc-3a2f-4e7e-b0fe-da4d1156e5ca');\n",
              "          const dataTable =\n",
              "            await google.colab.kernel.invokeFunction('convertToInteractive',\n",
              "                                                     [key], {});\n",
              "          if (!dataTable) return;\n",
              "\n",
              "          const docLinkHtml = 'Like what you see? Visit the ' +\n",
              "            '<a target=\"_blank\" href=https://colab.research.google.com/notebooks/data_table.ipynb>data table notebook</a>'\n",
              "            + ' to learn more about interactive tables.';\n",
              "          element.innerHTML = '';\n",
              "          dataTable['output_type'] = 'display_data';\n",
              "          await google.colab.output.renderOutput(dataTable, element);\n",
              "          const docLink = document.createElement('div');\n",
              "          docLink.innerHTML = docLinkHtml;\n",
              "          element.appendChild(docLink);\n",
              "        }\n",
              "      </script>\n",
              "    </div>\n",
              "  </div>\n",
              "  "
            ]
          },
          "metadata": {},
          "execution_count": 150
        }
      ]
    },
    {
      "cell_type": "code",
      "source": [
        "insurance_one_hot = pd.get_dummies(insurance)\n",
        "insurance_one_hot.head()"
      ],
      "metadata": {
        "colab": {
          "base_uri": "https://localhost:8080/",
          "height": 206
        },
        "id": "UGqkHqyu4aH2",
        "outputId": "716ab205-c864-4d54-94a4-c4e3b34eb74e"
      },
      "execution_count": 151,
      "outputs": [
        {
          "output_type": "execute_result",
          "data": {
            "text/plain": [
              "   age     bmi  children      charges  sex_female  sex_male  smoker_no  \\\n",
              "0   19  27.900         0  16884.92400           1         0          0   \n",
              "1   18  33.770         1   1725.55230           0         1          1   \n",
              "2   28  33.000         3   4449.46200           0         1          1   \n",
              "3   33  22.705         0  21984.47061           0         1          1   \n",
              "4   32  28.880         0   3866.85520           0         1          1   \n",
              "\n",
              "   smoker_yes  region_northeast  region_northwest  region_southeast  \\\n",
              "0           1                 0                 0                 0   \n",
              "1           0                 0                 0                 1   \n",
              "2           0                 0                 0                 1   \n",
              "3           0                 0                 1                 0   \n",
              "4           0                 0                 1                 0   \n",
              "\n",
              "   region_southwest  \n",
              "0                 1  \n",
              "1                 0  \n",
              "2                 0  \n",
              "3                 0  \n",
              "4                 0  "
            ],
            "text/html": [
              "\n",
              "  <div id=\"df-ff7cca42-0453-4c5e-9c23-0595ef47206d\">\n",
              "    <div class=\"colab-df-container\">\n",
              "      <div>\n",
              "<style scoped>\n",
              "    .dataframe tbody tr th:only-of-type {\n",
              "        vertical-align: middle;\n",
              "    }\n",
              "\n",
              "    .dataframe tbody tr th {\n",
              "        vertical-align: top;\n",
              "    }\n",
              "\n",
              "    .dataframe thead th {\n",
              "        text-align: right;\n",
              "    }\n",
              "</style>\n",
              "<table border=\"1\" class=\"dataframe\">\n",
              "  <thead>\n",
              "    <tr style=\"text-align: right;\">\n",
              "      <th></th>\n",
              "      <th>age</th>\n",
              "      <th>bmi</th>\n",
              "      <th>children</th>\n",
              "      <th>charges</th>\n",
              "      <th>sex_female</th>\n",
              "      <th>sex_male</th>\n",
              "      <th>smoker_no</th>\n",
              "      <th>smoker_yes</th>\n",
              "      <th>region_northeast</th>\n",
              "      <th>region_northwest</th>\n",
              "      <th>region_southeast</th>\n",
              "      <th>region_southwest</th>\n",
              "    </tr>\n",
              "  </thead>\n",
              "  <tbody>\n",
              "    <tr>\n",
              "      <th>0</th>\n",
              "      <td>19</td>\n",
              "      <td>27.900</td>\n",
              "      <td>0</td>\n",
              "      <td>16884.92400</td>\n",
              "      <td>1</td>\n",
              "      <td>0</td>\n",
              "      <td>0</td>\n",
              "      <td>1</td>\n",
              "      <td>0</td>\n",
              "      <td>0</td>\n",
              "      <td>0</td>\n",
              "      <td>1</td>\n",
              "    </tr>\n",
              "    <tr>\n",
              "      <th>1</th>\n",
              "      <td>18</td>\n",
              "      <td>33.770</td>\n",
              "      <td>1</td>\n",
              "      <td>1725.55230</td>\n",
              "      <td>0</td>\n",
              "      <td>1</td>\n",
              "      <td>1</td>\n",
              "      <td>0</td>\n",
              "      <td>0</td>\n",
              "      <td>0</td>\n",
              "      <td>1</td>\n",
              "      <td>0</td>\n",
              "    </tr>\n",
              "    <tr>\n",
              "      <th>2</th>\n",
              "      <td>28</td>\n",
              "      <td>33.000</td>\n",
              "      <td>3</td>\n",
              "      <td>4449.46200</td>\n",
              "      <td>0</td>\n",
              "      <td>1</td>\n",
              "      <td>1</td>\n",
              "      <td>0</td>\n",
              "      <td>0</td>\n",
              "      <td>0</td>\n",
              "      <td>1</td>\n",
              "      <td>0</td>\n",
              "    </tr>\n",
              "    <tr>\n",
              "      <th>3</th>\n",
              "      <td>33</td>\n",
              "      <td>22.705</td>\n",
              "      <td>0</td>\n",
              "      <td>21984.47061</td>\n",
              "      <td>0</td>\n",
              "      <td>1</td>\n",
              "      <td>1</td>\n",
              "      <td>0</td>\n",
              "      <td>0</td>\n",
              "      <td>1</td>\n",
              "      <td>0</td>\n",
              "      <td>0</td>\n",
              "    </tr>\n",
              "    <tr>\n",
              "      <th>4</th>\n",
              "      <td>32</td>\n",
              "      <td>28.880</td>\n",
              "      <td>0</td>\n",
              "      <td>3866.85520</td>\n",
              "      <td>0</td>\n",
              "      <td>1</td>\n",
              "      <td>1</td>\n",
              "      <td>0</td>\n",
              "      <td>0</td>\n",
              "      <td>1</td>\n",
              "      <td>0</td>\n",
              "      <td>0</td>\n",
              "    </tr>\n",
              "  </tbody>\n",
              "</table>\n",
              "</div>\n",
              "      <button class=\"colab-df-convert\" onclick=\"convertToInteractive('df-ff7cca42-0453-4c5e-9c23-0595ef47206d')\"\n",
              "              title=\"Convert this dataframe to an interactive table.\"\n",
              "              style=\"display:none;\">\n",
              "        \n",
              "  <svg xmlns=\"http://www.w3.org/2000/svg\" height=\"24px\"viewBox=\"0 0 24 24\"\n",
              "       width=\"24px\">\n",
              "    <path d=\"M0 0h24v24H0V0z\" fill=\"none\"/>\n",
              "    <path d=\"M18.56 5.44l.94 2.06.94-2.06 2.06-.94-2.06-.94-.94-2.06-.94 2.06-2.06.94zm-11 1L8.5 8.5l.94-2.06 2.06-.94-2.06-.94L8.5 2.5l-.94 2.06-2.06.94zm10 10l.94 2.06.94-2.06 2.06-.94-2.06-.94-.94-2.06-.94 2.06-2.06.94z\"/><path d=\"M17.41 7.96l-1.37-1.37c-.4-.4-.92-.59-1.43-.59-.52 0-1.04.2-1.43.59L10.3 9.45l-7.72 7.72c-.78.78-.78 2.05 0 2.83L4 21.41c.39.39.9.59 1.41.59.51 0 1.02-.2 1.41-.59l7.78-7.78 2.81-2.81c.8-.78.8-2.07 0-2.86zM5.41 20L4 18.59l7.72-7.72 1.47 1.35L5.41 20z\"/>\n",
              "  </svg>\n",
              "      </button>\n",
              "      \n",
              "  <style>\n",
              "    .colab-df-container {\n",
              "      display:flex;\n",
              "      flex-wrap:wrap;\n",
              "      gap: 12px;\n",
              "    }\n",
              "\n",
              "    .colab-df-convert {\n",
              "      background-color: #E8F0FE;\n",
              "      border: none;\n",
              "      border-radius: 50%;\n",
              "      cursor: pointer;\n",
              "      display: none;\n",
              "      fill: #1967D2;\n",
              "      height: 32px;\n",
              "      padding: 0 0 0 0;\n",
              "      width: 32px;\n",
              "    }\n",
              "\n",
              "    .colab-df-convert:hover {\n",
              "      background-color: #E2EBFA;\n",
              "      box-shadow: 0px 1px 2px rgba(60, 64, 67, 0.3), 0px 1px 3px 1px rgba(60, 64, 67, 0.15);\n",
              "      fill: #174EA6;\n",
              "    }\n",
              "\n",
              "    [theme=dark] .colab-df-convert {\n",
              "      background-color: #3B4455;\n",
              "      fill: #D2E3FC;\n",
              "    }\n",
              "\n",
              "    [theme=dark] .colab-df-convert:hover {\n",
              "      background-color: #434B5C;\n",
              "      box-shadow: 0px 1px 3px 1px rgba(0, 0, 0, 0.15);\n",
              "      filter: drop-shadow(0px 1px 2px rgba(0, 0, 0, 0.3));\n",
              "      fill: #FFFFFF;\n",
              "    }\n",
              "  </style>\n",
              "\n",
              "      <script>\n",
              "        const buttonEl =\n",
              "          document.querySelector('#df-ff7cca42-0453-4c5e-9c23-0595ef47206d button.colab-df-convert');\n",
              "        buttonEl.style.display =\n",
              "          google.colab.kernel.accessAllowed ? 'block' : 'none';\n",
              "\n",
              "        async function convertToInteractive(key) {\n",
              "          const element = document.querySelector('#df-ff7cca42-0453-4c5e-9c23-0595ef47206d');\n",
              "          const dataTable =\n",
              "            await google.colab.kernel.invokeFunction('convertToInteractive',\n",
              "                                                     [key], {});\n",
              "          if (!dataTable) return;\n",
              "\n",
              "          const docLinkHtml = 'Like what you see? Visit the ' +\n",
              "            '<a target=\"_blank\" href=https://colab.research.google.com/notebooks/data_table.ipynb>data table notebook</a>'\n",
              "            + ' to learn more about interactive tables.';\n",
              "          element.innerHTML = '';\n",
              "          dataTable['output_type'] = 'display_data';\n",
              "          await google.colab.output.renderOutput(dataTable, element);\n",
              "          const docLink = document.createElement('div');\n",
              "          docLink.innerHTML = docLinkHtml;\n",
              "          element.appendChild(docLink);\n",
              "        }\n",
              "      </script>\n",
              "    </div>\n",
              "  </div>\n",
              "  "
            ]
          },
          "metadata": {},
          "execution_count": 151
        }
      ]
    },
    {
      "cell_type": "code",
      "source": [
        "\n",
        "# Create X & y values (features and labels)\n",
        "X = insurance_one_hot.drop(\"charges\", axis=1)\n",
        "y = insurance_one_hot[\"charges\"]"
      ],
      "metadata": {
        "id": "bofkzPPa4hbM"
      },
      "execution_count": 152,
      "outputs": []
    },
    {
      "cell_type": "code",
      "source": [
        "X.head()"
      ],
      "metadata": {
        "colab": {
          "base_uri": "https://localhost:8080/",
          "height": 206
        },
        "id": "-wzbQYq147Jw",
        "outputId": "cb4b20a0-5785-4793-a4e1-2acbb94f2383"
      },
      "execution_count": 153,
      "outputs": [
        {
          "output_type": "execute_result",
          "data": {
            "text/plain": [
              "   age     bmi  children  sex_female  sex_male  smoker_no  smoker_yes  \\\n",
              "0   19  27.900         0           1         0          0           1   \n",
              "1   18  33.770         1           0         1          1           0   \n",
              "2   28  33.000         3           0         1          1           0   \n",
              "3   33  22.705         0           0         1          1           0   \n",
              "4   32  28.880         0           0         1          1           0   \n",
              "\n",
              "   region_northeast  region_northwest  region_southeast  region_southwest  \n",
              "0                 0                 0                 0                 1  \n",
              "1                 0                 0                 1                 0  \n",
              "2                 0                 0                 1                 0  \n",
              "3                 0                 1                 0                 0  \n",
              "4                 0                 1                 0                 0  "
            ],
            "text/html": [
              "\n",
              "  <div id=\"df-57f7ff04-2078-4e9e-973e-af36c985bded\">\n",
              "    <div class=\"colab-df-container\">\n",
              "      <div>\n",
              "<style scoped>\n",
              "    .dataframe tbody tr th:only-of-type {\n",
              "        vertical-align: middle;\n",
              "    }\n",
              "\n",
              "    .dataframe tbody tr th {\n",
              "        vertical-align: top;\n",
              "    }\n",
              "\n",
              "    .dataframe thead th {\n",
              "        text-align: right;\n",
              "    }\n",
              "</style>\n",
              "<table border=\"1\" class=\"dataframe\">\n",
              "  <thead>\n",
              "    <tr style=\"text-align: right;\">\n",
              "      <th></th>\n",
              "      <th>age</th>\n",
              "      <th>bmi</th>\n",
              "      <th>children</th>\n",
              "      <th>sex_female</th>\n",
              "      <th>sex_male</th>\n",
              "      <th>smoker_no</th>\n",
              "      <th>smoker_yes</th>\n",
              "      <th>region_northeast</th>\n",
              "      <th>region_northwest</th>\n",
              "      <th>region_southeast</th>\n",
              "      <th>region_southwest</th>\n",
              "    </tr>\n",
              "  </thead>\n",
              "  <tbody>\n",
              "    <tr>\n",
              "      <th>0</th>\n",
              "      <td>19</td>\n",
              "      <td>27.900</td>\n",
              "      <td>0</td>\n",
              "      <td>1</td>\n",
              "      <td>0</td>\n",
              "      <td>0</td>\n",
              "      <td>1</td>\n",
              "      <td>0</td>\n",
              "      <td>0</td>\n",
              "      <td>0</td>\n",
              "      <td>1</td>\n",
              "    </tr>\n",
              "    <tr>\n",
              "      <th>1</th>\n",
              "      <td>18</td>\n",
              "      <td>33.770</td>\n",
              "      <td>1</td>\n",
              "      <td>0</td>\n",
              "      <td>1</td>\n",
              "      <td>1</td>\n",
              "      <td>0</td>\n",
              "      <td>0</td>\n",
              "      <td>0</td>\n",
              "      <td>1</td>\n",
              "      <td>0</td>\n",
              "    </tr>\n",
              "    <tr>\n",
              "      <th>2</th>\n",
              "      <td>28</td>\n",
              "      <td>33.000</td>\n",
              "      <td>3</td>\n",
              "      <td>0</td>\n",
              "      <td>1</td>\n",
              "      <td>1</td>\n",
              "      <td>0</td>\n",
              "      <td>0</td>\n",
              "      <td>0</td>\n",
              "      <td>1</td>\n",
              "      <td>0</td>\n",
              "    </tr>\n",
              "    <tr>\n",
              "      <th>3</th>\n",
              "      <td>33</td>\n",
              "      <td>22.705</td>\n",
              "      <td>0</td>\n",
              "      <td>0</td>\n",
              "      <td>1</td>\n",
              "      <td>1</td>\n",
              "      <td>0</td>\n",
              "      <td>0</td>\n",
              "      <td>1</td>\n",
              "      <td>0</td>\n",
              "      <td>0</td>\n",
              "    </tr>\n",
              "    <tr>\n",
              "      <th>4</th>\n",
              "      <td>32</td>\n",
              "      <td>28.880</td>\n",
              "      <td>0</td>\n",
              "      <td>0</td>\n",
              "      <td>1</td>\n",
              "      <td>1</td>\n",
              "      <td>0</td>\n",
              "      <td>0</td>\n",
              "      <td>1</td>\n",
              "      <td>0</td>\n",
              "      <td>0</td>\n",
              "    </tr>\n",
              "  </tbody>\n",
              "</table>\n",
              "</div>\n",
              "      <button class=\"colab-df-convert\" onclick=\"convertToInteractive('df-57f7ff04-2078-4e9e-973e-af36c985bded')\"\n",
              "              title=\"Convert this dataframe to an interactive table.\"\n",
              "              style=\"display:none;\">\n",
              "        \n",
              "  <svg xmlns=\"http://www.w3.org/2000/svg\" height=\"24px\"viewBox=\"0 0 24 24\"\n",
              "       width=\"24px\">\n",
              "    <path d=\"M0 0h24v24H0V0z\" fill=\"none\"/>\n",
              "    <path d=\"M18.56 5.44l.94 2.06.94-2.06 2.06-.94-2.06-.94-.94-2.06-.94 2.06-2.06.94zm-11 1L8.5 8.5l.94-2.06 2.06-.94-2.06-.94L8.5 2.5l-.94 2.06-2.06.94zm10 10l.94 2.06.94-2.06 2.06-.94-2.06-.94-.94-2.06-.94 2.06-2.06.94z\"/><path d=\"M17.41 7.96l-1.37-1.37c-.4-.4-.92-.59-1.43-.59-.52 0-1.04.2-1.43.59L10.3 9.45l-7.72 7.72c-.78.78-.78 2.05 0 2.83L4 21.41c.39.39.9.59 1.41.59.51 0 1.02-.2 1.41-.59l7.78-7.78 2.81-2.81c.8-.78.8-2.07 0-2.86zM5.41 20L4 18.59l7.72-7.72 1.47 1.35L5.41 20z\"/>\n",
              "  </svg>\n",
              "      </button>\n",
              "      \n",
              "  <style>\n",
              "    .colab-df-container {\n",
              "      display:flex;\n",
              "      flex-wrap:wrap;\n",
              "      gap: 12px;\n",
              "    }\n",
              "\n",
              "    .colab-df-convert {\n",
              "      background-color: #E8F0FE;\n",
              "      border: none;\n",
              "      border-radius: 50%;\n",
              "      cursor: pointer;\n",
              "      display: none;\n",
              "      fill: #1967D2;\n",
              "      height: 32px;\n",
              "      padding: 0 0 0 0;\n",
              "      width: 32px;\n",
              "    }\n",
              "\n",
              "    .colab-df-convert:hover {\n",
              "      background-color: #E2EBFA;\n",
              "      box-shadow: 0px 1px 2px rgba(60, 64, 67, 0.3), 0px 1px 3px 1px rgba(60, 64, 67, 0.15);\n",
              "      fill: #174EA6;\n",
              "    }\n",
              "\n",
              "    [theme=dark] .colab-df-convert {\n",
              "      background-color: #3B4455;\n",
              "      fill: #D2E3FC;\n",
              "    }\n",
              "\n",
              "    [theme=dark] .colab-df-convert:hover {\n",
              "      background-color: #434B5C;\n",
              "      box-shadow: 0px 1px 3px 1px rgba(0, 0, 0, 0.15);\n",
              "      filter: drop-shadow(0px 1px 2px rgba(0, 0, 0, 0.3));\n",
              "      fill: #FFFFFF;\n",
              "    }\n",
              "  </style>\n",
              "\n",
              "      <script>\n",
              "        const buttonEl =\n",
              "          document.querySelector('#df-57f7ff04-2078-4e9e-973e-af36c985bded button.colab-df-convert');\n",
              "        buttonEl.style.display =\n",
              "          google.colab.kernel.accessAllowed ? 'block' : 'none';\n",
              "\n",
              "        async function convertToInteractive(key) {\n",
              "          const element = document.querySelector('#df-57f7ff04-2078-4e9e-973e-af36c985bded');\n",
              "          const dataTable =\n",
              "            await google.colab.kernel.invokeFunction('convertToInteractive',\n",
              "                                                     [key], {});\n",
              "          if (!dataTable) return;\n",
              "\n",
              "          const docLinkHtml = 'Like what you see? Visit the ' +\n",
              "            '<a target=\"_blank\" href=https://colab.research.google.com/notebooks/data_table.ipynb>data table notebook</a>'\n",
              "            + ' to learn more about interactive tables.';\n",
              "          element.innerHTML = '';\n",
              "          dataTable['output_type'] = 'display_data';\n",
              "          await google.colab.output.renderOutput(dataTable, element);\n",
              "          const docLink = document.createElement('div');\n",
              "          docLink.innerHTML = docLinkHtml;\n",
              "          element.appendChild(docLink);\n",
              "        }\n",
              "      </script>\n",
              "    </div>\n",
              "  </div>\n",
              "  "
            ]
          },
          "metadata": {},
          "execution_count": 153
        }
      ]
    },
    {
      "cell_type": "code",
      "source": [
        "y.head()"
      ],
      "metadata": {
        "colab": {
          "base_uri": "https://localhost:8080/"
        },
        "id": "cbcdK0lj5MTB",
        "outputId": "7320c130-9642-4b47-ec0d-70d027bd459b"
      },
      "execution_count": 154,
      "outputs": [
        {
          "output_type": "execute_result",
          "data": {
            "text/plain": [
              "0    16884.92400\n",
              "1     1725.55230\n",
              "2     4449.46200\n",
              "3    21984.47061\n",
              "4     3866.85520\n",
              "Name: charges, dtype: float64"
            ]
          },
          "metadata": {},
          "execution_count": 154
        }
      ]
    },
    {
      "cell_type": "code",
      "source": [
        "\n",
        "# Create training and test sets\n",
        "from sklearn.model_selection import train_test_split\n",
        "X_train, X_test, y_train, y_test = train_test_split(X, y, test_size=0.2, random_state=10)\n",
        "len(X), len(X_train), len(X_test)"
      ],
      "metadata": {
        "colab": {
          "base_uri": "https://localhost:8080/"
        },
        "id": "VEImvPnE5X5c",
        "outputId": "5a264929-b506-435f-a4de-37fbaa1d74f8"
      },
      "execution_count": 155,
      "outputs": [
        {
          "output_type": "execute_result",
          "data": {
            "text/plain": [
              "(1338, 1070, 268)"
            ]
          },
          "metadata": {},
          "execution_count": 155
        }
      ]
    },
    {
      "cell_type": "code",
      "source": [
        "#Build tensorflow regression model\n",
        "\n",
        "tf.random.set_seed(10)\n",
        "\n",
        "model = tf.keras.Sequential(\n",
        "    [\n",
        "        tf.keras.layers.Dense(100),\n",
        "        tf.keras.layers.Dense(1)\n",
        "    ]\n",
        ")\n",
        "\n",
        "model.compile(loss=tf.keras.losses.mae,\n",
        "              optimizer=tf.keras.optimizers.Adam(learning_rate=0.01),\n",
        "              metrics=[tf.keras.metrics.mae])\n",
        "\n",
        "model.fit(X_train, y_train, epochs=200)"
      ],
      "metadata": {
        "colab": {
          "base_uri": "https://localhost:8080/"
        },
        "id": "1ualOAF_50OB",
        "outputId": "f3752665-4a99-41f0-bab0-93f052f389af"
      },
      "execution_count": 156,
      "outputs": [
        {
          "output_type": "stream",
          "name": "stdout",
          "text": [
            "Epoch 1/200\n",
            "34/34 [==============================] - 0s 2ms/step - loss: 12834.4678 - mean_absolute_error: 12834.4678\n",
            "Epoch 2/200\n",
            "34/34 [==============================] - 0s 2ms/step - loss: 10517.6396 - mean_absolute_error: 10517.6396\n",
            "Epoch 3/200\n",
            "34/34 [==============================] - 0s 2ms/step - loss: 7687.4849 - mean_absolute_error: 7687.4849\n",
            "Epoch 4/200\n",
            "34/34 [==============================] - 0s 2ms/step - loss: 7403.1729 - mean_absolute_error: 7403.1729\n",
            "Epoch 5/200\n",
            "34/34 [==============================] - 0s 2ms/step - loss: 7328.3564 - mean_absolute_error: 7328.3564\n",
            "Epoch 6/200\n",
            "34/34 [==============================] - 0s 2ms/step - loss: 7246.3857 - mean_absolute_error: 7246.3857\n",
            "Epoch 7/200\n",
            "34/34 [==============================] - 0s 2ms/step - loss: 7163.4194 - mean_absolute_error: 7163.4194\n",
            "Epoch 8/200\n",
            "34/34 [==============================] - 0s 2ms/step - loss: 7072.8276 - mean_absolute_error: 7072.8276\n",
            "Epoch 9/200\n",
            "34/34 [==============================] - 0s 2ms/step - loss: 6962.8018 - mean_absolute_error: 6962.8018\n",
            "Epoch 10/200\n",
            "34/34 [==============================] - 0s 2ms/step - loss: 6850.6274 - mean_absolute_error: 6850.6274\n",
            "Epoch 11/200\n",
            "34/34 [==============================] - 0s 2ms/step - loss: 6746.7280 - mean_absolute_error: 6746.7280\n",
            "Epoch 12/200\n",
            "34/34 [==============================] - 0s 2ms/step - loss: 6617.6450 - mean_absolute_error: 6617.6450\n",
            "Epoch 13/200\n",
            "34/34 [==============================] - 0s 2ms/step - loss: 6495.8027 - mean_absolute_error: 6495.8027\n",
            "Epoch 14/200\n",
            "34/34 [==============================] - 0s 2ms/step - loss: 6409.3906 - mean_absolute_error: 6409.3906\n",
            "Epoch 15/200\n",
            "34/34 [==============================] - 0s 2ms/step - loss: 6355.6221 - mean_absolute_error: 6355.6221\n",
            "Epoch 16/200\n",
            "34/34 [==============================] - 0s 2ms/step - loss: 6318.3960 - mean_absolute_error: 6318.3960\n",
            "Epoch 17/200\n",
            "34/34 [==============================] - 0s 2ms/step - loss: 6276.1509 - mean_absolute_error: 6276.1509\n",
            "Epoch 18/200\n",
            "34/34 [==============================] - 0s 3ms/step - loss: 6236.1235 - mean_absolute_error: 6236.1235\n",
            "Epoch 19/200\n",
            "34/34 [==============================] - 0s 2ms/step - loss: 6187.5151 - mean_absolute_error: 6187.5151\n",
            "Epoch 20/200\n",
            "34/34 [==============================] - 0s 2ms/step - loss: 6144.1499 - mean_absolute_error: 6144.1499\n",
            "Epoch 21/200\n",
            "34/34 [==============================] - 0s 2ms/step - loss: 6096.0742 - mean_absolute_error: 6096.0742\n",
            "Epoch 22/200\n",
            "34/34 [==============================] - 0s 2ms/step - loss: 6049.4214 - mean_absolute_error: 6049.4214\n",
            "Epoch 23/200\n",
            "34/34 [==============================] - 0s 2ms/step - loss: 5999.7798 - mean_absolute_error: 5999.7798\n",
            "Epoch 24/200\n",
            "34/34 [==============================] - 0s 2ms/step - loss: 5950.2031 - mean_absolute_error: 5950.2031\n",
            "Epoch 25/200\n",
            "34/34 [==============================] - 0s 2ms/step - loss: 5891.4897 - mean_absolute_error: 5891.4897\n",
            "Epoch 26/200\n",
            "34/34 [==============================] - 0s 2ms/step - loss: 5844.3784 - mean_absolute_error: 5844.3784\n",
            "Epoch 27/200\n",
            "34/34 [==============================] - 0s 2ms/step - loss: 5769.0723 - mean_absolute_error: 5769.0723\n",
            "Epoch 28/200\n",
            "34/34 [==============================] - 0s 2ms/step - loss: 5699.3369 - mean_absolute_error: 5699.3369\n",
            "Epoch 29/200\n",
            "34/34 [==============================] - 0s 2ms/step - loss: 5638.9302 - mean_absolute_error: 5638.9302\n",
            "Epoch 30/200\n",
            "34/34 [==============================] - 0s 2ms/step - loss: 5568.1030 - mean_absolute_error: 5568.1030\n",
            "Epoch 31/200\n",
            "34/34 [==============================] - 0s 2ms/step - loss: 5502.7119 - mean_absolute_error: 5502.7119\n",
            "Epoch 32/200\n",
            "34/34 [==============================] - 0s 2ms/step - loss: 5410.6597 - mean_absolute_error: 5410.6597\n",
            "Epoch 33/200\n",
            "34/34 [==============================] - 0s 2ms/step - loss: 5322.4849 - mean_absolute_error: 5322.4849\n",
            "Epoch 34/200\n",
            "34/34 [==============================] - 0s 2ms/step - loss: 5224.8696 - mean_absolute_error: 5224.8696\n",
            "Epoch 35/200\n",
            "34/34 [==============================] - 0s 2ms/step - loss: 5133.4204 - mean_absolute_error: 5133.4204\n",
            "Epoch 36/200\n",
            "34/34 [==============================] - 0s 2ms/step - loss: 5024.7817 - mean_absolute_error: 5024.7817\n",
            "Epoch 37/200\n",
            "34/34 [==============================] - 0s 2ms/step - loss: 4923.1118 - mean_absolute_error: 4923.1118\n",
            "Epoch 38/200\n",
            "34/34 [==============================] - 0s 2ms/step - loss: 4815.0674 - mean_absolute_error: 4815.0674\n",
            "Epoch 39/200\n",
            "34/34 [==============================] - 0s 2ms/step - loss: 4689.6143 - mean_absolute_error: 4689.6143\n",
            "Epoch 40/200\n",
            "34/34 [==============================] - 0s 2ms/step - loss: 4553.0840 - mean_absolute_error: 4553.0840\n",
            "Epoch 41/200\n",
            "34/34 [==============================] - 0s 2ms/step - loss: 4411.5669 - mean_absolute_error: 4411.5669\n",
            "Epoch 42/200\n",
            "34/34 [==============================] - 0s 2ms/step - loss: 4294.6904 - mean_absolute_error: 4294.6904\n",
            "Epoch 43/200\n",
            "34/34 [==============================] - 0s 2ms/step - loss: 4200.4526 - mean_absolute_error: 4200.4526\n",
            "Epoch 44/200\n",
            "34/34 [==============================] - 0s 2ms/step - loss: 4062.6892 - mean_absolute_error: 4062.6892\n",
            "Epoch 45/200\n",
            "34/34 [==============================] - 0s 2ms/step - loss: 3963.2070 - mean_absolute_error: 3963.2070\n",
            "Epoch 46/200\n",
            "34/34 [==============================] - 0s 2ms/step - loss: 3872.4880 - mean_absolute_error: 3872.4880\n",
            "Epoch 47/200\n",
            "34/34 [==============================] - 0s 2ms/step - loss: 3872.0576 - mean_absolute_error: 3872.0576\n",
            "Epoch 48/200\n",
            "34/34 [==============================] - 0s 2ms/step - loss: 3821.9163 - mean_absolute_error: 3821.9163\n",
            "Epoch 49/200\n",
            "34/34 [==============================] - 0s 3ms/step - loss: 3768.9878 - mean_absolute_error: 3768.9878\n",
            "Epoch 50/200\n",
            "34/34 [==============================] - 0s 2ms/step - loss: 3766.9082 - mean_absolute_error: 3766.9082\n",
            "Epoch 51/200\n",
            "34/34 [==============================] - 0s 2ms/step - loss: 3756.9519 - mean_absolute_error: 3756.9519\n",
            "Epoch 52/200\n",
            "34/34 [==============================] - 0s 2ms/step - loss: 3719.0818 - mean_absolute_error: 3719.0818\n",
            "Epoch 53/200\n",
            "34/34 [==============================] - 0s 2ms/step - loss: 3715.8992 - mean_absolute_error: 3715.8992\n",
            "Epoch 54/200\n",
            "34/34 [==============================] - 0s 2ms/step - loss: 3722.0081 - mean_absolute_error: 3722.0081\n",
            "Epoch 55/200\n",
            "34/34 [==============================] - 0s 2ms/step - loss: 3697.2429 - mean_absolute_error: 3697.2429\n",
            "Epoch 56/200\n",
            "34/34 [==============================] - 0s 2ms/step - loss: 3691.1567 - mean_absolute_error: 3691.1567\n",
            "Epoch 57/200\n",
            "34/34 [==============================] - 0s 2ms/step - loss: 3689.2908 - mean_absolute_error: 3689.2908\n",
            "Epoch 58/200\n",
            "34/34 [==============================] - 0s 2ms/step - loss: 3690.7002 - mean_absolute_error: 3690.7002\n",
            "Epoch 59/200\n",
            "34/34 [==============================] - 0s 3ms/step - loss: 3675.8103 - mean_absolute_error: 3675.8103\n",
            "Epoch 60/200\n",
            "34/34 [==============================] - 0s 2ms/step - loss: 3670.1868 - mean_absolute_error: 3670.1868\n",
            "Epoch 61/200\n",
            "34/34 [==============================] - 0s 2ms/step - loss: 3691.4084 - mean_absolute_error: 3691.4084\n",
            "Epoch 62/200\n",
            "34/34 [==============================] - 0s 2ms/step - loss: 3675.8015 - mean_absolute_error: 3675.8015\n",
            "Epoch 63/200\n",
            "34/34 [==============================] - 0s 3ms/step - loss: 3663.8088 - mean_absolute_error: 3663.8088\n",
            "Epoch 64/200\n",
            "34/34 [==============================] - 0s 2ms/step - loss: 3671.3823 - mean_absolute_error: 3671.3823\n",
            "Epoch 65/200\n",
            "34/34 [==============================] - 0s 2ms/step - loss: 3653.4365 - mean_absolute_error: 3653.4365\n",
            "Epoch 66/200\n",
            "34/34 [==============================] - 0s 2ms/step - loss: 3655.7329 - mean_absolute_error: 3655.7329\n",
            "Epoch 67/200\n",
            "34/34 [==============================] - 0s 2ms/step - loss: 3641.4980 - mean_absolute_error: 3641.4980\n",
            "Epoch 68/200\n",
            "34/34 [==============================] - 0s 2ms/step - loss: 3644.2627 - mean_absolute_error: 3644.2627\n",
            "Epoch 69/200\n",
            "34/34 [==============================] - 0s 2ms/step - loss: 3656.9199 - mean_absolute_error: 3656.9199\n",
            "Epoch 70/200\n",
            "34/34 [==============================] - 0s 2ms/step - loss: 3630.8049 - mean_absolute_error: 3630.8049\n",
            "Epoch 71/200\n",
            "34/34 [==============================] - 0s 2ms/step - loss: 3637.5461 - mean_absolute_error: 3637.5461\n",
            "Epoch 72/200\n",
            "34/34 [==============================] - 0s 2ms/step - loss: 3644.0881 - mean_absolute_error: 3644.0881\n",
            "Epoch 73/200\n",
            "34/34 [==============================] - 0s 2ms/step - loss: 3631.5720 - mean_absolute_error: 3631.5720\n",
            "Epoch 74/200\n",
            "34/34 [==============================] - 0s 2ms/step - loss: 3618.2180 - mean_absolute_error: 3618.2180\n",
            "Epoch 75/200\n",
            "34/34 [==============================] - 0s 2ms/step - loss: 3614.5750 - mean_absolute_error: 3614.5750\n",
            "Epoch 76/200\n",
            "34/34 [==============================] - 0s 2ms/step - loss: 3596.8521 - mean_absolute_error: 3596.8521\n",
            "Epoch 77/200\n",
            "34/34 [==============================] - 0s 3ms/step - loss: 3624.9705 - mean_absolute_error: 3624.9705\n",
            "Epoch 78/200\n",
            "34/34 [==============================] - 0s 2ms/step - loss: 3606.2251 - mean_absolute_error: 3606.2251\n",
            "Epoch 79/200\n",
            "34/34 [==============================] - 0s 3ms/step - loss: 3607.4189 - mean_absolute_error: 3607.4189\n",
            "Epoch 80/200\n",
            "34/34 [==============================] - 0s 2ms/step - loss: 3589.3188 - mean_absolute_error: 3589.3188\n",
            "Epoch 81/200\n",
            "34/34 [==============================] - 0s 2ms/step - loss: 3575.8857 - mean_absolute_error: 3575.8857\n",
            "Epoch 82/200\n",
            "34/34 [==============================] - 0s 2ms/step - loss: 3571.6479 - mean_absolute_error: 3571.6479\n",
            "Epoch 83/200\n",
            "34/34 [==============================] - 0s 2ms/step - loss: 3566.6509 - mean_absolute_error: 3566.6509\n",
            "Epoch 84/200\n",
            "34/34 [==============================] - 0s 2ms/step - loss: 3571.1943 - mean_absolute_error: 3571.1943\n",
            "Epoch 85/200\n",
            "34/34 [==============================] - 0s 3ms/step - loss: 3559.4141 - mean_absolute_error: 3559.4141\n",
            "Epoch 86/200\n",
            "34/34 [==============================] - 0s 2ms/step - loss: 3576.2419 - mean_absolute_error: 3576.2419\n",
            "Epoch 87/200\n",
            "34/34 [==============================] - 0s 2ms/step - loss: 3549.2158 - mean_absolute_error: 3549.2158\n",
            "Epoch 88/200\n",
            "34/34 [==============================] - 0s 2ms/step - loss: 3561.7986 - mean_absolute_error: 3561.7986\n",
            "Epoch 89/200\n",
            "34/34 [==============================] - 0s 2ms/step - loss: 3532.1218 - mean_absolute_error: 3532.1218\n",
            "Epoch 90/200\n",
            "34/34 [==============================] - 0s 2ms/step - loss: 3537.5564 - mean_absolute_error: 3537.5564\n",
            "Epoch 91/200\n",
            "34/34 [==============================] - 0s 3ms/step - loss: 3523.7419 - mean_absolute_error: 3523.7419\n",
            "Epoch 92/200\n",
            "34/34 [==============================] - 0s 2ms/step - loss: 3530.4180 - mean_absolute_error: 3530.4180\n",
            "Epoch 93/200\n",
            "34/34 [==============================] - 0s 2ms/step - loss: 3516.8181 - mean_absolute_error: 3516.8181\n",
            "Epoch 94/200\n",
            "34/34 [==============================] - 0s 2ms/step - loss: 3511.8396 - mean_absolute_error: 3511.8396\n",
            "Epoch 95/200\n",
            "34/34 [==============================] - 0s 2ms/step - loss: 3517.1995 - mean_absolute_error: 3517.1995\n",
            "Epoch 96/200\n",
            "34/34 [==============================] - 0s 2ms/step - loss: 3533.6606 - mean_absolute_error: 3533.6606\n",
            "Epoch 97/200\n",
            "34/34 [==============================] - 0s 2ms/step - loss: 3538.1589 - mean_absolute_error: 3538.1589\n",
            "Epoch 98/200\n",
            "34/34 [==============================] - 0s 2ms/step - loss: 3510.1301 - mean_absolute_error: 3510.1301\n",
            "Epoch 99/200\n",
            "34/34 [==============================] - 0s 2ms/step - loss: 3490.0945 - mean_absolute_error: 3490.0945\n",
            "Epoch 100/200\n",
            "34/34 [==============================] - 0s 2ms/step - loss: 3475.9949 - mean_absolute_error: 3475.9949\n",
            "Epoch 101/200\n",
            "34/34 [==============================] - 0s 4ms/step - loss: 3469.0747 - mean_absolute_error: 3469.0747\n",
            "Epoch 102/200\n",
            "34/34 [==============================] - 0s 2ms/step - loss: 3469.9312 - mean_absolute_error: 3469.9312\n",
            "Epoch 103/200\n",
            "34/34 [==============================] - 0s 2ms/step - loss: 3454.5881 - mean_absolute_error: 3454.5881\n",
            "Epoch 104/200\n",
            "34/34 [==============================] - 0s 2ms/step - loss: 3458.3669 - mean_absolute_error: 3458.3669\n",
            "Epoch 105/200\n",
            "34/34 [==============================] - 0s 2ms/step - loss: 3444.7839 - mean_absolute_error: 3444.7839\n",
            "Epoch 106/200\n",
            "34/34 [==============================] - 0s 2ms/step - loss: 3446.1245 - mean_absolute_error: 3446.1245\n",
            "Epoch 107/200\n",
            "34/34 [==============================] - 0s 2ms/step - loss: 3438.0510 - mean_absolute_error: 3438.0510\n",
            "Epoch 108/200\n",
            "34/34 [==============================] - 0s 2ms/step - loss: 3456.8125 - mean_absolute_error: 3456.8125\n",
            "Epoch 109/200\n",
            "34/34 [==============================] - 0s 2ms/step - loss: 3436.6406 - mean_absolute_error: 3436.6406\n",
            "Epoch 110/200\n",
            "34/34 [==============================] - 0s 2ms/step - loss: 3429.1089 - mean_absolute_error: 3429.1089\n",
            "Epoch 111/200\n",
            "34/34 [==============================] - 0s 2ms/step - loss: 3440.0916 - mean_absolute_error: 3440.0916\n",
            "Epoch 112/200\n",
            "34/34 [==============================] - 0s 2ms/step - loss: 3408.9648 - mean_absolute_error: 3408.9648\n",
            "Epoch 113/200\n",
            "34/34 [==============================] - 0s 2ms/step - loss: 3405.6714 - mean_absolute_error: 3405.6714\n",
            "Epoch 114/200\n",
            "34/34 [==============================] - 0s 2ms/step - loss: 3426.0630 - mean_absolute_error: 3426.0630\n",
            "Epoch 115/200\n",
            "34/34 [==============================] - 0s 2ms/step - loss: 3396.3848 - mean_absolute_error: 3396.3848\n",
            "Epoch 116/200\n",
            "34/34 [==============================] - 0s 2ms/step - loss: 3383.7129 - mean_absolute_error: 3383.7129\n",
            "Epoch 117/200\n",
            "34/34 [==============================] - 0s 2ms/step - loss: 3390.5701 - mean_absolute_error: 3390.5701\n",
            "Epoch 118/200\n",
            "34/34 [==============================] - 0s 3ms/step - loss: 3370.3169 - mean_absolute_error: 3370.3169\n",
            "Epoch 119/200\n",
            "34/34 [==============================] - 0s 2ms/step - loss: 3402.0261 - mean_absolute_error: 3402.0261\n",
            "Epoch 120/200\n",
            "34/34 [==============================] - 0s 2ms/step - loss: 3372.9319 - mean_absolute_error: 3372.9319\n",
            "Epoch 121/200\n",
            "34/34 [==============================] - 0s 2ms/step - loss: 3367.4260 - mean_absolute_error: 3367.4260\n",
            "Epoch 122/200\n",
            "34/34 [==============================] - 0s 2ms/step - loss: 3365.4209 - mean_absolute_error: 3365.4209\n",
            "Epoch 123/200\n",
            "34/34 [==============================] - 0s 2ms/step - loss: 3352.0996 - mean_absolute_error: 3352.0996\n",
            "Epoch 124/200\n",
            "34/34 [==============================] - 0s 2ms/step - loss: 3370.0735 - mean_absolute_error: 3370.0735\n",
            "Epoch 125/200\n",
            "34/34 [==============================] - 0s 2ms/step - loss: 3348.1777 - mean_absolute_error: 3348.1777\n",
            "Epoch 126/200\n",
            "34/34 [==============================] - 0s 2ms/step - loss: 3358.8362 - mean_absolute_error: 3358.8362\n",
            "Epoch 127/200\n",
            "34/34 [==============================] - 0s 2ms/step - loss: 3346.5093 - mean_absolute_error: 3346.5093\n",
            "Epoch 128/200\n",
            "34/34 [==============================] - 0s 2ms/step - loss: 3334.7957 - mean_absolute_error: 3334.7957\n",
            "Epoch 129/200\n",
            "34/34 [==============================] - 0s 2ms/step - loss: 3327.8325 - mean_absolute_error: 3327.8325\n",
            "Epoch 130/200\n",
            "34/34 [==============================] - 0s 2ms/step - loss: 3319.9358 - mean_absolute_error: 3319.9358\n",
            "Epoch 131/200\n",
            "34/34 [==============================] - 0s 2ms/step - loss: 3324.0869 - mean_absolute_error: 3324.0869\n",
            "Epoch 132/200\n",
            "34/34 [==============================] - 0s 2ms/step - loss: 3336.7571 - mean_absolute_error: 3336.7571\n",
            "Epoch 133/200\n",
            "34/34 [==============================] - 0s 3ms/step - loss: 3334.0740 - mean_absolute_error: 3334.0740\n",
            "Epoch 134/200\n",
            "34/34 [==============================] - 0s 2ms/step - loss: 3324.8918 - mean_absolute_error: 3324.8918\n",
            "Epoch 135/200\n",
            "34/34 [==============================] - 0s 2ms/step - loss: 3306.9717 - mean_absolute_error: 3306.9717\n",
            "Epoch 136/200\n",
            "34/34 [==============================] - 0s 3ms/step - loss: 3325.3088 - mean_absolute_error: 3325.3088\n",
            "Epoch 137/200\n",
            "34/34 [==============================] - 0s 2ms/step - loss: 3320.3870 - mean_absolute_error: 3320.3870\n",
            "Epoch 138/200\n",
            "34/34 [==============================] - 0s 2ms/step - loss: 3312.8154 - mean_absolute_error: 3312.8154\n",
            "Epoch 139/200\n",
            "34/34 [==============================] - 0s 2ms/step - loss: 3304.8403 - mean_absolute_error: 3304.8403\n",
            "Epoch 140/200\n",
            "34/34 [==============================] - 0s 2ms/step - loss: 3306.3618 - mean_absolute_error: 3306.3618\n",
            "Epoch 141/200\n",
            "34/34 [==============================] - 0s 2ms/step - loss: 3335.1370 - mean_absolute_error: 3335.1370\n",
            "Epoch 142/200\n",
            "34/34 [==============================] - 0s 3ms/step - loss: 3336.1172 - mean_absolute_error: 3336.1172\n",
            "Epoch 143/200\n",
            "34/34 [==============================] - 0s 2ms/step - loss: 3332.3931 - mean_absolute_error: 3332.3931\n",
            "Epoch 144/200\n",
            "34/34 [==============================] - 0s 2ms/step - loss: 3325.6980 - mean_absolute_error: 3325.6980\n",
            "Epoch 145/200\n",
            "34/34 [==============================] - 0s 2ms/step - loss: 3335.6584 - mean_absolute_error: 3335.6584\n",
            "Epoch 146/200\n",
            "34/34 [==============================] - 0s 2ms/step - loss: 3318.6421 - mean_absolute_error: 3318.6421\n",
            "Epoch 147/200\n",
            "34/34 [==============================] - 0s 2ms/step - loss: 3317.8723 - mean_absolute_error: 3317.8723\n",
            "Epoch 148/200\n",
            "34/34 [==============================] - 0s 2ms/step - loss: 3330.4358 - mean_absolute_error: 3330.4358\n",
            "Epoch 149/200\n",
            "34/34 [==============================] - 0s 2ms/step - loss: 3308.3608 - mean_absolute_error: 3308.3608\n",
            "Epoch 150/200\n",
            "34/34 [==============================] - 0s 2ms/step - loss: 3332.4927 - mean_absolute_error: 3332.4927\n",
            "Epoch 151/200\n",
            "34/34 [==============================] - 0s 3ms/step - loss: 3307.7185 - mean_absolute_error: 3307.7185\n",
            "Epoch 152/200\n",
            "34/34 [==============================] - 0s 2ms/step - loss: 3323.1113 - mean_absolute_error: 3323.1113\n",
            "Epoch 153/200\n",
            "34/34 [==============================] - 0s 2ms/step - loss: 3307.6741 - mean_absolute_error: 3307.6741\n",
            "Epoch 154/200\n",
            "34/34 [==============================] - 0s 3ms/step - loss: 3321.0571 - mean_absolute_error: 3321.0571\n",
            "Epoch 155/200\n",
            "34/34 [==============================] - 0s 2ms/step - loss: 3308.6455 - mean_absolute_error: 3308.6455\n",
            "Epoch 156/200\n",
            "34/34 [==============================] - 0s 2ms/step - loss: 3313.3032 - mean_absolute_error: 3313.3032\n",
            "Epoch 157/200\n",
            "34/34 [==============================] - 0s 2ms/step - loss: 3325.2087 - mean_absolute_error: 3325.2087\n",
            "Epoch 158/200\n",
            "34/34 [==============================] - 0s 3ms/step - loss: 3306.3062 - mean_absolute_error: 3306.3062\n",
            "Epoch 159/200\n",
            "34/34 [==============================] - 0s 3ms/step - loss: 3317.1484 - mean_absolute_error: 3317.1484\n",
            "Epoch 160/200\n",
            "34/34 [==============================] - 0s 4ms/step - loss: 3310.7417 - mean_absolute_error: 3310.7417\n",
            "Epoch 161/200\n",
            "34/34 [==============================] - 0s 4ms/step - loss: 3320.4570 - mean_absolute_error: 3320.4570\n",
            "Epoch 162/200\n",
            "34/34 [==============================] - 0s 3ms/step - loss: 3316.9468 - mean_absolute_error: 3316.9468\n",
            "Epoch 163/200\n",
            "34/34 [==============================] - 0s 4ms/step - loss: 3350.1301 - mean_absolute_error: 3350.1301\n",
            "Epoch 164/200\n",
            "34/34 [==============================] - 0s 4ms/step - loss: 3351.3743 - mean_absolute_error: 3351.3743\n",
            "Epoch 165/200\n",
            "34/34 [==============================] - 0s 4ms/step - loss: 3318.5601 - mean_absolute_error: 3318.5601\n",
            "Epoch 166/200\n",
            "34/34 [==============================] - 0s 3ms/step - loss: 3313.5959 - mean_absolute_error: 3313.5959\n",
            "Epoch 167/200\n",
            "34/34 [==============================] - 0s 3ms/step - loss: 3321.2661 - mean_absolute_error: 3321.2661\n",
            "Epoch 168/200\n",
            "34/34 [==============================] - 0s 4ms/step - loss: 3333.4617 - mean_absolute_error: 3333.4617\n",
            "Epoch 169/200\n",
            "34/34 [==============================] - 0s 4ms/step - loss: 3308.7759 - mean_absolute_error: 3308.7759\n",
            "Epoch 170/200\n",
            "34/34 [==============================] - 0s 5ms/step - loss: 3312.1340 - mean_absolute_error: 3312.1340\n",
            "Epoch 171/200\n",
            "34/34 [==============================] - 0s 3ms/step - loss: 3314.7527 - mean_absolute_error: 3314.7527\n",
            "Epoch 172/200\n",
            "34/34 [==============================] - 0s 4ms/step - loss: 3342.6504 - mean_absolute_error: 3342.6504\n",
            "Epoch 173/200\n",
            "34/34 [==============================] - 0s 3ms/step - loss: 3303.2769 - mean_absolute_error: 3303.2769\n",
            "Epoch 174/200\n",
            "34/34 [==============================] - 0s 3ms/step - loss: 3308.3291 - mean_absolute_error: 3308.3291\n",
            "Epoch 175/200\n",
            "34/34 [==============================] - 0s 4ms/step - loss: 3326.7078 - mean_absolute_error: 3326.7078\n",
            "Epoch 176/200\n",
            "34/34 [==============================] - 0s 4ms/step - loss: 3302.1804 - mean_absolute_error: 3302.1804\n",
            "Epoch 177/200\n",
            "34/34 [==============================] - 0s 4ms/step - loss: 3324.2720 - mean_absolute_error: 3324.2720\n",
            "Epoch 178/200\n",
            "34/34 [==============================] - 0s 3ms/step - loss: 3305.2637 - mean_absolute_error: 3305.2637\n",
            "Epoch 179/200\n",
            "34/34 [==============================] - 0s 3ms/step - loss: 3326.6335 - mean_absolute_error: 3326.6335\n",
            "Epoch 180/200\n",
            "34/34 [==============================] - 0s 4ms/step - loss: 3320.6667 - mean_absolute_error: 3320.6667\n",
            "Epoch 181/200\n",
            "34/34 [==============================] - 0s 3ms/step - loss: 3352.2820 - mean_absolute_error: 3352.2820\n",
            "Epoch 182/200\n",
            "34/34 [==============================] - 0s 4ms/step - loss: 3308.8384 - mean_absolute_error: 3308.8384\n",
            "Epoch 183/200\n",
            "34/34 [==============================] - 0s 4ms/step - loss: 3336.3594 - mean_absolute_error: 3336.3594\n",
            "Epoch 184/200\n",
            "34/34 [==============================] - 0s 4ms/step - loss: 3317.7170 - mean_absolute_error: 3317.7170\n",
            "Epoch 185/200\n",
            "34/34 [==============================] - 0s 4ms/step - loss: 3307.3691 - mean_absolute_error: 3307.3691\n",
            "Epoch 186/200\n",
            "34/34 [==============================] - 0s 4ms/step - loss: 3300.6177 - mean_absolute_error: 3300.6177\n",
            "Epoch 187/200\n",
            "34/34 [==============================] - 0s 4ms/step - loss: 3312.6926 - mean_absolute_error: 3312.6926\n",
            "Epoch 188/200\n",
            "34/34 [==============================] - 0s 4ms/step - loss: 3353.5525 - mean_absolute_error: 3353.5525\n",
            "Epoch 189/200\n",
            "34/34 [==============================] - 0s 3ms/step - loss: 3303.9749 - mean_absolute_error: 3303.9749\n",
            "Epoch 190/200\n",
            "34/34 [==============================] - 0s 3ms/step - loss: 3314.2500 - mean_absolute_error: 3314.2500\n",
            "Epoch 191/200\n",
            "34/34 [==============================] - 0s 3ms/step - loss: 3308.0735 - mean_absolute_error: 3308.0735\n",
            "Epoch 192/200\n",
            "34/34 [==============================] - 0s 3ms/step - loss: 3305.1096 - mean_absolute_error: 3305.1096\n",
            "Epoch 193/200\n",
            "34/34 [==============================] - 0s 4ms/step - loss: 3310.2166 - mean_absolute_error: 3310.2166\n",
            "Epoch 194/200\n",
            "34/34 [==============================] - 0s 4ms/step - loss: 3341.7480 - mean_absolute_error: 3341.7480\n",
            "Epoch 195/200\n",
            "34/34 [==============================] - 0s 3ms/step - loss: 3327.2002 - mean_absolute_error: 3327.2002\n",
            "Epoch 196/200\n",
            "34/34 [==============================] - 0s 3ms/step - loss: 3329.6240 - mean_absolute_error: 3329.6240\n",
            "Epoch 197/200\n",
            "34/34 [==============================] - 0s 4ms/step - loss: 3306.9883 - mean_absolute_error: 3306.9883\n",
            "Epoch 198/200\n",
            "34/34 [==============================] - 0s 3ms/step - loss: 3312.4519 - mean_absolute_error: 3312.4519\n",
            "Epoch 199/200\n",
            "34/34 [==============================] - 0s 3ms/step - loss: 3314.2749 - mean_absolute_error: 3314.2749\n",
            "Epoch 200/200\n",
            "34/34 [==============================] - 0s 4ms/step - loss: 3300.5129 - mean_absolute_error: 3300.5129\n"
          ]
        },
        {
          "output_type": "execute_result",
          "data": {
            "text/plain": [
              "<keras.callbacks.History at 0x7f642a778d30>"
            ]
          },
          "metadata": {},
          "execution_count": 156
        }
      ]
    },
    {
      "cell_type": "code",
      "source": [
        "model.evaluate(X_test, y_test)"
      ],
      "metadata": {
        "colab": {
          "base_uri": "https://localhost:8080/"
        },
        "id": "KgqLynTd52pI",
        "outputId": "61c572dc-d58b-41eb-fa56-2e44e3d643ce"
      },
      "execution_count": 157,
      "outputs": [
        {
          "output_type": "stream",
          "name": "stdout",
          "text": [
            "9/9 [==============================] - 0s 2ms/step - loss: 3866.9558 - mean_absolute_error: 3866.9558\n"
          ]
        },
        {
          "output_type": "execute_result",
          "data": {
            "text/plain": [
              "[3866.955810546875, 3866.955810546875]"
            ]
          },
          "metadata": {},
          "execution_count": 157
        }
      ]
    },
    {
      "cell_type": "code",
      "source": [
        "y_train.mean(), y_train.median()"
      ],
      "metadata": {
        "colab": {
          "base_uri": "https://localhost:8080/"
        },
        "id": "7R25gO3c59F9",
        "outputId": "4908d1bc-cc6c-45c0-eb5c-27fe32496fdf"
      },
      "execution_count": 158,
      "outputs": [
        {
          "output_type": "execute_result",
          "data": {
            "text/plain": [
              "(13199.839422541123, 9273.6388)"
            ]
          },
          "metadata": {},
          "execution_count": 158
        }
      ]
    },
    {
      "cell_type": "markdown",
      "source": [
        "# Improve the model\n",
        "\n",
        "- Change various Optimizer parameters"
      ],
      "metadata": {
        "id": "wGX2ojJj9K7C"
      }
    },
    {
      "cell_type": "code",
      "source": [
        "#Build tensorflow regression model\n",
        "\n",
        "tf.random.set_seed(10)\n",
        "\n",
        "model = tf.keras.Sequential(\n",
        "    [\n",
        "        tf.keras.layers.Dense(50),\n",
        "        tf.keras.layers.Dense(1)\n",
        "    ]\n",
        ")\n",
        "\n",
        "model.compile(loss=tf.keras.losses.mae,\n",
        "              optimizer=tf.keras.optimizers.Adam(learning_rate=0.1, beta_1=0.8, beta_2=0.9, epsilon=1e-7),\n",
        "              metrics=[tf.keras.metrics.mae])\n",
        "\n",
        "history = model.fit(X_train, y_train, epochs=100, verbose=1)"
      ],
      "metadata": {
        "colab": {
          "base_uri": "https://localhost:8080/"
        },
        "id": "dUC4DPFvMotX",
        "outputId": "24150e57-756e-4a42-ae2a-33294361dd7d"
      },
      "execution_count": 159,
      "outputs": [
        {
          "output_type": "stream",
          "name": "stdout",
          "text": [
            "Epoch 1/100\n",
            "34/34 [==============================] - 0s 2ms/step - loss: 9186.0400 - mean_absolute_error: 9186.0400\n",
            "Epoch 2/100\n",
            "34/34 [==============================] - 0s 2ms/step - loss: 7012.6943 - mean_absolute_error: 7012.6943\n",
            "Epoch 3/100\n",
            "34/34 [==============================] - 0s 2ms/step - loss: 6485.6079 - mean_absolute_error: 6485.6079\n",
            "Epoch 4/100\n",
            "34/34 [==============================] - 0s 2ms/step - loss: 6197.4844 - mean_absolute_error: 6197.4844\n",
            "Epoch 5/100\n",
            "34/34 [==============================] - 0s 2ms/step - loss: 5943.7939 - mean_absolute_error: 5943.7939\n",
            "Epoch 6/100\n",
            "34/34 [==============================] - 0s 2ms/step - loss: 5613.2271 - mean_absolute_error: 5613.2271\n",
            "Epoch 7/100\n",
            "34/34 [==============================] - 0s 2ms/step - loss: 5079.5576 - mean_absolute_error: 5079.5576\n",
            "Epoch 8/100\n",
            "34/34 [==============================] - 0s 2ms/step - loss: 4372.5161 - mean_absolute_error: 4372.5161\n",
            "Epoch 9/100\n",
            "34/34 [==============================] - 0s 2ms/step - loss: 3873.7539 - mean_absolute_error: 3873.7539\n",
            "Epoch 10/100\n",
            "34/34 [==============================] - 0s 2ms/step - loss: 3806.6440 - mean_absolute_error: 3806.6440\n",
            "Epoch 11/100\n",
            "34/34 [==============================] - 0s 2ms/step - loss: 3762.5593 - mean_absolute_error: 3762.5593\n",
            "Epoch 12/100\n",
            "34/34 [==============================] - 0s 2ms/step - loss: 3694.5564 - mean_absolute_error: 3694.5564\n",
            "Epoch 13/100\n",
            "34/34 [==============================] - 0s 2ms/step - loss: 3755.5806 - mean_absolute_error: 3755.5806\n",
            "Epoch 14/100\n",
            "34/34 [==============================] - 0s 2ms/step - loss: 3679.1326 - mean_absolute_error: 3679.1326\n",
            "Epoch 15/100\n",
            "34/34 [==============================] - 0s 2ms/step - loss: 3663.2812 - mean_absolute_error: 3663.2812\n",
            "Epoch 16/100\n",
            "34/34 [==============================] - 0s 2ms/step - loss: 3629.5208 - mean_absolute_error: 3629.5208\n",
            "Epoch 17/100\n",
            "34/34 [==============================] - 0s 2ms/step - loss: 3625.6743 - mean_absolute_error: 3625.6743\n",
            "Epoch 18/100\n",
            "34/34 [==============================] - 0s 2ms/step - loss: 3550.6318 - mean_absolute_error: 3550.6318\n",
            "Epoch 19/100\n",
            "34/34 [==============================] - 0s 2ms/step - loss: 3648.6292 - mean_absolute_error: 3648.6292\n",
            "Epoch 20/100\n",
            "34/34 [==============================] - 0s 2ms/step - loss: 3548.7886 - mean_absolute_error: 3548.7886\n",
            "Epoch 21/100\n",
            "34/34 [==============================] - 0s 2ms/step - loss: 3523.8977 - mean_absolute_error: 3523.8977\n",
            "Epoch 22/100\n",
            "34/34 [==============================] - 0s 2ms/step - loss: 3616.8965 - mean_absolute_error: 3616.8965\n",
            "Epoch 23/100\n",
            "34/34 [==============================] - 0s 2ms/step - loss: 3488.0583 - mean_absolute_error: 3488.0583\n",
            "Epoch 24/100\n",
            "34/34 [==============================] - 0s 2ms/step - loss: 3444.4060 - mean_absolute_error: 3444.4060\n",
            "Epoch 25/100\n",
            "34/34 [==============================] - 0s 2ms/step - loss: 3458.2686 - mean_absolute_error: 3458.2686\n",
            "Epoch 26/100\n",
            "34/34 [==============================] - 0s 2ms/step - loss: 3484.7349 - mean_absolute_error: 3484.7349\n",
            "Epoch 27/100\n",
            "34/34 [==============================] - 0s 2ms/step - loss: 3422.6228 - mean_absolute_error: 3422.6228\n",
            "Epoch 28/100\n",
            "34/34 [==============================] - 0s 2ms/step - loss: 3445.8494 - mean_absolute_error: 3445.8494\n",
            "Epoch 29/100\n",
            "34/34 [==============================] - 0s 2ms/step - loss: 3421.1926 - mean_absolute_error: 3421.1926\n",
            "Epoch 30/100\n",
            "34/34 [==============================] - 0s 2ms/step - loss: 3432.4292 - mean_absolute_error: 3432.4292\n",
            "Epoch 31/100\n",
            "34/34 [==============================] - 0s 2ms/step - loss: 3551.6543 - mean_absolute_error: 3551.6543\n",
            "Epoch 32/100\n",
            "34/34 [==============================] - 0s 2ms/step - loss: 3418.2058 - mean_absolute_error: 3418.2058\n",
            "Epoch 33/100\n",
            "34/34 [==============================] - 0s 2ms/step - loss: 3455.6436 - mean_absolute_error: 3455.6436\n",
            "Epoch 34/100\n",
            "34/34 [==============================] - 0s 2ms/step - loss: 3433.9685 - mean_absolute_error: 3433.9685\n",
            "Epoch 35/100\n",
            "34/34 [==============================] - 0s 2ms/step - loss: 3395.5530 - mean_absolute_error: 3395.5530\n",
            "Epoch 36/100\n",
            "34/34 [==============================] - 0s 2ms/step - loss: 3392.6799 - mean_absolute_error: 3392.6799\n",
            "Epoch 37/100\n",
            "34/34 [==============================] - 0s 2ms/step - loss: 3385.9939 - mean_absolute_error: 3385.9939\n",
            "Epoch 38/100\n",
            "34/34 [==============================] - 0s 2ms/step - loss: 3462.5627 - mean_absolute_error: 3462.5627\n",
            "Epoch 39/100\n",
            "34/34 [==============================] - 0s 2ms/step - loss: 3382.6311 - mean_absolute_error: 3382.6311\n",
            "Epoch 40/100\n",
            "34/34 [==============================] - 0s 2ms/step - loss: 3429.0581 - mean_absolute_error: 3429.0581\n",
            "Epoch 41/100\n",
            "34/34 [==============================] - 0s 2ms/step - loss: 3359.1575 - mean_absolute_error: 3359.1575\n",
            "Epoch 42/100\n",
            "34/34 [==============================] - 0s 2ms/step - loss: 3444.8340 - mean_absolute_error: 3444.8340\n",
            "Epoch 43/100\n",
            "34/34 [==============================] - 0s 2ms/step - loss: 3411.7959 - mean_absolute_error: 3411.7959\n",
            "Epoch 44/100\n",
            "34/34 [==============================] - 0s 2ms/step - loss: 3429.0601 - mean_absolute_error: 3429.0601\n",
            "Epoch 45/100\n",
            "34/34 [==============================] - 0s 2ms/step - loss: 3464.0347 - mean_absolute_error: 3464.0347\n",
            "Epoch 46/100\n",
            "34/34 [==============================] - 0s 2ms/step - loss: 3421.1843 - mean_absolute_error: 3421.1843\n",
            "Epoch 47/100\n",
            "34/34 [==============================] - 0s 2ms/step - loss: 3447.0459 - mean_absolute_error: 3447.0459\n",
            "Epoch 48/100\n",
            "34/34 [==============================] - 0s 2ms/step - loss: 3400.0203 - mean_absolute_error: 3400.0203\n",
            "Epoch 49/100\n",
            "34/34 [==============================] - 0s 2ms/step - loss: 3441.2300 - mean_absolute_error: 3441.2300\n",
            "Epoch 50/100\n",
            "34/34 [==============================] - 0s 2ms/step - loss: 3413.2188 - mean_absolute_error: 3413.2188\n",
            "Epoch 51/100\n",
            "34/34 [==============================] - 0s 2ms/step - loss: 3636.8362 - mean_absolute_error: 3636.8362\n",
            "Epoch 52/100\n",
            "34/34 [==============================] - 0s 2ms/step - loss: 3386.6138 - mean_absolute_error: 3386.6138\n",
            "Epoch 53/100\n",
            "34/34 [==============================] - 0s 2ms/step - loss: 3368.8906 - mean_absolute_error: 3368.8906\n",
            "Epoch 54/100\n",
            "34/34 [==============================] - 0s 2ms/step - loss: 3489.6848 - mean_absolute_error: 3489.6848\n",
            "Epoch 55/100\n",
            "34/34 [==============================] - 0s 2ms/step - loss: 3475.8833 - mean_absolute_error: 3475.8833\n",
            "Epoch 56/100\n",
            "34/34 [==============================] - 0s 2ms/step - loss: 3401.3726 - mean_absolute_error: 3401.3726\n",
            "Epoch 57/100\n",
            "34/34 [==============================] - 0s 2ms/step - loss: 3416.7917 - mean_absolute_error: 3416.7917\n",
            "Epoch 58/100\n",
            "34/34 [==============================] - 0s 2ms/step - loss: 3398.5432 - mean_absolute_error: 3398.5432\n",
            "Epoch 59/100\n",
            "34/34 [==============================] - 0s 2ms/step - loss: 3404.4155 - mean_absolute_error: 3404.4155\n",
            "Epoch 60/100\n",
            "34/34 [==============================] - 0s 2ms/step - loss: 3420.2026 - mean_absolute_error: 3420.2026\n",
            "Epoch 61/100\n",
            "34/34 [==============================] - 0s 2ms/step - loss: 3403.3474 - mean_absolute_error: 3403.3474\n",
            "Epoch 62/100\n",
            "34/34 [==============================] - 0s 2ms/step - loss: 3429.8806 - mean_absolute_error: 3429.8806\n",
            "Epoch 63/100\n",
            "34/34 [==============================] - 0s 2ms/step - loss: 3378.0059 - mean_absolute_error: 3378.0059\n",
            "Epoch 64/100\n",
            "34/34 [==============================] - 0s 2ms/step - loss: 3455.4429 - mean_absolute_error: 3455.4429\n",
            "Epoch 65/100\n",
            "34/34 [==============================] - 0s 2ms/step - loss: 3354.3328 - mean_absolute_error: 3354.3328\n",
            "Epoch 66/100\n",
            "34/34 [==============================] - 0s 2ms/step - loss: 3378.3657 - mean_absolute_error: 3378.3657\n",
            "Epoch 67/100\n",
            "34/34 [==============================] - 0s 2ms/step - loss: 3438.8687 - mean_absolute_error: 3438.8687\n",
            "Epoch 68/100\n",
            "34/34 [==============================] - 0s 2ms/step - loss: 3429.5225 - mean_absolute_error: 3429.5225\n",
            "Epoch 69/100\n",
            "34/34 [==============================] - 0s 2ms/step - loss: 3421.5471 - mean_absolute_error: 3421.5471\n",
            "Epoch 70/100\n",
            "34/34 [==============================] - 0s 2ms/step - loss: 3446.7529 - mean_absolute_error: 3446.7529\n",
            "Epoch 71/100\n",
            "34/34 [==============================] - 0s 2ms/step - loss: 3393.1821 - mean_absolute_error: 3393.1821\n",
            "Epoch 72/100\n",
            "34/34 [==============================] - 0s 2ms/step - loss: 3437.4626 - mean_absolute_error: 3437.4626\n",
            "Epoch 73/100\n",
            "34/34 [==============================] - 0s 2ms/step - loss: 3461.2334 - mean_absolute_error: 3461.2334\n",
            "Epoch 74/100\n",
            "34/34 [==============================] - 0s 2ms/step - loss: 3417.7324 - mean_absolute_error: 3417.7324\n",
            "Epoch 75/100\n",
            "34/34 [==============================] - 0s 2ms/step - loss: 3393.7456 - mean_absolute_error: 3393.7456\n",
            "Epoch 76/100\n",
            "34/34 [==============================] - 0s 2ms/step - loss: 3402.1755 - mean_absolute_error: 3402.1755\n",
            "Epoch 77/100\n",
            "34/34 [==============================] - 0s 2ms/step - loss: 3408.3628 - mean_absolute_error: 3408.3628\n",
            "Epoch 78/100\n",
            "34/34 [==============================] - 0s 2ms/step - loss: 3488.4897 - mean_absolute_error: 3488.4897\n",
            "Epoch 79/100\n",
            "34/34 [==============================] - 0s 2ms/step - loss: 3438.2927 - mean_absolute_error: 3438.2927\n",
            "Epoch 80/100\n",
            "34/34 [==============================] - 0s 2ms/step - loss: 3435.3806 - mean_absolute_error: 3435.3806\n",
            "Epoch 81/100\n",
            "34/34 [==============================] - 0s 2ms/step - loss: 3422.8506 - mean_absolute_error: 3422.8506\n",
            "Epoch 82/100\n",
            "34/34 [==============================] - 0s 2ms/step - loss: 3390.1929 - mean_absolute_error: 3390.1929\n",
            "Epoch 83/100\n",
            "34/34 [==============================] - 0s 2ms/step - loss: 3370.3015 - mean_absolute_error: 3370.3015\n",
            "Epoch 84/100\n",
            "34/34 [==============================] - 0s 2ms/step - loss: 3468.4539 - mean_absolute_error: 3468.4539\n",
            "Epoch 85/100\n",
            "34/34 [==============================] - 0s 2ms/step - loss: 3360.5315 - mean_absolute_error: 3360.5315\n",
            "Epoch 86/100\n",
            "34/34 [==============================] - 0s 2ms/step - loss: 3486.3914 - mean_absolute_error: 3486.3914\n",
            "Epoch 87/100\n",
            "34/34 [==============================] - 0s 2ms/step - loss: 3355.7061 - mean_absolute_error: 3355.7061\n",
            "Epoch 88/100\n",
            "34/34 [==============================] - 0s 2ms/step - loss: 3408.1130 - mean_absolute_error: 3408.1130\n",
            "Epoch 89/100\n",
            "34/34 [==============================] - 0s 2ms/step - loss: 3401.3984 - mean_absolute_error: 3401.3984\n",
            "Epoch 90/100\n",
            "34/34 [==============================] - 0s 2ms/step - loss: 3408.0928 - mean_absolute_error: 3408.0928\n",
            "Epoch 91/100\n",
            "34/34 [==============================] - 0s 2ms/step - loss: 3444.0852 - mean_absolute_error: 3444.0852\n",
            "Epoch 92/100\n",
            "34/34 [==============================] - 0s 2ms/step - loss: 3465.1328 - mean_absolute_error: 3465.1328\n",
            "Epoch 93/100\n",
            "34/34 [==============================] - 0s 2ms/step - loss: 3433.4629 - mean_absolute_error: 3433.4629\n",
            "Epoch 94/100\n",
            "34/34 [==============================] - 0s 2ms/step - loss: 3426.3215 - mean_absolute_error: 3426.3215\n",
            "Epoch 95/100\n",
            "34/34 [==============================] - 0s 2ms/step - loss: 3409.0898 - mean_absolute_error: 3409.0898\n",
            "Epoch 96/100\n",
            "34/34 [==============================] - 0s 2ms/step - loss: 3366.6772 - mean_absolute_error: 3366.6772\n",
            "Epoch 97/100\n",
            "34/34 [==============================] - 0s 2ms/step - loss: 3342.4241 - mean_absolute_error: 3342.4241\n",
            "Epoch 98/100\n",
            "34/34 [==============================] - 0s 2ms/step - loss: 3436.3733 - mean_absolute_error: 3436.3733\n",
            "Epoch 99/100\n",
            "34/34 [==============================] - 0s 2ms/step - loss: 3411.5083 - mean_absolute_error: 3411.5083\n",
            "Epoch 100/100\n",
            "34/34 [==============================] - 0s 2ms/step - loss: 3387.4634 - mean_absolute_error: 3387.4634\n"
          ]
        }
      ]
    },
    {
      "cell_type": "code",
      "source": [
        "model.evaluate(X_test, y_test)"
      ],
      "metadata": {
        "colab": {
          "base_uri": "https://localhost:8080/"
        },
        "id": "Nog1Gc0eKCKT",
        "outputId": "a817022e-39c2-48fe-eca5-91e6521c9075"
      },
      "execution_count": 160,
      "outputs": [
        {
          "output_type": "stream",
          "name": "stdout",
          "text": [
            "9/9 [==============================] - 0s 2ms/step - loss: 3896.4114 - mean_absolute_error: 3896.4114\n"
          ]
        },
        {
          "output_type": "execute_result",
          "data": {
            "text/plain": [
              "[3896.411376953125, 3896.411376953125]"
            ]
          },
          "metadata": {},
          "execution_count": 160
        }
      ]
    },
    {
      "cell_type": "code",
      "source": [
        "pd.DataFrame(history.history).plot()\n",
        "plt.xlabel(\"epochs\")\n",
        "plt.ylabel(\"loss/mae\")"
      ],
      "metadata": {
        "colab": {
          "base_uri": "https://localhost:8080/",
          "height": 297
        },
        "id": "BvQYJQYrKOqk",
        "outputId": "e5788517-69c8-40bb-ab73-07e899404bd1"
      },
      "execution_count": 161,
      "outputs": [
        {
          "output_type": "execute_result",
          "data": {
            "text/plain": [
              "Text(0, 0.5, 'loss/mae')"
            ]
          },
          "metadata": {},
          "execution_count": 161
        },
        {
          "output_type": "display_data",
          "data": {
            "text/plain": [
              "<Figure size 432x288 with 1 Axes>"
            ],
            "image/png": "[encoded data removed]"
          },
          "metadata": {
            "needs_background": "light"
          }
        }
      ]
    },
    {
      "cell_type": "code",
      "source": [
        "#Build tensorflow regression model\n",
        "\n",
        "tf.random.set_seed(10)\n",
        "\n",
        "model = tf.keras.Sequential(\n",
        "    [\n",
        "        tf.keras.layers.Dense(50),\n",
        "        tf.keras.layers.Dense(1)\n",
        "    ]\n",
        ")\n",
        "\n",
        "model.compile(loss=tf.keras.losses.mae,\n",
        "              optimizer=tf.keras.optimizers.Adam(learning_rate=0.1, beta_1=0.8, beta_2=0.9, epsilon=1e-7),\n",
        "              metrics=[tf.keras.metrics.mae])\n",
        "\n",
        "callback = tf.keras.callbacks.EarlyStopping(monitor='val_loss', patience=10)\n",
        "\n",
        "history = model.fit(X_train, y_train, epochs=100, verbose=1, callbacks=[callback], validation_data=(X_test, y_test),)"
      ],
      "metadata": {
        "colab": {
          "base_uri": "https://localhost:8080/"
        },
        "id": "kkkocteiXOuU",
        "outputId": "a8c091ed-a1a9-47ea-caa6-47ff361bb79b"
      },
      "execution_count": 162,
      "outputs": [
        {
          "output_type": "stream",
          "name": "stdout",
          "text": [
            "Epoch 1/100\n",
            "34/34 [==============================] - 1s 8ms/step - loss: 9186.0400 - mean_absolute_error: 9186.0400 - val_loss: 7484.5122 - val_mean_absolute_error: 7484.5122\n",
            "Epoch 2/100\n",
            "34/34 [==============================] - 0s 3ms/step - loss: 7012.6943 - mean_absolute_error: 7012.6943 - val_loss: 6845.4883 - val_mean_absolute_error: 6845.4883\n",
            "Epoch 3/100\n",
            "34/34 [==============================] - 0s 3ms/step - loss: 6485.6079 - mean_absolute_error: 6485.6079 - val_loss: 6539.7065 - val_mean_absolute_error: 6539.7065\n",
            "Epoch 4/100\n",
            "34/34 [==============================] - 0s 3ms/step - loss: 6197.4844 - mean_absolute_error: 6197.4844 - val_loss: 6325.3882 - val_mean_absolute_error: 6325.3882\n",
            "Epoch 5/100\n",
            "34/34 [==============================] - 0s 3ms/step - loss: 5943.7939 - mean_absolute_error: 5943.7939 - val_loss: 6226.5596 - val_mean_absolute_error: 6226.5596\n",
            "Epoch 6/100\n",
            "34/34 [==============================] - 0s 3ms/step - loss: 5613.2271 - mean_absolute_error: 5613.2271 - val_loss: 5550.2993 - val_mean_absolute_error: 5550.2993\n",
            "Epoch 7/100\n",
            "34/34 [==============================] - 0s 3ms/step - loss: 5079.5576 - mean_absolute_error: 5079.5576 - val_loss: 4882.6973 - val_mean_absolute_error: 4882.6973\n",
            "Epoch 8/100\n",
            "34/34 [==============================] - 0s 3ms/step - loss: 4372.5161 - mean_absolute_error: 4372.5161 - val_loss: 4129.2104 - val_mean_absolute_error: 4129.2104\n",
            "Epoch 9/100\n",
            "34/34 [==============================] - 0s 3ms/step - loss: 3873.7539 - mean_absolute_error: 3873.7539 - val_loss: 3898.3083 - val_mean_absolute_error: 3898.3083\n",
            "Epoch 10/100\n",
            "34/34 [==============================] - 0s 3ms/step - loss: 3806.6440 - mean_absolute_error: 3806.6440 - val_loss: 3991.3699 - val_mean_absolute_error: 3991.3699\n",
            "Epoch 11/100\n",
            "34/34 [==============================] - 0s 3ms/step - loss: 3762.5593 - mean_absolute_error: 3762.5593 - val_loss: 3853.1501 - val_mean_absolute_error: 3853.1501\n",
            "Epoch 12/100\n",
            "34/34 [==============================] - 0s 3ms/step - loss: 3694.5564 - mean_absolute_error: 3694.5564 - val_loss: 3849.1499 - val_mean_absolute_error: 3849.1499\n",
            "Epoch 13/100\n",
            "34/34 [==============================] - 0s 3ms/step - loss: 3755.5806 - mean_absolute_error: 3755.5806 - val_loss: 3901.8342 - val_mean_absolute_error: 3901.8342\n",
            "Epoch 14/100\n",
            "34/34 [==============================] - 0s 3ms/step - loss: 3679.1326 - mean_absolute_error: 3679.1326 - val_loss: 3996.9082 - val_mean_absolute_error: 3996.9082\n",
            "Epoch 15/100\n",
            "34/34 [==============================] - 0s 3ms/step - loss: 3663.2812 - mean_absolute_error: 3663.2812 - val_loss: 4373.8291 - val_mean_absolute_error: 4373.8291\n",
            "Epoch 16/100\n",
            "34/34 [==============================] - 0s 3ms/step - loss: 3629.5208 - mean_absolute_error: 3629.5208 - val_loss: 3976.9343 - val_mean_absolute_error: 3976.9343\n",
            "Epoch 17/100\n",
            "34/34 [==============================] - 0s 3ms/step - loss: 3625.6743 - mean_absolute_error: 3625.6743 - val_loss: 3958.7686 - val_mean_absolute_error: 3958.7686\n",
            "Epoch 18/100\n",
            "34/34 [==============================] - 0s 3ms/step - loss: 3550.6318 - mean_absolute_error: 3550.6318 - val_loss: 3879.4761 - val_mean_absolute_error: 3879.4761\n",
            "Epoch 19/100\n",
            "34/34 [==============================] - 0s 3ms/step - loss: 3648.6292 - mean_absolute_error: 3648.6292 - val_loss: 4055.6792 - val_mean_absolute_error: 4055.6792\n",
            "Epoch 20/100\n",
            "34/34 [==============================] - 0s 3ms/step - loss: 3548.7886 - mean_absolute_error: 3548.7886 - val_loss: 3896.1104 - val_mean_absolute_error: 3896.1104\n",
            "Epoch 21/100\n",
            "34/34 [==============================] - 0s 3ms/step - loss: 3523.8977 - mean_absolute_error: 3523.8977 - val_loss: 3953.5928 - val_mean_absolute_error: 3953.5928\n",
            "Epoch 22/100\n",
            "34/34 [==============================] - 0s 3ms/step - loss: 3616.8965 - mean_absolute_error: 3616.8965 - val_loss: 4032.7009 - val_mean_absolute_error: 4032.7009\n"
          ]
        }
      ]
    },
    {
      "cell_type": "code",
      "source": [
        "model.evaluate(X_test, y_test)"
      ],
      "metadata": {
        "colab": {
          "base_uri": "https://localhost:8080/"
        },
        "id": "4iWkbGk5YZoA",
        "outputId": "502b472b-36d8-423e-c1da-38f351a9c8ec"
      },
      "execution_count": 163,
      "outputs": [
        {
          "output_type": "stream",
          "name": "stdout",
          "text": [
            "9/9 [==============================] - 0s 2ms/step - loss: 4032.7009 - mean_absolute_error: 4032.7009\n"
          ]
        },
        {
          "output_type": "execute_result",
          "data": {
            "text/plain": [
              "[4032.700927734375, 4032.700927734375]"
            ]
          },
          "metadata": {},
          "execution_count": 163
        }
      ]
    },
    {
      "cell_type": "code",
      "source": [
        "pd.DataFrame(history.history).plot()\n",
        "plt.xlabel(\"epochs\")\n",
        "plt.ylabel(\"loss/mae\")"
      ],
      "metadata": {
        "colab": {
          "base_uri": "https://localhost:8080/",
          "height": 297
        },
        "id": "woBiw1rUYwtX",
        "outputId": "5ca8f625-0b9b-4a79-fb67-c006898b5861"
      },
      "execution_count": 164,
      "outputs": [
        {
          "output_type": "execute_result",
          "data": {
            "text/plain": [
              "Text(0, 0.5, 'loss/mae')"
            ]
          },
          "metadata": {},
          "execution_count": 164
        },
        {
          "output_type": "display_data",
          "data": {
            "text/plain": [
              "<Figure size 432x288 with 1 Axes>"
            ],
            "image/png": "[encoded data removed]"
          },
          "metadata": {
            "needs_background": "light"
          }
        }
      ]
    },
    {
      "cell_type": "code",
      "source": [
        "history.history.keys()"
      ],
      "metadata": {
        "colab": {
          "base_uri": "https://localhost:8080/"
        },
        "id": "8CY47GtwY0QU",
        "outputId": "ccbb84b6-45e7-4116-e0b0-1ecf0aa877a6"
      },
      "execution_count": 166,
      "outputs": [
        {
          "output_type": "execute_result",
          "data": {
            "text/plain": [
              "dict_keys(['loss', 'mean_absolute_error', 'val_loss', 'val_mean_absolute_error'])"
            ]
          },
          "metadata": {},
          "execution_count": 166
        }
      ]
    },
    {
      "cell_type": "markdown",
      "source": [
        "# Preprocessing Extras\n",
        "\n",
        "1. Standardization/Normalization\n",
        "    - MinMaxScaler (0 to 1 range, keeps the shape of the distribution)\n",
        "    - StandardScaler (reduces outlier effects; preferred; changes the distribution to normal)\n",
        "\n"
      ],
      "metadata": {
        "id": "KHf1lCtjambp"
      }
    },
    {
      "cell_type": "code",
      "source": [
        "import pandas as pd\n",
        "import matplotlib.pyplot as plt\n",
        "import tensorflow as tf\n",
        "\n",
        "# Read in the insurance dataframe\n",
        "insurance = pd.read_csv(\"https://raw.githubusercontent.com/stedy/Machine-Learning-with-R-datasets/master/insurance.csv\")\n",
        "insurance\n",
        "     "
      ],
      "metadata": {
        "colab": {
          "base_uri": "https://localhost:8080/",
          "height": 424
        },
        "id": "LWs5cSATbdMj",
        "outputId": "6e24f91f-75e0-46ba-84ee-0b1fe00a0baa"
      },
      "execution_count": 174,
      "outputs": [
        {
          "output_type": "execute_result",
          "data": {
            "text/plain": [
              "      age     sex     bmi  children smoker     region      charges\n",
              "0      19  female  27.900         0    yes  southwest  16884.92400\n",
              "1      18    male  33.770         1     no  southeast   1725.55230\n",
              "2      28    male  33.000         3     no  southeast   4449.46200\n",
              "3      33    male  22.705         0     no  northwest  21984.47061\n",
              "4      32    male  28.880         0     no  northwest   3866.85520\n",
              "...   ...     ...     ...       ...    ...        ...          ...\n",
              "1333   50    male  30.970         3     no  northwest  10600.54830\n",
              "1334   18  female  31.920         0     no  northeast   2205.98080\n",
              "1335   18  female  36.850         0     no  southeast   1629.83350\n",
              "1336   21  female  25.800         0     no  southwest   2007.94500\n",
              "1337   61  female  29.070         0    yes  northwest  29141.36030\n",
              "\n",
              "[1338 rows x 7 columns]"
            ],
            "text/html": [
              "\n",
              "  <div id=\"df-89a6246d-d2ae-4e61-b312-ee364805e256\">\n",
              "    <div class=\"colab-df-container\">\n",
              "      <div>\n",
              "<style scoped>\n",
              "    .dataframe tbody tr th:only-of-type {\n",
              "        vertical-align: middle;\n",
              "    }\n",
              "\n",
              "    .dataframe tbody tr th {\n",
              "        vertical-align: top;\n",
              "    }\n",
              "\n",
              "    .dataframe thead th {\n",
              "        text-align: right;\n",
              "    }\n",
              "</style>\n",
              "<table border=\"1\" class=\"dataframe\">\n",
              "  <thead>\n",
              "    <tr style=\"text-align: right;\">\n",
              "      <th></th>\n",
              "      <th>age</th>\n",
              "      <th>sex</th>\n",
              "      <th>bmi</th>\n",
              "      <th>children</th>\n",
              "      <th>smoker</th>\n",
              "      <th>region</th>\n",
              "      <th>charges</th>\n",
              "    </tr>\n",
              "  </thead>\n",
              "  <tbody>\n",
              "    <tr>\n",
              "      <th>0</th>\n",
              "      <td>19</td>\n",
              "      <td>female</td>\n",
              "      <td>27.900</td>\n",
              "      <td>0</td>\n",
              "      <td>yes</td>\n",
              "      <td>southwest</td>\n",
              "      <td>16884.92400</td>\n",
              "    </tr>\n",
              "    <tr>\n",
              "      <th>1</th>\n",
              "      <td>18</td>\n",
              "      <td>male</td>\n",
              "      <td>33.770</td>\n",
              "      <td>1</td>\n",
              "      <td>no</td>\n",
              "      <td>southeast</td>\n",
              "      <td>1725.55230</td>\n",
              "    </tr>\n",
              "    <tr>\n",
              "      <th>2</th>\n",
              "      <td>28</td>\n",
              "      <td>male</td>\n",
              "      <td>33.000</td>\n",
              "      <td>3</td>\n",
              "      <td>no</td>\n",
              "      <td>southeast</td>\n",
              "      <td>4449.46200</td>\n",
              "    </tr>\n",
              "    <tr>\n",
              "      <th>3</th>\n",
              "      <td>33</td>\n",
              "      <td>male</td>\n",
              "      <td>22.705</td>\n",
              "      <td>0</td>\n",
              "      <td>no</td>\n",
              "      <td>northwest</td>\n",
              "      <td>21984.47061</td>\n",
              "    </tr>\n",
              "    <tr>\n",
              "      <th>4</th>\n",
              "      <td>32</td>\n",
              "      <td>male</td>\n",
              "      <td>28.880</td>\n",
              "      <td>0</td>\n",
              "      <td>no</td>\n",
              "      <td>northwest</td>\n",
              "      <td>3866.85520</td>\n",
              "    </tr>\n",
              "    <tr>\n",
              "      <th>...</th>\n",
              "      <td>...</td>\n",
              "      <td>...</td>\n",
              "      <td>...</td>\n",
              "      <td>...</td>\n",
              "      <td>...</td>\n",
              "      <td>...</td>\n",
              "      <td>...</td>\n",
              "    </tr>\n",
              "    <tr>\n",
              "      <th>1333</th>\n",
              "      <td>50</td>\n",
              "      <td>male</td>\n",
              "      <td>30.970</td>\n",
              "      <td>3</td>\n",
              "      <td>no</td>\n",
              "      <td>northwest</td>\n",
              "      <td>10600.54830</td>\n",
              "    </tr>\n",
              "    <tr>\n",
              "      <th>1334</th>\n",
              "      <td>18</td>\n",
              "      <td>female</td>\n",
              "      <td>31.920</td>\n",
              "      <td>0</td>\n",
              "      <td>no</td>\n",
              "      <td>northeast</td>\n",
              "      <td>2205.98080</td>\n",
              "    </tr>\n",
              "    <tr>\n",
              "      <th>1335</th>\n",
              "      <td>18</td>\n",
              "      <td>female</td>\n",
              "      <td>36.850</td>\n",
              "      <td>0</td>\n",
              "      <td>no</td>\n",
              "      <td>southeast</td>\n",
              "      <td>1629.83350</td>\n",
              "    </tr>\n",
              "    <tr>\n",
              "      <th>1336</th>\n",
              "      <td>21</td>\n",
              "      <td>female</td>\n",
              "      <td>25.800</td>\n",
              "      <td>0</td>\n",
              "      <td>no</td>\n",
              "      <td>southwest</td>\n",
              "      <td>2007.94500</td>\n",
              "    </tr>\n",
              "    <tr>\n",
              "      <th>1337</th>\n",
              "      <td>61</td>\n",
              "      <td>female</td>\n",
              "      <td>29.070</td>\n",
              "      <td>0</td>\n",
              "      <td>yes</td>\n",
              "      <td>northwest</td>\n",
              "      <td>29141.36030</td>\n",
              "    </tr>\n",
              "  </tbody>\n",
              "</table>\n",
              "<p>1338 rows × 7 columns</p>\n",
              "</div>\n",
              "      <button class=\"colab-df-convert\" onclick=\"convertToInteractive('df-89a6246d-d2ae-4e61-b312-ee364805e256')\"\n",
              "              title=\"Convert this dataframe to an interactive table.\"\n",
              "              style=\"display:none;\">\n",
              "        \n",
              "  <svg xmlns=\"http://www.w3.org/2000/svg\" height=\"24px\"viewBox=\"0 0 24 24\"\n",
              "       width=\"24px\">\n",
              "    <path d=\"M0 0h24v24H0V0z\" fill=\"none\"/>\n",
              "    <path d=\"M18.56 5.44l.94 2.06.94-2.06 2.06-.94-2.06-.94-.94-2.06-.94 2.06-2.06.94zm-11 1L8.5 8.5l.94-2.06 2.06-.94-2.06-.94L8.5 2.5l-.94 2.06-2.06.94zm10 10l.94 2.06.94-2.06 2.06-.94-2.06-.94-.94-2.06-.94 2.06-2.06.94z\"/><path d=\"M17.41 7.96l-1.37-1.37c-.4-.4-.92-.59-1.43-.59-.52 0-1.04.2-1.43.59L10.3 9.45l-7.72 7.72c-.78.78-.78 2.05 0 2.83L4 21.41c.39.39.9.59 1.41.59.51 0 1.02-.2 1.41-.59l7.78-7.78 2.81-2.81c.8-.78.8-2.07 0-2.86zM5.41 20L4 18.59l7.72-7.72 1.47 1.35L5.41 20z\"/>\n",
              "  </svg>\n",
              "      </button>\n",
              "      \n",
              "  <style>\n",
              "    .colab-df-container {\n",
              "      display:flex;\n",
              "      flex-wrap:wrap;\n",
              "      gap: 12px;\n",
              "    }\n",
              "\n",
              "    .colab-df-convert {\n",
              "      background-color: #E8F0FE;\n",
              "      border: none;\n",
              "      border-radius: 50%;\n",
              "      cursor: pointer;\n",
              "      display: none;\n",
              "      fill: #1967D2;\n",
              "      height: 32px;\n",
              "      padding: 0 0 0 0;\n",
              "      width: 32px;\n",
              "    }\n",
              "\n",
              "    .colab-df-convert:hover {\n",
              "      background-color: #E2EBFA;\n",
              "      box-shadow: 0px 1px 2px rgba(60, 64, 67, 0.3), 0px 1px 3px 1px rgba(60, 64, 67, 0.15);\n",
              "      fill: #174EA6;\n",
              "    }\n",
              "\n",
              "    [theme=dark] .colab-df-convert {\n",
              "      background-color: #3B4455;\n",
              "      fill: #D2E3FC;\n",
              "    }\n",
              "\n",
              "    [theme=dark] .colab-df-convert:hover {\n",
              "      background-color: #434B5C;\n",
              "      box-shadow: 0px 1px 3px 1px rgba(0, 0, 0, 0.15);\n",
              "      filter: drop-shadow(0px 1px 2px rgba(0, 0, 0, 0.3));\n",
              "      fill: #FFFFFF;\n",
              "    }\n",
              "  </style>\n",
              "\n",
              "      <script>\n",
              "        const buttonEl =\n",
              "          document.querySelector('#df-89a6246d-d2ae-4e61-b312-ee364805e256 button.colab-df-convert');\n",
              "        buttonEl.style.display =\n",
              "          google.colab.kernel.accessAllowed ? 'block' : 'none';\n",
              "\n",
              "        async function convertToInteractive(key) {\n",
              "          const element = document.querySelector('#df-89a6246d-d2ae-4e61-b312-ee364805e256');\n",
              "          const dataTable =\n",
              "            await google.colab.kernel.invokeFunction('convertToInteractive',\n",
              "                                                     [key], {});\n",
              "          if (!dataTable) return;\n",
              "\n",
              "          const docLinkHtml = 'Like what you see? Visit the ' +\n",
              "            '<a target=\"_blank\" href=https://colab.research.google.com/notebooks/data_table.ipynb>data table notebook</a>'\n",
              "            + ' to learn more about interactive tables.';\n",
              "          element.innerHTML = '';\n",
              "          dataTable['output_type'] = 'display_data';\n",
              "          await google.colab.output.renderOutput(dataTable, element);\n",
              "          const docLink = document.createElement('div');\n",
              "          docLink.innerHTML = docLinkHtml;\n",
              "          element.appendChild(docLink);\n",
              "        }\n",
              "      </script>\n",
              "    </div>\n",
              "  </div>\n",
              "  "
            ]
          },
          "metadata": {},
          "execution_count": 174
        }
      ]
    },
    {
      "cell_type": "code",
      "source": [
        "from sklearn.compose import make_column_transformer\n",
        "from sklearn.preprocessing import OneHotEncoder, StandardScaler, MinMaxScaler\n",
        "from sklearn.model_selection import train_test_split"
      ],
      "metadata": {
        "id": "wYceU1iObdwG"
      },
      "execution_count": 179,
      "outputs": []
    },
    {
      "cell_type": "code",
      "source": [
        "# Preprocessing\n",
        "\n",
        "# Create a column transformer\n",
        "ct = make_column_transformer(\n",
        "    (MinMaxScaler(), ['age', 'bmi', 'children']),\n",
        "    (OneHotEncoder(), ['sex', 'smoker', 'region'])\n",
        ")\n",
        "\n",
        "# Create X & y\n",
        "X = insurance.drop('charges', axis=1)\n",
        "y = insurance[\"charges\"]\n",
        "\n",
        "# Split to train and test\n",
        "X_train, X_test, y_train, y_test = train_test_split(X, y, test_size=0.2, random_state=10)\n",
        "\n",
        "ct.fit(X_train)\n",
        "\n",
        "X_train_processed = ct.transform(X_train)\n",
        "X_test_processed = ct.transform(X_test)\n"
      ],
      "metadata": {
        "id": "qz6Nrz_JfI92"
      },
      "execution_count": 180,
      "outputs": []
    },
    {
      "cell_type": "code",
      "source": [
        "X_train.loc[0]"
      ],
      "metadata": {
        "colab": {
          "base_uri": "https://localhost:8080/"
        },
        "id": "aesf0snzgFrv",
        "outputId": "7ab1240b-eb43-4cd1-f45b-d44ecc2d85d0"
      },
      "execution_count": 210,
      "outputs": [
        {
          "output_type": "execute_result",
          "data": {
            "text/plain": [
              "age                19\n",
              "sex            female\n",
              "bmi              27.9\n",
              "children            0\n",
              "smoker            yes\n",
              "region      southwest\n",
              "Name: 0, dtype: object"
            ]
          },
          "metadata": {},
          "execution_count": 210
        }
      ]
    },
    {
      "cell_type": "code",
      "source": [
        "X_train_processed[0]"
      ],
      "metadata": {
        "colab": {
          "base_uri": "https://localhost:8080/"
        },
        "id": "CqQpjwzRsE98",
        "outputId": "c762addf-218f-4256-b2d7-2cf8402c7b87"
      },
      "execution_count": 217,
      "outputs": [
        {
          "output_type": "execute_result",
          "data": {
            "text/plain": [
              "array([0.02173913, 0.52649987, 0.        , 0.        , 1.        ,\n",
              "       1.        , 0.        , 0.        , 1.        , 0.        ,\n",
              "       0.        ])"
            ]
          },
          "metadata": {},
          "execution_count": 217
        }
      ]
    },
    {
      "cell_type": "code",
      "source": [
        "\n",
        "X_train.shape, X_train_processed.shape"
      ],
      "metadata": {
        "colab": {
          "base_uri": "https://localhost:8080/"
        },
        "id": "gEtvnWXNtWHE",
        "outputId": "17c9fa63-f952-4043-dfbb-bd30dc920f78"
      },
      "execution_count": 219,
      "outputs": [
        {
          "output_type": "execute_result",
          "data": {
            "text/plain": [
              "((1070, 6), (1070, 11))"
            ]
          },
          "metadata": {},
          "execution_count": 219
        }
      ]
    },
    {
      "cell_type": "code",
      "source": [
        "#Build tensorflow regression model\n",
        "\n",
        "tf.random.set_seed(10)\n",
        "\n",
        "model = tf.keras.Sequential(\n",
        "    [\n",
        "        tf.keras.layers.Dense(50),\n",
        "        tf.keras.layers.Dense(1)\n",
        "    ]\n",
        ")\n",
        "\n",
        "model.compile(loss=tf.keras.losses.mae,\n",
        "              optimizer=tf.keras.optimizers.Adam(learning_rate=0.1, beta_1=0.8, beta_2=0.9, epsilon=1e-7),\n",
        "              metrics=[tf.keras.metrics.mae])\n",
        "\n",
        "callback = tf.keras.callbacks.EarlyStopping(monitor='val_loss', patience=10)\n",
        "\n",
        "history = model.fit(X_train_processed, y_train, epochs=100, verbose=1, callbacks=[callback], validation_data=(X_test_processed, y_test),)"
      ],
      "metadata": {
        "colab": {
          "base_uri": "https://localhost:8080/"
        },
        "id": "S7kS_k_bvSU-",
        "outputId": "70919ecb-68d2-4ebb-e196-9b08e86ceaac"
      },
      "execution_count": 229,
      "outputs": [
        {
          "output_type": "stream",
          "name": "stdout",
          "text": [
            "Epoch 1/100\n",
            "34/34 [==============================] - 1s 6ms/step - loss: 12282.6299 - mean_absolute_error: 12282.6299 - val_loss: 10562.9082 - val_mean_absolute_error: 10562.9082\n",
            "Epoch 2/100\n",
            "34/34 [==============================] - 0s 3ms/step - loss: 8650.5420 - mean_absolute_error: 8650.5420 - val_loss: 7862.1567 - val_mean_absolute_error: 7862.1567\n",
            "Epoch 3/100\n",
            "34/34 [==============================] - 0s 3ms/step - loss: 7578.5640 - mean_absolute_error: 7578.5640 - val_loss: 7232.4443 - val_mean_absolute_error: 7232.4443\n",
            "Epoch 4/100\n",
            "34/34 [==============================] - 0s 3ms/step - loss: 6838.6943 - mean_absolute_error: 6838.6943 - val_loss: 6419.8491 - val_mean_absolute_error: 6419.8491\n",
            "Epoch 5/100\n",
            "34/34 [==============================] - 0s 3ms/step - loss: 5702.0278 - mean_absolute_error: 5702.0278 - val_loss: 4978.9331 - val_mean_absolute_error: 4978.9331\n",
            "Epoch 6/100\n",
            "34/34 [==============================] - 0s 3ms/step - loss: 4215.2129 - mean_absolute_error: 4215.2129 - val_loss: 3847.8340 - val_mean_absolute_error: 3847.8340\n",
            "Epoch 7/100\n",
            "34/34 [==============================] - 0s 3ms/step - loss: 3658.3164 - mean_absolute_error: 3658.3164 - val_loss: 3843.9729 - val_mean_absolute_error: 3843.9729\n",
            "Epoch 8/100\n",
            "34/34 [==============================] - 0s 3ms/step - loss: 3594.1096 - mean_absolute_error: 3594.1096 - val_loss: 3831.2561 - val_mean_absolute_error: 3831.2561\n",
            "Epoch 9/100\n",
            "34/34 [==============================] - 0s 3ms/step - loss: 3567.4497 - mean_absolute_error: 3567.4497 - val_loss: 3838.5264 - val_mean_absolute_error: 3838.5264\n",
            "Epoch 10/100\n",
            "34/34 [==============================] - 0s 3ms/step - loss: 3531.8447 - mean_absolute_error: 3531.8447 - val_loss: 3849.0647 - val_mean_absolute_error: 3849.0647\n",
            "Epoch 11/100\n",
            "34/34 [==============================] - 0s 3ms/step - loss: 3480.5813 - mean_absolute_error: 3480.5813 - val_loss: 3842.0869 - val_mean_absolute_error: 3842.0869\n",
            "Epoch 12/100\n",
            "34/34 [==============================] - 0s 3ms/step - loss: 3457.5515 - mean_absolute_error: 3457.5515 - val_loss: 3898.0317 - val_mean_absolute_error: 3898.0317\n",
            "Epoch 13/100\n",
            "34/34 [==============================] - 0s 3ms/step - loss: 3404.2065 - mean_absolute_error: 3404.2065 - val_loss: 3851.6292 - val_mean_absolute_error: 3851.6292\n",
            "Epoch 14/100\n",
            "34/34 [==============================] - 0s 3ms/step - loss: 3364.8518 - mean_absolute_error: 3364.8518 - val_loss: 3896.1267 - val_mean_absolute_error: 3896.1267\n",
            "Epoch 15/100\n",
            "34/34 [==============================] - 0s 3ms/step - loss: 3347.4976 - mean_absolute_error: 3347.4976 - val_loss: 3856.8230 - val_mean_absolute_error: 3856.8230\n",
            "Epoch 16/100\n",
            "34/34 [==============================] - 0s 3ms/step - loss: 3322.2773 - mean_absolute_error: 3322.2773 - val_loss: 3869.4565 - val_mean_absolute_error: 3869.4565\n",
            "Epoch 17/100\n",
            "34/34 [==============================] - 0s 3ms/step - loss: 3316.4426 - mean_absolute_error: 3316.4426 - val_loss: 3861.2852 - val_mean_absolute_error: 3861.2852\n",
            "Epoch 18/100\n",
            "34/34 [==============================] - 0s 3ms/step - loss: 3332.9915 - mean_absolute_error: 3332.9915 - val_loss: 3879.5305 - val_mean_absolute_error: 3879.5305\n"
          ]
        }
      ]
    },
    {
      "cell_type": "code",
      "source": [
        "model.evaluate(X_test_processed, y_test)"
      ],
      "metadata": {
        "colab": {
          "base_uri": "https://localhost:8080/"
        },
        "id": "EfcXWg_Wvj8X",
        "outputId": "6dc4cc15-508d-4a12-fc48-69205a7246ae"
      },
      "execution_count": 230,
      "outputs": [
        {
          "output_type": "stream",
          "name": "stdout",
          "text": [
            "9/9 [==============================] - 0s 2ms/step - loss: 3879.5305 - mean_absolute_error: 3879.5305\n"
          ]
        },
        {
          "output_type": "execute_result",
          "data": {
            "text/plain": [
              "[3879.530517578125, 3879.530517578125]"
            ]
          },
          "metadata": {},
          "execution_count": 230
        }
      ]
    },
    {
      "cell_type": "code",
      "source": [
        "pd.DataFrame(history.history).plot()"
      ],
      "metadata": {
        "colab": {
          "base_uri": "https://localhost:8080/",
          "height": 283
        },
        "id": "P_wtMqjcvx6c",
        "outputId": "806e63cc-3648-46df-bb8d-474d4afc7996"
      },
      "execution_count": 231,
      "outputs": [
        {
          "output_type": "execute_result",
          "data": {
            "text/plain": [
              "<matplotlib.axes._subplots.AxesSubplot at 0x7f641ab2f760>"
            ]
          },
          "metadata": {},
          "execution_count": 231
        },
        {
          "output_type": "display_data",
          "data": {
            "text/plain": [
              "<Figure size 432x288 with 1 Axes>"
            ],
            "image/png": "[encoded data removed]"
          },
          "metadata": {
            "needs_background": "light"
          }
        }
      ]
    },
    {
      "cell_type": "code",
      "source": [
        "model.summary()"
      ],
      "metadata": {
        "colab": {
          "base_uri": "https://localhost:8080/"
        },
        "id": "C9y6RRETwNHh",
        "outputId": "0253a041-c442-40c7-955b-a56ef5890cd7"
      },
      "execution_count": 232,
      "outputs": [
        {
          "output_type": "stream",
          "name": "stdout",
          "text": [
            "Model: \"sequential_40\"\n",
            "_________________________________________________________________\n",
            " Layer (type)                Output Shape              Param #   \n",
            "=================================================================\n",
            " dense_83 (Dense)            (None, 50)                600       \n",
            "                                                                 \n",
            " dense_84 (Dense)            (None, 1)                 51        \n",
            "                                                                 \n",
            "=================================================================\n",
            "Total params: 651\n",
            "Trainable params: 651\n",
            "Non-trainable params: 0\n",
            "_________________________________________________________________\n"
          ]
        }
      ]
    }
  ]
}