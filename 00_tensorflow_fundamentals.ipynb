{
  "nbformat": 4,
  "nbformat_minor": 0,
  "metadata": {
    "colab": {
      "provenance": [],
      "toc_visible": true,
      "authorship_tag": "ABX9TyM9/Tk01LgcmLTQ1clMpzzr",
      "include_colab_link": true
    },
    "kernelspec": {
      "name": "python3",
      "display_name": "Python 3"
    },
    "language_info": {
      "name": "python"
    }
  },
  "cells": [
    {
      "cell_type": "markdown",
      "metadata": {
        "id": "view-in-github",
        "colab_type": "text"
      },
      "source": [
        "<a href=\"https://colab.research.google.com/github/bnarath/TF_Developer/blob/main/00_tensorflow_fundamentals.ipynb\" target=\"_parent\"><img src=\"https://colab.research.google.com/assets/colab-badge.svg\" alt=\"Open In Colab\"/></a>"
      ]
    },
    {
      "cell_type": "markdown",
      "source": [
        "# In this notebook, we are going to cover some of the most fundamental concepts of tensors using TF 2.0\n",
        "\n",
        "Topics being covered\n",
        "* Introduction to tensors\n",
        "* Getting information from tensors\n",
        "* Manipulating tensors\n",
        "* Tensors & Numpy\n",
        "* Unsing @tf.function(a way to speed up regular python functions)\n",
        "* Using GPUs/TPUs with tensorflow\n",
        "* Exercises\n",
        "\n",
        "\n",
        "Methods\n",
        "- tf.constant(tensor, shape, dtype) - It is an EagerTensor\n",
        "- tf.Variable(tensor-initial, shape, dtype)\n",
        "  - Assign values to variables by .assign()\n",
        "- tf.random.Generator.from_seed(100)\n",
        "  - tf.random(shape, minval, maxval, dtype)\n",
        "  - tf.normal(shape, dtype)\n",
        "\n",
        "- tf.random.set_seed(10)\n",
        "  - tf.random.shuffle(not_shuffled)\n"
      ],
      "metadata": {
        "id": "0IUQ0RzQxMHE"
      }
    },
    {
      "cell_type": "markdown",
      "source": [
        "## Introduction to Tensors"
      ],
      "metadata": {
        "id": "YWuOXxvhxeui"
      }
    },
    {
      "cell_type": "code",
      "source": [
        "import tensorflow as tf\n",
        "import numpy as np\n",
        "tf.__version__"
      ],
      "metadata": {
        "id": "IGU2SWMDzOSV",
        "colab": {
          "base_uri": "https://localhost:8080/",
          "height": 35
        },
        "outputId": "82e18a76-c58c-4379-c60c-33a415931b77"
      },
      "execution_count": 1,
      "outputs": [
        {
          "output_type": "execute_result",
          "data": {
            "text/plain": [
              "'2.9.2'"
            ],
            "application/vnd.google.colaboratory.intrinsic+json": {
              "type": "string"
            }
          },
          "metadata": {},
          "execution_count": 1
        }
      ]
    },
    {
      "cell_type": "markdown",
      "source": [
        "## Create tensors using tf.Constant"
      ],
      "metadata": {
        "id": "EAW3OW1020qh"
      }
    },
    {
      "cell_type": "code",
      "source": [
        "scalar = tf.constant(9, dtype='int16')\n",
        "scalar.ndim"
      ],
      "metadata": {
        "colab": {
          "base_uri": "https://localhost:8080/"
        },
        "id": "HmizUm353lNW",
        "outputId": "128271ad-fcaa-480c-a962-8aff9c3328c0"
      },
      "execution_count": 2,
      "outputs": [
        {
          "output_type": "execute_result",
          "data": {
            "text/plain": [
              "0"
            ]
          },
          "metadata": {},
          "execution_count": 2
        }
      ]
    },
    {
      "cell_type": "code",
      "source": [
        "vector = tf.constant([1,2,3])\n",
        "vector, vector.ndim"
      ],
      "metadata": {
        "colab": {
          "base_uri": "https://localhost:8080/"
        },
        "id": "rPlJjmus38HU",
        "outputId": "ce007de1-4e13-4dc2-908e-74b05e134733"
      },
      "execution_count": 3,
      "outputs": [
        {
          "output_type": "execute_result",
          "data": {
            "text/plain": [
              "(<tf.Tensor: shape=(3,), dtype=int32, numpy=array([1, 2, 3], dtype=int32)>, 1)"
            ]
          },
          "metadata": {},
          "execution_count": 3
        }
      ]
    },
    {
      "cell_type": "code",
      "source": [
        "matrix = tf.constant([[1.,2], [3,4]])\n",
        "matrix, matrix.ndim"
      ],
      "metadata": {
        "colab": {
          "base_uri": "https://localhost:8080/"
        },
        "id": "baAdcdI84Ece",
        "outputId": "e94b445c-506b-464d-cebd-d756d6db9890"
      },
      "execution_count": 4,
      "outputs": [
        {
          "output_type": "execute_result",
          "data": {
            "text/plain": [
              "(<tf.Tensor: shape=(2, 2), dtype=float32, numpy=\n",
              " array([[1., 2.],\n",
              "        [3., 4.]], dtype=float32)>, 2)"
            ]
          },
          "metadata": {},
          "execution_count": 4
        }
      ]
    },
    {
      "cell_type": "code",
      "source": [
        "nd_matrix=tf.constant(np.arange(1, 243, 3), shape=(3,3,3,3))\n",
        "nd_matrix.ndim"
      ],
      "metadata": {
        "colab": {
          "base_uri": "https://localhost:8080/"
        },
        "id": "Q4_sH_4u4agU",
        "outputId": "6f7e40b1-21fe-4610-9f27-5029cfdbb487"
      },
      "execution_count": 5,
      "outputs": [
        {
          "output_type": "execute_result",
          "data": {
            "text/plain": [
              "4"
            ]
          },
          "metadata": {},
          "execution_count": 5
        }
      ]
    },
    {
      "cell_type": "markdown",
      "source": [
        "# What is a Tensor\n",
        "\n",
        "n domensional array of numbers \n",
        "- n=0, scalar\n",
        "- n=1, vector\n",
        "- n=2, metrix\n"
      ],
      "metadata": {
        "id": "I-3wdhdLtMk_"
      }
    },
    {
      "cell_type": "markdown",
      "source": [
        "## Create tensors using tf.Variable\n",
        "\n",
        "The Variable() constructor requires an initial value for the variable, which can be a Tensor of any type and shape. This initial value defines the type and shape of the variable. After construction, the type and shape of the variable are fixed. The value can be changed using one of the assign methods."
      ],
      "metadata": {
        "id": "TbkGzEnstYmN"
      }
    },
    {
      "cell_type": "code",
      "source": [
        "x = tf.Variable([1, 2])\n",
        "x"
      ],
      "metadata": {
        "colab": {
          "base_uri": "https://localhost:8080/"
        },
        "id": "dqDsCeHTygJS",
        "outputId": "987c010e-7c02-492c-d3e8-dbf96450e1c0"
      },
      "execution_count": 6,
      "outputs": [
        {
          "output_type": "execute_result",
          "data": {
            "text/plain": [
              "<tf.Variable 'Variable:0' shape=(2,) dtype=int32, numpy=array([1, 2], dtype=int32)>"
            ]
          },
          "metadata": {},
          "execution_count": 6
        }
      ]
    },
    {
      "cell_type": "code",
      "source": [
        "x.assign([2,3])\n",
        "x[1].assign(10)\n",
        "x"
      ],
      "metadata": {
        "colab": {
          "base_uri": "https://localhost:8080/"
        },
        "id": "ZyiCnCbczcun",
        "outputId": "4237f345-fe8e-4ed7-dc47-343a4cf0a769"
      },
      "execution_count": 7,
      "outputs": [
        {
          "output_type": "execute_result",
          "data": {
            "text/plain": [
              "<tf.Variable 'Variable:0' shape=(2,) dtype=int32, numpy=array([ 2, 10], dtype=int32)>"
            ]
          },
          "metadata": {},
          "execution_count": 7
        }
      ]
    },
    {
      "cell_type": "markdown",
      "source": [
        "# Create random tensors"
      ],
      "metadata": {
        "id": "46e0OU53zwk9"
      }
    },
    {
      "cell_type": "code",
      "source": [
        "random1=tf.random.Generator.from_seed(100)\n",
        "random1.uniform(\n",
        "    (10,),\n",
        "    minval=0,\n",
        "    maxval=10,\n",
        "    dtype=tf.int32\n",
        ")\n",
        "random1.normal(\n",
        "    (10,),\n",
        "    dtype=tf.float16\n",
        ")"
      ],
      "metadata": {
        "colab": {
          "base_uri": "https://localhost:8080/"
        },
        "id": "pFb6l7XP0Kko",
        "outputId": "27529cac-b3c7-4989-ee10-e573965cd33a"
      },
      "execution_count": 8,
      "outputs": [
        {
          "output_type": "execute_result",
          "data": {
            "text/plain": [
              "<tf.Tensor: shape=(10,), dtype=float16, numpy=\n",
              "array([-0.785 ,  0.0869, -0.3286,  0.4028, -0.9795, -0.2349, -0.462 ,\n",
              "        2.408 , -0.6445,  0.6567], dtype=float16)>"
            ]
          },
          "metadata": {},
          "execution_count": 8
        }
      ]
    },
    {
      "cell_type": "code",
      "source": [
        "random2=tf.random.Generator.from_seed(100)\n",
        "random2.uniform(\n",
        "    (10,),\n",
        "    minval=0,\n",
        "    maxval=10,\n",
        "    dtype=tf.int32\n",
        ")\n",
        "random2.normal(\n",
        "    (10,),\n",
        "    dtype=tf.float16\n",
        ")"
      ],
      "metadata": {
        "colab": {
          "base_uri": "https://localhost:8080/"
        },
        "id": "y5B57xgv1_6s",
        "outputId": "5e450a06-584f-480d-9fdd-2a9683728236"
      },
      "execution_count": 9,
      "outputs": [
        {
          "output_type": "execute_result",
          "data": {
            "text/plain": [
              "<tf.Tensor: shape=(10,), dtype=float16, numpy=\n",
              "array([-0.785 ,  0.0869, -0.3286,  0.4028, -0.9795, -0.2349, -0.462 ,\n",
              "        2.408 , -0.6445,  0.6567], dtype=float16)>"
            ]
          },
          "metadata": {},
          "execution_count": 9
        }
      ]
    },
    {
      "cell_type": "markdown",
      "source": [
        "# Shuffle the order of elements in a tensor"
      ],
      "metadata": {
        "id": "Z1J2cX953M7x"
      }
    },
    {
      "cell_type": "code",
      "source": [
        "not_shuffled = tf.constant([[10,7],\n",
        "                            [1,2],\n",
        "                            [2,4]])"
      ],
      "metadata": {
        "id": "KKtnkEqx3n_T"
      },
      "execution_count": 10,
      "outputs": []
    },
    {
      "cell_type": "code",
      "source": [
        "tf.random.set_seed(10)\n",
        "tf.random.shuffle(not_shuffled)"
      ],
      "metadata": {
        "colab": {
          "base_uri": "https://localhost:8080/"
        },
        "id": "Osz4OZj63qZE",
        "outputId": "fbaaf8db-8284-4998-c750-75d9a8ca4f2a"
      },
      "execution_count": 11,
      "outputs": [
        {
          "output_type": "execute_result",
          "data": {
            "text/plain": [
              "<tf.Tensor: shape=(3, 2), dtype=int32, numpy=\n",
              "array([[10,  7],\n",
              "       [ 2,  4],\n",
              "       [ 1,  2]], dtype=int32)>"
            ]
          },
          "metadata": {},
          "execution_count": 11
        }
      ]
    },
    {
      "cell_type": "code",
      "source": [
        "tf.random.set_seed(10)\n",
        "tf.random.shuffle(not_shuffled)"
      ],
      "metadata": {
        "colab": {
          "base_uri": "https://localhost:8080/"
        },
        "id": "1HxBP45G7MQT",
        "outputId": "0878f2a6-2ccb-40c0-9b4b-277ff5c814c7"
      },
      "execution_count": 12,
      "outputs": [
        {
          "output_type": "execute_result",
          "data": {
            "text/plain": [
              "<tf.Tensor: shape=(3, 2), dtype=int32, numpy=\n",
              "array([[10,  7],\n",
              "       [ 2,  4],\n",
              "       [ 1,  2]], dtype=int32)>"
            ]
          },
          "metadata": {},
          "execution_count": 12
        }
      ]
    },
    {
      "cell_type": "markdown",
      "source": [
        "## ⚓ Exercise: Produce 5 random tensors and shuffle them\n",
        "\n",
        "https://www.tensorflow.org/api_docs/python/tf/random/set_seed"
      ],
      "metadata": {
        "id": "gGjb3J4m8WLt"
      }
    },
    {
      "cell_type": "code",
      "source": [
        "from tensorflow._api.v2 import random\n",
        "tf.random.set_seed(100)\n",
        "random_gen = tf.random.Generator.from_seed(10)\n",
        "a = random_gen.normal(shape=(1,10), mean=0, stddev=1)\n",
        "b = random_gen.uniform(shape=(1,10), minval=0, maxval=10)\n",
        "c = tf.reshape(\n",
        "    tf.random.stateless_binomial(\n",
        "    shape=[10], seed=[1, 1], counts=[10]*10, probs=np.arange(0.1, 1.1, 0.1), output_dtype=tf.float32), (1,10))\n",
        "d = random_gen.normal(shape=(1,10), mean=10, stddev=1)\n",
        "e = random_gen.normal(shape=(1,10), mean=0, stddev=2)\n",
        "unshuffled = tf.concat([a,b,c,d,e], 0)\n",
        "unshuffled, tf.random.shuffle(unshuffled, seed=10)"
      ],
      "metadata": {
        "colab": {
          "base_uri": "https://localhost:8080/"
        },
        "id": "m2kObLxP9pQ8",
        "outputId": "3e2aeca7-4018-4fe0-9155-9297139b241b"
      },
      "execution_count": 71,
      "outputs": [
        {
          "output_type": "execute_result",
          "data": {
            "text/plain": [
              "(<tf.Tensor: shape=(5, 10), dtype=float32, numpy=\n",
              " array([[-2.9604465e-01, -2.1134205e-01,  1.0630016e-02,  1.5165398e+00,\n",
              "          2.7305737e-01, -2.9925638e-01, -3.6523250e-01,  6.1883307e-01,\n",
              "         -1.0130816e+00,  2.8291714e-01],\n",
              "        [ 4.0812969e-01,  1.1846912e+00,  8.4382048e+00,  7.6974926e+00,\n",
              "          6.6823254e+00,  3.8150179e+00,  3.5973561e+00,  3.4344697e+00,\n",
              "          8.9352741e+00,  5.9334860e+00],\n",
              "        [ 3.0000000e+00,  2.0000000e+00,  1.0000000e+00,  6.0000000e+00,\n",
              "          2.0000000e+00,  5.0000000e+00,  6.0000000e+00,  8.0000000e+00,\n",
              "          8.0000000e+00,  1.0000000e+01],\n",
              "        [ 8.8429270e+00,  1.0771253e+01,  1.0319363e+01,  1.0404154e+01,\n",
              "          1.0327567e+01,  1.1497083e+01,  9.8136797e+00,  1.2315570e+01,\n",
              "          1.0519485e+01,  9.1210108e+00],\n",
              "        [-1.6040002e+00, -4.1129370e+00,  1.0339310e+00,  2.2310841e+00,\n",
              "          2.2762547e+00,  4.2137284e+00,  1.8501983e+00, -4.0433061e-01,\n",
              "          2.8731544e+00,  7.6397896e-02]], dtype=float32)>,\n",
              " <tf.Tensor: shape=(5, 10), dtype=float32, numpy=\n",
              " array([[-1.6040002e+00, -4.1129370e+00,  1.0339310e+00,  2.2310841e+00,\n",
              "          2.2762547e+00,  4.2137284e+00,  1.8501983e+00, -4.0433061e-01,\n",
              "          2.8731544e+00,  7.6397896e-02],\n",
              "        [ 4.0812969e-01,  1.1846912e+00,  8.4382048e+00,  7.6974926e+00,\n",
              "          6.6823254e+00,  3.8150179e+00,  3.5973561e+00,  3.4344697e+00,\n",
              "          8.9352741e+00,  5.9334860e+00],\n",
              "        [-2.9604465e-01, -2.1134205e-01,  1.0630016e-02,  1.5165398e+00,\n",
              "          2.7305737e-01, -2.9925638e-01, -3.6523250e-01,  6.1883307e-01,\n",
              "         -1.0130816e+00,  2.8291714e-01],\n",
              "        [ 3.0000000e+00,  2.0000000e+00,  1.0000000e+00,  6.0000000e+00,\n",
              "          2.0000000e+00,  5.0000000e+00,  6.0000000e+00,  8.0000000e+00,\n",
              "          8.0000000e+00,  1.0000000e+01],\n",
              "        [ 8.8429270e+00,  1.0771253e+01,  1.0319363e+01,  1.0404154e+01,\n",
              "          1.0327567e+01,  1.1497083e+01,  9.8136797e+00,  1.2315570e+01,\n",
              "          1.0519485e+01,  9.1210108e+00]], dtype=float32)>)"
            ]
          },
          "metadata": {},
          "execution_count": 71
        }
      ]
    },
    {
      "cell_type": "code",
      "source": [],
      "metadata": {
        "id": "v0UYjE66K0vT"
      },
      "execution_count": null,
      "outputs": []
    }
  ]
}