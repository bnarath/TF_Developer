{
  "nbformat": 4,
  "nbformat_minor": 0,
  "metadata": {
    "colab": {
      "provenance": [],
      "toc_visible": true,
      "authorship_tag": "ABX9TyNCf5nvmzZQQG1eiQapuOrB",
      "include_colab_link": true
    },
    "kernelspec": {
      "name": "python3",
      "display_name": "Python 3"
    },
    "language_info": {
      "name": "python"
    },
    "accelerator": "GPU",
    "gpuClass": "standard"
  },
  "cells": [
    {
      "cell_type": "markdown",
      "metadata": {
        "id": "view-in-github",
        "colab_type": "text"
      },
      "source": [
        "<a href=\"https://colab.research.google.com/github/bnarath/TF_Developer/blob/main/00_tensorflow_fundamentals.ipynb\" target=\"_parent\"><img src=\"https://colab.research.google.com/assets/colab-badge.svg\" alt=\"Open In Colab\"/></a>"
      ]
    },
    {
      "cell_type": "markdown",
      "source": [
        "# In this notebook, we are going to cover some of the most fundamental concepts of tensors using TF 2.0\n",
        "\n",
        "Topics being covered\n",
        "* Introduction to tensors\n",
        "* Getting information from tensors\n",
        "* Manipulating tensors\n",
        "* Tensors & Numpy\n",
        "* Unsing @tf.function(a way to speed up regular python functions)\n",
        "* Using GPUs/TPUs with tensorflow\n",
        "* Exercises\n",
        "\n",
        "\n",
        "Methods\n",
        "- tf.constant(tensor, shape, dtype) - It is an EagerTensor\n",
        "- tf.Variable(tensor-initial, shape, dtype)\n",
        "  - Assign values to variables by .assign()\n",
        "- tf.random.Generator.from_seed(100)\n",
        "  - tf.random(shape, minval, maxval, dtype)\n",
        "  - tf.normal(shape, dtype)\n",
        "\n",
        "- tf.random.set_seed(10)\n",
        "  - tf.random.shuffle(not_shuffled)\n",
        "\n",
        "\n",
        "Information\n",
        "- tensor.ndim (len(shape))\n",
        "- tensor.shape\n",
        "- tf.size(tensor) - # of all elements\n",
        "- Indexing (same as numpy indexing)\n",
        "- tensor.shape[-1]\n",
        "- tensor.numpy()\n",
        "\n",
        "\n",
        "Add extra dimension\n",
        "- tensor[ :, :, tf.newaxis] (tf.newaxis is same as None in numpy)\n",
        "- tensor[ ..., tf.newaxis]\n",
        "- tf.reshape(tensor, (tensor.shape[0], tensor.shape[1], 1))\n",
        "- tf.expand_dims(tensor, -1)\n",
        "\n",
        "\n",
        "Manipulating Tensors (Tensor Operations)\n",
        "\n",
        "- Broadcasting Rules\n",
        "  - Lower dimensional tensor extends to get dimension same as the higher\n",
        "  - In each dimension, lengths should either match between 2 tensors or extendible\n",
        " \n",
        " - Multiply\n",
        "    - tf.multiply (element wise) (alias of tf.math.multiply)\n",
        "    - A*b (element wise)\n",
        "\n",
        "- Add\n",
        "  - tf.add (alias of tf.math.add)\n",
        "\n",
        "- Matrix multiplication\n",
        "  - AxB[i, j] is the dot product of ith row of A and jth column of B\n",
        "  - tf.matmul\n",
        "  - A @ B\n",
        "  - tf.tensordot(A, B, axes=[[1], [0]]) - Axes defines vectors considered in dot product\n",
        "\n",
        "- Transpose\n",
        "  - tf.transpose\n",
        "\n",
        "Changing datatype of tensors\n",
        "\n",
        "- Default Precision\n",
        "  - float32, int32\n",
        "\n",
        "- Mixed Precision\n",
        "  - lower bit float16/bfloat16 are better with performance, gpus and tpus are better with these\n",
        "  - higher bit float32 is good for numeric stability\n",
        "  - mixed precisions can be used in training \n",
        "\n",
        "- Change dtype\n",
        "  - tf.cast(A, dtype=tf.float16)\n",
        "\n",
        "\n",
        "- Aggregation\n",
        "  - tf.reduce_min(tensor, axis=1)\n",
        "  - tf.reduce_max\n",
        "  - tf.reduce_mean\n",
        "  - tf.reduce_sum\n",
        "  - tf.abs(A) : absolute value of each element\n",
        "  - tfp.stats.variance(A,sample_axis=None) : From tensorflow-probability\n",
        "  - tf.math.reduce_std(A)\n",
        "  - tf.math.argmax(A, axis=0)\n",
        "  - tf.math.argmin(A, axis=0)\n",
        "\n",
        "\n",
        "- Squeeze\n",
        "  - tf.squeeze (removes dimensions of shape 1)\n",
        "\n",
        "\n",
        "- One hot encoding\n",
        "  ```items = ['red', 'blue', 'green']\n",
        "      indices = range(len(items))\n",
        "      tf.one_hot(indices, depth=len(indices))```\n",
        "\n",
        "- A few math operations\n",
        "  - tf.range(1, 10, dtype=tf.float32)\n",
        "  - tf.square(a)\n",
        "  - tf.math.sqrt(a)\n",
        "  - tf.math.log(a) (natural logarithm : https://stackoverflow.com/questions/3719631/log-to-the-base-2-in-python)\n",
        "\n",
        "\n",
        "- Compatibility with numpy array\n",
        "  - tensors can be created from numpy arrays and vice-versa. Default data types might not match between both and depends on versions\n",
        "\n",
        "  - **One of the main difference - tensors are faster in gpu and tpu**\n",
        "\n",
        "\n",
        "- **GPU availability**\n",
        "  - check physicl devices : \n",
        "    - tf.config.list_physical_devices()\n",
        "    - tf.config.list_physical_devices(\"TPU\")\n",
        "    - tf.config.list_physical_devices(\"GPU\")\n",
        "    - tf.config.list_physical_devices(\"CPU\")\n",
        "\n",
        "  - Nvidia system management utility command to check GPU\n",
        "    - !nvidia-smi\n",
        "      - Gives smi version\n",
        "      - GPU driver version\n",
        "      - CUDA version (interface between tf code and gpu)\n",
        "      - Type of GPU (Eg: Tesla T4)\n",
        "      - Memory usage (out of 15 GB memory)\n",
        "      - Cannot choose the GPU type\n",
        "      - **If we have access to CUDA enabled GPU, TF automatically uses it**\n",
        "\n",
        "- Assertion\n",
        "  - tf.Assert: \n",
        "    - argumnents :\n",
        "      -  condition (1dim tensor)\n",
        "      - data: tensors part of condition\n",
        "      - summarize: the depth in terms of #elements to be included in error code. \n",
        "    - Returns: If assertion is working, none output\n",
        "    ```\n",
        "    a = tf.constant([1.,2.,3.])\n",
        "    b = tf.constant([1.,2.,4.])\n",
        "    tf.Assert(tf.greater_equal(tf.math.count_nonzero(a==b, dtype=tf.int32), tf.size(a)), [a, b], summarize=tf.size(a))\n",
        "    ```\n"
      ],
      "metadata": {
        "id": "0IUQ0RzQxMHE"
      }
    },
    {
      "cell_type": "markdown",
      "source": [
        "## Introduction to Tensors"
      ],
      "metadata": {
        "id": "YWuOXxvhxeui"
      }
    },
    {
      "cell_type": "code",
      "source": [
        "import tensorflow as tf\n",
        "import numpy as np\n",
        "tf.__version__"
      ],
      "metadata": {
        "id": "IGU2SWMDzOSV",
        "colab": {
          "base_uri": "https://localhost:8080/",
          "height": 35
        },
        "outputId": "e9376701-62f0-4ade-987b-9d1ef0142414"
      },
      "execution_count": null,
      "outputs": [
        {
          "output_type": "execute_result",
          "data": {
            "text/plain": [
              "'2.9.2'"
            ],
            "application/vnd.google.colaboratory.intrinsic+json": {
              "type": "string"
            }
          },
          "metadata": {},
          "execution_count": 2
        }
      ]
    },
    {
      "cell_type": "markdown",
      "source": [
        "## Create tensors using tf.Constant"
      ],
      "metadata": {
        "id": "EAW3OW1020qh"
      }
    },
    {
      "cell_type": "code",
      "source": [
        "scalar = tf.constant(9, dtype='int16')\n",
        "scalar.ndim"
      ],
      "metadata": {
        "colab": {
          "base_uri": "https://localhost:8080/"
        },
        "id": "HmizUm353lNW",
        "outputId": "7a15c2af-3a1e-489f-dabd-7bfdc042b4c7"
      },
      "execution_count": null,
      "outputs": [
        {
          "output_type": "execute_result",
          "data": {
            "text/plain": [
              "0"
            ]
          },
          "metadata": {},
          "execution_count": 3
        }
      ]
    },
    {
      "cell_type": "code",
      "source": [
        "vector = tf.constant([1,2,3])\n",
        "vector, vector.ndim"
      ],
      "metadata": {
        "colab": {
          "base_uri": "https://localhost:8080/"
        },
        "id": "rPlJjmus38HU",
        "outputId": "5010605a-1069-4e59-b814-ba34a4411fb7"
      },
      "execution_count": null,
      "outputs": [
        {
          "output_type": "execute_result",
          "data": {
            "text/plain": [
              "(<tf.Tensor: shape=(3,), dtype=int32, numpy=array([1, 2, 3], dtype=int32)>, 1)"
            ]
          },
          "metadata": {},
          "execution_count": 4
        }
      ]
    },
    {
      "cell_type": "code",
      "source": [
        "matrix = tf.constant([[1.,2], [3,4]])\n",
        "matrix, matrix.ndim"
      ],
      "metadata": {
        "colab": {
          "base_uri": "https://localhost:8080/"
        },
        "id": "baAdcdI84Ece",
        "outputId": "a43db4b4-7185-4be9-d0da-5c1aac4a6750"
      },
      "execution_count": null,
      "outputs": [
        {
          "output_type": "execute_result",
          "data": {
            "text/plain": [
              "(<tf.Tensor: shape=(2, 2), dtype=float32, numpy=\n",
              " array([[1., 2.],\n",
              "        [3., 4.]], dtype=float32)>, 2)"
            ]
          },
          "metadata": {},
          "execution_count": 5
        }
      ]
    },
    {
      "cell_type": "code",
      "source": [
        "nd_matrix=tf.constant(np.arange(1, 243, 3), shape=(3,3,3,3))\n",
        "nd_matrix.ndim"
      ],
      "metadata": {
        "colab": {
          "base_uri": "https://localhost:8080/"
        },
        "id": "Q4_sH_4u4agU",
        "outputId": "e7b5d646-50fc-48b1-b2d1-7610cdc5f380"
      },
      "execution_count": null,
      "outputs": [
        {
          "output_type": "execute_result",
          "data": {
            "text/plain": [
              "4"
            ]
          },
          "metadata": {},
          "execution_count": 6
        }
      ]
    },
    {
      "cell_type": "markdown",
      "source": [
        "# What is a Tensor\n",
        "\n",
        "n domensional array of numbers \n",
        "- n=0, scalar\n",
        "- n=1, vector\n",
        "- n=2, metrix\n"
      ],
      "metadata": {
        "id": "I-3wdhdLtMk_"
      }
    },
    {
      "cell_type": "markdown",
      "source": [
        "## Create tensors using tf.Variable\n",
        "\n",
        "The Variable() constructor requires an initial value for the variable, which can be a Tensor of any type and shape. This initial value defines the type and shape of the variable. After construction, the type and shape of the variable are fixed. The value can be changed using one of the assign methods."
      ],
      "metadata": {
        "id": "TbkGzEnstYmN"
      }
    },
    {
      "cell_type": "code",
      "source": [
        "x = tf.Variable([1, 2])\n",
        "x"
      ],
      "metadata": {
        "colab": {
          "base_uri": "https://localhost:8080/"
        },
        "id": "dqDsCeHTygJS",
        "outputId": "c462d627-77be-4008-d6db-9e4f0b717201"
      },
      "execution_count": null,
      "outputs": [
        {
          "output_type": "execute_result",
          "data": {
            "text/plain": [
              "<tf.Variable 'Variable:0' shape=(2,) dtype=int32, numpy=array([1, 2], dtype=int32)>"
            ]
          },
          "metadata": {},
          "execution_count": 7
        }
      ]
    },
    {
      "cell_type": "code",
      "source": [
        "x.assign([2,3])\n",
        "x[1].assign(10)\n",
        "x"
      ],
      "metadata": {
        "colab": {
          "base_uri": "https://localhost:8080/"
        },
        "id": "ZyiCnCbczcun",
        "outputId": "92f7410e-a1aa-4fed-c77f-9a71d43f8607"
      },
      "execution_count": null,
      "outputs": [
        {
          "output_type": "execute_result",
          "data": {
            "text/plain": [
              "<tf.Variable 'Variable:0' shape=(2,) dtype=int32, numpy=array([ 2, 10], dtype=int32)>"
            ]
          },
          "metadata": {},
          "execution_count": 8
        }
      ]
    },
    {
      "cell_type": "markdown",
      "source": [
        "# Create random tensors"
      ],
      "metadata": {
        "id": "46e0OU53zwk9"
      }
    },
    {
      "cell_type": "code",
      "source": [
        "random1=tf.random.Generator.from_seed(100)\n",
        "random1.uniform(\n",
        "    (10,),\n",
        "    minval=0,\n",
        "    maxval=10,\n",
        "    dtype=tf.int32\n",
        ")\n",
        "random1.normal(\n",
        "    (10,),\n",
        "    dtype=tf.float16\n",
        ")"
      ],
      "metadata": {
        "colab": {
          "base_uri": "https://localhost:8080/"
        },
        "id": "pFb6l7XP0Kko",
        "outputId": "3497d797-7e23-4b67-ae88-50fc698a9094"
      },
      "execution_count": null,
      "outputs": [
        {
          "output_type": "execute_result",
          "data": {
            "text/plain": [
              "<tf.Tensor: shape=(10,), dtype=float16, numpy=\n",
              "array([-0.785 ,  0.0869, -0.3286,  0.4028, -0.9795, -0.2349, -0.462 ,\n",
              "        2.408 , -0.6445,  0.6567], dtype=float16)>"
            ]
          },
          "metadata": {},
          "execution_count": 9
        }
      ]
    },
    {
      "cell_type": "code",
      "source": [
        "random2=tf.random.Generator.from_seed(100)\n",
        "random2.uniform(\n",
        "    (10,),\n",
        "    minval=0,\n",
        "    maxval=10,\n",
        "    dtype=tf.int32\n",
        ")\n",
        "random2.normal(\n",
        "    (10,),\n",
        "    dtype=tf.float16\n",
        ")"
      ],
      "metadata": {
        "colab": {
          "base_uri": "https://localhost:8080/"
        },
        "id": "y5B57xgv1_6s",
        "outputId": "753b0f3a-d97a-42b7-ded9-71ea9d5a7f9c"
      },
      "execution_count": null,
      "outputs": [
        {
          "output_type": "execute_result",
          "data": {
            "text/plain": [
              "<tf.Tensor: shape=(10,), dtype=float16, numpy=\n",
              "array([-0.785 ,  0.0869, -0.3286,  0.4028, -0.9795, -0.2349, -0.462 ,\n",
              "        2.408 , -0.6445,  0.6567], dtype=float16)>"
            ]
          },
          "metadata": {},
          "execution_count": 10
        }
      ]
    },
    {
      "cell_type": "markdown",
      "source": [
        "# Shuffle the order of elements in a tensor"
      ],
      "metadata": {
        "id": "Z1J2cX953M7x"
      }
    },
    {
      "cell_type": "code",
      "source": [
        "not_shuffled = tf.constant([[10,7],\n",
        "                            [1,2],\n",
        "                            [2,4]])"
      ],
      "metadata": {
        "id": "KKtnkEqx3n_T"
      },
      "execution_count": null,
      "outputs": []
    },
    {
      "cell_type": "code",
      "source": [
        "tf.random.set_seed(10)\n",
        "tf.random.shuffle(not_shuffled)"
      ],
      "metadata": {
        "colab": {
          "base_uri": "https://localhost:8080/"
        },
        "id": "Osz4OZj63qZE",
        "outputId": "eba18aee-40cd-478b-e76a-88b49f0e2419"
      },
      "execution_count": null,
      "outputs": [
        {
          "output_type": "execute_result",
          "data": {
            "text/plain": [
              "<tf.Tensor: shape=(3, 2), dtype=int32, numpy=\n",
              "array([[10,  7],\n",
              "       [ 2,  4],\n",
              "       [ 1,  2]], dtype=int32)>"
            ]
          },
          "metadata": {},
          "execution_count": 12
        }
      ]
    },
    {
      "cell_type": "code",
      "source": [
        "tf.random.set_seed(10)\n",
        "tf.random.shuffle(not_shuffled)"
      ],
      "metadata": {
        "colab": {
          "base_uri": "https://localhost:8080/"
        },
        "id": "1HxBP45G7MQT",
        "outputId": "5c68aca6-32ae-48da-91cf-a95f6ab7b0c9"
      },
      "execution_count": null,
      "outputs": [
        {
          "output_type": "execute_result",
          "data": {
            "text/plain": [
              "<tf.Tensor: shape=(3, 2), dtype=int32, numpy=\n",
              "array([[10,  7],\n",
              "       [ 2,  4],\n",
              "       [ 1,  2]], dtype=int32)>"
            ]
          },
          "metadata": {},
          "execution_count": 13
        }
      ]
    },
    {
      "cell_type": "markdown",
      "source": [
        "## ⚓ Exercise: Produce 5 random tensors and shuffle them\n",
        "\n",
        "https://www.tensorflow.org/api_docs/python/tf/random/set_seed"
      ],
      "metadata": {
        "id": "gGjb3J4m8WLt"
      }
    },
    {
      "cell_type": "code",
      "source": [
        "tf.random.set_seed(100)\n",
        "random_gen = tf.random.Generator.from_seed(10)\n",
        "a = random_gen.normal(shape=(1,10), mean=0, stddev=1)\n",
        "b = random_gen.uniform(shape=(1,10), minval=0, maxval=10)\n",
        "c = tf.reshape(\n",
        "    tf.random.stateless_binomial(\n",
        "    shape=[10], seed=[1, 1], counts=[10]*10, probs=np.arange(0.1, 1.1, 0.1), output_dtype=tf.float32), (1,10))\n",
        "d = random_gen.normal(shape=(1,10), mean=10, stddev=1)\n",
        "e = random_gen.normal(shape=(1,10), mean=0, stddev=2)\n",
        "unshuffled = tf.concat([a,b,c,d,e], 0)\n",
        "unshuffled, tf.random.shuffle(unshuffled, seed=10)"
      ],
      "metadata": {
        "colab": {
          "base_uri": "https://localhost:8080/"
        },
        "id": "m2kObLxP9pQ8",
        "outputId": "ebfc0fa9-286c-44c7-e973-de624045ce52"
      },
      "execution_count": null,
      "outputs": [
        {
          "output_type": "execute_result",
          "data": {
            "text/plain": [
              "(<tf.Tensor: shape=(5, 10), dtype=float32, numpy=\n",
              " array([[-2.9604465e-01, -2.1134207e-01,  1.0630016e-02,  1.5165398e+00,\n",
              "          2.7305740e-01, -2.9925638e-01, -3.6523250e-01,  6.1883307e-01,\n",
              "         -1.0130816e+00,  2.8291711e-01],\n",
              "        [ 4.0812969e-01,  1.1846912e+00,  8.4382048e+00,  7.6974926e+00,\n",
              "          6.6823254e+00,  3.8150179e+00,  3.5973561e+00,  3.4344697e+00,\n",
              "          8.9352741e+00,  5.9334860e+00],\n",
              "        [ 3.0000000e+00,  2.0000000e+00,  1.0000000e+00,  6.0000000e+00,\n",
              "          2.0000000e+00,  5.0000000e+00,  6.0000000e+00,  8.0000000e+00,\n",
              "          8.0000000e+00,  1.0000000e+01],\n",
              "        [ 8.8429270e+00,  1.0771253e+01,  1.0319363e+01,  1.0404154e+01,\n",
              "          1.0327567e+01,  1.1497083e+01,  9.8136797e+00,  1.2315570e+01,\n",
              "          1.0519485e+01,  9.1210108e+00],\n",
              "        [-1.6040002e+00, -4.1129370e+00,  1.0339310e+00,  2.2310841e+00,\n",
              "          2.2762547e+00,  4.2137284e+00,  1.8501984e+00, -4.0433061e-01,\n",
              "          2.8731544e+00,  7.6397896e-02]], dtype=float32)>,\n",
              " <tf.Tensor: shape=(5, 10), dtype=float32, numpy=\n",
              " array([[-1.6040002e+00, -4.1129370e+00,  1.0339310e+00,  2.2310841e+00,\n",
              "          2.2762547e+00,  4.2137284e+00,  1.8501984e+00, -4.0433061e-01,\n",
              "          2.8731544e+00,  7.6397896e-02],\n",
              "        [ 4.0812969e-01,  1.1846912e+00,  8.4382048e+00,  7.6974926e+00,\n",
              "          6.6823254e+00,  3.8150179e+00,  3.5973561e+00,  3.4344697e+00,\n",
              "          8.9352741e+00,  5.9334860e+00],\n",
              "        [-2.9604465e-01, -2.1134207e-01,  1.0630016e-02,  1.5165398e+00,\n",
              "          2.7305740e-01, -2.9925638e-01, -3.6523250e-01,  6.1883307e-01,\n",
              "         -1.0130816e+00,  2.8291711e-01],\n",
              "        [ 3.0000000e+00,  2.0000000e+00,  1.0000000e+00,  6.0000000e+00,\n",
              "          2.0000000e+00,  5.0000000e+00,  6.0000000e+00,  8.0000000e+00,\n",
              "          8.0000000e+00,  1.0000000e+01],\n",
              "        [ 8.8429270e+00,  1.0771253e+01,  1.0319363e+01,  1.0404154e+01,\n",
              "          1.0327567e+01,  1.1497083e+01,  9.8136797e+00,  1.2315570e+01,\n",
              "          1.0519485e+01,  9.1210108e+00]], dtype=float32)>)"
            ]
          },
          "metadata": {},
          "execution_count": 14
        }
      ]
    },
    {
      "cell_type": "markdown",
      "source": [
        "# Other ways to create tensors"
      ],
      "metadata": {
        "id": "v0UYjE66K0vT"
      }
    },
    {
      "cell_type": "code",
      "source": [
        "print(tf.ones((1,10)))\n",
        "tf.zeros((1,10))"
      ],
      "metadata": {
        "colab": {
          "base_uri": "https://localhost:8080/"
        },
        "id": "5xYgfvEgd37C",
        "outputId": "db3bc26c-5cd3-47c9-e430-de0aff5ac2fb"
      },
      "execution_count": null,
      "outputs": [
        {
          "output_type": "stream",
          "name": "stdout",
          "text": [
            "tf.Tensor([[1. 1. 1. 1. 1. 1. 1. 1. 1. 1.]], shape=(1, 10), dtype=float32)\n"
          ]
        },
        {
          "output_type": "execute_result",
          "data": {
            "text/plain": [
              "<tf.Tensor: shape=(1, 10), dtype=float32, numpy=array([[0., 0., 0., 0., 0., 0., 0., 0., 0., 0.]], dtype=float32)>"
            ]
          },
          "metadata": {},
          "execution_count": 15
        }
      ]
    },
    {
      "cell_type": "markdown",
      "source": [
        "# Turning numpy arrays into tensors"
      ],
      "metadata": {
        "id": "YlBDdK6GeOyL"
      }
    },
    {
      "cell_type": "code",
      "source": [
        "np_A = np.arange(1, 25, dtype=np.int32)\n",
        "A = tf.constant(np_A, shape=(2,3,4))\n",
        "B = tf.constant(np_A)\n",
        "A, B"
      ],
      "metadata": {
        "colab": {
          "base_uri": "https://localhost:8080/"
        },
        "id": "uDU8EdF8fqOc",
        "outputId": "0a1965e5-65e9-4a92-b1b7-1dce02b10729"
      },
      "execution_count": null,
      "outputs": [
        {
          "output_type": "execute_result",
          "data": {
            "text/plain": [
              "(<tf.Tensor: shape=(2, 3, 4), dtype=int32, numpy=\n",
              " array([[[ 1,  2,  3,  4],\n",
              "         [ 5,  6,  7,  8],\n",
              "         [ 9, 10, 11, 12]],\n",
              " \n",
              "        [[13, 14, 15, 16],\n",
              "         [17, 18, 19, 20],\n",
              "         [21, 22, 23, 24]]], dtype=int32)>,\n",
              " <tf.Tensor: shape=(24,), dtype=int32, numpy=\n",
              " array([ 1,  2,  3,  4,  5,  6,  7,  8,  9, 10, 11, 12, 13, 14, 15, 16, 17,\n",
              "        18, 19, 20, 21, 22, 23, 24], dtype=int32)>)"
            ]
          },
          "metadata": {},
          "execution_count": 16
        }
      ]
    },
    {
      "cell_type": "markdown",
      "source": [
        "# Getting information from tensors"
      ],
      "metadata": {
        "id": "bVtfnVNqgAA8"
      }
    },
    {
      "cell_type": "code",
      "source": [
        "A = tf.zeros(shape=(2, 3, 4, 5))\n",
        "A.ndim, A.shape, tf.size(A), A[-1, -1, -1], A.dtype"
      ],
      "metadata": {
        "colab": {
          "base_uri": "https://localhost:8080/"
        },
        "id": "bYtnKbRLgA0H",
        "outputId": "50f6ec5a-189e-4a95-8d27-fbfc7b87cf25"
      },
      "execution_count": null,
      "outputs": [
        {
          "output_type": "execute_result",
          "data": {
            "text/plain": [
              "(4,\n",
              " TensorShape([2, 3, 4, 5]),\n",
              " <tf.Tensor: shape=(), dtype=int32, numpy=120>,\n",
              " <tf.Tensor: shape=(5,), dtype=float32, numpy=array([0., 0., 0., 0., 0.], dtype=float32)>,\n",
              " tf.float32)"
            ]
          },
          "metadata": {},
          "execution_count": 17
        }
      ]
    },
    {
      "cell_type": "markdown",
      "source": [
        "# Indexing Tensors\n",
        "\n",
        "- like lists or numpy"
      ],
      "metadata": {
        "id": "8qOA5V7ejGv3"
      }
    },
    {
      "cell_type": "code",
      "source": [
        "random_gen = tf.random.Generator.from_seed(10)\n",
        "A = random_gen.uniform((2,3,4,5), minval=0, maxval=10, dtype=tf.int32)"
      ],
      "metadata": {
        "id": "eDw1R9cqjH6S"
      },
      "execution_count": null,
      "outputs": []
    },
    {
      "cell_type": "code",
      "source": [
        "#Get first 2 elements of eatch dimension\n",
        "print(A, A[:2, :2, :2, :2])\n",
        "\n",
        "#Get first element in each dimension except the final one\n",
        "print(A[0, 0, 0, :])\n",
        "\n",
        "#Get first element in each dimension except the second last one\n",
        "print(A[:1, :1, :, :1])"
      ],
      "metadata": {
        "colab": {
          "base_uri": "https://localhost:8080/"
        },
        "id": "FepZAvEAjLFV",
        "outputId": "097ca7b6-bbe8-49d6-fbac-f50457861ae7"
      },
      "execution_count": null,
      "outputs": [
        {
          "output_type": "stream",
          "name": "stdout",
          "text": [
            "tf.Tensor(\n",
            "[[[[6 8 2 4 4]\n",
            "   [4 1 7 0 9]\n",
            "   [2 9 3 9 6]\n",
            "   [6 4 2 5 7]]\n",
            "\n",
            "  [[9 6 9 1 3]\n",
            "   [1 0 4 7 2]\n",
            "   [5 3 0 3 6]\n",
            "   [4 7 1 3 6]]\n",
            "\n",
            "  [[1 7 4 9 0]\n",
            "   [5 1 8 6 9]\n",
            "   [8 1 8 2 9]\n",
            "   [9 6 6 9 6]]]\n",
            "\n",
            "\n",
            " [[[3 0 3 2 5]\n",
            "   [9 2 3 6 5]\n",
            "   [7 0 2 6 2]\n",
            "   [5 6 1 2 3]]\n",
            "\n",
            "  [[8 0 4 9 7]\n",
            "   [0 2 2 3 4]\n",
            "   [8 3 7 9 3]\n",
            "   [7 1 5 7 3]]\n",
            "\n",
            "  [[1 7 5 0 7]\n",
            "   [2 0 1 1 8]\n",
            "   [2 3 8 9 6]\n",
            "   [3 9 9 4 9]]]], shape=(2, 3, 4, 5), dtype=int32) tf.Tensor(\n",
            "[[[[6 8]\n",
            "   [4 1]]\n",
            "\n",
            "  [[9 6]\n",
            "   [1 0]]]\n",
            "\n",
            "\n",
            " [[[3 0]\n",
            "   [9 2]]\n",
            "\n",
            "  [[8 0]\n",
            "   [0 2]]]], shape=(2, 2, 2, 2), dtype=int32)\n",
            "tf.Tensor([6 8 2 4 4], shape=(5,), dtype=int32)\n",
            "tf.Tensor(\n",
            "[[[[6]\n",
            "   [4]\n",
            "   [2]\n",
            "   [6]]]], shape=(1, 1, 4, 1), dtype=int32)\n"
          ]
        }
      ]
    },
    {
      "cell_type": "markdown",
      "source": [
        "# Add extra dimension to tensor"
      ],
      "metadata": {
        "id": "TQJLfcIYwn9L"
      }
    },
    {
      "cell_type": "code",
      "source": [
        "rank_2_tensor = random_gen.uniform((2,2), minval=0, maxval=10, dtype=tf.int32)"
      ],
      "metadata": {
        "id": "jIl8JEjlmGoB"
      },
      "execution_count": null,
      "outputs": []
    },
    {
      "cell_type": "code",
      "source": [
        "rank_2_tensor.shape"
      ],
      "metadata": {
        "colab": {
          "base_uri": "https://localhost:8080/"
        },
        "id": "iyddQ203mnXG",
        "outputId": "d6b1c93b-20f5-450d-dc97-911335207849"
      },
      "execution_count": null,
      "outputs": [
        {
          "output_type": "execute_result",
          "data": {
            "text/plain": [
              "TensorShape([2, 2])"
            ]
          },
          "metadata": {},
          "execution_count": 21
        }
      ]
    },
    {
      "cell_type": "code",
      "source": [
        "rank_2_tensor[ :, :, tf.newaxis]\n",
        "rank_2_tensor[ ..., tf.newaxis]\n",
        "tf.reshape(rank_2_tensor, (rank_2_tensor.shape[0], rank_2_tensor.shape[1], 1))\n",
        "tf.expand_dims(rank_2_tensor, -1)"
      ],
      "metadata": {
        "colab": {
          "base_uri": "https://localhost:8080/"
        },
        "id": "tzj9NHpfumsI",
        "outputId": "033e2cf7-92ff-4a77-c62f-cfd6de7c81ca"
      },
      "execution_count": null,
      "outputs": [
        {
          "output_type": "execute_result",
          "data": {
            "text/plain": [
              "<tf.Tensor: shape=(2, 2, 1), dtype=int32, numpy=\n",
              "array([[[2],\n",
              "        [8]],\n",
              "\n",
              "       [[3],\n",
              "        [1]]], dtype=int32)>"
            ]
          },
          "metadata": {},
          "execution_count": 22
        }
      ]
    },
    {
      "cell_type": "markdown",
      "source": [
        "# Tensor Manipulations (Tensor operations)"
      ],
      "metadata": {
        "id": "bpwePb2iupOV"
      }
    },
    {
      "cell_type": "code",
      "source": [
        "A = random_gen.uniform((2,2), minval=0, maxval=10, dtype=tf.int32)\n",
        "b = tf.ones((2, 1), dtype=tf.int32)\n",
        "A, b"
      ],
      "metadata": {
        "colab": {
          "base_uri": "https://localhost:8080/"
        },
        "id": "JZWh5FGhxZ3K",
        "outputId": "35eff108-b62a-452c-b9ef-3be7de185351"
      },
      "execution_count": null,
      "outputs": [
        {
          "output_type": "execute_result",
          "data": {
            "text/plain": [
              "(<tf.Tensor: shape=(2, 2), dtype=int32, numpy=\n",
              " array([[3, 0],\n",
              "        [7, 7]], dtype=int32)>, <tf.Tensor: shape=(2, 1), dtype=int32, numpy=\n",
              " array([[1],\n",
              "        [1]], dtype=int32)>)"
            ]
          },
          "metadata": {},
          "execution_count": 23
        }
      ]
    },
    {
      "cell_type": "code",
      "source": [
        "A+10, A+b, A*b"
      ],
      "metadata": {
        "colab": {
          "base_uri": "https://localhost:8080/"
        },
        "id": "QD8IciC3xb3y",
        "outputId": "dadacdbe-5e55-42bb-bb1d-44d72e6f37e8"
      },
      "execution_count": null,
      "outputs": [
        {
          "output_type": "execute_result",
          "data": {
            "text/plain": [
              "(<tf.Tensor: shape=(2, 2), dtype=int32, numpy=\n",
              " array([[13, 10],\n",
              "        [17, 17]], dtype=int32)>, <tf.Tensor: shape=(2, 2), dtype=int32, numpy=\n",
              " array([[4, 1],\n",
              "        [8, 8]], dtype=int32)>, <tf.Tensor: shape=(2, 2), dtype=int32, numpy=\n",
              " array([[3, 0],\n",
              "        [7, 7]], dtype=int32)>)"
            ]
          },
          "metadata": {},
          "execution_count": 24
        }
      ]
    },
    {
      "cell_type": "code",
      "source": [
        "tf.multiply(A, b)"
      ],
      "metadata": {
        "colab": {
          "base_uri": "https://localhost:8080/"
        },
        "id": "KeXAldfMx33E",
        "outputId": "a8aef9c9-6104-4979-d742-c292e9b09645"
      },
      "execution_count": null,
      "outputs": [
        {
          "output_type": "execute_result",
          "data": {
            "text/plain": [
              "<tf.Tensor: shape=(2, 2), dtype=int32, numpy=\n",
              "array([[3, 0],\n",
              "       [7, 7]], dtype=int32)>"
            ]
          },
          "metadata": {},
          "execution_count": 25
        }
      ]
    },
    {
      "cell_type": "code",
      "source": [
        "A * 10"
      ],
      "metadata": {
        "colab": {
          "base_uri": "https://localhost:8080/"
        },
        "id": "9tJC0n7S2M24",
        "outputId": "6249aadd-1ec5-4e7e-f64b-21f4f0c2a87a"
      },
      "execution_count": null,
      "outputs": [
        {
          "output_type": "execute_result",
          "data": {
            "text/plain": [
              "<tf.Tensor: shape=(2, 2), dtype=int32, numpy=\n",
              "array([[30,  0],\n",
              "       [70, 70]], dtype=int32)>"
            ]
          },
          "metadata": {},
          "execution_count": 26
        }
      ]
    },
    {
      "cell_type": "markdown",
      "source": [
        "# Matrix multiplication\n",
        "\n",
        "AxB[i, j] is the dot product of ith row of A and jth column of B"
      ],
      "metadata": {
        "id": "fE4fJTqvJQqw"
      }
    },
    {
      "cell_type": "code",
      "source": [
        "A = tf.Variable([[1, 2, 5], [7, 2, 1], [3, 3, 3]], dtype=tf.int32)\n",
        "B = tf.constant([[3, 5], [6, 7], [1, 8]], dtype=tf.int32)"
      ],
      "metadata": {
        "id": "-0XdjCkzLvH1"
      },
      "execution_count": null,
      "outputs": []
    },
    {
      "cell_type": "code",
      "source": [
        "tf.math.equal(tf.matmul(A, B), A @ B)\n",
        "tf.equal(A@B, tf.tensordot(A, B, [[1], [0]]))"
      ],
      "metadata": {
        "colab": {
          "base_uri": "https://localhost:8080/"
        },
        "id": "nIRbqeZeL5U5",
        "outputId": "954b00e3-a9f5-4890-efae-6ca12a864b81"
      },
      "execution_count": null,
      "outputs": [
        {
          "output_type": "execute_result",
          "data": {
            "text/plain": [
              "<tf.Tensor: shape=(3, 2), dtype=bool, numpy=\n",
              "array([[ True,  True],\n",
              "       [ True,  True],\n",
              "       [ True,  True]])>"
            ]
          },
          "metadata": {},
          "execution_count": 28
        }
      ]
    },
    {
      "cell_type": "markdown",
      "source": [
        "# Changing datatype of tensor"
      ],
      "metadata": {
        "id": "Iz1LNAoCl5nU"
      }
    },
    {
      "cell_type": "code",
      "source": [
        "tf.__version__, tf.constant([1., 2.]), tf.constant([1, 2])"
      ],
      "metadata": {
        "colab": {
          "base_uri": "https://localhost:8080/"
        },
        "id": "teyBfloUl-t4",
        "outputId": "937d279d-dd04-4d59-ea17-69e9ab2bf45e"
      },
      "execution_count": null,
      "outputs": [
        {
          "output_type": "execute_result",
          "data": {
            "text/plain": [
              "('2.9.2',\n",
              " <tf.Tensor: shape=(2,), dtype=float32, numpy=array([1., 2.], dtype=float32)>,\n",
              " <tf.Tensor: shape=(2,), dtype=int32, numpy=array([1, 2], dtype=int32)>)"
            ]
          },
          "metadata": {},
          "execution_count": 29
        }
      ]
    },
    {
      "cell_type": "code",
      "source": [
        "a = tf.constant([1., 2.])\n",
        "a, a.dtype"
      ],
      "metadata": {
        "colab": {
          "base_uri": "https://localhost:8080/"
        },
        "id": "tJfC4B6hmFno",
        "outputId": "2c0c6d47-a9f1-4c8d-a4e1-048ea64dffc7"
      },
      "execution_count": null,
      "outputs": [
        {
          "output_type": "execute_result",
          "data": {
            "text/plain": [
              "(<tf.Tensor: shape=(2,), dtype=float32, numpy=array([1., 2.], dtype=float32)>,\n",
              " tf.float32)"
            ]
          },
          "metadata": {},
          "execution_count": 30
        }
      ]
    },
    {
      "cell_type": "code",
      "source": [
        "tf.cast(a, dtype=tf.float16), tf.cast(a, dtype=tf.bfloat16)"
      ],
      "metadata": {
        "colab": {
          "base_uri": "https://localhost:8080/"
        },
        "id": "ujNSTpYRn8Qz",
        "outputId": "33060921-63d5-4fd6-c4e4-b2b66ef67c17"
      },
      "execution_count": null,
      "outputs": [
        {
          "output_type": "execute_result",
          "data": {
            "text/plain": [
              "(<tf.Tensor: shape=(2,), dtype=float16, numpy=array([1., 2.], dtype=float16)>,\n",
              " <tf.Tensor: shape=(2,), dtype=bfloat16, numpy=array([1, 2], dtype=bfloat16)>)"
            ]
          },
          "metadata": {},
          "execution_count": 31
        }
      ]
    },
    {
      "cell_type": "code",
      "source": [
        "b = tf.constant([1, 2])\n",
        "tf.cast(b, dtype=tf.float32), tf.cast(a, dtype=tf.float32)"
      ],
      "metadata": {
        "colab": {
          "base_uri": "https://localhost:8080/"
        },
        "id": "7Ed_V9PZoFwk",
        "outputId": "8eaba65c-e855-457f-c8f2-177a9164ec97"
      },
      "execution_count": null,
      "outputs": [
        {
          "output_type": "execute_result",
          "data": {
            "text/plain": [
              "(<tf.Tensor: shape=(2,), dtype=float32, numpy=array([1., 2.], dtype=float32)>,\n",
              " <tf.Tensor: shape=(2,), dtype=float32, numpy=array([1., 2.], dtype=float32)>)"
            ]
          },
          "metadata": {},
          "execution_count": 32
        }
      ]
    },
    {
      "cell_type": "markdown",
      "source": [
        "# Aggregating tensors"
      ],
      "metadata": {
        "id": "5q3Oi0S7opGA"
      }
    },
    {
      "cell_type": "code",
      "source": [
        "random_gen = tf.random.Generator.from_seed(100)\n",
        "A = random_gen.uniform(shape=(4,4), minval=-10, maxval=10, dtype=tf.int32)"
      ],
      "metadata": {
        "id": "CcokQTYytfWb"
      },
      "execution_count": null,
      "outputs": []
    },
    {
      "cell_type": "code",
      "source": [
        "A, tf.abs(A), tf.reduce_min(A), tf.reduce_max(A, axis=0), tf.reduce_mean(A), tf.reduce_sum(A, axis=1)"
      ],
      "metadata": {
        "colab": {
          "base_uri": "https://localhost:8080/"
        },
        "id": "op6acdhotwbv",
        "outputId": "910f5aa7-aa5e-4174-be77-084b17761c97"
      },
      "execution_count": null,
      "outputs": [
        {
          "output_type": "execute_result",
          "data": {
            "text/plain": [
              "(<tf.Tensor: shape=(4, 4), dtype=int32, numpy=\n",
              " array([[ 0,  2,  1, -2],\n",
              "        [-7, -8,  7, -4],\n",
              "        [ 4,  7,  2,  9],\n",
              "        [ 4,  8,  4, -3]], dtype=int32)>,\n",
              " <tf.Tensor: shape=(4, 4), dtype=int32, numpy=\n",
              " array([[0, 2, 1, 2],\n",
              "        [7, 8, 7, 4],\n",
              "        [4, 7, 2, 9],\n",
              "        [4, 8, 4, 3]], dtype=int32)>,\n",
              " <tf.Tensor: shape=(), dtype=int32, numpy=-8>,\n",
              " <tf.Tensor: shape=(4,), dtype=int32, numpy=array([4, 8, 7, 9], dtype=int32)>,\n",
              " <tf.Tensor: shape=(), dtype=int32, numpy=1>,\n",
              " <tf.Tensor: shape=(4,), dtype=int32, numpy=array([  1, -12,  22,  13], dtype=int32)>)"
            ]
          },
          "metadata": {},
          "execution_count": 34
        }
      ]
    },
    {
      "cell_type": "code",
      "source": [
        "(A  - tf.reduce_mean(A)) * (A  - tf.reduce_mean(A))"
      ],
      "metadata": {
        "colab": {
          "base_uri": "https://localhost:8080/"
        },
        "id": "WgGha93BuCtj",
        "outputId": "9eee58eb-ddec-4262-cd0d-5deac2711fa9"
      },
      "execution_count": null,
      "outputs": [
        {
          "output_type": "execute_result",
          "data": {
            "text/plain": [
              "<tf.Tensor: shape=(4, 4), dtype=int32, numpy=\n",
              "array([[ 1,  1,  0,  9],\n",
              "       [64, 81, 36, 25],\n",
              "       [ 9, 36,  1, 64],\n",
              "       [ 9, 49,  9, 16]], dtype=int32)>"
            ]
          },
          "metadata": {},
          "execution_count": 35
        }
      ]
    },
    {
      "cell_type": "code",
      "source": [
        "A = tf.cast(A, dtype=tf.float32)\n",
        "var = tf.reduce_mean(tf.square((A  - tf.reduce_mean(A))))\n",
        "std = tf.sqrt(var)\n",
        "var, std"
      ],
      "metadata": {
        "colab": {
          "base_uri": "https://localhost:8080/"
        },
        "id": "r7E4r7wrxN0t",
        "outputId": "5bf60d37-d2d3-4718-c0ce-058875af9f53"
      },
      "execution_count": null,
      "outputs": [
        {
          "output_type": "execute_result",
          "data": {
            "text/plain": [
              "(<tf.Tensor: shape=(), dtype=float32, numpy=25.375>,\n",
              " <tf.Tensor: shape=(), dtype=float32, numpy=5.03736>)"
            ]
          },
          "metadata": {},
          "execution_count": 36
        }
      ]
    },
    {
      "cell_type": "code",
      "source": [
        "import tensorflow_probability as tfp\n",
        "tfp.stats.variance(A,sample_axis=None), tf.math.reduce_std(A)"
      ],
      "metadata": {
        "colab": {
          "base_uri": "https://localhost:8080/"
        },
        "id": "KxSS5wrSxhs1",
        "outputId": "d9759c3e-f82d-4362-fb1a-4036c0573a3e"
      },
      "execution_count": null,
      "outputs": [
        {
          "output_type": "execute_result",
          "data": {
            "text/plain": [
              "(<tf.Tensor: shape=(), dtype=float32, numpy=25.375>,\n",
              " <tf.Tensor: shape=(), dtype=float32, numpy=5.03736>)"
            ]
          },
          "metadata": {},
          "execution_count": 37
        }
      ]
    },
    {
      "cell_type": "code",
      "source": [
        "A"
      ],
      "metadata": {
        "colab": {
          "base_uri": "https://localhost:8080/"
        },
        "id": "WI3mZZCZybo-",
        "outputId": "be541143-a112-46e1-8b24-24180f80294f"
      },
      "execution_count": null,
      "outputs": [
        {
          "output_type": "execute_result",
          "data": {
            "text/plain": [
              "<tf.Tensor: shape=(4, 4), dtype=float32, numpy=\n",
              "array([[ 0.,  2.,  1., -2.],\n",
              "       [-7., -8.,  7., -4.],\n",
              "       [ 4.,  7.,  2.,  9.],\n",
              "       [ 4.,  8.,  4., -3.]], dtype=float32)>"
            ]
          },
          "metadata": {},
          "execution_count": 38
        }
      ]
    },
    {
      "cell_type": "code",
      "source": [
        "tf.math.argmax(A, axis=0), tf.math.argmin(A, axis=0)"
      ],
      "metadata": {
        "colab": {
          "base_uri": "https://localhost:8080/"
        },
        "id": "au3Ukcz1Dv-X",
        "outputId": "be79d848-60ee-415c-968e-75879daf628c"
      },
      "execution_count": null,
      "outputs": [
        {
          "output_type": "execute_result",
          "data": {
            "text/plain": [
              "(<tf.Tensor: shape=(4,), dtype=int64, numpy=array([2, 3, 1, 2])>,\n",
              " <tf.Tensor: shape=(4,), dtype=int64, numpy=array([1, 1, 0, 1])>)"
            ]
          },
          "metadata": {},
          "execution_count": 39
        }
      ]
    },
    {
      "cell_type": "code",
      "source": [
        "A[tf.math.argmax(A, axis=0)[1], 1]"
      ],
      "metadata": {
        "colab": {
          "base_uri": "https://localhost:8080/"
        },
        "id": "oulcM8VdD5wF",
        "outputId": "ca3f97a7-4a45-487d-e859-db1d155c12ee"
      },
      "execution_count": null,
      "outputs": [
        {
          "output_type": "execute_result",
          "data": {
            "text/plain": [
              "<tf.Tensor: shape=(), dtype=float32, numpy=8.0>"
            ]
          },
          "metadata": {},
          "execution_count": 40
        }
      ]
    },
    {
      "cell_type": "markdown",
      "source": [
        "# Squeezing a Tensor"
      ],
      "metadata": {
        "id": "1IZ2jxMCFrof"
      }
    },
    {
      "cell_type": "code",
      "source": [
        "random_gen = tf.random.Generator.from_seed(100)\n",
        "A = random_gen.uniform(shape=(1,2,1,3), minval=0, maxval=10)"
      ],
      "metadata": {
        "id": "6vRwgP_EI9x5"
      },
      "execution_count": null,
      "outputs": []
    },
    {
      "cell_type": "code",
      "source": [
        "tf.squeeze(A)"
      ],
      "metadata": {
        "colab": {
          "base_uri": "https://localhost:8080/"
        },
        "id": "AgmM0izoJLD3",
        "outputId": "c0772d3c-75c2-4d7b-8397-d8ad43e334df"
      },
      "execution_count": null,
      "outputs": [
        {
          "output_type": "execute_result",
          "data": {
            "text/plain": [
              "<tf.Tensor: shape=(2, 3), dtype=float32, numpy=\n",
              "array([[6.661966 , 7.469058 , 8.769325 ],\n",
              "       [8.477416 , 2.2709787, 4.9256873]], dtype=float32)>"
            ]
          },
          "metadata": {},
          "execution_count": 42
        }
      ]
    },
    {
      "cell_type": "markdown",
      "source": [
        "# One hot encoding "
      ],
      "metadata": {
        "id": "l8GD4c1LJLXa"
      }
    },
    {
      "cell_type": "code",
      "source": [
        "items = ['red', 'blue', 'green']\n",
        "indices = range(len(items))\n",
        "tf.one_hot(indices, depth=len(indices))"
      ],
      "metadata": {
        "colab": {
          "base_uri": "https://localhost:8080/"
        },
        "id": "o1HpIIzmJ2ET",
        "outputId": "ea4d4973-a364-48df-c740-f1a29c263523"
      },
      "execution_count": null,
      "outputs": [
        {
          "output_type": "execute_result",
          "data": {
            "text/plain": [
              "<tf.Tensor: shape=(3, 3), dtype=float32, numpy=\n",
              "array([[1., 0., 0.],\n",
              "       [0., 1., 0.],\n",
              "       [0., 0., 1.]], dtype=float32)>"
            ]
          },
          "metadata": {},
          "execution_count": 43
        }
      ]
    },
    {
      "cell_type": "markdown",
      "source": [
        "# Some math operations"
      ],
      "metadata": {
        "id": "K7YW9ruUKAZQ"
      }
    },
    {
      "cell_type": "code",
      "source": [
        "a = tf.range(1, 10, dtype=tf.float32)\n",
        "a, tf.square(a), tf.math.sqrt(a), tf.math.log(a)"
      ],
      "metadata": {
        "colab": {
          "base_uri": "https://localhost:8080/"
        },
        "id": "bGhaRn7eKVTj",
        "outputId": "4c6d797b-5882-4d5f-ec97-119173641334"
      },
      "execution_count": null,
      "outputs": [
        {
          "output_type": "execute_result",
          "data": {
            "text/plain": [
              "(<tf.Tensor: shape=(9,), dtype=float32, numpy=array([1., 2., 3., 4., 5., 6., 7., 8., 9.], dtype=float32)>,\n",
              " <tf.Tensor: shape=(9,), dtype=float32, numpy=array([ 1.,  4.,  9., 16., 25., 36., 49., 64., 81.], dtype=float32)>,\n",
              " <tf.Tensor: shape=(9,), dtype=float32, numpy=\n",
              " array([1.       , 1.4142135, 1.7320508, 2.       , 2.2360678, 2.4494896,\n",
              "        2.6457512, 2.828427 , 3.       ], dtype=float32)>,\n",
              " <tf.Tensor: shape=(9,), dtype=float32, numpy=\n",
              " array([0.       , 0.6931472, 1.0986123, 1.3862944, 1.609438 , 1.7917595,\n",
              "        1.9459102, 2.0794415, 2.1972246], dtype=float32)>)"
            ]
          },
          "metadata": {},
          "execution_count": 44
        }
      ]
    },
    {
      "cell_type": "markdown",
      "source": [
        "# Compatibility with numpy array"
      ],
      "metadata": {
        "id": "yXDyOgNZMVsC"
      }
    },
    {
      "cell_type": "code",
      "source": [
        "a=[1.,2.,3.]\n",
        "a_np = tf.constant(a)\n",
        "n_tensor1 = tf.constant(a)\n",
        "n_tensor2 = tf.Variable(a)\n",
        "a, a_np, n_tensor1, n_tensor2"
      ],
      "metadata": {
        "colab": {
          "base_uri": "https://localhost:8080/"
        },
        "id": "Ymn7CPRIMkZI",
        "outputId": "4a8ccf6d-4fba-4173-98b4-bb417819bb07"
      },
      "execution_count": null,
      "outputs": [
        {
          "output_type": "execute_result",
          "data": {
            "text/plain": [
              "([1.0, 2.0, 3.0],\n",
              " <tf.Tensor: shape=(3,), dtype=float32, numpy=array([1., 2., 3.], dtype=float32)>,\n",
              " <tf.Tensor: shape=(3,), dtype=float32, numpy=array([1., 2., 3.], dtype=float32)>,\n",
              " <tf.Variable 'Variable:0' shape=(3,) dtype=float32, numpy=array([1., 2., 3.], dtype=float32)>)"
            ]
          },
          "metadata": {},
          "execution_count": 45
        }
      ]
    },
    {
      "cell_type": "markdown",
      "source": [
        "# Access to gpu\n",
        "\n",
        "- If we have access to CUDA enabled GPU, TF automatically uses it"
      ],
      "metadata": {
        "id": "RFii8A5gOITd"
      }
    },
    {
      "cell_type": "code",
      "source": [
        "tf.config.list_physical_devices(\"TPU\"), tf.config.list_physical_devices(\"GPU\"), tf.config.list_physical_devices(\"CPU\")"
      ],
      "metadata": {
        "colab": {
          "base_uri": "https://localhost:8080/"
        },
        "id": "zKonFyKXOI9w",
        "outputId": "79123e31-65a6-4569-f35d-c87b6b5b6dea"
      },
      "execution_count": null,
      "outputs": [
        {
          "output_type": "execute_result",
          "data": {
            "text/plain": [
              "([],\n",
              " [PhysicalDevice(name='/physical_device:GPU:0', device_type='GPU')],\n",
              " [PhysicalDevice(name='/physical_device:CPU:0', device_type='CPU')])"
            ]
          },
          "metadata": {},
          "execution_count": 46
        }
      ]
    },
    {
      "cell_type": "code",
      "source": [
        "!nvidia-smi"
      ],
      "metadata": {
        "colab": {
          "base_uri": "https://localhost:8080/"
        },
        "id": "7mH2dixLQVCf",
        "outputId": "828e5294-ace2-40b3-e8e5-23079d362b60"
      },
      "execution_count": null,
      "outputs": [
        {
          "output_type": "stream",
          "name": "stdout",
          "text": [
            "Mon Jan 23 01:28:21 2023       \n",
            "+-----------------------------------------------------------------------------+\n",
            "| NVIDIA-SMI 460.32.03    Driver Version: 460.32.03    CUDA Version: 11.2     |\n",
            "|-------------------------------+----------------------+----------------------+\n",
            "| GPU  Name        Persistence-M| Bus-Id        Disp.A | Volatile Uncorr. ECC |\n",
            "| Fan  Temp  Perf  Pwr:Usage/Cap|         Memory-Usage | GPU-Util  Compute M. |\n",
            "|                               |                      |               MIG M. |\n",
            "|===============================+======================+======================|\n",
            "|   0  Tesla T4            Off  | 00000000:00:04.0 Off |                    0 |\n",
            "| N/A   42C    P0    26W /  70W |    314MiB / 15109MiB |      0%      Default |\n",
            "|                               |                      |                  N/A |\n",
            "+-------------------------------+----------------------+----------------------+\n",
            "                                                                               \n",
            "+-----------------------------------------------------------------------------+\n",
            "| Processes:                                                                  |\n",
            "|  GPU   GI   CI        PID   Type   Process name                  GPU Memory |\n",
            "|        ID   ID                                                   Usage      |\n",
            "|=============================================================================|\n",
            "+-----------------------------------------------------------------------------+\n"
          ]
        }
      ]
    },
    {
      "cell_type": "markdown",
      "source": [
        "# 🛠 00. TensorFlow Fundamentals Exercises\n",
        "\n",
        "1. Create a vector, scalar, matrix and tensor with values of your choosing using tf.constant().\n",
        "1. Find the shape, rank and size of the tensors you created in 1.\n",
        "1. Create two tensors containing random values between 0 and 1 with shape [5, 300].\n",
        "1. Multiply the two tensors you created in 3 using matrix multiplication.\n",
        "1. Multiply the two tensors you created in 3 using dot product.\n",
        "1. Create a tensor with random values between 0 and 1 with shape [224, 224, 3].\n",
        "1. Find the min and max values of the tensor you created in 6 along the first axis.\n",
        "1. Created a tensor with random values of shape [1, 224, 224, 3] then squeeze it to change the shape to [224, 224, 3].\n",
        "1. Create a tensor with shape [10] using your own choice of values, then find the index which has the maximum value.\n",
        "1. One-hot encode the tensor you created in 9."
      ],
      "metadata": {
        "id": "EMFc60_hfrYo"
      }
    },
    {
      "cell_type": "code",
      "source": [
        "#1\n",
        "scalar = tf.constant(10)\n",
        "vector = tf.constant([1,2,3])\n",
        "matrix = tf.constant(np.arange(1, 10), shape=(3,3))\n",
        "scalar, vector, matrix"
      ],
      "metadata": {
        "colab": {
          "base_uri": "https://localhost:8080/"
        },
        "id": "fOHAAgS-f5yj",
        "outputId": "76f57000-3d7d-4c16-cf99-3f6e522e59c7"
      },
      "execution_count": null,
      "outputs": [
        {
          "output_type": "execute_result",
          "data": {
            "text/plain": [
              "(<tf.Tensor: shape=(), dtype=int32, numpy=10>,\n",
              " <tf.Tensor: shape=(3,), dtype=int32, numpy=array([1, 2, 3], dtype=int32)>,\n",
              " <tf.Tensor: shape=(3, 3), dtype=int64, numpy=\n",
              " array([[1, 2, 3],\n",
              "        [4, 5, 6],\n",
              "        [7, 8, 9]])>)"
            ]
          },
          "metadata": {},
          "execution_count": 48
        }
      ]
    },
    {
      "cell_type": "code",
      "source": [
        "#2\n",
        "scalar.shape, vector.ndim, tf.size(matrix)"
      ],
      "metadata": {
        "colab": {
          "base_uri": "https://localhost:8080/"
        },
        "id": "Cx2kt_0wgQ8k",
        "outputId": "c93f67ef-62e2-4cac-fe0e-5d4b51ca3b08"
      },
      "execution_count": null,
      "outputs": [
        {
          "output_type": "execute_result",
          "data": {
            "text/plain": [
              "(TensorShape([]), 1, <tf.Tensor: shape=(), dtype=int32, numpy=9>)"
            ]
          },
          "metadata": {},
          "execution_count": 49
        }
      ]
    },
    {
      "cell_type": "code",
      "source": [
        "#3\n",
        "random_gen = tf.random.Generator.from_seed(100)\n",
        "A=random_gen.uniform((5, 300), minval=0, maxval=1)\n",
        "B=random_gen.uniform((5, 300), minval=0, maxval=1)\n",
        "A, B"
      ],
      "metadata": {
        "colab": {
          "base_uri": "https://localhost:8080/"
        },
        "id": "KB9kfPuHgqM0",
        "outputId": "5b8fb814-bf9b-4db8-8c6e-fca5b8d7e80c"
      },
      "execution_count": null,
      "outputs": [
        {
          "output_type": "execute_result",
          "data": {
            "text/plain": [
              "(<tf.Tensor: shape=(5, 300), dtype=float32, numpy=\n",
              " array([[0.6661966 , 0.7469058 , 0.8769325 , ..., 0.41536427, 0.4722309 ,\n",
              "         0.2039113 ],\n",
              "        [0.00572646, 0.5180874 , 0.18395662, ..., 0.02066433, 0.15314782,\n",
              "         0.979172  ],\n",
              "        [0.8016473 , 0.4288255 , 0.6153476 , ..., 0.5761353 , 0.247504  ,\n",
              "         0.15598488],\n",
              "        [0.88497293, 0.95242417, 0.7611464 , ..., 0.04600775, 0.37063193,\n",
              "         0.40530336],\n",
              "        [0.34529388, 0.2566265 , 0.6553159 , ..., 0.73266625, 0.3230319 ,\n",
              "         0.3916204 ]], dtype=float32)>,\n",
              " <tf.Tensor: shape=(5, 300), dtype=float32, numpy=\n",
              " array([[0.6423917 , 0.66857696, 0.03149796, ..., 0.33779883, 0.40777087,\n",
              "         0.9821553 ],\n",
              "        [0.9981669 , 0.03780842, 0.23435211, ..., 0.43565345, 0.38620996,\n",
              "         0.82172513],\n",
              "        [0.884037  , 0.66895485, 0.7227589 , ..., 0.5935743 , 0.24899626,\n",
              "         0.14523578],\n",
              "        [0.63517976, 0.9365325 , 0.03962076, ..., 0.99744785, 0.95818496,\n",
              "         0.4663638 ],\n",
              "        [0.71846783, 0.12628889, 0.12161052, ..., 0.4683684 , 0.5007508 ,\n",
              "         0.78911626]], dtype=float32)>)"
            ]
          },
          "metadata": {},
          "execution_count": 50
        }
      ]
    },
    {
      "cell_type": "code",
      "source": [
        "#4\n",
        "A@tf.transpose(B)"
      ],
      "metadata": {
        "colab": {
          "base_uri": "https://localhost:8080/"
        },
        "id": "GQboVQBahTHt",
        "outputId": "f8963f61-5694-4981-f3b9-8c9580a6d95c"
      },
      "execution_count": null,
      "outputs": [
        {
          "output_type": "execute_result",
          "data": {
            "text/plain": [
              "<tf.Tensor: shape=(5, 5), dtype=float32, numpy=\n",
              "array([[72.15505 , 72.07376 , 72.49989 , 74.66458 , 77.83046 ],\n",
              "       [74.090775, 70.17688 , 74.07868 , 73.94577 , 73.172844],\n",
              "       [72.373245, 71.25055 , 75.43869 , 74.33907 , 75.48618 ],\n",
              "       [75.03104 , 74.18742 , 73.292366, 76.8454  , 76.95524 ],\n",
              "       [78.20044 , 73.97373 , 76.448654, 75.0536  , 76.4449  ]],\n",
              "      dtype=float32)>"
            ]
          },
          "metadata": {},
          "execution_count": 51
        }
      ]
    },
    {
      "cell_type": "code",
      "source": [
        "#5\n",
        "tf.tensordot(A, B, axes=[[1], [1]])"
      ],
      "metadata": {
        "colab": {
          "base_uri": "https://localhost:8080/"
        },
        "id": "-Z7avS_uhgz2",
        "outputId": "a483ca1a-38b1-4db1-ae19-c78687a73f69"
      },
      "execution_count": null,
      "outputs": [
        {
          "output_type": "execute_result",
          "data": {
            "text/plain": [
              "<tf.Tensor: shape=(5, 5), dtype=float32, numpy=\n",
              "array([[72.15505 , 72.07376 , 72.49989 , 74.66458 , 77.83046 ],\n",
              "       [74.090775, 70.17688 , 74.07868 , 73.94577 , 73.172844],\n",
              "       [72.373245, 71.25055 , 75.43869 , 74.33907 , 75.48618 ],\n",
              "       [75.03104 , 74.18742 , 73.292366, 76.8454  , 76.95524 ],\n",
              "       [78.20044 , 73.97373 , 76.448654, 75.0536  , 76.4449  ]],\n",
              "      dtype=float32)>"
            ]
          },
          "metadata": {},
          "execution_count": 52
        }
      ]
    },
    {
      "cell_type": "code",
      "source": [
        "#6\n",
        "C = random_gen.uniform( [224, 224, 3], 0, 1)\n",
        "C"
      ],
      "metadata": {
        "colab": {
          "base_uri": "https://localhost:8080/"
        },
        "id": "hSWEo-J6h5dn",
        "outputId": "633a932b-a205-4a58-faad-77d483da3024"
      },
      "execution_count": null,
      "outputs": [
        {
          "output_type": "execute_result",
          "data": {
            "text/plain": [
              "<tf.Tensor: shape=(224, 224, 3), dtype=float32, numpy=\n",
              "array([[[8.03045273e-01, 3.63185406e-01, 2.61659741e-01],\n",
              "        [9.61764336e-01, 3.41106653e-02, 2.91288137e-01],\n",
              "        [5.79285622e-02, 9.88239527e-01, 4.18271661e-01],\n",
              "        ...,\n",
              "        [7.22702384e-01, 7.58950710e-01, 7.81779766e-01],\n",
              "        [5.30807018e-01, 4.72644925e-01, 5.75111151e-01],\n",
              "        [6.51104093e-01, 9.93840337e-01, 9.54247355e-01]],\n",
              "\n",
              "       [[7.53824234e-01, 5.26019335e-01, 8.05311084e-01],\n",
              "        [2.38019824e-01, 7.43054152e-02, 5.27126789e-02],\n",
              "        [4.37600732e-01, 9.93556261e-01, 7.43962526e-02],\n",
              "        ...,\n",
              "        [8.36582422e-01, 6.32904410e-01, 8.68649483e-01],\n",
              "        [4.53148961e-01, 3.72526050e-01, 9.66543317e-01],\n",
              "        [5.62302470e-01, 9.94206667e-01, 3.13256979e-01]],\n",
              "\n",
              "       [[8.55053663e-02, 1.19435072e-01, 3.08908820e-01],\n",
              "        [8.54358673e-02, 2.17479348e-01, 7.90752172e-01],\n",
              "        [8.72100592e-02, 1.73055887e-01, 9.01940107e-01],\n",
              "        ...,\n",
              "        [9.30227637e-01, 8.36251259e-01, 2.41499901e-01],\n",
              "        [5.13721585e-01, 7.58686066e-01, 7.08451152e-01],\n",
              "        [7.69944310e-01, 5.82396388e-01, 3.34960818e-01]],\n",
              "\n",
              "       ...,\n",
              "\n",
              "       [[4.65829015e-01, 2.67561316e-01, 6.47870302e-01],\n",
              "        [9.12626386e-01, 8.78127694e-01, 6.30523920e-01],\n",
              "        [5.02661347e-01, 8.06242824e-01, 5.39918900e-01],\n",
              "        ...,\n",
              "        [1.03989005e-01, 4.41425085e-01, 6.01152658e-01],\n",
              "        [9.88332033e-02, 5.01346350e-01, 7.55444765e-01],\n",
              "        [7.81415820e-01, 2.91159153e-02, 4.19227481e-01]],\n",
              "\n",
              "       [[1.62311077e-01, 9.03620720e-02, 4.79695439e-01],\n",
              "        [1.57738924e-01, 1.12585425e-01, 3.66171479e-01],\n",
              "        [5.36112547e-01, 8.88065219e-01, 3.78712296e-01],\n",
              "        ...,\n",
              "        [9.93408084e-01, 9.20887709e-01, 6.52197123e-01],\n",
              "        [1.64743781e-01, 6.97487831e-01, 1.57516718e-01],\n",
              "        [3.27838659e-02, 1.35704279e-02, 7.02023506e-04]],\n",
              "\n",
              "       [[9.48477983e-01, 7.45925307e-01, 3.91384482e-01],\n",
              "        [2.46871710e-01, 9.13700581e-01, 9.29834843e-02],\n",
              "        [2.16915607e-02, 2.18147397e-01, 3.31197381e-01],\n",
              "        ...,\n",
              "        [8.28325391e-01, 2.01911926e-02, 8.07789683e-01],\n",
              "        [4.96364713e-01, 6.07934594e-01, 8.64940286e-01],\n",
              "        [8.03352356e-01, 4.09597874e-01, 2.68158674e-01]]], dtype=float32)>"
            ]
          },
          "metadata": {},
          "execution_count": 53
        }
      ]
    },
    {
      "cell_type": "code",
      "source": [
        "#7\n",
        "tf.reduce_min(C, axis=0), tf.reduce_max(C, axis=0)"
      ],
      "metadata": {
        "colab": {
          "base_uri": "https://localhost:8080/"
        },
        "id": "tGcFlQf7iMLC",
        "outputId": "277d38a5-5908-45b6-f833-01617fdc4f04"
      },
      "execution_count": null,
      "outputs": [
        {
          "output_type": "execute_result",
          "data": {
            "text/plain": [
              "(<tf.Tensor: shape=(224, 3), dtype=float32, numpy=\n",
              " array([[8.03577900e-03, 5.93090057e-03, 7.93075562e-03],\n",
              "        [2.69861221e-02, 1.75893307e-03, 3.88789177e-03],\n",
              "        [5.76138496e-04, 9.68933105e-04, 5.70654869e-04],\n",
              "        [1.65390968e-03, 2.35438347e-03, 3.73923779e-03],\n",
              "        [2.61938572e-03, 5.02514839e-03, 3.65948677e-03],\n",
              "        [6.19268417e-03, 9.94920731e-04, 5.87201118e-03],\n",
              "        [3.24356556e-03, 1.03056431e-03, 4.06718254e-03],\n",
              "        [7.02857971e-04, 2.75611877e-03, 1.04262829e-02],\n",
              "        [3.85224819e-03, 2.21724510e-02, 1.42960548e-02],\n",
              "        [1.05142593e-04, 3.34179401e-03, 2.85255909e-03],\n",
              "        [1.53480768e-02, 3.85880470e-04, 2.16376781e-03],\n",
              "        [1.79803371e-03, 1.54364109e-03, 5.40244579e-03],\n",
              "        [1.00946426e-03, 3.19933891e-03, 1.89685822e-03],\n",
              "        [1.31753683e-02, 7.67946243e-04, 9.46521759e-05],\n",
              "        [1.03199482e-03, 7.21931458e-03, 9.94741917e-03],\n",
              "        [1.34682655e-03, 4.68790531e-03, 2.56133080e-03],\n",
              "        [2.52187252e-03, 2.62606144e-03, 7.03537464e-03],\n",
              "        [1.88326836e-03, 3.32593918e-05, 3.53074074e-03],\n",
              "        [8.12888145e-04, 5.36644459e-03, 9.16039944e-03],\n",
              "        [4.98294830e-04, 2.06673145e-03, 4.57465649e-03],\n",
              "        [6.20508194e-03, 8.59737396e-04, 1.29401684e-02],\n",
              "        [2.92289257e-03, 1.19061470e-02, 6.42502308e-03],\n",
              "        [7.99643993e-03, 1.91557407e-03, 3.58092785e-03],\n",
              "        [4.81605530e-05, 9.74225998e-03, 2.48765945e-03],\n",
              "        [1.07225180e-02, 1.18148327e-02, 5.76376915e-04],\n",
              "        [4.94956970e-04, 3.98302078e-03, 3.22484970e-03],\n",
              "        [1.08885765e-03, 2.63929367e-04, 1.02994442e-02],\n",
              "        [1.95252895e-02, 4.60422039e-03, 5.30040264e-03],\n",
              "        [6.63757324e-04, 4.67896461e-04, 4.73988056e-03],\n",
              "        [8.74924660e-03, 8.35466385e-03, 2.04813480e-03],\n",
              "        [1.11865997e-02, 5.40566444e-03, 2.50339508e-05],\n",
              "        [2.77590752e-03, 1.97184086e-03, 3.07941437e-03],\n",
              "        [6.95466995e-04, 3.52370739e-03, 6.49178028e-03],\n",
              "        [2.46012211e-03, 9.54985619e-04, 4.19485569e-03],\n",
              "        [5.80215454e-03, 1.89137459e-03, 5.00249863e-03],\n",
              "        [6.96504116e-03, 3.92556190e-03, 1.17576122e-03],\n",
              "        [1.59542561e-02, 4.45997715e-03, 1.53303146e-03],\n",
              "        [4.31811810e-03, 6.81877136e-03, 8.82554054e-03],\n",
              "        [8.26239586e-04, 2.74777412e-04, 2.02679634e-03],\n",
              "        [1.77264214e-04, 5.41102886e-03, 5.33235073e-03],\n",
              "        [5.36847115e-03, 8.77380371e-05, 1.35202408e-02],\n",
              "        [9.39583778e-03, 1.73282623e-03, 5.09679317e-03],\n",
              "        [1.09875202e-03, 2.10952759e-03, 1.10256672e-02],\n",
              "        [1.71899796e-04, 2.78973579e-03, 4.14454937e-03],\n",
              "        [2.50744820e-03, 5.40435314e-03, 2.76470184e-03],\n",
              "        [2.23624706e-03, 6.18505478e-03, 4.88030910e-03],\n",
              "        [2.61819363e-03, 1.87444687e-03, 2.57849693e-03],\n",
              "        [3.58104706e-04, 2.20596790e-03, 8.28146935e-04],\n",
              "        [1.69193745e-03, 1.99115276e-03, 2.44665146e-03],\n",
              "        [1.09779835e-03, 8.46552849e-03, 2.04277039e-03],\n",
              "        [5.32627106e-04, 1.51872635e-03, 8.39591026e-04],\n",
              "        [1.58323050e-02, 6.03199005e-03, 1.97970867e-03],\n",
              "        [3.55207920e-03, 3.27932835e-03, 7.09176064e-04],\n",
              "        [4.94277477e-03, 6.04510307e-04, 5.12361526e-03],\n",
              "        [2.17604637e-03, 1.62160397e-03, 1.97756290e-03],\n",
              "        [4.62651253e-03, 6.45875931e-04, 3.66687775e-04],\n",
              "        [8.92138481e-03, 3.86130810e-03, 7.81178474e-04],\n",
              "        [2.98023224e-06, 1.22699738e-02, 2.98500061e-03],\n",
              "        [4.19723988e-03, 6.50882721e-05, 1.33395195e-03],\n",
              "        [4.52160835e-04, 1.84559822e-03, 8.15773010e-03],\n",
              "        [6.58726692e-03, 5.83434105e-03, 4.13823128e-03],\n",
              "        [3.18080187e-02, 6.52897358e-03, 3.56137753e-03],\n",
              "        [7.12025166e-03, 1.51193142e-03, 1.74546242e-03],\n",
              "        [1.51836872e-03, 9.80114937e-03, 4.89366055e-03],\n",
              "        [9.34600830e-05, 6.94358349e-03, 3.78489494e-04],\n",
              "        [3.38578224e-03, 6.67738914e-03, 1.82976723e-02],\n",
              "        [1.06811523e-03, 3.69346142e-03, 2.45761871e-03],\n",
              "        [1.94985867e-02, 3.45110893e-03, 2.81572342e-04],\n",
              "        [2.47228146e-03, 3.17132473e-03, 1.03616714e-03],\n",
              "        [1.19650364e-03, 3.23021412e-03, 3.06832790e-03],\n",
              "        [3.34906578e-03, 5.76078892e-03, 3.63337994e-03],\n",
              "        [2.75838375e-03, 9.23633575e-04, 4.44495678e-03],\n",
              "        [1.73878670e-03, 4.58002090e-04, 7.97545910e-03],\n",
              "        [3.96525860e-03, 3.09681892e-03, 2.45571136e-03],\n",
              "        [1.55556202e-03, 1.92046165e-04, 8.56733322e-03],\n",
              "        [4.68051434e-03, 9.55593586e-03, 2.33709812e-03],\n",
              "        [9.17911530e-05, 3.83722782e-03, 1.06751919e-03],\n",
              "        [2.98237801e-03, 3.67772579e-03, 2.67255306e-03],\n",
              "        [8.33618641e-03, 4.61184978e-03, 5.04970551e-04],\n",
              "        [1.02977753e-02, 2.22396851e-03, 4.20892239e-03],\n",
              "        [3.61609459e-03, 7.39312172e-03, 9.53674316e-06],\n",
              "        [2.13515759e-03, 7.74502754e-04, 8.33272934e-04],\n",
              "        [2.04126835e-02, 4.76241112e-03, 5.30850887e-03],\n",
              "        [2.43937969e-03, 9.94408131e-03, 2.56824493e-03],\n",
              "        [1.08929873e-02, 4.23192978e-04, 8.34965706e-03],\n",
              "        [4.72784042e-03, 1.28686428e-03, 1.77383423e-03],\n",
              "        [2.06851959e-03, 3.27372551e-03, 7.69042969e-03],\n",
              "        [7.76052475e-03, 1.93428993e-03, 6.93142414e-03],\n",
              "        [2.45463848e-03, 5.82456589e-04, 2.01582909e-03],\n",
              "        [7.30562210e-03, 7.86495209e-03, 5.07175922e-03],\n",
              "        [1.29950047e-03, 2.59804726e-03, 6.31117821e-03],\n",
              "        [3.71134281e-03, 2.58672237e-03, 5.99586964e-03],\n",
              "        [1.40476227e-03, 4.14562225e-03, 3.58700752e-04],\n",
              "        [1.70099735e-03, 3.17192078e-03, 3.40104103e-04],\n",
              "        [1.00394487e-02, 6.58953190e-03, 1.23262405e-03],\n",
              "        [3.99827957e-04, 4.38559055e-03, 9.75430012e-03],\n",
              "        [2.02190876e-03, 5.01465797e-03, 1.09455585e-02],\n",
              "        [5.53691387e-03, 2.81584263e-03, 1.50346756e-03],\n",
              "        [2.97307968e-04, 2.56872177e-03, 2.67004967e-03],\n",
              "        [3.34727764e-03, 7.88128376e-03, 6.05154037e-03],\n",
              "        [1.60634518e-03, 4.22954559e-04, 1.83343887e-04],\n",
              "        [2.58553028e-03, 1.04757547e-02, 2.25901604e-03],\n",
              "        [3.70502472e-04, 9.07182693e-04, 2.31420994e-03],\n",
              "        [4.18722630e-03, 5.01918793e-03, 5.17606735e-04],\n",
              "        [5.54203987e-04, 1.55963898e-02, 4.95576859e-03],\n",
              "        [3.51762772e-03, 3.37207317e-03, 8.76379013e-03],\n",
              "        [7.13562965e-03, 1.35862827e-03, 9.67502594e-04],\n",
              "        [5.19430637e-03, 2.04635859e-02, 1.03902817e-03],\n",
              "        [1.32071972e-03, 1.62248611e-02, 1.68097019e-03],\n",
              "        [2.73454189e-03, 7.46369362e-03, 3.13186646e-03],\n",
              "        [3.30150127e-03, 3.66175175e-03, 3.47387791e-03],\n",
              "        [1.09553337e-03, 1.46102905e-03, 2.90513039e-04],\n",
              "        [4.18102741e-03, 1.49941444e-03, 9.93549824e-03],\n",
              "        [8.41856003e-04, 7.32553005e-03, 4.37176228e-03],\n",
              "        [3.54123116e-03, 8.53896141e-04, 9.36090946e-03],\n",
              "        [3.53574753e-04, 4.08053398e-04, 1.09314919e-03],\n",
              "        [3.29339504e-03, 1.35254860e-03, 9.63449478e-04],\n",
              "        [2.02691555e-03, 2.99203396e-03, 2.27355957e-03],\n",
              "        [5.28132915e-03, 1.09350681e-03, 7.49051571e-03],\n",
              "        [1.95503235e-05, 1.89161301e-03, 2.68559456e-02],\n",
              "        [2.02929974e-03, 4.75287437e-04, 1.82077885e-02],\n",
              "        [1.96313858e-03, 1.71709061e-03, 6.04689121e-03],\n",
              "        [4.03463840e-03, 2.30550766e-03, 3.44228745e-03],\n",
              "        [4.56154346e-03, 5.71751595e-03, 1.08784437e-02],\n",
              "        [7.38215446e-03, 9.76562500e-04, 3.81481647e-03],\n",
              "        [5.87821007e-03, 2.57086754e-03, 6.14762306e-04],\n",
              "        [3.60810757e-03, 9.36746597e-04, 1.02877617e-03],\n",
              "        [5.37014008e-03, 7.80594349e-03, 5.29885292e-04],\n",
              "        [3.71897221e-03, 6.40881062e-03, 7.07125664e-03],\n",
              "        [1.16126537e-02, 4.95910645e-04, 1.80554390e-03],\n",
              "        [4.32443619e-03, 9.54866409e-04, 6.89244270e-03],\n",
              "        [6.71553612e-03, 4.33564186e-03, 1.96146965e-03],\n",
              "        [6.44671917e-03, 2.10237503e-03, 3.37517262e-03],\n",
              "        [4.01389599e-03, 3.25548649e-03, 6.14011288e-03],\n",
              "        [3.31389904e-03, 9.93645191e-03, 3.41010094e-03],\n",
              "        [3.47709656e-03, 5.56993484e-03, 9.74905491e-03],\n",
              "        [2.05290318e-03, 6.49631023e-03, 1.25551224e-03],\n",
              "        [5.39147854e-03, 1.31919384e-02, 4.36234474e-03],\n",
              "        [3.22818756e-04, 3.47805023e-03, 9.66536999e-03],\n",
              "        [3.38435173e-03, 5.48362732e-06, 2.06589699e-04],\n",
              "        [1.37650967e-03, 6.11352921e-03, 2.53319740e-03],\n",
              "        [4.53627110e-03, 6.43014908e-04, 6.20734692e-03],\n",
              "        [2.04577446e-02, 1.45709515e-03, 6.37531281e-04],\n",
              "        [1.27775669e-02, 1.23512745e-03, 6.53862953e-04],\n",
              "        [4.70042229e-03, 1.61767006e-03, 1.84441805e-02],\n",
              "        [3.72445583e-03, 1.10347271e-02, 4.90975380e-03],\n",
              "        [7.42399693e-03, 3.31115723e-03, 8.18455219e-03],\n",
              "        [1.37686729e-03, 1.73270702e-03, 1.21284723e-02],\n",
              "        [5.75864315e-03, 6.95693493e-03, 6.84583187e-03],\n",
              "        [6.07836246e-03, 5.48493862e-03, 7.65514374e-03],\n",
              "        [2.22110748e-03, 5.01716137e-03, 8.08596611e-04],\n",
              "        [9.47594643e-03, 6.06679916e-03, 1.37734413e-03],\n",
              "        [7.24387169e-03, 9.87136364e-03, 4.02092934e-04],\n",
              "        [6.71625137e-04, 3.00669670e-03, 4.36520576e-03],\n",
              "        [1.32465363e-03, 9.33456421e-03, 5.75566292e-03],\n",
              "        [3.24702263e-03, 2.12550163e-04, 3.86786461e-03],\n",
              "        [1.27387047e-03, 5.17606735e-04, 2.37226486e-04],\n",
              "        [2.37500668e-03, 8.98361206e-03, 1.31392479e-03],\n",
              "        [1.60527229e-03, 9.20116901e-03, 1.25288963e-03],\n",
              "        [2.97307968e-03, 3.68475914e-04, 5.56707382e-04],\n",
              "        [4.07803059e-03, 1.91652775e-03, 4.02772427e-03],\n",
              "        [2.22039223e-03, 3.60703468e-03, 3.41296196e-04],\n",
              "        [1.17172003e-02, 1.20019913e-03, 1.84202194e-03],\n",
              "        [1.76751614e-03, 3.25739384e-03, 2.91168690e-03],\n",
              "        [2.61008739e-03, 2.18319893e-03, 3.32236290e-04],\n",
              "        [3.99720669e-03, 9.96541977e-03, 5.81037998e-03],\n",
              "        [6.03544712e-03, 4.07111645e-03, 9.43064690e-04],\n",
              "        [1.55425072e-03, 2.58827209e-03, 9.58442688e-04],\n",
              "        [1.40539408e-02, 1.69467926e-03, 1.27828121e-03],\n",
              "        [1.58548355e-03, 2.02894211e-04, 4.37736511e-04],\n",
              "        [1.23751163e-03, 2.05147266e-03, 1.27931833e-02],\n",
              "        [4.90629673e-03, 1.88648701e-03, 7.05134869e-03],\n",
              "        [2.86793709e-03, 1.32083893e-04, 4.38797474e-03],\n",
              "        [5.01751900e-03, 5.15329838e-03, 6.27541542e-03],\n",
              "        [3.75485420e-03, 4.42862511e-04, 8.88788700e-03],\n",
              "        [1.66738033e-03, 2.64537334e-03, 7.16924667e-04],\n",
              "        [3.73840332e-03, 1.74760818e-04, 6.42347336e-03],\n",
              "        [1.03532076e-02, 3.69608402e-03, 8.18014145e-04],\n",
              "        [4.57251072e-03, 1.10143423e-02, 4.36651707e-03],\n",
              "        [3.50248814e-03, 2.93850899e-04, 2.01237202e-03],\n",
              "        [2.98142433e-03, 4.50849533e-04, 6.68406487e-04],\n",
              "        [2.44140625e-04, 5.37681580e-03, 3.52096558e-03],\n",
              "        [2.63869762e-03, 8.54849815e-04, 3.31282616e-04],\n",
              "        [4.57799435e-03, 6.77442551e-03, 1.48677826e-03],\n",
              "        [5.72109222e-03, 3.67462635e-03, 5.05244732e-03],\n",
              "        [2.86734104e-03, 1.81114674e-03, 1.28746033e-03],\n",
              "        [9.91940498e-04, 2.82990932e-03, 2.15411186e-04],\n",
              "        [2.27606297e-03, 2.03680992e-03, 7.29417801e-03],\n",
              "        [4.68611717e-03, 2.37047672e-03, 1.62804127e-03],\n",
              "        [3.64732742e-03, 1.67059898e-03, 2.83861160e-03],\n",
              "        [1.84309483e-03, 3.26383114e-03, 4.59420681e-03],\n",
              "        [1.33407116e-03, 4.20939922e-03, 5.79571724e-03],\n",
              "        [1.23977661e-03, 9.31382179e-04, 2.06829309e-02],\n",
              "        [4.18114662e-03, 8.43000412e-03, 2.61878967e-03],\n",
              "        [7.31205940e-03, 7.37261772e-03, 1.04237795e-02],\n",
              "        [1.33728981e-02, 6.12783432e-03, 1.55223608e-02],\n",
              "        [1.85251236e-04, 4.97746468e-03, 1.21748447e-03],\n",
              "        [8.52727890e-03, 6.51359558e-04, 6.73294067e-03],\n",
              "        [8.35597515e-03, 5.76782227e-03, 9.71341133e-03],\n",
              "        [1.28097534e-02, 4.16874886e-03, 2.60603428e-03],\n",
              "        [2.60388851e-03, 1.17928982e-02, 1.34682655e-03],\n",
              "        [6.75916672e-04, 1.25682354e-03, 1.78964138e-02],\n",
              "        [1.23381615e-04, 2.82871723e-03, 1.13773346e-02],\n",
              "        [4.15086746e-04, 1.81233883e-03, 1.92153454e-02],\n",
              "        [8.84258747e-03, 2.49791145e-03, 3.50856781e-03],\n",
              "        [1.53386593e-03, 2.01010704e-03, 1.72626972e-03],\n",
              "        [8.59737396e-04, 4.78196144e-03, 9.98568535e-03],\n",
              "        [1.43921375e-03, 1.38413906e-03, 4.98282909e-03],\n",
              "        [5.12039661e-03, 3.06212902e-03, 5.82337379e-03],\n",
              "        [1.40239000e-02, 1.06406212e-03, 1.89077854e-03],\n",
              "        [2.00688839e-03, 4.50813770e-03, 1.13115311e-02],\n",
              "        [3.83019447e-04, 2.11358070e-04, 3.89802456e-03],\n",
              "        [2.04253197e-03, 5.68997860e-03, 2.82764435e-04],\n",
              "        [1.91807747e-04, 9.88245010e-04, 7.18462467e-03],\n",
              "        [3.63111496e-03, 9.90247726e-03, 3.09789181e-03],\n",
              "        [1.42601728e-02, 1.41208172e-02, 4.05228138e-03],\n",
              "        [1.75011158e-03, 8.21650028e-03, 1.90734863e-05],\n",
              "        [1.45912170e-04, 6.91568851e-03, 9.40561295e-03],\n",
              "        [4.38487530e-03, 5.17928600e-03, 8.37063789e-03],\n",
              "        [1.68573856e-03, 2.49934196e-03, 7.74383545e-04],\n",
              "        [1.87542439e-02, 1.25153065e-02, 1.96230412e-03],\n",
              "        [2.46524811e-04, 1.23059750e-03, 2.99084187e-03],\n",
              "        [1.19167566e-02, 1.62361860e-02, 3.20076942e-04],\n",
              "        [2.90453434e-03, 3.88157368e-03, 7.02023506e-04]], dtype=float32)>,\n",
              " <tf.Tensor: shape=(224, 3), dtype=float32, numpy=\n",
              " array([[0.99794304, 0.99780035, 0.99752903],\n",
              "        [0.99386144, 0.9819182 , 0.998757  ],\n",
              "        [0.9982312 , 0.99884903, 0.9999908 ],\n",
              "        [0.99939513, 0.99848306, 0.99277353],\n",
              "        [0.9930724 , 0.99918497, 0.99168575],\n",
              "        [0.99990237, 0.9954759 , 0.9989672 ],\n",
              "        [0.999681  , 0.99363124, 0.99056137],\n",
              "        [0.9901458 , 0.9959527 , 0.9962914 ],\n",
              "        [0.9941325 , 0.9948096 , 0.9981867 ],\n",
              "        [0.99948263, 0.9912865 , 0.99791336],\n",
              "        [0.99728477, 0.9999528 , 0.99753344],\n",
              "        [0.99054885, 0.9987215 , 0.9974278 ],\n",
              "        [0.9971502 , 0.99462414, 0.9763124 ],\n",
              "        [0.999522  , 0.9910939 , 0.9987234 ],\n",
              "        [0.99655485, 0.99168587, 0.99463093],\n",
              "        [0.99646926, 0.99133456, 0.9852383 ],\n",
              "        [0.99844563, 0.9965613 , 0.986843  ],\n",
              "        [0.996294  , 0.9998052 , 0.9971949 ],\n",
              "        [0.995502  , 0.9932432 , 0.99840987],\n",
              "        [0.998291  , 0.99937844, 0.99981487],\n",
              "        [0.99800646, 0.99627244, 0.9994197 ],\n",
              "        [0.99780285, 0.99837077, 0.99956954],\n",
              "        [0.99016714, 0.9936359 , 0.9990829 ],\n",
              "        [0.9966363 , 0.99530506, 0.99955857],\n",
              "        [0.9975059 , 0.9971429 , 0.9983839 ],\n",
              "        [0.9948548 , 0.99828875, 0.9992783 ],\n",
              "        [0.9966779 , 0.9986192 , 0.98943925],\n",
              "        [0.9966421 , 0.99823046, 0.98446226],\n",
              "        [0.99948   , 0.99523866, 0.99559903],\n",
              "        [0.9986968 , 0.9967823 , 0.99857295],\n",
              "        [0.9978267 , 0.988387  , 0.9976846 ],\n",
              "        [0.99311006, 0.99417436, 0.9906316 ],\n",
              "        [0.99733305, 0.9924705 , 0.9995824 ],\n",
              "        [0.9953815 , 0.9999573 , 0.995625  ],\n",
              "        [0.99960387, 0.9969014 , 0.99319637],\n",
              "        [0.99648976, 0.9999865 , 0.99749637],\n",
              "        [0.99586403, 0.98578453, 0.9959936 ],\n",
              "        [0.9972184 , 0.99385047, 0.9988589 ],\n",
              "        [0.9934622 , 0.99044514, 0.9914746 ],\n",
              "        [0.99711716, 0.98023   , 0.99577165],\n",
              "        [0.99844897, 0.99326456, 0.991297  ],\n",
              "        [0.9917314 , 0.9994732 , 0.9870994 ],\n",
              "        [0.99832594, 0.9897536 , 0.9988811 ],\n",
              "        [0.997254  , 0.99491453, 0.994097  ],\n",
              "        [0.9993136 , 0.9996748 , 0.99846375],\n",
              "        [0.993384  , 0.9969357 , 0.9989855 ],\n",
              "        [0.99335873, 0.9995245 , 0.97931445],\n",
              "        [0.98954177, 0.9958688 , 0.99561286],\n",
              "        [0.9994416 , 0.9997008 , 0.9996258 ],\n",
              "        [0.9970288 , 0.99534297, 0.9995649 ],\n",
              "        [0.99522567, 0.99755645, 0.99824953],\n",
              "        [0.9935248 , 0.9970535 , 0.99954045],\n",
              "        [0.99692035, 0.99574316, 0.9987706 ],\n",
              "        [0.9999168 , 0.999423  , 0.9921298 ],\n",
              "        [0.99998665, 0.9954798 , 0.9979516 ],\n",
              "        [0.9948895 , 0.9983052 , 0.9968016 ],\n",
              "        [0.9958787 , 0.99672866, 0.99932575],\n",
              "        [0.9985932 , 0.988189  , 0.9941827 ],\n",
              "        [0.98838747, 0.996631  , 0.99839616],\n",
              "        [0.99941564, 0.99588466, 0.99638915],\n",
              "        [0.9927181 , 0.9862256 , 0.9943235 ],\n",
              "        [0.99933434, 0.99295723, 0.99863994],\n",
              "        [0.998044  , 0.9936466 , 0.99117386],\n",
              "        [0.9972056 , 0.9834862 , 0.98979175],\n",
              "        [0.9991306 , 0.99854505, 0.99408114],\n",
              "        [0.99772966, 0.9991039 , 0.9982015 ],\n",
              "        [0.9917301 , 0.9966973 , 0.9991822 ],\n",
              "        [0.9971479 , 0.9985944 , 0.9933156 ],\n",
              "        [0.9993156 , 0.9993614 , 0.9991478 ],\n",
              "        [0.9980378 , 0.9994041 , 0.9974506 ],\n",
              "        [0.99886084, 0.9986402 , 0.98724174],\n",
              "        [0.9928647 , 0.9944544 , 0.99731755],\n",
              "        [0.99942803, 0.99743474, 0.9962555 ],\n",
              "        [0.99804056, 0.9888959 , 0.98867023],\n",
              "        [0.99687696, 0.99968433, 0.9980973 ],\n",
              "        [0.99788785, 0.99863875, 0.9769845 ],\n",
              "        [0.9761765 , 0.99960554, 0.9948658 ],\n",
              "        [0.9906355 , 0.98876286, 0.99686   ],\n",
              "        [0.9974736 , 0.99786377, 0.9942347 ],\n",
              "        [0.9997895 , 0.9830822 , 0.99433327],\n",
              "        [0.9949199 , 0.995474  , 0.9991425 ],\n",
              "        [0.9991313 , 0.9939499 , 0.9855571 ],\n",
              "        [0.9992286 , 0.9984317 , 0.98533726],\n",
              "        [0.99201155, 0.99691474, 0.98706603],\n",
              "        [0.99498105, 0.9994184 , 0.99886477],\n",
              "        [0.9989761 , 0.9978061 , 0.99980354],\n",
              "        [0.99708915, 0.99677205, 0.99021816],\n",
              "        [0.9974041 , 0.98419034, 0.999926  ],\n",
              "        [0.9976603 , 0.9886372 , 0.99608004],\n",
              "        [0.99333453, 0.995898  , 0.9939586 ],\n",
              "        [0.9987972 , 0.99973166, 0.99696887],\n",
              "        [0.9874054 , 0.99678385, 0.9941653 ],\n",
              "        [0.9934349 , 0.9980141 , 0.9868002 ],\n",
              "        [0.9918983 , 0.9994426 , 0.99963784],\n",
              "        [0.99422956, 0.9911227 , 0.9868114 ],\n",
              "        [0.99395645, 0.9972669 , 0.9986901 ],\n",
              "        [0.99442494, 0.9997978 , 0.9983835 ],\n",
              "        [0.9932865 , 0.99719954, 0.9966556 ],\n",
              "        [0.9985845 , 0.9959662 , 0.9992471 ],\n",
              "        [0.99456286, 0.9966403 , 0.9985583 ],\n",
              "        [0.9998822 , 0.99701595, 0.99151504],\n",
              "        [0.9943054 , 0.9991939 , 0.99795175],\n",
              "        [0.9997293 , 0.9912956 , 0.9984919 ],\n",
              "        [0.99517846, 0.9970776 , 0.9932071 ],\n",
              "        [0.9886949 , 0.9989668 , 0.97850883],\n",
              "        [0.97035384, 0.9922712 , 0.9956114 ],\n",
              "        [0.9943501 , 0.99899507, 0.99289906],\n",
              "        [0.9923606 , 0.9975791 , 0.998858  ],\n",
              "        [0.9993019 , 0.99782073, 0.99227285],\n",
              "        [0.99985623, 0.9964371 , 0.9997839 ],\n",
              "        [0.99506664, 0.99910533, 0.99981403],\n",
              "        [0.9978502 , 0.9977243 , 0.99983907],\n",
              "        [0.98943436, 0.9968662 , 0.99595845],\n",
              "        [0.9984597 , 0.9999149 , 0.99695826],\n",
              "        [0.9907309 , 0.9980557 , 0.9971193 ],\n",
              "        [0.9973792 , 0.9982699 , 0.9981215 ],\n",
              "        [0.99856687, 0.9996151 , 0.992874  ],\n",
              "        [0.9930588 , 0.9954567 , 0.9997462 ],\n",
              "        [0.99915326, 0.9980426 , 0.9964349 ],\n",
              "        [0.9942845 , 0.9944016 , 0.99907696],\n",
              "        [0.99327385, 0.9978452 , 0.99976504],\n",
              "        [0.9993217 , 0.9945706 , 0.991629  ],\n",
              "        [0.9964371 , 0.9990691 , 0.99695516],\n",
              "        [0.99845386, 0.9961964 , 0.99985516],\n",
              "        [0.9947212 , 0.995401  , 0.9984547 ],\n",
              "        [0.9973062 , 0.9959743 , 0.9980439 ],\n",
              "        [0.994571  , 0.9927983 , 0.9864259 ],\n",
              "        [0.99880457, 0.98702097, 0.9937569 ],\n",
              "        [0.9959841 , 0.99995637, 0.99292004],\n",
              "        [0.9964243 , 0.9927192 , 0.9963912 ],\n",
              "        [0.99917054, 0.9967592 , 0.9920789 ],\n",
              "        [0.9972788 , 0.97959065, 0.9894589 ],\n",
              "        [0.99904406, 0.9982257 , 0.9986564 ],\n",
              "        [0.9874033 , 0.9979421 , 0.98598385],\n",
              "        [0.9916825 , 0.9906151 , 0.9890361 ],\n",
              "        [0.9998654 , 0.99689865, 0.9953635 ],\n",
              "        [0.99414504, 0.9931346 , 0.995252  ],\n",
              "        [0.99842596, 0.9856535 , 0.99711895],\n",
              "        [0.9990585 , 0.9983878 , 0.9936477 ],\n",
              "        [0.9978925 , 0.9875541 , 0.9978329 ],\n",
              "        [0.9987215 , 0.99772644, 0.99936724],\n",
              "        [0.99728584, 0.993647  , 0.99755585],\n",
              "        [0.987659  , 0.99693036, 0.9995054 ],\n",
              "        [0.99751353, 0.9926592 , 0.99909675],\n",
              "        [0.9909227 , 0.9867883 , 0.9944451 ],\n",
              "        [0.9967413 , 0.9973136 , 0.99933445],\n",
              "        [0.99836326, 0.99967885, 0.9846989 ],\n",
              "        [0.9971609 , 0.9939388 , 0.9943129 ],\n",
              "        [0.9963621 , 0.9985877 , 0.99914145],\n",
              "        [0.99500537, 0.9995359 , 0.9984442 ],\n",
              "        [0.9973986 , 0.9973787 , 0.9972148 ],\n",
              "        [0.9991838 , 0.99537575, 0.9998522 ],\n",
              "        [0.9979348 , 0.98854125, 0.9964186 ],\n",
              "        [0.99667037, 0.9950892 , 0.9978875 ],\n",
              "        [0.9865811 , 0.99397695, 0.9990865 ],\n",
              "        [0.99094915, 0.9851949 , 0.99358165],\n",
              "        [0.9937371 , 0.9917462 , 0.9998677 ],\n",
              "        [0.9988383 , 0.99089026, 0.9934199 ],\n",
              "        [0.99753344, 0.9903648 , 0.9915303 ],\n",
              "        [0.9952384 , 0.9991689 , 0.9978038 ],\n",
              "        [0.99706984, 0.9902351 , 0.9977757 ],\n",
              "        [0.99807274, 0.9962256 , 0.9978703 ],\n",
              "        [0.9966003 , 0.9963522 , 0.99637055],\n",
              "        [0.9957789 , 0.9981924 , 0.9679358 ],\n",
              "        [0.9987277 , 0.9988998 , 0.999858  ],\n",
              "        [0.99803174, 0.9997406 , 0.99427176],\n",
              "        [0.998176  , 0.9937389 , 0.9958223 ],\n",
              "        [0.99875   , 0.99787796, 0.9963826 ],\n",
              "        [0.99930096, 0.9973283 , 0.9976419 ],\n",
              "        [0.9984262 , 0.9994565 , 0.9883599 ],\n",
              "        [0.9964305 , 0.99779105, 0.9959847 ],\n",
              "        [0.99933064, 0.99760854, 0.9942323 ],\n",
              "        [0.9981003 , 0.9979373 , 0.997085  ],\n",
              "        [0.99543524, 0.9931711 , 0.9990021 ],\n",
              "        [0.97258055, 0.99711955, 0.9993501 ],\n",
              "        [0.9975109 , 0.98119557, 0.9985918 ],\n",
              "        [0.9856955 , 0.9986217 , 0.9985752 ],\n",
              "        [0.9994185 , 0.99932003, 0.99473786],\n",
              "        [0.99927545, 0.99689496, 0.99819565],\n",
              "        [0.9965638 , 0.9995165 , 0.99123037],\n",
              "        [0.99672186, 0.9944327 , 0.9954754 ],\n",
              "        [0.99878585, 0.9889444 , 0.9976084 ],\n",
              "        [0.9992566 , 0.99769783, 0.9931333 ],\n",
              "        [0.9920794 , 0.9981394 , 0.9991988 ],\n",
              "        [0.99867404, 0.99797964, 0.9942374 ],\n",
              "        [0.9765198 , 0.9998785 , 0.99013054],\n",
              "        [0.9924784 , 0.9975569 , 0.9994385 ],\n",
              "        [0.9942764 , 0.9987128 , 0.99276567],\n",
              "        [0.9880949 , 0.9982363 , 0.99691355],\n",
              "        [0.99921894, 0.9953686 , 0.9882176 ],\n",
              "        [0.99964154, 0.996889  , 0.9968145 ],\n",
              "        [0.9982487 , 0.9982344 , 0.99667966],\n",
              "        [0.99935293, 0.99880433, 0.99809813],\n",
              "        [0.9977591 , 0.99293125, 0.9941212 ],\n",
              "        [0.9988053 , 0.9940536 , 0.99447227],\n",
              "        [0.9997647 , 0.9937346 , 0.9939079 ],\n",
              "        [0.98876226, 0.9994931 , 0.99358225],\n",
              "        [0.999457  , 0.9956212 , 0.9995073 ],\n",
              "        [0.99710643, 0.9948417 , 0.9984721 ],\n",
              "        [0.9996414 , 0.9943708 , 0.99890983],\n",
              "        [0.995162  , 0.9995034 , 0.9966043 ],\n",
              "        [0.99414146, 0.996807  , 0.99398327],\n",
              "        [0.99684167, 0.98631585, 0.99438834],\n",
              "        [0.9955952 , 0.99692667, 0.99081314],\n",
              "        [0.99717224, 0.99487424, 0.98786545],\n",
              "        [0.9988313 , 0.99826896, 0.9999304 ],\n",
              "        [0.99361897, 0.9978843 , 0.9932529 ],\n",
              "        [0.9995377 , 0.9922583 , 0.99926317],\n",
              "        [0.99892724, 0.9980569 , 0.9986292 ],\n",
              "        [0.999305  , 0.9990479 , 0.9944968 ],\n",
              "        [0.99896777, 0.9938834 , 0.99923253],\n",
              "        [0.99880576, 0.9997095 , 0.99194896],\n",
              "        [0.999308  , 0.9881668 , 0.9949535 ],\n",
              "        [0.99488175, 0.9977193 , 0.99803317],\n",
              "        [0.99928546, 0.9886544 , 0.998608  ],\n",
              "        [0.99943185, 0.9968865 , 0.99498355],\n",
              "        [0.9961504 , 0.99838495, 0.9970114 ],\n",
              "        [0.9992496 , 0.99817324, 0.99422085],\n",
              "        [0.9932543 , 0.9941051 , 0.99605787],\n",
              "        [0.9990566 , 0.9946505 , 0.9998058 ],\n",
              "        [0.99838936, 0.99891543, 0.9862205 ],\n",
              "        [0.9934081 , 0.99695885, 0.98870885],\n",
              "        [0.9919454 , 0.9974803 , 0.9836384 ],\n",
              "        [0.9993067 , 0.99758196, 0.9917563 ]], dtype=float32)>)"
            ]
          },
          "metadata": {},
          "execution_count": 54
        }
      ]
    },
    {
      "cell_type": "code",
      "source": [
        "#8\n",
        "D = random_gen.uniform( [1, 224, 224, 3], 0, 1)\n",
        "tf.squeeze(D)"
      ],
      "metadata": {
        "colab": {
          "base_uri": "https://localhost:8080/"
        },
        "id": "3rxDRuVZiatN",
        "outputId": "6e9cfee6-882d-4247-dcb1-dad57c1fdac8"
      },
      "execution_count": null,
      "outputs": [
        {
          "output_type": "execute_result",
          "data": {
            "text/plain": [
              "<tf.Tensor: shape=(224, 224, 3), dtype=float32, numpy=\n",
              "array([[[0.16201377, 0.94292164, 0.1007452 ],\n",
              "        [0.36029077, 0.2927587 , 0.8291427 ],\n",
              "        [0.53630257, 0.89399254, 0.09102809],\n",
              "        ...,\n",
              "        [0.4168471 , 0.28382587, 0.20251119],\n",
              "        [0.29758465, 0.6663122 , 0.2495557 ],\n",
              "        [0.3149761 , 0.6657804 , 0.5853474 ]],\n",
              "\n",
              "       [[0.54661167, 0.8422831 , 0.16821873],\n",
              "        [0.792871  , 0.9907869 , 0.6315404 ],\n",
              "        [0.5799947 , 0.07343316, 0.5707171 ],\n",
              "        ...,\n",
              "        [0.5498556 , 0.92442036, 0.14810407],\n",
              "        [0.68812954, 0.7885026 , 0.9401586 ],\n",
              "        [0.301224  , 0.9187043 , 0.6071917 ]],\n",
              "\n",
              "       [[0.547168  , 0.87582195, 0.71346927],\n",
              "        [0.573351  , 0.38068724, 0.01642704],\n",
              "        [0.81672776, 0.8458458 , 0.77300787],\n",
              "        ...,\n",
              "        [0.53125596, 0.80832124, 0.90029967],\n",
              "        [0.986446  , 0.5975274 , 0.03262579],\n",
              "        [0.18004811, 0.18750322, 0.15393353]],\n",
              "\n",
              "       ...,\n",
              "\n",
              "       [[0.50895655, 0.27510226, 0.31821847],\n",
              "        [0.78422594, 0.28578556, 0.7244327 ],\n",
              "        [0.7428478 , 0.8831754 , 0.7508588 ],\n",
              "        ...,\n",
              "        [0.00324857, 0.5789007 , 0.43595243],\n",
              "        [0.20520973, 0.1392672 , 0.7243762 ],\n",
              "        [0.17991352, 0.9544258 , 0.86723053]],\n",
              "\n",
              "       [[0.28173244, 0.93574643, 0.85266995],\n",
              "        [0.4704752 , 0.2767068 , 0.62357104],\n",
              "        [0.08082891, 0.2870587 , 0.7421212 ],\n",
              "        ...,\n",
              "        [0.0917443 , 0.9371768 , 0.7433646 ],\n",
              "        [0.65021336, 0.6129253 , 0.05201101],\n",
              "        [0.44065392, 0.7032987 , 0.58455634]],\n",
              "\n",
              "       [[0.08522093, 0.76201093, 0.3709886 ],\n",
              "        [0.01855671, 0.01040649, 0.93240047],\n",
              "        [0.4097643 , 0.27273667, 0.960786  ],\n",
              "        ...,\n",
              "        [0.34014094, 0.8311223 , 0.6519151 ],\n",
              "        [0.840958  , 0.6445023 , 0.05243623],\n",
              "        [0.37064564, 0.6499727 , 0.7250134 ]]], dtype=float32)>"
            ]
          },
          "metadata": {},
          "execution_count": 55
        }
      ]
    },
    {
      "cell_type": "code",
      "source": [
        "#9\n",
        "e = random_gen.uniform(shape=(10,), minval=0, maxval=10, dtype=tf.int32)\n",
        "e, tf.argmax(e), e[tf.argmax(e)]"
      ],
      "metadata": {
        "colab": {
          "base_uri": "https://localhost:8080/"
        },
        "id": "PtkPzNw8ixTa",
        "outputId": "ba3102b1-ec9f-456d-ff23-b3a704f871e1"
      },
      "execution_count": null,
      "outputs": [
        {
          "output_type": "execute_result",
          "data": {
            "text/plain": [
              "(<tf.Tensor: shape=(10,), dtype=int32, numpy=array([3, 4, 9, 9, 5, 7, 7, 7, 2, 2], dtype=int32)>,\n",
              " <tf.Tensor: shape=(), dtype=int64, numpy=2>,\n",
              " <tf.Tensor: shape=(), dtype=int32, numpy=9>)"
            ]
          },
          "metadata": {},
          "execution_count": 56
        }
      ]
    },
    {
      "cell_type": "code",
      "source": [
        "#10\n",
        "tf.one_hot(e, depth=10)"
      ],
      "metadata": {
        "colab": {
          "base_uri": "https://localhost:8080/"
        },
        "id": "xdHv5HQ6i8a_",
        "outputId": "746e1691-4151-4388-f503-0a266889790e"
      },
      "execution_count": null,
      "outputs": [
        {
          "output_type": "execute_result",
          "data": {
            "text/plain": [
              "<tf.Tensor: shape=(10, 10), dtype=float32, numpy=\n",
              "array([[0., 0., 0., 1., 0., 0., 0., 0., 0., 0.],\n",
              "       [0., 0., 0., 0., 1., 0., 0., 0., 0., 0.],\n",
              "       [0., 0., 0., 0., 0., 0., 0., 0., 0., 1.],\n",
              "       [0., 0., 0., 0., 0., 0., 0., 0., 0., 1.],\n",
              "       [0., 0., 0., 0., 0., 1., 0., 0., 0., 0.],\n",
              "       [0., 0., 0., 0., 0., 0., 0., 1., 0., 0.],\n",
              "       [0., 0., 0., 0., 0., 0., 0., 1., 0., 0.],\n",
              "       [0., 0., 0., 0., 0., 0., 0., 1., 0., 0.],\n",
              "       [0., 0., 1., 0., 0., 0., 0., 0., 0., 0.],\n",
              "       [0., 0., 1., 0., 0., 0., 0., 0., 0., 0.]], dtype=float32)>"
            ]
          },
          "metadata": {},
          "execution_count": 57
        }
      ]
    },
    {
      "cell_type": "markdown",
      "source": [
        "# 📖 00. TensorFlow Fundamentals Extra-curriculum\n",
        "\n",
        "\n",
        "1. Read through the list of TensorFlow Python APIs, pick one we haven't gone through in this notebook, reverse engineer it (write out the documentation code for yourself) and figure out what it does.\n",
        "\n",
        "1. Try to create a series of tensor functions to calculate your most recent grocery bill (it's okay if you don't use the names of the items, just the price in numerical form).\n",
        "\n",
        "1. How would you calculate your grocery bill for the month and for the year using tensors?\n",
        "\n",
        "1. Go through the TensorFlow 2.x quick start for beginners tutorial (be sure to type out all of the code yourself, even if you don't understand it).\n",
        "\n",
        "\n",
        "- Are there any functions we used in here that match what's used in there? Which are the same? Which haven't you seen before?\n",
        "\n",
        "\n",
        "- Watch the video \"What's a tensor?\" - a great visual introduction to many of the concepts we've covered in this notebook."
      ],
      "metadata": {
        "id": "UbPqcr6kjnRy"
      }
    },
    {
      "cell_type": "code",
      "source": [
        "#1\n",
        "\n",
        "a = tf.constant([1.,2.,3.])\n",
        "b = tf.constant([1.,2.,3.])\n",
        "tf.Assert(tf.greater_equal(tf.math.count_nonzero(a==b, dtype=tf.int32), tf.size(a)), [a, b], summarize=tf.size(a))"
      ],
      "metadata": {
        "id": "WP0_mK5Cj-8H"
      },
      "execution_count": null,
      "outputs": []
    },
    {
      "cell_type": "code",
      "source": [
        "#2\n",
        "import pandas as pd\n",
        "df = pd.DataFrame([['2021', '01', 100], ['2021', '01', 200], ['2021', '05', 600], ['2021', '05', 900], ['2022', '01', 1000], ['2022', '08', 900], ['2023', '01', 10], ['2023', '01', 80]], columns=['Year', 'Month', 'Expense'])\n",
        "df['Month'] = pd.Categorical(df['Month'])\n",
        "categories = list(df.Month.cat.categories)\n",
        "index_to_category_map = dict(zip(range(len(categories)), categories))\n",
        "category_to_index_map = dict(zip(categories, range(len(categories))))\n",
        "df['Month'] = df.Month.cat.codes\n",
        "df['Year'] = df['Year'].astype(int)\n"
      ],
      "metadata": {
        "id": "9MLXS9J5lqgn"
      },
      "execution_count": null,
      "outputs": []
    },
    {
      "cell_type": "code",
      "source": [
        "df_tensor = tf.convert_to_tensor(df.values)\n",
        "total_bill = tf.reduce_sum(df_tensor[:,2])"
      ],
      "metadata": {
        "id": "0443DEI8rscB"
      },
      "execution_count": null,
      "outputs": []
    },
    {
      "cell_type": "code",
      "source": [
        "total_bill"
      ],
      "metadata": {
        "colab": {
          "base_uri": "https://localhost:8080/"
        },
        "id": "Zo4CNRw8r0FC",
        "outputId": "88a7b346-e840-414c-ca81-bef708373843"
      },
      "execution_count": null,
      "outputs": [
        {
          "output_type": "execute_result",
          "data": {
            "text/plain": [
              "<tf.Tensor: shape=(), dtype=int64, numpy=3790>"
            ]
          },
          "metadata": {},
          "execution_count": 61
        }
      ]
    },
    {
      "cell_type": "code",
      "source": [
        "#3\n",
        "year=2022\n",
        "month_id = '01'\n",
        "month=category_to_index_map.get(month_id, 13)\n",
        "cost = tf.reduce_sum(df_tensor[tf.equal(df_tensor[:, 0], year) & tf.equal(df_tensor[:, 1], month)][:,2])\n",
        "print(f\"Total cost in the month of {month_id} {year} = {0 if not cost.numpy() else cost.numpy()}\")"
      ],
      "metadata": {
        "colab": {
          "base_uri": "https://localhost:8080/"
        },
        "id": "igIJEAHfvQyI",
        "outputId": "0781cb42-4de3-42b3-fa75-aa831b09213d"
      },
      "execution_count": null,
      "outputs": [
        {
          "output_type": "stream",
          "name": "stdout",
          "text": [
            "Total cost in the month of 01 2022 = 1000\n"
          ]
        }
      ]
    },
    {
      "cell_type": "markdown",
      "source": [
        "#4 TensorFlow 2.x quick start for beginners tutorial \n",
        "\n",
        "- Some deep learning frameworks\n",
        "\n",
        "  - keras\n",
        "  - tensorflow\n",
        "  - pytorch (Python, C++, Java)\n",
        "  - caffe (Has python installation)\n",
        "  - theano (Python)\n",
        "  - dl4j (Java)\n",
        "  - chainer (Python)\n",
        "\n",
        "- TF 1.0 vs TF 2.0\n",
        "  - Eager execution in default mode in TF 2.0 (build and fit simultaneously; no tf.Session)\n",
        "\n",
        "  - tf.function: Can convert python functions to DAGs JIT\n",
        "\n",
        "- Hierachy\n",
        "  - L1 (Top) : Keras, Estimators\n",
        "  - L2 : Layers, Losses and Metrics\n",
        "  - L3: Low level APIs (Entensive control)\n",
        "  - L4: CPU/GPU/TPU\n",
        "\n",
        "- Architecture\n",
        "  - Read & Process Data\n",
        "    - tf.Data, Feature Columns\n",
        "  - Model building\n",
        "    - tf.Keras, Premade Estimators, Tensorflow Hub\n",
        "  - Distribution Strategy\n",
        "  - Saved Model \n",
        "  - Serving \n",
        "    - TF Serving\n",
        "    - TF Lite\n",
        "    - TF.js on browser\n",
        "    - Other language bindings on C, Java, Go, C#, etc. \n",
        "\n",
        "\n",
        "- Components in TF\n",
        "  - Constants\n",
        "  - Variables (memory buffers)\n",
        "  - Session\n",
        "\n",
        "\n",
        "- Methods\n",
        "  - Concatenation\n",
        "    - tf.concatenate([A, B], axis=0)\n",
        "\n",
        "  "
      ],
      "metadata": {
        "id": "BpNcoCm4vsuT"
      }
    },
    {
      "cell_type": "code",
      "source": [
        "import tensorflow as tf\n",
        "print(tf.__version__)"
      ],
      "metadata": {
        "colab": {
          "base_uri": "https://localhost:8080/"
        },
        "id": "uIvrUdgoA880",
        "outputId": "fdd3bef0-d244-452e-cb38-0e70fa64422d"
      },
      "execution_count": null,
      "outputs": [
        {
          "output_type": "stream",
          "name": "stdout",
          "text": [
            "2.9.2\n"
          ]
        }
      ]
    },
    {
      "cell_type": "code",
      "source": [
        "A = tf.constant([[4, 3], [6, 1]])\n",
        "\n",
        "B = tf.Variable([[3, 1], [5, 2]])\n",
        "\n",
        "A_B_concatenated = tf.concat([A, B], axis=0)\n",
        "\n",
        "A, B, A_B_concatenated"
      ],
      "metadata": {
        "colab": {
          "base_uri": "https://localhost:8080/"
        },
        "id": "MFhdlsnuK9oV",
        "outputId": "1af694f7-bb88-4116-e36a-636c9aafc627"
      },
      "execution_count": null,
      "outputs": [
        {
          "output_type": "execute_result",
          "data": {
            "text/plain": [
              "(<tf.Tensor: shape=(2, 2), dtype=int32, numpy=\n",
              " array([[4, 3],\n",
              "        [6, 1]], dtype=int32)>,\n",
              " <tf.Variable 'Variable:0' shape=(2, 2) dtype=int32, numpy=\n",
              " array([[3, 1],\n",
              "        [5, 2]], dtype=int32)>,\n",
              " <tf.Tensor: shape=(4, 2), dtype=int32, numpy=\n",
              " array([[4, 3],\n",
              "        [6, 1],\n",
              "        [3, 1],\n",
              "        [5, 2]], dtype=int32)>)"
            ]
          },
          "metadata": {},
          "execution_count": 64
        }
      ]
    },
    {
      "cell_type": "code",
      "source": [
        "A = tf.zeros(shape=(3,4), dtype=tf.int32)\n",
        "\n",
        "B = tf.ones(shape=(3,4), dtype=tf.int32)\n",
        "\n",
        "A, B"
      ],
      "metadata": {
        "id": "Tapha82AcPDE",
        "outputId": "c65a0aae-308b-42aa-ff2e-e1d42a379173",
        "colab": {
          "base_uri": "https://localhost:8080/"
        }
      },
      "execution_count": null,
      "outputs": [
        {
          "output_type": "execute_result",
          "data": {
            "text/plain": [
              "(<tf.Tensor: shape=(3, 4), dtype=int32, numpy=\n",
              " array([[0, 0, 0, 0],\n",
              "        [0, 0, 0, 0],\n",
              "        [0, 0, 0, 0]], dtype=int32)>,\n",
              " <tf.Tensor: shape=(3, 4), dtype=int32, numpy=\n",
              " array([[1, 1, 1, 1],\n",
              "        [1, 1, 1, 1],\n",
              "        [1, 1, 1, 1]], dtype=int32)>)"
            ]
          },
          "metadata": {},
          "execution_count": 65
        }
      ]
    },
    {
      "cell_type": "code",
      "source": [
        "A = tf.random.uniform(shape=[3,4])\n",
        "\n",
        "reshaped_A = tf.reshape(A, shape=[4,3])\n",
        "\n",
        "A, reshaped_A"
      ],
      "metadata": {
        "id": "NZaYVglrMQQn",
        "colab": {
          "base_uri": "https://localhost:8080/"
        },
        "outputId": "bb3aa1c8-ee33-4c53-e7d4-0cd8962a377a"
      },
      "execution_count": null,
      "outputs": [
        {
          "output_type": "execute_result",
          "data": {
            "text/plain": [
              "(<tf.Tensor: shape=(3, 4), dtype=float32, numpy=\n",
              " array([[0.24900055, 0.48465526, 0.39165282, 0.8218267 ],\n",
              "        [0.23590696, 0.39270067, 0.96157587, 0.7378106 ],\n",
              "        [0.3086977 , 0.7820475 , 0.36411405, 0.43852115]], dtype=float32)>,\n",
              " <tf.Tensor: shape=(4, 3), dtype=float32, numpy=\n",
              " array([[0.24900055, 0.48465526, 0.39165282],\n",
              "        [0.8218267 , 0.23590696, 0.39270067],\n",
              "        [0.96157587, 0.7378106 , 0.3086977 ],\n",
              "        [0.7820475 , 0.36411405, 0.43852115]], dtype=float32)>)"
            ]
          },
          "metadata": {},
          "execution_count": 66
        }
      ]
    },
    {
      "cell_type": "code",
      "source": [
        "A = tf.constant([[4.2, 3.4],\n",
        "                 [6.5, 1.7],\n",
        "                 [7.2, 3.9],\n",
        "                 [6.9, 2.7]])\n",
        "\n",
        "tensor_A_as_int = tf.cast(A, dtype=tf.int32)\n",
        "\n",
        "A, tensor_A_as_int"
      ],
      "metadata": {
        "id": "4ZgvjYMEdjg6",
        "outputId": "0da327ee-af42-4366-9b3f-0e1a7a8f2ec4",
        "colab": {
          "base_uri": "https://localhost:8080/"
        }
      },
      "execution_count": null,
      "outputs": [
        {
          "output_type": "execute_result",
          "data": {
            "text/plain": [
              "(<tf.Tensor: shape=(4, 2), dtype=float32, numpy=\n",
              " array([[4.2, 3.4],\n",
              "        [6.5, 1.7],\n",
              "        [7.2, 3.9],\n",
              "        [6.9, 2.7]], dtype=float32)>,\n",
              " <tf.Tensor: shape=(4, 2), dtype=int32, numpy=\n",
              " array([[4, 3],\n",
              "        [6, 1],\n",
              "        [7, 3],\n",
              "        [6, 2]], dtype=int32)>)"
            ]
          },
          "metadata": {},
          "execution_count": 67
        }
      ]
    },
    {
      "cell_type": "code",
      "source": [
        "A = tf.constant([[4, 3], [6, 1]])\n",
        "tensor_A_transpose = tf.transpose(A)\n",
        "\n",
        "A, tensor_A_transpose"
      ],
      "metadata": {
        "id": "e7CGk0IfeFUR",
        "outputId": "a18ccbb7-3040-4731-fcca-03644a7212ef",
        "colab": {
          "base_uri": "https://localhost:8080/"
        }
      },
      "execution_count": null,
      "outputs": [
        {
          "output_type": "execute_result",
          "data": {
            "text/plain": [
              "(<tf.Tensor: shape=(2, 2), dtype=int32, numpy=\n",
              " array([[4, 3],\n",
              "        [6, 1]], dtype=int32)>, <tf.Tensor: shape=(2, 2), dtype=int32, numpy=\n",
              " array([[4, 6],\n",
              "        [3, 1]], dtype=int32)>)"
            ]
          },
          "metadata": {},
          "execution_count": 68
        }
      ]
    },
    {
      "cell_type": "code",
      "source": [
        "A = tf.constant([[5, 8],\n",
        "                [3, 9]])\n",
        "\n",
        "v = tf.constant([[4],\n",
        "                 [2]])\n",
        "\n",
        "A, v, A@v, tf.matmul(A, v)"
      ],
      "metadata": {
        "id": "tRl31YHses_M",
        "outputId": "6f3508c8-0df3-452f-f474-d0df8434afa7",
        "colab": {
          "base_uri": "https://localhost:8080/"
        }
      },
      "execution_count": null,
      "outputs": [
        {
          "output_type": "execute_result",
          "data": {
            "text/plain": [
              "(<tf.Tensor: shape=(2, 2), dtype=int32, numpy=\n",
              " array([[5, 8],\n",
              "        [3, 9]], dtype=int32)>, <tf.Tensor: shape=(2, 1), dtype=int32, numpy=\n",
              " array([[4],\n",
              "        [2]], dtype=int32)>, <tf.Tensor: shape=(2, 1), dtype=int32, numpy=\n",
              " array([[36],\n",
              "        [30]], dtype=int32)>, <tf.Tensor: shape=(2, 1), dtype=int32, numpy=\n",
              " array([[36],\n",
              "        [30]], dtype=int32)>)"
            ]
          },
          "metadata": {},
          "execution_count": 69
        }
      ]
    },
    {
      "cell_type": "code",
      "source": [
        "A = tf.constant([[5, 8],\n",
        "                [3, 9]])\n",
        "\n",
        "v = tf.constant([[4],\n",
        "                 [2]])\n",
        "\n",
        "A*v"
      ],
      "metadata": {
        "id": "bzQtsSmLfBG7",
        "outputId": "612ba486-e682-40b7-9c3c-3e6c95a5c2e1",
        "colab": {
          "base_uri": "https://localhost:8080/"
        }
      },
      "execution_count": null,
      "outputs": [
        {
          "output_type": "execute_result",
          "data": {
            "text/plain": [
              "<tf.Tensor: shape=(2, 2), dtype=int32, numpy=\n",
              "array([[20, 32],\n",
              "       [ 6, 18]], dtype=int32)>"
            ]
          },
          "metadata": {},
          "execution_count": 70
        }
      ]
    },
    {
      "cell_type": "code",
      "source": [
        "A = tf.constant([[4, 9],\n",
        "                [5, 6],\n",
        "                [1, 8]])\n",
        "\n",
        "rows, columns = A.shape\n",
        "print('rows:', rows, 'columns:', columns)\n",
        "\n",
        "A_identity = tf.eye(num_rows=rows, num_columns=columns, dtype=tf.int32)\n",
        "A_identity"
      ],
      "metadata": {
        "id": "Dh-aM5pffe6Z",
        "outputId": "f1fb51e3-3b57-466c-f3c8-a9e80deb6d24",
        "colab": {
          "base_uri": "https://localhost:8080/"
        }
      },
      "execution_count": null,
      "outputs": [
        {
          "output_type": "stream",
          "name": "stdout",
          "text": [
            "rows: 3 columns: 2\n"
          ]
        },
        {
          "output_type": "execute_result",
          "data": {
            "text/plain": [
              "<tf.Tensor: shape=(3, 2), dtype=int32, numpy=\n",
              "array([[1, 0],\n",
              "       [0, 1],\n",
              "       [0, 0]], dtype=int32)>"
            ]
          },
          "metadata": {},
          "execution_count": 71
        }
      ]
    },
    {
      "cell_type": "code",
      "source": [
        "# Demo of building a keras model"
      ],
      "metadata": {
        "id": "aK8iHGvCfsdu"
      },
      "execution_count": null,
      "outputs": []
    },
    {
      "cell_type": "code",
      "source": [
        "mnist = tf.keras.datasets.mnist\n",
        "\n",
        "(x_train, y_train), (x_test, y_test) = mnist.load_data()\n",
        "x_train, x_test = x_train / 255.0, x_test / 255.0"
      ],
      "metadata": {
        "id": "6aTWqBv89X0x",
        "outputId": "2c0bf0c4-bea5-4ae4-ec2c-d980d2c6c2f5",
        "colab": {
          "base_uri": "https://localhost:8080/"
        }
      },
      "execution_count": null,
      "outputs": [
        {
          "output_type": "stream",
          "name": "stdout",
          "text": [
            "Downloading data from https://storage.googleapis.com/tensorflow/tf-keras-datasets/mnist.npz\n",
            "11490434/11490434 [==============================] - 2s 0us/step\n"
          ]
        }
      ]
    },
    {
      "cell_type": "code",
      "source": [
        "model = tf.keras.models.Sequential([\n",
        "  tf.keras.layers.Flatten(input_shape=(28, 28)),\n",
        "  tf.keras.layers.Dense(128, activation='relu'),\n",
        "  tf.keras.layers.Dropout(0.2),\n",
        "  tf.keras.layers.Dense(10)\n",
        "])\n",
        "\n",
        "loss_fn = tf.keras.losses.SparseCategoricalCrossentropy(from_logits=True)\n",
        "\n",
        "model.compile(optimizer='adam',\n",
        "              loss=loss_fn,\n",
        "              metrics=['accuracy'])"
      ],
      "metadata": {
        "id": "RR77UJu79Yp-"
      },
      "execution_count": null,
      "outputs": []
    },
    {
      "cell_type": "code",
      "source": [
        "model.summary()"
      ],
      "metadata": {
        "id": "vVN9kwBc-t99",
        "outputId": "5a61455b-54c5-44b6-b2a7-e19b9eb35bb5",
        "colab": {
          "base_uri": "https://localhost:8080/"
        }
      },
      "execution_count": null,
      "outputs": [
        {
          "output_type": "stream",
          "name": "stdout",
          "text": [
            "Model: \"sequential_1\"\n",
            "_________________________________________________________________\n",
            " Layer (type)                Output Shape              Param #   \n",
            "=================================================================\n",
            " flatten_1 (Flatten)         (None, 784)               0         \n",
            "                                                                 \n",
            " dense_2 (Dense)             (None, 128)               100480    \n",
            "                                                                 \n",
            " dropout_1 (Dropout)         (None, 128)               0         \n",
            "                                                                 \n",
            " dense_3 (Dense)             (None, 10)                1290      \n",
            "                                                                 \n",
            "=================================================================\n",
            "Total params: 101,770\n",
            "Trainable params: 101,770\n",
            "Non-trainable params: 0\n",
            "_________________________________________________________________\n"
          ]
        }
      ]
    },
    {
      "cell_type": "code",
      "source": [
        "model.fit(x_train, y_train, epochs=5)"
      ],
      "metadata": {
        "id": "U-EmVbcP_jZi",
        "outputId": "4a746e52-5a3d-4cb7-cc59-bf805800809e",
        "colab": {
          "base_uri": "https://localhost:8080/"
        }
      },
      "execution_count": null,
      "outputs": [
        {
          "output_type": "stream",
          "name": "stdout",
          "text": [
            "Epoch 1/5\n",
            "1875/1875 [==============================] - 5s 2ms/step - loss: 0.2968 - accuracy: 0.9129\n",
            "Epoch 2/5\n",
            "1875/1875 [==============================] - 4s 2ms/step - loss: 0.1434 - accuracy: 0.9570\n",
            "Epoch 3/5\n",
            "1875/1875 [==============================] - 4s 2ms/step - loss: 0.1087 - accuracy: 0.9677\n",
            "Epoch 4/5\n",
            "1875/1875 [==============================] - 4s 2ms/step - loss: 0.0882 - accuracy: 0.9730\n",
            "Epoch 5/5\n",
            "1875/1875 [==============================] - 4s 2ms/step - loss: 0.0743 - accuracy: 0.9773\n"
          ]
        },
        {
          "output_type": "execute_result",
          "data": {
            "text/plain": [
              "<keras.callbacks.History at 0x7fbc56308c70>"
            ]
          },
          "metadata": {},
          "execution_count": 88
        }
      ]
    },
    {
      "cell_type": "code",
      "source": [
        "model.evaluate(x_test,  y_test, verbose=2)"
      ],
      "metadata": {
        "id": "l2hmLN0ABGaU",
        "outputId": "eca57a20-8477-46b9-83f7-98d8257ae87a",
        "colab": {
          "base_uri": "https://localhost:8080/"
        }
      },
      "execution_count": null,
      "outputs": [
        {
          "output_type": "stream",
          "name": "stdout",
          "text": [
            "313/313 - 1s - loss: 0.0676 - accuracy: 0.9781 - 943ms/epoch - 3ms/step\n"
          ]
        },
        {
          "output_type": "execute_result",
          "data": {
            "text/plain": [
              "[0.06759420037269592, 0.9781000018119812]"
            ]
          },
          "metadata": {},
          "execution_count": 89
        }
      ]
    },
    {
      "cell_type": "code",
      "source": [
        "probability_model = tf.keras.Sequential([\n",
        "  model,\n",
        "  tf.keras.layers.Softmax()\n",
        "])"
      ],
      "metadata": {
        "id": "Medk6Pv7PSsI"
      },
      "execution_count": null,
      "outputs": []
    },
    {
      "cell_type": "code",
      "source": [
        "tf.math.argmax(probability_model(x_test[:5]), axis=1)"
      ],
      "metadata": {
        "id": "zpl1WEDlP27_",
        "outputId": "26961cdf-51f0-4445-c5db-4d8ec436ddc7",
        "colab": {
          "base_uri": "https://localhost:8080/"
        }
      },
      "execution_count": null,
      "outputs": [
        {
          "output_type": "execute_result",
          "data": {
            "text/plain": [
              "<tf.Tensor: shape=(5,), dtype=int64, numpy=array([7, 2, 1, 0, 4])>"
            ]
          },
          "metadata": {},
          "execution_count": 95
        }
      ]
    },
    {
      "cell_type": "code",
      "source": [
        "y_test[:5]"
      ],
      "metadata": {
        "id": "NukWV9s7Q4ry",
        "outputId": "8ab8f96d-c980-43c1-fa30-062d569a2bfd",
        "colab": {
          "base_uri": "https://localhost:8080/"
        }
      },
      "execution_count": null,
      "outputs": [
        {
          "output_type": "execute_result",
          "data": {
            "text/plain": [
              "array([7, 2, 1, 0, 4], dtype=uint8)"
            ]
          },
          "metadata": {},
          "execution_count": 96
        }
      ]
    }
  ]
}